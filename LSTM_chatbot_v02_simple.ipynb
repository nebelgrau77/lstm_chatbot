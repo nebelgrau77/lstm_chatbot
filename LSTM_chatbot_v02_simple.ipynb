{
 "cells": [
  {
   "cell_type": "markdown",
   "id": "54a3b362-3b2c-4dd5-90db-e438d861c5b7",
   "metadata": {
    "tags": []
   },
   "source": [
    "# SIMPLE WORKING VERSION\n",
    "\n",
    "Karan suggests to use KFold:\n",
    "\n",
    "*The best way to improve the test loss is to combine first both train and dev dataset. Then use kfold random sampling while training. Note: LSTM is not capable enough too perform best on unseen data. If you evaluate the train and test set there will be no similarity in que and answer. So its best, if you use kfold method, which randomly select test set at each iteration.* \n",
    "- *Try reducing sentence length (both que and answer)*\n",
    "- *Try using learning-rate as 0.01*\n",
    "- *Try reducing the batch size (keep 16 as batch size)*\n",
    "- *Try adding n-layer paramter in LSTM to at least 2*\n",
    "- *Try to train for at least 30 epochs.*\n",
    "\n",
    "There is an example that uses KFold: https://github.com/iJoud/Seq2Seq-Chatbot/tree/main\n"
   ]
  },
  {
   "cell_type": "markdown",
   "id": "162c2679-9204-4273-a4a1-64f41ef9d11b",
   "metadata": {},
   "source": [
    "# RNN LSTM Chatbot project\n",
    "\n",
    "In this project I'm creating a chatbot that is supposed to answer questions from the Stanford Questions & Answers dataset SQuAD1, using a sequence-to-sequence Encoder-Decoder recurrent neural network architecture in PyTorch.\n",
    "\n",
    "To make the notebook more readable and the code more modular, all helper functions (data ingestion and preparation, data analysis, vocabulary creation) were moved to `modules`. \n",
    "\n",
    "The model for easier debugging is kept in the main notebook for now.\n",
    "\n"
   ]
  },
  {
   "cell_type": "code",
   "execution_count": 1,
   "id": "b79ff163-ef6c-4dbd-b8b8-9a0b6f31122c",
   "metadata": {},
   "outputs": [],
   "source": [
    "import torch"
   ]
  },
  {
   "cell_type": "code",
   "execution_count": 2,
   "id": "05e1d6c1-da35-4ac8-9bf9-65b786d259f2",
   "metadata": {},
   "outputs": [],
   "source": [
    "device = 'cuda:0' if torch.cuda.is_available() else 'cpu'"
   ]
  },
  {
   "cell_type": "code",
   "execution_count": 3,
   "id": "9442349d-4e46-4ba2-b9f8-79b6ce598c41",
   "metadata": {},
   "outputs": [
    {
     "data": {
      "text/plain": [
       "'cuda:0'"
      ]
     },
     "execution_count": 3,
     "metadata": {},
     "output_type": "execute_result"
    }
   ],
   "source": [
    "device"
   ]
  },
  {
   "cell_type": "code",
   "execution_count": 4,
   "id": "179a6456-5007-46ed-97d0-7477cd9cc0cc",
   "metadata": {},
   "outputs": [],
   "source": [
    "from torchtext.datasets import SQuAD1"
   ]
  },
  {
   "cell_type": "code",
   "execution_count": 5,
   "id": "30ef63a7-6d02-4c19-9abc-fedccbc1a67a",
   "metadata": {},
   "outputs": [],
   "source": [
    "train, test = SQuAD1(\"root\")"
   ]
  },
  {
   "cell_type": "code",
   "execution_count": 6,
   "id": "5f44af6a-6144-4443-b309-c6514bf0c35e",
   "metadata": {},
   "outputs": [
    {
     "name": "stderr",
     "output_type": "stream",
     "text": [
      "/usr/local/lib/python3.8/dist-packages/scipy/__init__.py:146: UserWarning: A NumPy version >=1.16.5 and <1.23.0 is required for this version of SciPy (detected version 1.24.2\n",
      "  warnings.warn(f\"A NumPy version >={np_minversion} and <{np_maxversion}\"\n",
      "[nltk_data] Downloading package wordnet to\n",
      "[nltk_data]     /shared/home/u076079/nltk_data...\n",
      "[nltk_data]   Package wordnet is already up-to-date!\n",
      "[nltk_data] Downloading package averaged_perceptron_tagger to\n",
      "[nltk_data]     /shared/home/u076079/nltk_data...\n",
      "[nltk_data]   Package averaged_perceptron_tagger is already up-to-\n",
      "[nltk_data]       date!\n",
      "[nltk_data] Downloading package stopwords to\n",
      "[nltk_data]     /shared/home/u076079/nltk_data...\n",
      "[nltk_data]   Package stopwords is already up-to-date!\n"
     ]
    }
   ],
   "source": [
    "from modules.data import *\n",
    "\n",
    "#get_dataframe,  get_pairs_from_df, cols, sample_df_perc, get_thresholds, get_outliers, tokenize_sentence, remove_least_common, to_tensor,  filter_sentences"
   ]
  },
  {
   "cell_type": "markdown",
   "id": "6ca0ef1e-be7c-4e95-ae5c-1e3707b5d22a",
   "metadata": {},
   "source": [
    "## Data ingestion\n",
    "\n",
    "* Data is loaded from the dataset into pandas dataframes: one for training, one for testing, \n",
    "* To keep the dataset size reasonable, only a sample of the questions/answers is taken"
   ]
  },
  {
   "cell_type": "code",
   "execution_count": 7,
   "id": "4c6845c6-5997-457d-8e50-e07d0108e147",
   "metadata": {},
   "outputs": [],
   "source": [
    "# get train and test dataframes of sentences\n",
    "train_df, test_df = get_dataframe(train), get_dataframe(test)"
   ]
  },
  {
   "cell_type": "code",
   "execution_count": 8,
   "id": "b6b4268c-6744-4949-85c8-b865360e008c",
   "metadata": {},
   "outputs": [
    {
     "data": {
      "text/plain": [
       "((87599, 2), (10570, 2))"
      ]
     },
     "execution_count": 8,
     "metadata": {},
     "output_type": "execute_result"
    }
   ],
   "source": [
    "train_df.shape, test_df.shape"
   ]
  },
  {
   "cell_type": "markdown",
   "id": "e3474633-8c0f-4bc7-9f9e-3e0e5e10dc9c",
   "metadata": {},
   "source": [
    "train_len = 30000\n",
    "test_len = 3000"
   ]
  },
  {
   "cell_type": "markdown",
   "id": "9c50f78c-e85f-4164-be4f-0a2956d4ab67",
   "metadata": {},
   "source": [
    "train_df = sample_df_num(train_df, train_len)"
   ]
  },
  {
   "cell_type": "markdown",
   "id": "31171248-9ad0-47be-a31a-4a58f29f0f4d",
   "metadata": {},
   "source": [
    "test_df = sample_df_num(test_df, test_len)"
   ]
  },
  {
   "cell_type": "code",
   "execution_count": 9,
   "id": "a49d6bc9-266c-447c-9be6-1794c5053b50",
   "metadata": {},
   "outputs": [
    {
     "data": {
      "text/plain": [
       "((87599, 2), (10570, 2))"
      ]
     },
     "execution_count": 9,
     "metadata": {},
     "output_type": "execute_result"
    }
   ],
   "source": [
    "train_df.shape, test_df.shape"
   ]
  },
  {
   "cell_type": "code",
   "execution_count": 10,
   "id": "35ccaa7e-fa23-4eb2-bbe7-f9e8e5dfac4c",
   "metadata": {
    "scrolled": true
   },
   "outputs": [
    {
     "data": {
      "text/html": [
       "<div>\n",
       "<style scoped>\n",
       "    .dataframe tbody tr th:only-of-type {\n",
       "        vertical-align: middle;\n",
       "    }\n",
       "\n",
       "    .dataframe tbody tr th {\n",
       "        vertical-align: top;\n",
       "    }\n",
       "\n",
       "    .dataframe thead th {\n",
       "        text-align: right;\n",
       "    }\n",
       "</style>\n",
       "<table border=\"1\" class=\"dataframe\">\n",
       "  <thead>\n",
       "    <tr style=\"text-align: right;\">\n",
       "      <th></th>\n",
       "      <th>Question</th>\n",
       "      <th>Answer</th>\n",
       "    </tr>\n",
       "  </thead>\n",
       "  <tbody>\n",
       "    <tr>\n",
       "      <th>0</th>\n",
       "      <td>To whom did the Virgin Mary allegedly appear i...</td>\n",
       "      <td>Saint Bernadette Soubirous</td>\n",
       "    </tr>\n",
       "    <tr>\n",
       "      <th>1</th>\n",
       "      <td>What is in front of the Notre Dame Main Building?</td>\n",
       "      <td>a copper statue of Christ</td>\n",
       "    </tr>\n",
       "    <tr>\n",
       "      <th>2</th>\n",
       "      <td>The Basilica of the Sacred heart at Notre Dame...</td>\n",
       "      <td>the Main Building</td>\n",
       "    </tr>\n",
       "  </tbody>\n",
       "</table>\n",
       "</div>"
      ],
      "text/plain": [
       "                                            Question  \\\n",
       "0  To whom did the Virgin Mary allegedly appear i...   \n",
       "1  What is in front of the Notre Dame Main Building?   \n",
       "2  The Basilica of the Sacred heart at Notre Dame...   \n",
       "\n",
       "                       Answer  \n",
       "0  Saint Bernadette Soubirous  \n",
       "1   a copper statue of Christ  \n",
       "2           the Main Building  "
      ]
     },
     "execution_count": 10,
     "metadata": {},
     "output_type": "execute_result"
    }
   ],
   "source": [
    "train_df.head(3)"
   ]
  },
  {
   "cell_type": "code",
   "execution_count": null,
   "id": "bcc78290-1a58-45c9-ba2e-ec4b3d1511bf",
   "metadata": {},
   "outputs": [],
   "source": []
  },
  {
   "cell_type": "markdown",
   "id": "6344a0f9-cc0b-4b6e-9238-c54a5da7197b",
   "metadata": {},
   "source": [
    "## Vocabulary creation / Data preparation\n",
    "\n",
    "Sentences (questions and answers) are converted into lists of tokens:\n",
    "* all characters are made into lower case\n",
    "* punctuation is removed\n",
    "* stopwords (most common words that don't carry much additional meaning) are removed, but keeping question words (when, how, who, etc.)\n",
    "* For questions stemming is applied to reduce number of words to just their \"roots\". For answers this step is skipped, to have full unstemmed words in the answers vocabulary\n",
    "* Pairs question:answer are created from both train and test dataset, and words are added to two vocabularies: Q_vocab and A_vocab"
   ]
  },
  {
   "cell_type": "code",
   "execution_count": 11,
   "id": "ea6bbdcf-6263-4531-b5d5-1447576708d8",
   "metadata": {},
   "outputs": [
    {
     "name": "stdout",
     "output_type": "stream",
     "text": [
      "Which of Popper's works addresses the improvement of scientific understanding of the world over time?\n",
      "['which', 'poppers', 'works', 'addresses', 'improvement', 'scientific', 'understanding', 'world', 'time']\n",
      "['which', 'popper', 'work', 'address', 'improv', 'scientif', 'understand', 'world', 'time']\n"
     ]
    }
   ],
   "source": [
    "# Example of the sequence processing\n",
    "\n",
    "import random\n",
    "\n",
    "rand_question = train_df.at[random.randint(0,train_df.shape[0]), 'Question']\n",
    "print(rand_question)\n",
    "\n",
    "print(tokenize_sentence(rand_question))\n",
    "print(tokenize_sentence(rand_question, normalization='stem'))"
   ]
  },
  {
   "cell_type": "code",
   "execution_count": null,
   "id": "f28f5a18-cd38-49eb-8e1a-6f18f64f39a8",
   "metadata": {},
   "outputs": [],
   "source": []
  },
  {
   "cell_type": "code",
   "execution_count": 12,
   "id": "5546a5c6-eec6-4816-85c2-ec3b652b5de5",
   "metadata": {},
   "outputs": [],
   "source": [
    "from modules.vocab import Vocab"
   ]
  },
  {
   "cell_type": "code",
   "execution_count": 13,
   "id": "49c28a91-cbe2-445e-98cf-0b3e67e4a226",
   "metadata": {},
   "outputs": [],
   "source": [
    "for col, norm in zip(cols, ['stem', None]): # only questions get stemmed\n",
    "    train_df[f'{col}_tokens'] = train_df[col].apply(lambda s: tokenize_sentence(s, normalization=norm))"
   ]
  },
  {
   "cell_type": "code",
   "execution_count": 14,
   "id": "bc7a90d6-dd8b-4425-81f8-9c447201783e",
   "metadata": {},
   "outputs": [],
   "source": [
    "for col, norm in zip(cols, ['stem', None]):\n",
    "    test_df[f'{col}_tokens'] = test_df[col].apply(lambda s: tokenize_sentence(s, normalization=norm))"
   ]
  },
  {
   "cell_type": "code",
   "execution_count": 15,
   "id": "dbc6971c-872e-4b3a-a0d9-585ab3d44739",
   "metadata": {},
   "outputs": [
    {
     "data": {
      "text/html": [
       "<div>\n",
       "<style scoped>\n",
       "    .dataframe tbody tr th:only-of-type {\n",
       "        vertical-align: middle;\n",
       "    }\n",
       "\n",
       "    .dataframe tbody tr th {\n",
       "        vertical-align: top;\n",
       "    }\n",
       "\n",
       "    .dataframe thead th {\n",
       "        text-align: right;\n",
       "    }\n",
       "</style>\n",
       "<table border=\"1\" class=\"dataframe\">\n",
       "  <thead>\n",
       "    <tr style=\"text-align: right;\">\n",
       "      <th></th>\n",
       "      <th>Question</th>\n",
       "      <th>Answer</th>\n",
       "      <th>Question_tokens</th>\n",
       "      <th>Answer_tokens</th>\n",
       "    </tr>\n",
       "  </thead>\n",
       "  <tbody>\n",
       "    <tr>\n",
       "      <th>22058</th>\n",
       "      <td>When were terms such as \"Near East\", \"Far East...</td>\n",
       "      <td>the 20th century</td>\n",
       "      <td>[when, term, near, east, far, east, middl, eas...</td>\n",
       "      <td>[20th, century]</td>\n",
       "    </tr>\n",
       "    <tr>\n",
       "      <th>46782</th>\n",
       "      <td>When was Madonna awarded the accolade?</td>\n",
       "      <td>2003</td>\n",
       "      <td>[when, madonna, award, accolad]</td>\n",
       "      <td>[2003]</td>\n",
       "    </tr>\n",
       "    <tr>\n",
       "      <th>68988</th>\n",
       "      <td>When did Kerry speak to the OAS?</td>\n",
       "      <td>in November 2013</td>\n",
       "      <td>[when, kerri, speak, oa]</td>\n",
       "      <td>[november, 2013]</td>\n",
       "    </tr>\n",
       "  </tbody>\n",
       "</table>\n",
       "</div>"
      ],
      "text/plain": [
       "                                                Question            Answer  \\\n",
       "22058  When were terms such as \"Near East\", \"Far East...  the 20th century   \n",
       "46782             When was Madonna awarded the accolade?              2003   \n",
       "68988                   When did Kerry speak to the OAS?  in November 2013   \n",
       "\n",
       "                                         Question_tokens     Answer_tokens  \n",
       "22058  [when, term, near, east, far, east, middl, eas...   [20th, century]  \n",
       "46782                    [when, madonna, award, accolad]            [2003]  \n",
       "68988                           [when, kerri, speak, oa]  [november, 2013]  "
      ]
     },
     "execution_count": 15,
     "metadata": {},
     "output_type": "execute_result"
    }
   ],
   "source": [
    "train_df.sample(3)"
   ]
  },
  {
   "cell_type": "code",
   "execution_count": 16,
   "id": "4c5a711d-2d46-4255-9091-959b91a07b4d",
   "metadata": {},
   "outputs": [],
   "source": [
    "# processed sequences columns names have '_tokens' suffix\n",
    "cols_tokens = [f'{col}_tokens' for col in cols]"
   ]
  },
  {
   "cell_type": "markdown",
   "id": "4520dfcf-9530-4268-b9a7-4d01bc98c6be",
   "metadata": {},
   "source": [
    "### Create pairs and add to the vocabularies"
   ]
  },
  {
   "cell_type": "code",
   "execution_count": 17,
   "id": "c6c241b5-3e32-47ba-9fab-9bad67404d66",
   "metadata": {},
   "outputs": [],
   "source": [
    "train_pairs = get_pairs_from_df(train_df, cols_tokens)"
   ]
  },
  {
   "cell_type": "code",
   "execution_count": 18,
   "id": "e9eebcb5-30c2-4bf0-bbe8-e6a4015205f0",
   "metadata": {},
   "outputs": [],
   "source": [
    "test_pairs = get_pairs_from_df(test_df, cols_tokens)"
   ]
  },
  {
   "cell_type": "code",
   "execution_count": 19,
   "id": "1d3fed41-b6df-495e-966b-73d8275bc397",
   "metadata": {},
   "outputs": [],
   "source": [
    "Q_vocab, A_vocab = Vocab(), Vocab()"
   ]
  },
  {
   "cell_type": "markdown",
   "id": "f4791a92-39ea-4709-bceb-316b1f7cf61d",
   "metadata": {},
   "source": [
    "### Words from both training and test datasets are added to the two vocabularies"
   ]
  },
  {
   "cell_type": "code",
   "execution_count": 20,
   "id": "766b2b7c-8452-4f41-91c1-a1933899af1a",
   "metadata": {},
   "outputs": [],
   "source": [
    "for pair in train_pairs:\n",
    "    Q_vocab.add_sentence(pair.question)\n",
    "    A_vocab.add_sentence(pair.answer)"
   ]
  },
  {
   "cell_type": "code",
   "execution_count": 21,
   "id": "8bf020f0-9fa9-4d35-b5a1-c72e2190e955",
   "metadata": {},
   "outputs": [
    {
     "data": {
      "text/plain": [
       "(28676, 41545)"
      ]
     },
     "execution_count": 21,
     "metadata": {},
     "output_type": "execute_result"
    }
   ],
   "source": [
    "Q_vocab.n_words, A_vocab.n_words, "
   ]
  },
  {
   "cell_type": "code",
   "execution_count": 22,
   "id": "eb3dcfe2-d353-4d2e-915f-03e0923dc785",
   "metadata": {},
   "outputs": [],
   "source": [
    "for pair in test_pairs:\n",
    "    Q_vocab.add_sentence(pair.question)\n",
    "    A_vocab.add_sentence(pair.answer)"
   ]
  },
  {
   "cell_type": "code",
   "execution_count": 23,
   "id": "7b57afc2-4b59-481a-8d15-ee267b0d8e36",
   "metadata": {},
   "outputs": [
    {
     "data": {
      "text/plain": [
       "(30679, 44438)"
      ]
     },
     "execution_count": 23,
     "metadata": {},
     "output_type": "execute_result"
    }
   ],
   "source": [
    "# Answers vocabulary contains more words due to lack of stemming\n",
    "\n",
    "Q_vocab.n_words, A_vocab.n_words "
   ]
  },
  {
   "cell_type": "code",
   "execution_count": null,
   "id": "65b7878b-ad57-4ad4-9cd4-b4509c6f660d",
   "metadata": {},
   "outputs": [],
   "source": []
  },
  {
   "cell_type": "markdown",
   "id": "d6d39d65-1c60-4b17-8913-100b2fe00cde",
   "metadata": {},
   "source": [
    "## Data analysis and further cleanup\n",
    "\n",
    "To improve and reduce the dataset, some analysis is done to find and remove outliers:\n",
    "* least common words (those that occur only once)\n",
    "* answers that have less than one token (empty sequences)\n",
    "* questions that have less than three tokens, as they're not really meaningful\n",
    "* histograms are used to find the \"long tail\" of the dataset: longer sequences are rare, so I establish a threshold above which the dataframe row with either very long question or answer is dropped. This way most of the data is kept, and the sequences can be of reasonable length"
   ]
  },
  {
   "cell_type": "code",
   "execution_count": null,
   "id": "3da86f92-bddd-41f3-b0f6-5b4d2eb5d873",
   "metadata": {},
   "outputs": [],
   "source": []
  },
  {
   "cell_type": "code",
   "execution_count": 24,
   "id": "7450e792-925e-4a07-8236-38f1045e69d6",
   "metadata": {},
   "outputs": [],
   "source": [
    "from modules.stats import sentences_stats, histograms"
   ]
  },
  {
   "cell_type": "code",
   "execution_count": 25,
   "id": "1982157e-f27d-40b3-98fb-f001012d68d7",
   "metadata": {},
   "outputs": [
    {
     "name": "stdout",
     "output_type": "stream",
     "text": [
      "Sentences in column Question_tokens:\n",
      "\t         mean: 6.44\n",
      "\t         median: 6.00\n",
      "\t         minimum: 0\n",
      "\t         maximum: 32)\n",
      "Sentences in column Answer_tokens:\n",
      "\t         mean: 2.43\n",
      "\t         median: 2.00\n",
      "\t         minimum: 0\n",
      "\t         maximum: 22)\n"
     ]
    }
   ],
   "source": [
    "# statistics for tokenized sentences\n",
    "sentences_stats(train_df, cols_tokens)"
   ]
  },
  {
   "cell_type": "code",
   "execution_count": 26,
   "id": "ed546c61-46c6-4198-8b2d-658e6ea83727",
   "metadata": {},
   "outputs": [
    {
     "name": "stdout",
     "output_type": "stream",
     "text": [
      "Sentences in column Question_tokens:\n",
      "\t         mean: 6.52\n",
      "\t         median: 6.00\n",
      "\t         minimum: 2\n",
      "\t         maximum: 19)\n",
      "Sentences in column Answer_tokens:\n",
      "\t         mean: 2.35\n",
      "\t         median: 2.00\n",
      "\t         minimum: 0\n",
      "\t         maximum: 18)\n"
     ]
    }
   ],
   "source": [
    "# statistics for tokenized sentences\n",
    "sentences_stats(test_df, cols_tokens)"
   ]
  },
  {
   "cell_type": "markdown",
   "id": "8034d347-3b5c-4675-9040-c06f9d1be915",
   "metadata": {},
   "source": [
    "### Remove the least common words from the sentences"
   ]
  },
  {
   "cell_type": "code",
   "execution_count": 27,
   "id": "0127a26b-68b8-4456-8c70-c49ba08525ff",
   "metadata": {},
   "outputs": [],
   "source": [
    "# how many times at most a word occurs to be considered an outlier\n",
    "outlier_threshold = 1"
   ]
  },
  {
   "cell_type": "code",
   "execution_count": 28,
   "id": "0335f482-7f3c-4265-81d9-93436d7f1090",
   "metadata": {},
   "outputs": [
    {
     "name": "stdout",
     "output_type": "stream",
     "text": [
      "Questions vocabulary has 14030 words that occur only once, answers vocabulary has 23723 such words\n"
     ]
    }
   ],
   "source": [
    "print(f'Questions vocabulary has {len(get_outliers(Q_vocab, outlier_threshold+1))} words that occur only once, answers vocabulary has {len(get_outliers(A_vocab, outlier_threshold+1))} such words')"
   ]
  },
  {
   "cell_type": "markdown",
   "id": "1c6146cc-8b68-4db8-b387-008c413e71ac",
   "metadata": {},
   "source": [
    "### Create lists of those words and remove them from the sequences"
   ]
  },
  {
   "cell_type": "code",
   "execution_count": 29,
   "id": "2adafd8f-bae0-455c-ab37-363db03f2e23",
   "metadata": {},
   "outputs": [],
   "source": [
    "q_outliers, a_outliers = get_outliers(Q_vocab,outlier_threshold+1), get_outliers(A_vocab,outlier_threshold+1)"
   ]
  },
  {
   "cell_type": "code",
   "execution_count": 30,
   "id": "0464a5cf-fb82-4acc-ab6c-b3029a1e510b",
   "metadata": {},
   "outputs": [],
   "source": [
    "train_df_final = remove_least_common(train_df, cols_tokens, [q_outliers, a_outliers])"
   ]
  },
  {
   "cell_type": "code",
   "execution_count": 31,
   "id": "52510523-62a9-4e42-ba96-bddbee4bf3d5",
   "metadata": {},
   "outputs": [],
   "source": [
    "test_df_final = remove_least_common(test_df, cols_tokens, [q_outliers, a_outliers])"
   ]
  },
  {
   "cell_type": "code",
   "execution_count": 32,
   "id": "0a019f58-39d0-4a4e-9b22-6a69e84a80ec",
   "metadata": {},
   "outputs": [
    {
     "name": "stdout",
     "output_type": "stream",
     "text": [
      "Sentences in column Question_tokens:\n",
      "\t         mean: 6.29\n",
      "\t         median: 6.00\n",
      "\t         minimum: 0\n",
      "\t         maximum: 32)\n",
      "Sentences in column Answer_tokens:\n",
      "\t         mean: 2.19\n",
      "\t         median: 2.00\n",
      "\t         minimum: 0\n",
      "\t         maximum: 22)\n"
     ]
    }
   ],
   "source": [
    "# tokenized & least common removed\n",
    "sentences_stats(train_df_final, cols_tokens)"
   ]
  },
  {
   "cell_type": "code",
   "execution_count": 33,
   "id": "f0b21a9a-243f-4dc6-a0a8-2e2c65caebba",
   "metadata": {},
   "outputs": [
    {
     "name": "stdout",
     "output_type": "stream",
     "text": [
      "Sentences in column Question_tokens:\n",
      "\t         mean: 6.38\n",
      "\t         median: 6.00\n",
      "\t         minimum: 1\n",
      "\t         maximum: 19)\n",
      "Sentences in column Answer_tokens:\n",
      "\t         mean: 2.13\n",
      "\t         median: 2.00\n",
      "\t         minimum: 0\n",
      "\t         maximum: 18)\n"
     ]
    }
   ],
   "source": [
    "# tokenized & least common removed\n",
    "sentences_stats(test_df_final, cols_tokens)"
   ]
  },
  {
   "cell_type": "markdown",
   "id": "25751515-a24f-4e0a-9b6c-e12f9dafd722",
   "metadata": {},
   "source": [
    "### Remove questions that have less than three words and answers that have less than one"
   ]
  },
  {
   "cell_type": "code",
   "execution_count": 35,
   "id": "47ca1d7a-f8b0-4d42-aa9e-a889c0dfbcfc",
   "metadata": {
    "tags": []
   },
   "outputs": [],
   "source": [
    "train_df_final = filter_sentences(train_df_final, cols_tokens, [2,0], condition='longer')"
   ]
  },
  {
   "cell_type": "code",
   "execution_count": 36,
   "id": "3934a09f-4d33-4024-adcc-e4bccc55d837",
   "metadata": {},
   "outputs": [
    {
     "name": "stdout",
     "output_type": "stream",
     "text": [
      "Question_tokens 3\n",
      "Answer_tokens 1\n"
     ]
    },
    {
     "data": {
      "image/png": "[encoded data removed]",
      "text/plain": [
       "<Figure size 640x480 with 1 Axes>"
      ]
     },
     "metadata": {},
     "output_type": "display_data"
    }
   ],
   "source": [
    "# display the histograms to see if that worked\n",
    "\n",
    "train_df_final_thresholds = histograms(train_df_final, cols_tokens, name = 'tokenized')"
   ]
  },
  {
   "cell_type": "code",
   "execution_count": 37,
   "id": "6789669f-3bbf-4a2d-942e-30dc0255930c",
   "metadata": {},
   "outputs": [
    {
     "data": {
      "text/plain": [
       "(80199, 4)"
      ]
     },
     "execution_count": 37,
     "metadata": {},
     "output_type": "execute_result"
    }
   ],
   "source": [
    "train_df_final.shape"
   ]
  },
  {
   "cell_type": "code",
   "execution_count": 38,
   "id": "fde25b3c-a9f0-4659-8198-63baefbe91a6",
   "metadata": {},
   "outputs": [
    {
     "name": "stdout",
     "output_type": "stream",
     "text": [
      "Sentences in column Question_tokens:\n",
      "\t         mean: 6.36\n",
      "\t         median: 6.00\n",
      "\t         minimum: 3\n",
      "\t         maximum: 32)\n",
      "Sentences in column Answer_tokens:\n",
      "\t         mean: 2.35\n",
      "\t         median: 2.00\n",
      "\t         minimum: 1\n",
      "\t         maximum: 22)\n"
     ]
    }
   ],
   "source": [
    "# shortest sentences removed\n",
    "sentences_stats(train_df_final, cols_tokens)"
   ]
  },
  {
   "cell_type": "code",
   "execution_count": null,
   "id": "6a37889e-0499-44c7-a615-b68335952dc7",
   "metadata": {},
   "outputs": [],
   "source": []
  },
  {
   "cell_type": "code",
   "execution_count": 39,
   "id": "38915cef-2608-4ff0-b870-005f29ce64f0",
   "metadata": {},
   "outputs": [],
   "source": [
    "test_df_final = filter_sentences(test_df_final, cols_tokens, [2,0], condition='longer')"
   ]
  },
  {
   "cell_type": "code",
   "execution_count": 40,
   "id": "5ed9ed2f-f665-4cf8-af0d-34ce49f48ac5",
   "metadata": {},
   "outputs": [
    {
     "name": "stdout",
     "output_type": "stream",
     "text": [
      "Question_tokens 3\n",
      "Answer_tokens 1\n"
     ]
    },
    {
     "data": {
      "image/png": "[encoded data removed]",
      "text/plain": [
       "<Figure size 640x480 with 1 Axes>"
      ]
     },
     "metadata": {},
     "output_type": "display_data"
    }
   ],
   "source": [
    "# display the histograms to see if that worked\n",
    "\n",
    "test_df_final_thresholds = histograms(test_df_final, cols_tokens, name = 'tokenized')"
   ]
  },
  {
   "cell_type": "code",
   "execution_count": 41,
   "id": "193fa900-f512-46d9-b2ba-aa5cc64f9000",
   "metadata": {},
   "outputs": [
    {
     "data": {
      "text/plain": [
       "(9781, 4)"
      ]
     },
     "execution_count": 41,
     "metadata": {},
     "output_type": "execute_result"
    }
   ],
   "source": [
    "test_df_final.shape"
   ]
  },
  {
   "cell_type": "code",
   "execution_count": 42,
   "id": "606eac15-6aaa-4e53-85d3-529d935684a0",
   "metadata": {},
   "outputs": [
    {
     "name": "stdout",
     "output_type": "stream",
     "text": [
      "Sentences in column Question_tokens:\n",
      "\t         mean: 6.45\n",
      "\t         median: 6.00\n",
      "\t         minimum: 3\n",
      "\t         maximum: 19)\n",
      "Sentences in column Answer_tokens:\n",
      "\t         mean: 2.25\n",
      "\t         median: 2.00\n",
      "\t         minimum: 1\n",
      "\t         maximum: 18)\n"
     ]
    }
   ],
   "source": [
    "# shortest sentences removed\n",
    "sentences_stats(test_df_final, cols_tokens)"
   ]
  },
  {
   "cell_type": "code",
   "execution_count": null,
   "id": "12ed5af0-e6ac-486f-9d77-3ba2615d25de",
   "metadata": {},
   "outputs": [],
   "source": []
  },
  {
   "cell_type": "markdown",
   "id": "01a76972-303d-44ae-bf59-08c46a237488",
   "metadata": {},
   "source": [
    "### Remove long outliers: long sentences that occure rarely"
   ]
  },
  {
   "cell_type": "code",
   "execution_count": 43,
   "id": "69685485-1713-4017-8436-9a196e879cf0",
   "metadata": {},
   "outputs": [],
   "source": [
    "# keeping only the 95% of the data\n",
    "cutoff = 95"
   ]
  },
  {
   "cell_type": "code",
   "execution_count": 44,
   "id": "25b7ecff-2312-4e1c-9773-6028dad38e4d",
   "metadata": {},
   "outputs": [
    {
     "data": {
      "text/plain": [
       "{'Question_tokens': 10, 'Answer_tokens': 6}"
      ]
     },
     "execution_count": 44,
     "metadata": {},
     "output_type": "execute_result"
    }
   ],
   "source": [
    "get_thresholds(train_df_final_thresholds, cutoff = cutoff)"
   ]
  },
  {
   "cell_type": "code",
   "execution_count": 45,
   "id": "82a5369e-fcde-48c3-a0c4-110bb6c7e12c",
   "metadata": {},
   "outputs": [],
   "source": [
    "Q_MAX, A_MAX = get_thresholds(train_df_final_thresholds, cutoff = cutoff).values()"
   ]
  },
  {
   "cell_type": "code",
   "execution_count": 46,
   "id": "e88cbc7c-a428-43e6-a81e-7d71d2be3ae0",
   "metadata": {},
   "outputs": [
    {
     "data": {
      "text/plain": [
       "(10, 6)"
      ]
     },
     "execution_count": 46,
     "metadata": {},
     "output_type": "execute_result"
    }
   ],
   "source": [
    "Q_MAX, A_MAX"
   ]
  },
  {
   "cell_type": "code",
   "execution_count": 49,
   "id": "4dbfd71c-8b8b-4b7d-a4fe-6f687da0b6f9",
   "metadata": {},
   "outputs": [],
   "source": [
    "Q_MAX = 8\n",
    "A_MAX = 4"
   ]
  },
  {
   "cell_type": "code",
   "execution_count": 50,
   "id": "648d0c08-a9e0-4278-8beb-3b5e35f8c81d",
   "metadata": {},
   "outputs": [],
   "source": [
    "train_df_final = filter_sentences(train_df_final, cols_tokens, [Q_MAX+1,A_MAX+1], condition='shorter')"
   ]
  },
  {
   "cell_type": "code",
   "execution_count": 51,
   "id": "12cfc150-100f-460b-a252-d475c139fee4",
   "metadata": {
    "scrolled": true
   },
   "outputs": [
    {
     "name": "stdout",
     "output_type": "stream",
     "text": [
      "Sentences in column Question_tokens:\n",
      "\t         mean: 5.77\n",
      "\t         median: 6.00\n",
      "\t         minimum: 3\n",
      "\t         maximum: 8)\n",
      "Sentences in column Answer_tokens:\n",
      "\t         mean: 1.86\n",
      "\t         median: 2.00\n",
      "\t         minimum: 1\n",
      "\t         maximum: 4)\n"
     ]
    }
   ],
   "source": [
    "# long outliers removed\n",
    "sentences_stats(train_df_final, cols_tokens)"
   ]
  },
  {
   "cell_type": "code",
   "execution_count": null,
   "id": "db36354e-a106-40bb-bccf-73737f654f0d",
   "metadata": {},
   "outputs": [],
   "source": []
  },
  {
   "cell_type": "code",
   "execution_count": 50,
   "id": "b2be1ef8-3321-4c82-a6ff-e8ad9579c6a5",
   "metadata": {},
   "outputs": [],
   "source": [
    "# to simplify I'm using the same thresholds for the test set"
   ]
  },
  {
   "cell_type": "code",
   "execution_count": 52,
   "id": "41eb7230-16a9-407f-8747-2bd5f3db7c2e",
   "metadata": {},
   "outputs": [],
   "source": [
    "test_df_final = filter_sentences(test_df_final, cols_tokens, [Q_MAX+1,A_MAX+1], condition='shorter')"
   ]
  },
  {
   "cell_type": "code",
   "execution_count": 53,
   "id": "acbac5aa-a51b-4a37-9265-4657e7f7239d",
   "metadata": {
    "scrolled": true
   },
   "outputs": [
    {
     "name": "stdout",
     "output_type": "stream",
     "text": [
      "Sentences in column Question_tokens:\n",
      "\t         mean: 5.82\n",
      "\t         median: 6.00\n",
      "\t         minimum: 3\n",
      "\t         maximum: 8)\n",
      "Sentences in column Answer_tokens:\n",
      "\t         mean: 1.88\n",
      "\t         median: 2.00\n",
      "\t         minimum: 1\n",
      "\t         maximum: 4)\n"
     ]
    }
   ],
   "source": [
    "# long outliers removed\n",
    "sentences_stats(test_df_final, cols_tokens)"
   ]
  },
  {
   "cell_type": "code",
   "execution_count": 54,
   "id": "f2750b9b-f01b-4ee9-be2b-69890cb4ca03",
   "metadata": {},
   "outputs": [
    {
     "data": {
      "text/plain": [
       "((62140, 4), (7588, 4))"
      ]
     },
     "execution_count": 54,
     "metadata": {},
     "output_type": "execute_result"
    }
   ],
   "source": [
    "train_df_final.shape, test_df_final.shape"
   ]
  },
  {
   "cell_type": "code",
   "execution_count": null,
   "id": "7fffdcad-8870-4376-b738-1b9282a07bff",
   "metadata": {},
   "outputs": [],
   "source": []
  },
  {
   "cell_type": "markdown",
   "id": "0be952bd-44cc-4f41-bed5-ea17231aa76e",
   "metadata": {},
   "source": [
    "### Pairs have to be redone from the cleaned up datasets, to be used in the model (after being turned into tensors)."
   ]
  },
  {
   "cell_type": "code",
   "execution_count": 55,
   "id": "309585c9-df9d-4f84-995c-544fab45b90c",
   "metadata": {},
   "outputs": [],
   "source": [
    "train_pairs_final = get_pairs_from_df(train_df_final, cols_tokens)"
   ]
  },
  {
   "cell_type": "code",
   "execution_count": 56,
   "id": "088c6509-f966-480c-bc40-48fa5bd2fab2",
   "metadata": {},
   "outputs": [],
   "source": [
    "test_pairs_final = get_pairs_from_df(test_df_final, cols_tokens)"
   ]
  },
  {
   "cell_type": "code",
   "execution_count": 57,
   "id": "4cb90adf-d401-48f0-8911-b31144276227",
   "metadata": {
    "scrolled": true
   },
   "outputs": [
    {
     "data": {
      "text/plain": [
       "(62140, 7588)"
      ]
     },
     "execution_count": 57,
     "metadata": {},
     "output_type": "execute_result"
    }
   ],
   "source": [
    "len(train_pairs_final), len(test_pairs_final)"
   ]
  },
  {
   "cell_type": "code",
   "execution_count": null,
   "id": "a2c3ef56-8fa3-463a-b2d8-6b923aaf72e6",
   "metadata": {},
   "outputs": [],
   "source": []
  },
  {
   "cell_type": "markdown",
   "id": "31e03bca-c654-4f1f-9dde-3ccf6c17376c",
   "metadata": {},
   "source": [
    "### Data preparation for the neural network model\n",
    "\n",
    "Sequences are converted into torch tokens made of their vocabulary indexes. Sequences shorter than the defined length are padded at the beginning. Also Start-Of-Sequence and End-Of-Sequence tokens are added to the tensor.\n",
    "\n",
    "The padding token will be ignored by the model.\n",
    "\n",
    "### Neural network model\n",
    "\n",
    "It uses Seq2Seq Encoder-Decoder architecture with a single LSTM layer. Right now the training is done pair after pair, without batch processing.\n",
    "The optimizer is Stochastic Gradient Descent, and the loss function is \n",
    "negative log likelihood (NLLLoss)\n",
    "\n"
   ]
  },
  {
   "cell_type": "code",
   "execution_count": 58,
   "id": "1d228937-b36c-4aef-a3e8-1031d690b370",
   "metadata": {},
   "outputs": [],
   "source": [
    "import torch\n",
    "import torch.nn as nn"
   ]
  },
  {
   "cell_type": "markdown",
   "id": "784657ae-aece-40b3-bc5f-1ce27d7f8b37",
   "metadata": {},
   "source": [
    "## ENCODER"
   ]
  },
  {
   "cell_type": "code",
   "execution_count": 59,
   "id": "6cfb4aee-4ed6-4021-bfde-806682b61123",
   "metadata": {},
   "outputs": [],
   "source": [
    "class Encoder(nn.Module):\n",
    "    \n",
    "    # We initialize the Encoder object with appropriate layers\n",
    "\n",
    "    def __init__(self, input_size, hidden_size, embedding_size):\n",
    "        \n",
    "        super(Encoder, self).__init__()\n",
    "\n",
    "        self.hidden_size = hidden_size\n",
    "        self.input_size = input_size\n",
    "        self.embedding_size = embedding_size\n",
    "\n",
    "        # embedding step\n",
    "        self.embedding = nn.Embedding(self.input_size, self.embedding_size).to(device)\n",
    "        \n",
    "        # single LSTM layer\n",
    "        self.lstm = nn.LSTM(self.embedding_size, self.hidden_size, 1).to(device)\n",
    "    \n",
    "    def forward(self, x, hidden, cell_state):\n",
    "        x = self.embedding(x)        \n",
    "        x = x.view(1, 1, -1)        \n",
    "        x, (hidden, cell_state) = self.lstm(x, (hidden, cell_state))\n",
    "        return x, hidden, cell_state"
   ]
  },
  {
   "cell_type": "markdown",
   "id": "488893ba-1ea6-43db-88d8-24be60a3103a",
   "metadata": {},
   "source": [
    "## DECODER"
   ]
  },
  {
   "cell_type": "code",
   "execution_count": 60,
   "id": "6fbc0579-85f1-4459-8f07-e596622498ad",
   "metadata": {},
   "outputs": [],
   "source": [
    "class Decoder(nn.Module):\n",
    "\n",
    "    # The Decoder is initialized in the same manner.\n",
    "\n",
    "    def __init__(self, hidden_size, output_size, embedding_size):\n",
    "\n",
    "        super(Decoder, self).__init__()\n",
    "\n",
    "        self.hidden_size = hidden_size\n",
    "        self.output_size = output_size\n",
    "        self.embedding_size = embedding_size\n",
    "\n",
    "        # embedding\n",
    "        self.embedding = nn.Embedding(self.output_size, self.hidden_size)\n",
    "\n",
    "        # single LSTM layer\n",
    "        self.lstm = nn.LSTM(self.embedding_size, self.hidden_size)\n",
    "        \n",
    "        # fully connected linear layer\n",
    "        self.fc = nn.Linear(self.hidden_size, self.output_size)\n",
    "        \n",
    "        # softmax\n",
    "        self.softmax = nn.LogSoftmax(dim=1)     \n",
    "\n",
    "    def forward(self, x, hidden, cell_state):\n",
    "        \n",
    "        x = self.embedding(x)\n",
    "        x = x.view(1, 1, -1)\n",
    "        x, (hidden, cell_state) = self.lstm(x, (hidden, cell_state))\n",
    "        x = self.softmax(self.fc(x[0]))\n",
    "        return x, hidden, cell_state"
   ]
  },
  {
   "cell_type": "markdown",
   "id": "592881ec-41a1-421b-ac62-de79f2a24bca",
   "metadata": {},
   "source": [
    "## SEQ2SEQ"
   ]
  },
  {
   "cell_type": "code",
   "execution_count": 61,
   "id": "e9a72ba5-792a-4557-ab14-9ce52f6607ef",
   "metadata": {},
   "outputs": [],
   "source": [
    "class Seq2Seq(nn.Module):\n",
    "\n",
    "    def __init__(self, input_size, hidden_size, embedding_size, output_size, device):    \n",
    "\n",
    "        super(Seq2Seq, self).__init__()\n",
    "\n",
    "        self.input_size = input_size\n",
    "        self.hidden_size = hidden_size\n",
    "        self.embedding_size = embedding_size\n",
    "        self.output_size = output_size\n",
    "        \n",
    "        # make encoder and decoder \n",
    "        self.encoder = Encoder(self.input_size, self.hidden_size, self.embedding_size).to(device)\n",
    "        self.decoder = Decoder(self.hidden_size, self.output_size, self.embedding_size).to(device)\n",
    "                \n",
    "    def forward(self, src_batch: torch.LongTensor, trg_batch: torch.LongTensor, src_len, trg_len, teacher_forcing_ratio: float = 0.5):\n",
    "        \n",
    "        # target batch (answers) is unpacked to maximum length and batch size\n",
    "        max_len, batch_size = trg_batch.shape               \n",
    "\n",
    "        trg_vocab_size = self.decoder.output_size\n",
    "        \n",
    "        # tensor to store decoder's output\n",
    "        outputs = torch.zeros(max_len, batch_size, trg_vocab_size).to(device) #.to(self.device) \n",
    "              \n",
    "        # initialize hidden and cell state\n",
    "        encoder_hidden = torch.zeros([1, 1, self.hidden_size]).to(device) \n",
    "        cell_state = torch.zeros([1, 1, self.hidden_size]).to(device)\n",
    "       \n",
    "        # iterate over the length of the source (question sequence) using the encoder\n",
    "        \n",
    "        for i in range(src_len):       \n",
    "            # last hidden & cell state of the encoder is used as the decoder's initial hidden state\n",
    "            \n",
    "            # src_batch[i] is the ith token of the input (question)\n",
    "            _, hidden, cell = self.encoder(src_batch[i], encoder_hidden, cell_state)\n",
    "        \n",
    "        # trg_batch[0] that's just the first element of trg_batch        \n",
    "        trg = trg_batch[0]\n",
    "                \n",
    "        # now iterating over the target length, using the decoder\n",
    "        \n",
    "        for i in range(trg_len):\n",
    "            prediction, hidden, cell = self.decoder(trg, hidden, cell)\n",
    "            \n",
    "            # here we use the teacher forcing: if the random value is less than the ratio, then the target is just an element of the target (token from the answer)\n",
    "            # otherwise it's the highest probability prediction\n",
    "            outputs[i] = prediction\n",
    "            \n",
    "            if random.random() < teacher_forcing_ratio:\n",
    "                trg = trg_batch[i]\n",
    "            else:\n",
    "                trg = prediction.argmax(1)\n",
    "                \n",
    "        return outputs"
   ]
  },
  {
   "cell_type": "markdown",
   "id": "b2d94be0-39bd-431d-99d0-8134badaf0a6",
   "metadata": {},
   "source": [
    "### Model parameters"
   ]
  },
  {
   "cell_type": "code",
   "execution_count": 62,
   "id": "f31f26b7-7613-4074-896e-8776197e1047",
   "metadata": {},
   "outputs": [],
   "source": [
    "embedding_dim = 256\n",
    "hidden_size = 256"
   ]
  },
  {
   "cell_type": "markdown",
   "id": "429c3b2f-ceef-4260-b741-1e486c4fe324",
   "metadata": {},
   "source": [
    "### Hyperparameters"
   ]
  },
  {
   "cell_type": "code",
   "execution_count": 63,
   "id": "22ff1200-1c64-4280-869f-ee513745f90f",
   "metadata": {},
   "outputs": [],
   "source": [
    "learning_rate = 0.01\n",
    "num_epochs = 30"
   ]
  },
  {
   "cell_type": "markdown",
   "id": "7c48e3a2-a408-4580-94f4-a4c26e9dd5fa",
   "metadata": {},
   "source": [
    "### Model"
   ]
  },
  {
   "cell_type": "code",
   "execution_count": 64,
   "id": "e9668665-18a6-461e-a79c-ce8c8fb621a2",
   "metadata": {},
   "outputs": [],
   "source": [
    "seq2seq = Seq2Seq(input_size=Q_vocab.n_words, hidden_size=hidden_size, embedding_size=embedding_dim, output_size=A_vocab.n_words, device=device)"
   ]
  },
  {
   "cell_type": "code",
   "execution_count": 65,
   "id": "10c0f439-05ef-4fcf-8cdb-28574170775f",
   "metadata": {},
   "outputs": [],
   "source": [
    "seq2seq = seq2seq.to(device)"
   ]
  },
  {
   "cell_type": "code",
   "execution_count": 66,
   "id": "e88ae989-3a38-46a7-97fa-76b0a18ea3e5",
   "metadata": {},
   "outputs": [
    {
     "name": "stdout",
     "output_type": "stream",
     "text": [
      "Seq2Seq(\n",
      "  (encoder): Encoder(\n",
      "    (embedding): Embedding(30679, 256)\n",
      "    (lstm): LSTM(256, 256)\n",
      "  )\n",
      "  (decoder): Decoder(\n",
      "    (embedding): Embedding(44438, 256)\n",
      "    (lstm): LSTM(256, 256)\n",
      "    (fc): Linear(in_features=256, out_features=44438, bias=True)\n",
      "    (softmax): LogSoftmax(dim=1)\n",
      "  )\n",
      ")\n"
     ]
    }
   ],
   "source": [
    "print(seq2seq)"
   ]
  },
  {
   "cell_type": "markdown",
   "id": "ed741601-908d-42fe-8f6e-566c3bdf8317",
   "metadata": {},
   "source": [
    "### Optimizer and loss function"
   ]
  },
  {
   "cell_type": "code",
   "execution_count": 67,
   "id": "cad46fed-b21b-464f-aede-b3c55f854a96",
   "metadata": {},
   "outputs": [],
   "source": [
    "from torch import optim\n",
    "import torch.nn as nn"
   ]
  },
  {
   "cell_type": "code",
   "execution_count": 68,
   "id": "f861a598-d49f-413b-a49c-ed50ca454a38",
   "metadata": {},
   "outputs": [],
   "source": [
    "optimizer = optim.SGD(seq2seq.parameters(), lr=learning_rate)\n",
    "criterion = nn.NLLLoss(ignore_index=0).to(device) # 0 is padding"
   ]
  },
  {
   "cell_type": "code",
   "execution_count": null,
   "id": "208a04a7-bc10-4050-8834-603e068cfa06",
   "metadata": {},
   "outputs": [],
   "source": []
  },
  {
   "cell_type": "markdown",
   "id": "a81adbd9-5655-4e35-b9af-426a74beb76a",
   "metadata": {},
   "source": [
    "### Model training \n",
    "\n",
    "For debugging purposes the training function is kept in the main notebook for now."
   ]
  },
  {
   "cell_type": "code",
   "execution_count": 69,
   "id": "da4c1b7b-2da0-457f-9f48-7811a5a9479e",
   "metadata": {},
   "outputs": [],
   "source": [
    "total_train_loss = []\n",
    "total_test_loss = []"
   ]
  },
  {
   "cell_type": "code",
   "execution_count": null,
   "id": "f4a88f8c-8d1c-4b83-b8f2-1dcc318b8e3c",
   "metadata": {},
   "outputs": [],
   "source": []
  },
  {
   "cell_type": "code",
   "execution_count": 70,
   "id": "3fa50b06-c01e-4d17-8ce5-d999aedb0738",
   "metadata": {},
   "outputs": [],
   "source": [
    "def train(model, pairs, optimizer, criterion, device, teacher_forcing_ratio = 0.5, print_every = 1000): \n",
    "    \n",
    "    model.train() # Set the model to training mode\n",
    "\n",
    "    total_loss = 0\n",
    "\n",
    "    count = 0\n",
    "\n",
    "    for pair in pairs:\n",
    "\n",
    "        src = pair.question\n",
    "        tgt = pair.answer\n",
    "\n",
    "        src_tensor = to_tensor(vocab=Q_vocab, tokens=src, seq_len=Q_MAX, device=device)#.to(device) #.unsqueeze(0)\n",
    "        tgt_tensor = to_tensor(vocab=A_vocab, tokens=tgt, seq_len=A_MAX, device=device)#.to(device) #.unsqueeze(0)\n",
    "\n",
    "        # print(src_tensor.shape, tgt_tensor.shape)\n",
    "\n",
    "        optimizer.zero_grad()  # Zero the gradients\n",
    "\n",
    "        # Forward pass\n",
    "        output = model(src_tensor, tgt_tensor, src_len=src_tensor.size(0), trg_len=tgt_tensor.size(0), teacher_forcing_ratio=teacher_forcing_ratio)\n",
    "\n",
    "        # Compute the loss\n",
    "        loss = criterion(output.view(-1, output.size(-1)), tgt_tensor.view(-1))\n",
    "\n",
    "        # Backward pass and optimization\n",
    "        loss.backward()\n",
    "        optimizer.step()\n",
    "\n",
    "        total_loss += loss.item()\n",
    "\n",
    "        count += 1 \n",
    "\n",
    "        if count % print_every == 0:\n",
    "            print(f'Loss {total_loss/count}')\n",
    "\n",
    "    return total_loss / len(pairs)"
   ]
  },
  {
   "cell_type": "code",
   "execution_count": 71,
   "id": "06506d55-128c-474b-a37d-53e974dfd9e9",
   "metadata": {
    "tags": []
   },
   "outputs": [],
   "source": [
    "def evaluate(model, pairs, criterion, device):\n",
    "    \n",
    "    model.eval()\n",
    "    \n",
    "    total_loss = 0\n",
    "    \n",
    "    with torch.no_grad():\n",
    "    \n",
    "        for pair in pairs:\n",
    "            \n",
    "            src = pair.question\n",
    "            tgt = pair.answer\n",
    "            \n",
    "            src_tensor = to_tensor(vocab=Q_vocab, tokens=src, seq_len=Q_MAX, device=device)#.to(device) #.unsqueeze(0)\n",
    "            tgt_tensor = to_tensor(vocab=A_vocab, tokens=tgt, seq_len=A_MAX, device=device)#.to(device) #.unsqueeze(0)\n",
    "\n",
    "            output = model(src_tensor, tgt_tensor, src_len=src_tensor.size(0), trg_len=tgt_tensor.size(0), teacher_forcing_ratio=0) # turn off teacher forcing\n",
    "\n",
    "            # Compute the loss\n",
    "            loss = criterion(output.view(-1, output.size(-1)), tgt_tensor.view(-1))\n",
    "\n",
    "            \n",
    "            total_loss += loss.item()\n",
    "        \n",
    "    return total_loss / len(pairs)"
   ]
  },
  {
   "cell_type": "code",
   "execution_count": 72,
   "id": "e5aabcb4-0bc9-4efa-9908-f1c07c5a2736",
   "metadata": {},
   "outputs": [],
   "source": [
    "import matplotlib.pyplot as plt"
   ]
  },
  {
   "cell_type": "code",
   "execution_count": null,
   "id": "393c6254-d89f-41a7-8add-2312e060dbc0",
   "metadata": {},
   "outputs": [],
   "source": []
  },
  {
   "cell_type": "code",
   "execution_count": 73,
   "id": "73368444-4fcb-449c-8dbe-ee0ede80ac54",
   "metadata": {
    "scrolled": true
   },
   "outputs": [
    {
     "name": "stdout",
     "output_type": "stream",
     "text": [
      "Loss 6.138925907373428\n",
      "Loss 5.665556329607964\n",
      "Loss 5.422191146572431\n",
      "Loss 5.274101310282946\n",
      "Loss 5.1777826576948165\n",
      "Loss 5.060412658294042\n",
      "Loss 5.024915111592838\n",
      "Loss 4.988384833216667\n",
      "Loss 4.927239915808042\n",
      "Loss 4.883971033763886\n",
      "Loss 4.839784553755414\n",
      "Loss 4.798760089387496\n",
      "Loss 4.771627730800556\n",
      "Loss 4.745397167384625\n",
      "Loss 4.708552335500717\n",
      "Loss 4.699005514301359\n",
      "Loss 4.673108266136225\n",
      "Loss 4.649730131685734\n",
      "Loss 4.64802007442399\n",
      "Loss 4.638342442634702\n",
      "Loss 4.621480358756724\n",
      "Loss 4.619393641160293\n",
      "Loss 4.6055101600885395\n",
      "Loss 4.599667688459158\n",
      "Loss 4.592523946399688\n",
      "Loss 4.585663975261725\n",
      "Loss 4.582873447784671\n",
      "Loss 4.573222222017391\n",
      "Loss 4.5600896535145825\n",
      "Loss 4.553379962998629\n",
      "Loss 4.549003374466973\n",
      "Loss 4.548034676002339\n",
      "Loss 4.545192748364174\n",
      "Loss 4.535138930808095\n",
      "Loss 4.536200982551915\n",
      "Loss 4.53194768034584\n",
      "Loss 4.527945615844146\n",
      "Loss 4.522653424562592\n",
      "Loss 4.527179853190214\n",
      "Loss 4.523953871430456\n",
      "Loss 4.522294710326485\n",
      "Loss 4.5206683866282305\n",
      "Loss 4.516756220513998\n",
      "Loss 4.510547178600322\n",
      "Loss 4.510042063600487\n",
      "Loss 4.50989757021225\n",
      "Loss 4.50059090130253\n",
      "Loss 4.502184742294252\n",
      "Loss 4.501613989474822\n",
      "Loss 4.501331207869053\n",
      "Loss 4.498658563920096\n",
      "Loss 4.499318051175429\n",
      "Loss 4.498889123642219\n",
      "Loss 4.495973178693542\n",
      "Loss 4.495628578357263\n",
      "Loss 4.490553135384406\n",
      "Loss 4.489466709686999\n",
      "Loss 4.488809813922849\n",
      "Loss 4.486023361119173\n",
      "Loss 4.483231054848432\n",
      "Loss 4.480890987816404\n",
      "Loss 4.478913017623848\n",
      "Epoch 1/30, Train Loss: 4.4769, Test Loss: 4.5803\n",
      "Loss 4.23974044919014\n",
      "Loss 4.3278606503009796\n",
      "Loss 4.283998619556427\n",
      "Loss 4.238297211661935\n",
      "Loss 4.240291494739056\n",
      "Loss 4.213392652938763\n",
      "Loss 4.243738635480404\n",
      "Loss 4.239058419637382\n",
      "Loss 4.2149116010069845\n",
      "Loss 4.203952664357423\n",
      "Loss 4.193116381824017\n",
      "Loss 4.1794590925176935\n",
      "Loss 4.176875674903393\n",
      "Loss 4.17093684849143\n",
      "Loss 4.156548657993476\n",
      "Loss 4.165493198838085\n",
      "Loss 4.156018837013665\n",
      "Loss 4.148988341553344\n",
      "Loss 4.16159805353378\n",
      "Loss 4.16562491542995\n",
      "Loss 4.162104457426639\n",
      "Loss 4.170610517954285\n",
      "Loss 4.168129391610623\n",
      "Loss 4.173174692499141\n",
      "Loss 4.1755930221319195\n",
      "Loss 4.17749449719374\n",
      "Loss 4.183345297685376\n",
      "Loss 4.181283777075154\n",
      "Loss 4.176055921073617\n",
      "Loss 4.177425427178542\n",
      "Loss 4.179749389948383\n",
      "Loss 4.185313445970416\n",
      "Loss 4.188691053404953\n",
      "Loss 4.185049898173003\n",
      "Loss 4.191848859672035\n",
      "Loss 4.192964215123819\n",
      "Loss 4.194365741482458\n",
      "Loss 4.194297039275891\n",
      "Loss 4.203695579561668\n",
      "Loss 4.205245788484067\n",
      "Loss 4.208535193957207\n",
      "Loss 4.211435218024112\n",
      "Loss 4.211873970482932\n",
      "Loss 4.20959219181199\n",
      "Loss 4.213250131564008\n",
      "Loss 4.21677272712083\n",
      "Loss 4.211285297121774\n",
      "Loss 4.2163325208431734\n",
      "Loss 4.219140431947246\n",
      "Loss 4.22216065372765\n",
      "Loss 4.222847109778839\n",
      "Loss 4.226664302223577\n",
      "Loss 4.229340000753695\n",
      "Loss 4.229276096465963\n",
      "Loss 4.231827450822158\n",
      "Loss 4.229711403811084\n",
      "Loss 4.231458135668123\n",
      "Loss 4.233562094397072\n",
      "Loss 4.233401079511744\n",
      "Loss 4.232916305053731\n",
      "Loss 4.23322604260728\n",
      "Loss 4.233314240075408\n",
      "Epoch 2/30, Train Loss: 4.2317, Test Loss: 4.5645\n",
      "Loss 4.153606585264206\n",
      "Loss 4.234546764194965\n",
      "Loss 4.196786380986373\n",
      "Loss 4.155725038945675\n",
      "Loss 4.160587040877342\n",
      "Loss 4.132604235549768\n",
      "Loss 4.165034192732402\n",
      "Loss 4.161859687894583\n",
      "Loss 4.140101544724571\n",
      "Loss 4.1304802486896515\n",
      "Loss 4.1206989634362134\n",
      "Loss 4.108048890545964\n",
      "Loss 4.106367526049797\n",
      "Loss 4.100955498571906\n",
      "Loss 4.087162220303218\n",
      "Loss 4.096104666776955\n",
      "Loss 4.087526288032532\n",
      "Loss 4.0806342885891596\n",
      "Loss 4.0937471043718485\n",
      "Loss 4.0981761101901535\n",
      "Loss 4.094827890589124\n",
      "Loss 4.10389640766924\n",
      "Loss 4.10183416301012\n",
      "Loss 4.107272366610666\n",
      "Loss 4.110571152112484\n",
      "Loss 4.113271806453283\n",
      "Loss 4.118894475647696\n",
      "Loss 4.116548821719629\n",
      "Loss 4.11135202893101\n",
      "Loss 4.112839850952228\n",
      "Loss 4.1153199883526375\n",
      "Loss 4.121091813189909\n",
      "Loss 4.124918884138267\n",
      "Loss 4.121679369598627\n",
      "Loss 4.128628039085865\n",
      "Loss 4.130014387314518\n",
      "Loss 4.131587513567628\n",
      "Loss 4.131401316369835\n",
      "Loss 4.140785726262973\n",
      "Loss 4.142399910482764\n",
      "Loss 4.145776557355393\n",
      "Loss 4.148714968448593\n",
      "Loss 4.149448561818101\n",
      "Loss 4.14732348930023\n",
      "Loss 4.1512290553967155\n",
      "Loss 4.155012428151524\n",
      "Loss 4.149712403967025\n",
      "Loss 4.154849976493667\n",
      "Loss 4.157955040212797\n",
      "Loss 4.161121330808401\n",
      "Loss 4.161819463995157\n",
      "Loss 4.165791862472892\n",
      "Loss 4.1685702470754675\n",
      "Loss 4.168631884796752\n",
      "Loss 4.171215452919223\n",
      "Loss 4.169357124644731\n",
      "Loss 4.171233385072465\n",
      "Loss 4.1735039375290786\n",
      "Loss 4.17360763481815\n",
      "Loss 4.173103797893723\n",
      "Loss 4.173398505719959\n",
      "Loss 4.173509466170303\n",
      "Epoch 3/30, Train Loss: 4.1719, Test Loss: 4.5694\n",
      "Loss 4.094554077863693\n",
      "Loss 4.1685170458555225\n",
      "Loss 4.1276091803312305\n",
      "Loss 4.091331280738116\n",
      "Loss 4.0969194715738295\n",
      "Loss 4.067737786422173\n",
      "Loss 4.102447536970888\n",
      "Loss 4.102166389353573\n",
      "Loss 4.082863242394394\n",
      "Loss 4.075312011688948\n",
      "Loss 4.066419478324327\n",
      "Loss 4.054544542094072\n",
      "Loss 4.053578609484893\n",
      "Loss 4.049055663457938\n",
      "Loss 4.035840179137389\n",
      "Loss 4.044886851970106\n",
      "Loss 4.036566277198932\n",
      "Loss 4.029960469361809\n",
      "Loss 4.043381517363222\n",
      "Loss 4.048159090332687\n",
      "Loss 4.045380239871286\n",
      "Loss 4.054432136935267\n",
      "Loss 4.052629968982676\n",
      "Loss 4.058400069393217\n",
      "Loss 4.062128700082302\n",
      "Loss 4.064768758950325\n",
      "Loss 4.070821084907761\n",
      "Loss 4.068616170957685\n",
      "Loss 4.063648083277817\n",
      "Loss 4.065245416456461\n",
      "Loss 4.067878132922034\n",
      "Loss 4.073696230592206\n",
      "Loss 4.077807771518375\n",
      "Loss 4.0747722369318495\n",
      "Loss 4.082309172683955\n",
      "Loss 4.084013988460931\n",
      "Loss 4.08578502698444\n",
      "Loss 4.085948846441351\n",
      "Loss 4.0951462203119045\n",
      "Loss 4.096837881148606\n",
      "Loss 4.100256676282098\n",
      "Loss 4.103589691951871\n",
      "Loss 4.104416147651367\n",
      "Loss 4.101900683063675\n",
      "Loss 4.1059286310878065\n",
      "Loss 4.109693712340101\n",
      "Loss 4.104267343493852\n",
      "Loss 4.1092903097290545\n",
      "Loss 4.1126002678183875\n",
      "Loss 4.115947643768191\n",
      "Loss 4.116756855398417\n",
      "Loss 4.120910320721567\n",
      "Loss 4.123584959308494\n",
      "Loss 4.123751864942688\n",
      "Loss 4.1264159415976565\n",
      "Loss 4.124559652408851\n",
      "Loss 4.126605017860208\n",
      "Loss 4.128912400555508\n",
      "Loss 4.129045718007673\n",
      "Loss 4.128692235861719\n",
      "Loss 4.12923825130746\n",
      "Loss 4.129528556190672\n",
      "Epoch 4/30, Train Loss: 4.1280, Test Loss: 4.5638\n",
      "Loss 4.047609416007996\n",
      "Loss 4.107474296092987\n",
      "Loss 4.067431226849556\n",
      "Loss 4.032952506691218\n",
      "Loss 4.0394561384439465\n",
      "Loss 4.0101120866239075\n",
      "Loss 4.046118768598352\n",
      "Loss 4.047230402030051\n",
      "Loss 4.029627524978585\n",
      "Loss 4.023029871445894\n",
      "Loss 4.015437173231081\n",
      "Loss 4.004458417509993\n",
      "Loss 4.004094877701539\n",
      "Loss 3.999461014841284\n",
      "Loss 3.9876171561042466\n",
      "Loss 3.9982076226510106\n",
      "Loss 3.9901106086303204\n",
      "Loss 3.9843198655545713\n",
      "Loss 3.9981790546712124\n",
      "Loss 4.003300207732618\n",
      "Loss 4.000933166241362\n",
      "Loss 4.0098026209947735\n",
      "Loss 4.008307841175276\n",
      "Loss 4.013944431656351\n",
      "Loss 4.018460931612253\n",
      "Loss 4.021464682428883\n",
      "Loss 4.027420196053055\n",
      "Loss 4.025385862496282\n",
      "Loss 4.02094003238863\n",
      "Loss 4.023061133938034\n",
      "Loss 4.025769597427499\n",
      "Loss 4.031601309125311\n",
      "Loss 4.035809438677449\n",
      "Loss 4.0330920403880235\n",
      "Loss 4.0408147568038535\n",
      "Loss 4.042750756719046\n",
      "Loss 4.044991575703428\n",
      "Loss 4.045503134203584\n",
      "Loss 4.054672330489526\n",
      "Loss 4.056638995727897\n",
      "Loss 4.060197173519832\n",
      "Loss 4.0633958456544645\n",
      "Loss 4.064458020712054\n",
      "Loss 4.062446737915278\n",
      "Loss 4.066681885743141\n",
      "Loss 4.070616126656533\n",
      "Loss 4.065370567608387\n",
      "Loss 4.070220552893977\n",
      "Loss 4.073635275916177\n",
      "Loss 4.076942269086838\n",
      "Loss 4.077860364371655\n",
      "Loss 4.08190163187568\n",
      "Loss 4.084563276223417\n",
      "Loss 4.0847748201467375\n",
      "Loss 4.087373607024279\n",
      "Loss 4.085462148704699\n",
      "Loss 4.087482200921627\n",
      "Loss 4.089885848273491\n",
      "Loss 4.089868442392955\n",
      "Loss 4.089612620664636\n",
      "Loss 4.090051116088374\n",
      "Loss 4.0902713055677955\n",
      "Epoch 5/30, Train Loss: 4.0887, Test Loss: 4.5807\n",
      "Loss 4.001582045435906\n",
      "Loss 4.0564948124289515\n",
      "Loss 4.018230157971382\n",
      "Loss 3.986051256924868\n",
      "Loss 3.992719593024254\n",
      "Loss 3.9595738540391126\n",
      "Loss 3.9950889897431647\n",
      "Loss 3.9982460711449384\n",
      "Loss 3.980983861592081\n",
      "Loss 3.9757513235211372\n",
      "Loss 3.9691683686971664\n",
      "Loss 3.9590313273270925\n",
      "Loss 3.959536574803866\n",
      "Loss 3.95591429070064\n",
      "Loss 3.944367878083388\n",
      "Loss 3.9563591499067843\n",
      "Loss 3.9486674177120715\n",
      "Loss 3.9425537826584445\n",
      "Loss 3.9559154082756294\n",
      "Loss 3.9620977647677065\n",
      "Loss 3.960190758297841\n",
      "Loss 3.9692669672925365\n",
      "Loss 3.9678343908475795\n",
      "Loss 3.9741796455780665\n",
      "Loss 3.9785567223215104\n",
      "Loss 3.982221207531599\n",
      "Loss 3.988321310705609\n",
      "Loss 3.9858014544546605\n",
      "Loss 3.981239433662645\n",
      "Loss 3.983658439497153\n",
      "Loss 3.986500236149757\n",
      "Loss 3.992396688438952\n",
      "Loss 3.9967610192262764\n",
      "Loss 3.9943662424363633\n",
      "Loss 4.001988760229094\n",
      "Loss 4.004184062218914\n",
      "Loss 4.00674357804052\n",
      "Loss 4.0077052063561585\n",
      "Loss 4.016842026902697\n",
      "Loss 4.018934879758581\n",
      "Loss 4.022890316064402\n",
      "Loss 4.0266158136012296\n",
      "Loss 4.027924840885193\n",
      "Loss 4.0256688099202105\n",
      "Loss 4.029529737906655\n",
      "Loss 4.033556517395961\n",
      "Loss 4.028435197445623\n",
      "Loss 4.03338472140301\n",
      "Loss 4.037140885975592\n",
      "Loss 4.0405104189226035\n",
      "Loss 4.041520901504393\n",
      "Loss 4.0458208618390445\n",
      "Loss 4.048756053915282\n",
      "Loss 4.048823746703013\n",
      "Loss 4.051385387749835\n",
      "Loss 4.049754162581637\n",
      "Loss 4.051999995915252\n",
      "Loss 4.05444053507031\n",
      "Loss 4.054422079494191\n",
      "Loss 4.054012830340614\n",
      "Loss 4.0546484776029335\n",
      "Loss 4.054690491313655\n",
      "Epoch 6/30, Train Loss: 4.0532, Test Loss: 4.5783\n",
      "Loss 3.9624685381650924\n",
      "Loss 4.010982632339001\n",
      "Loss 3.975597927570343\n",
      "Loss 3.9439765528440476\n",
      "Loss 3.9516847210407255\n",
      "Loss 3.9178162313699723\n",
      "Loss 3.951835428578513\n",
      "Loss 3.954328714825213\n",
      "Loss 3.93970801816384\n",
      "Loss 3.9366707190215586\n",
      "Loss 3.931900998879563\n",
      "Loss 3.923808337718248\n",
      "Loss 3.9246354348934616\n",
      "Loss 3.92081164096083\n",
      "Loss 3.9082791949709255\n",
      "Loss 3.919533773828298\n",
      "Loss 3.912480566126459\n",
      "Loss 3.9072180095712343\n",
      "Loss 3.9202150255159327\n",
      "Loss 3.925771566902101\n",
      "Loss 3.924223849857137\n",
      "Loss 3.933256571269848\n",
      "Loss 3.931510149307873\n",
      "Loss 3.93801086119314\n",
      "Loss 3.9431138497662546\n",
      "Loss 3.9466213695842485\n",
      "Loss 3.9521048820725193\n",
      "Loss 3.9489089534836155\n",
      "Loss 3.944496434318608\n",
      "Loss 3.946452578628063\n",
      "Loss 3.949602860931427\n",
      "Loss 3.9557481492832305\n",
      "Loss 3.959929625605092\n",
      "Loss 3.957470878328909\n",
      "Loss 3.9654299649779285\n",
      "Loss 3.967952424727794\n",
      "Loss 3.9707206635922194\n",
      "Loss 3.9716732157809953\n",
      "Loss 3.980984705686187\n",
      "Loss 3.9830729831483214\n",
      "Loss 3.9870803176277296\n",
      "Loss 3.990949220004181\n",
      "Loss 3.9923964178253746\n",
      "Loss 3.9902859483439137\n",
      "Loss 3.994230328568816\n",
      "Loss 3.99841610210972\n",
      "Loss 3.993471955343447\n",
      "Loss 3.9984207841055466\n",
      "Loss 4.001846784187519\n",
      "Loss 4.005327776691615\n",
      "Loss 4.0063923105232275\n",
      "Loss 4.010720307063312\n",
      "Loss 4.013628059114769\n",
      "Loss 4.013682569271713\n",
      "Loss 4.016322062086788\n",
      "Loss 4.014869084702805\n",
      "Loss 4.017233479413808\n",
      "Loss 4.0198001950915\n",
      "Loss 4.01978594682454\n",
      "Loss 4.019271783400327\n",
      "Loss 4.019843940299798\n",
      "Loss 4.019644290893068\n",
      "Epoch 7/30, Train Loss: 4.0181, Test Loss: 4.5894\n",
      "Loss 3.927346689939499\n",
      "Loss 3.9632085421085357\n",
      "Loss 3.927680553197861\n",
      "Loss 3.899090144261718\n",
      "Loss 3.9073168357014656\n",
      "Loss 3.8785408962170282\n",
      "Loss 3.9119103253739222\n",
      "Loss 3.9120551781132815\n",
      "Loss 3.896604298836655\n",
      "Loss 3.8935666513741016\n",
      "Loss 3.888678476349874\n",
      "Loss 3.8806913688033817\n",
      "Loss 3.884047032076579\n",
      "Loss 3.8809445414585726\n",
      "Loss 3.8683087414542836\n",
      "Loss 3.879781723957509\n",
      "Loss 3.873201565409408\n",
      "Loss 3.8677664857904115\n",
      "Loss 3.8813242957654754\n",
      "Loss 3.887298800215125\n",
      "Loss 3.88592661378781\n",
      "Loss 3.894264306244525\n",
      "Loss 3.8930039837671364\n",
      "Loss 3.898811286931237\n",
      "Loss 3.9040891303515433\n",
      "Loss 3.90763227094366\n",
      "Loss 3.913132524157012\n",
      "Loss 3.909951953732542\n",
      "Loss 3.9052146329037076\n",
      "Loss 3.907446634231011\n",
      "Loss 3.9103451484730165\n",
      "Loss 3.916490071577951\n",
      "Loss 3.920987291789416\n",
      "Loss 3.918757854122888\n",
      "Loss 3.9265622466253385\n",
      "Loss 3.9290026745361586\n",
      "Loss 3.9314753917709395\n",
      "Loss 3.9323033624271813\n",
      "Loss 3.9415894568222454\n",
      "Loss 3.944004026330635\n",
      "Loss 3.9479646715372803\n",
      "Loss 3.9521405774450726\n",
      "Loss 3.9539748890438053\n",
      "Loss 3.9521530052284626\n",
      "Loss 3.956271072876122\n",
      "Loss 3.960635135643832\n",
      "Loss 3.9559519988751792\n",
      "Loss 3.961038246081211\n",
      "Loss 3.9644673597797446\n",
      "Loss 3.9680542474469545\n",
      "Loss 3.9691343525025773\n",
      "Loss 3.973823451304378\n",
      "Loss 3.9768167222296853\n",
      "Loss 3.977048931149145\n",
      "Loss 3.9794171647426757\n",
      "Loss 3.9779968348494066\n",
      "Loss 3.9804857929973747\n",
      "Loss 3.9832442199266676\n",
      "Loss 3.9833558639204605\n",
      "Loss 3.9830216945605974\n",
      "Loss 3.9835905201198134\n",
      "Loss 3.983362675944403\n",
      "Epoch 8/30, Train Loss: 3.9818, Test Loss: 4.6255\n",
      "Loss 3.891163857221603\n",
      "Loss 3.9210018830895423\n",
      "Loss 3.8813628914356233\n",
      "Loss 3.855603749603033\n",
      "Loss 3.8629123288154603\n",
      "Loss 3.8299874301056067\n",
      "Loss 3.8654213515605247\n",
      "Loss 3.866370649687946\n",
      "Loss 3.852072496778435\n",
      "Loss 3.8494826121985914\n",
      "Loss 3.84480661477284\n",
      "Loss 3.837245261376103\n",
      "Loss 3.8412121292352674\n",
      "Loss 3.8385536862100875\n",
      "Loss 3.8255409617384273\n",
      "Loss 3.8364425910972058\n",
      "Loss 3.8295922649152137\n",
      "Loss 3.824990105642213\n",
      "Loss 3.8385770255044886\n",
      "Loss 3.8453222244530916\n",
      "Loss 3.8450253303079376\n",
      "Loss 3.8541644774431534\n",
      "Loss 3.853432397239882\n",
      "Loss 3.8590266437220078\n",
      "Loss 3.8641329077541826\n",
      "Loss 3.868022646038578\n",
      "Loss 3.8735723908400095\n",
      "Loss 3.870889939364578\n",
      "Loss 3.8657645644905236\n",
      "Loss 3.868438854067524\n",
      "Loss 3.871459715774944\n",
      "Loss 3.8780174188623207\n",
      "Loss 3.8827299765068473\n",
      "Loss 3.880686062562553\n",
      "Loss 3.888718105846218\n",
      "Loss 3.8910426923156614\n",
      "Loss 3.89360648726974\n",
      "Loss 3.8947579741042695\n",
      "Loss 3.9041006781172296\n",
      "Loss 3.906587794000283\n",
      "Loss 3.910622531027692\n",
      "Loss 3.9150314296118562\n",
      "Loss 3.916983100181749\n",
      "Loss 3.915188479818065\n",
      "Loss 3.9193439606206284\n",
      "Loss 3.9237420166747077\n",
      "Loss 3.9192832644876647\n",
      "Loss 3.9238951177264876\n",
      "Loss 3.927490981986632\n",
      "Loss 3.9311311972370744\n",
      "Loss 3.932339347564999\n",
      "Loss 3.9369333439712912\n",
      "Loss 3.939867702849912\n",
      "Loss 3.940213257159624\n",
      "Loss 3.942685118464177\n",
      "Loss 3.9410848394219897\n",
      "Loss 3.943935566282325\n",
      "Loss 3.9467630829577303\n",
      "Loss 3.946979485224112\n",
      "Loss 3.946476873369267\n",
      "Loss 3.947127924834363\n",
      "Loss 3.9467642936785854\n",
      "Epoch 9/30, Train Loss: 3.9453, Test Loss: 4.6087\n",
      "Loss 3.842177757740021\n",
      "Loss 3.881730130374432\n",
      "Loss 3.837657574613889\n",
      "Loss 3.8100467878580093\n",
      "Loss 3.814266344809532\n",
      "Loss 3.7812014803886416\n",
      "Loss 3.8160292249917984\n",
      "Loss 3.8190302702262997\n",
      "Loss 3.8042252759337427\n",
      "Loss 3.802367192846537\n",
      "Loss 3.798911212980747\n",
      "Loss 3.790950851688782\n",
      "Loss 3.795858250246598\n",
      "Loss 3.7945459118953773\n",
      "Loss 3.7823342551151913\n",
      "Loss 3.7933735778555273\n",
      "Loss 3.78742068289308\n",
      "Loss 3.7839519641664294\n",
      "Loss 3.7976297780526314\n",
      "Loss 3.804166974078119\n",
      "Loss 3.804345586111148\n",
      "Loss 3.8140928175815128\n",
      "Loss 3.81307829800896\n",
      "Loss 3.818656365295251\n",
      "Loss 3.8240205995416643\n",
      "Loss 3.827520401615363\n",
      "Loss 3.8325487550585358\n",
      "Loss 3.829924510994128\n",
      "Loss 3.8256470249973495\n",
      "Loss 3.828172264953454\n",
      "Loss 3.8310586381266196\n",
      "Loss 3.8378300518095494\n",
      "Loss 3.8431465227459416\n",
      "Loss 3.8411145748268156\n",
      "Loss 3.8492375030721937\n",
      "Loss 3.85192721424169\n",
      "Loss 3.854542542270712\n",
      "Loss 3.8557300682883513\n",
      "Loss 3.865520810980063\n",
      "Loss 3.8683788866519926\n",
      "Loss 3.872600984765262\n",
      "Loss 3.8768708650498165\n",
      "Loss 3.8790559243878655\n",
      "Loss 3.877397747069597\n",
      "Loss 3.881937345451779\n",
      "Loss 3.886606041897898\n",
      "Loss 3.8818526049674826\n",
      "Loss 3.8866178820667168\n",
      "Loss 3.890261151874552\n",
      "Loss 3.8937277993404864\n",
      "Loss 3.8949369222007544\n",
      "Loss 3.8996884932139744\n",
      "Loss 3.9027883968342025\n",
      "Loss 3.9031916255785357\n",
      "Loss 3.9058950925642795\n",
      "Loss 3.9042544576664056\n",
      "Loss 3.906939437543091\n",
      "Loss 3.909700803821457\n",
      "Loss 3.9096649737721783\n",
      "Loss 3.909489858762423\n",
      "Loss 3.9101367538014395\n",
      "Loss 3.9098972506744247\n",
      "Epoch 10/30, Train Loss: 3.9084, Test Loss: 4.6234\n",
      "Loss 3.7903835639953614\n",
      "Loss 3.8172632169723513\n",
      "Loss 3.7764371117750803\n",
      "Loss 3.7570787563323975\n",
      "Loss 3.7603647357940675\n",
      "Loss 3.7272876466810705\n",
      "Loss 3.764133209475449\n",
      "Loss 3.7679013663455843\n",
      "Loss 3.7569143702520265\n",
      "Loss 3.7543323132812976\n",
      "Loss 3.7505831226164643\n",
      "Loss 3.743629463300109\n",
      "Loss 3.74890228581887\n",
      "Loss 3.747023670124156\n",
      "Loss 3.7367202582716943\n",
      "Loss 3.7482474805302917\n",
      "Loss 3.7437411546812336\n",
      "Loss 3.7411743849118553\n",
      "Loss 3.7556358042171127\n",
      "Loss 3.7613543797031044\n",
      "Loss 3.7622718122757615\n",
      "Loss 3.772858757930723\n",
      "Loss 3.772060404614262\n",
      "Loss 3.7783663031980397\n",
      "Loss 3.7834253016257287\n",
      "Loss 3.7869196647611947\n",
      "Loss 3.792032123612033\n",
      "Loss 3.789546962748681\n",
      "Loss 3.784895048973889\n",
      "Loss 3.7876792182981966\n",
      "Loss 3.790864005840594\n",
      "Loss 3.797845619155094\n",
      "Loss 3.8032722806153876\n",
      "Loss 3.8011547878117247\n",
      "Loss 3.8094574082302195\n",
      "Loss 3.8122063038543694\n",
      "Loss 3.8150445545553358\n",
      "Loss 3.8164337785114584\n",
      "Loss 3.8260629399674824\n",
      "Loss 3.829269057693705\n",
      "Loss 3.83356114115039\n",
      "Loss 3.8377567743400025\n",
      "Loss 3.84000449236569\n",
      "Loss 3.83848636626757\n",
      "Loss 3.842792558727993\n",
      "Loss 3.8472018565610053\n",
      "Loss 3.8426681783183456\n",
      "Loss 3.847654504661448\n",
      "Loss 3.8513665981143714\n",
      "Loss 3.854755513393581\n",
      "Loss 3.856169809144794\n",
      "Loss 3.860671148297592\n",
      "Loss 3.863932860913985\n",
      "Loss 3.8642182511618293\n",
      "Loss 3.8672245691816913\n",
      "Loss 3.8657575329794946\n",
      "Loss 3.8685778991776076\n",
      "Loss 3.8716647755192786\n",
      "Loss 3.871721991062922\n",
      "Loss 3.871289055213084\n",
      "Loss 3.872118688398453\n",
      "Loss 3.871922200148865\n",
      "Epoch 11/30, Train Loss: 3.8705, Test Loss: 4.6282\n",
      "Loss 3.7339663944244386\n",
      "Loss 3.761225035786629\n",
      "Loss 3.7222552156051\n",
      "Loss 3.7067445158064367\n",
      "Loss 3.712044585633278\n",
      "Loss 3.6761802695691586\n",
      "Loss 3.7124943370052748\n",
      "Loss 3.7190696266889574\n",
      "Loss 3.708999025411076\n",
      "Loss 3.7105896661877633\n",
      "Loss 3.7082195080193605\n",
      "Loss 3.70103339620928\n",
      "Loss 3.707108394228495\n",
      "Loss 3.7070418600865773\n",
      "Loss 3.696980059683323\n",
      "Loss 3.7081588459424673\n",
      "Loss 3.703713511491523\n",
      "Loss 3.7018154574897553\n",
      "Loss 3.716330625653267\n",
      "Loss 3.723216770897806\n",
      "Loss 3.7250144723753134\n",
      "Loss 3.7357060248350553\n",
      "Loss 3.73535718104632\n",
      "Loss 3.7414048215597866\n",
      "Loss 3.746682169561386\n",
      "Loss 3.750149493070749\n",
      "Loss 3.7546973870860207\n",
      "Loss 3.7521358196650234\n",
      "Loss 3.7479502983298794\n",
      "Loss 3.7508492514530816\n",
      "Loss 3.7541207883704093\n",
      "Loss 3.7606476384587584\n",
      "Loss 3.765769868186026\n",
      "Loss 3.7644600341543555\n",
      "Loss 3.7727946664448297\n",
      "Loss 3.775477298174881\n",
      "Loss 3.778300960023258\n",
      "Loss 3.779305627773859\n",
      "Loss 3.7886181698498818\n",
      "Loss 3.7923480377119034\n",
      "Loss 3.796667164507072\n",
      "Loss 3.8011095826153953\n",
      "Loss 3.803573999369907\n",
      "Loss 3.802010811174119\n",
      "Loss 3.8062726791616943\n",
      "Loss 3.8105256503635774\n",
      "Loss 3.8059114496197473\n",
      "Loss 3.810797882701891\n",
      "Loss 3.8145117072970893\n",
      "Loss 3.8178904490837455\n",
      "Loss 3.819276071194048\n",
      "Loss 3.823827287434099\n",
      "Loss 3.827101309169857\n",
      "Loss 3.8277198796413012\n",
      "Loss 3.831049845685471\n",
      "Loss 3.829775936727811\n",
      "Loss 3.8325992902985266\n",
      "Loss 3.83589928035361\n",
      "Loss 3.835831805080428\n",
      "Loss 3.8354178064651787\n",
      "Loss 3.8363590324635877\n",
      "Loss 3.8361726573664816\n",
      "Epoch 12/30, Train Loss: 3.8347, Test Loss: 4.6433\n",
      "Loss 3.6870517305135726\n",
      "Loss 3.706667203783989\n",
      "Loss 3.6736920620997746\n",
      "Loss 3.6588578527718782\n",
      "Loss 3.6658875891208647\n",
      "Loss 3.6294638245900472\n",
      "Loss 3.665802375027112\n",
      "Loss 3.6731940554976465\n",
      "Loss 3.664345257308748\n",
      "Loss 3.6663146055698395\n",
      "Loss 3.665378015496514\n",
      "Loss 3.65912322020034\n",
      "Loss 3.6667462955208925\n",
      "Loss 3.667650000406163\n",
      "Loss 3.657580762461821\n",
      "Loss 3.669205155003816\n",
      "Loss 3.665436154151664\n",
      "Loss 3.6632380386855865\n",
      "Loss 3.6775683489394817\n",
      "Loss 3.6849135731980205\n",
      "Loss 3.6866002308343138\n",
      "Loss 3.6980700605931607\n",
      "Loss 3.6975004172597243\n",
      "Loss 3.703885943185538\n",
      "Loss 3.7095154881751538\n",
      "Loss 3.713021093582878\n",
      "Loss 3.71712711017772\n",
      "Loss 3.714450275188046\n",
      "Loss 3.710986191717715\n",
      "Loss 3.714235774605473\n",
      "Loss 3.7177721720097527\n",
      "Loss 3.7246885805325585\n",
      "Loss 3.729930760662664\n",
      "Loss 3.728734085938948\n",
      "Loss 3.7373326881923847\n",
      "Loss 3.740225176119556\n",
      "Loss 3.7432514434122557\n",
      "Loss 3.744621877338149\n",
      "Loss 3.754358146566993\n",
      "Loss 3.7582817895743994\n",
      "Loss 3.762873839198453\n",
      "Loss 3.767366118979241\n",
      "Loss 3.7695996387535056\n",
      "Loss 3.767701692632992\n",
      "Loss 3.7715919899519945\n",
      "Loss 3.775829241294252\n",
      "Loss 3.771477381653291\n",
      "Loss 3.776393992009573\n",
      "Loss 3.7802446213136522\n",
      "Loss 3.7834861223080756\n",
      "Loss 3.7850990537828673\n",
      "Loss 3.789711516366842\n",
      "Loss 3.7934269678415555\n",
      "Loss 3.7940080366954207\n",
      "Loss 3.7970820550747892\n",
      "Loss 3.7958782761014467\n",
      "Loss 3.7987999824894625\n",
      "Loss 3.8020445892792836\n",
      "Loss 3.802077202729502\n",
      "Loss 3.801666467453291\n",
      "Loss 3.8025532408026885\n",
      "Loss 3.802280398662292\n",
      "Epoch 13/30, Train Loss: 3.8008, Test Loss: 4.6448\n",
      "Loss 3.6278620166778563\n",
      "Loss 3.65267007291317\n",
      "Loss 3.6211475779215494\n",
      "Loss 3.6050381255596875\n",
      "Loss 3.6127998926877973\n",
      "Loss 3.5767180180052915\n",
      "Loss 3.6124287593279565\n",
      "Loss 3.6221421131044624\n",
      "Loss 3.6138542246421177\n",
      "Loss 3.6165576404869557\n",
      "Loss 3.6174888159741054\n",
      "Loss 3.6125067523916563\n",
      "Loss 3.6212650643220314\n",
      "Loss 3.622528670660087\n",
      "Loss 3.6133058589220046\n",
      "Loss 3.624949498794973\n",
      "Loss 3.6210660186094397\n",
      "Loss 3.620358344035016\n",
      "Loss 3.635420076586698\n",
      "Loss 3.6427980690404773\n",
      "Loss 3.6450192265099\n",
      "Loss 3.6564615326130934\n",
      "Loss 3.656516459236974\n",
      "Loss 3.6633564836184185\n",
      "Loss 3.668929177737236\n",
      "Loss 3.672894199174184\n",
      "Loss 3.676810171122904\n",
      "Loss 3.674018313642059\n",
      "Loss 3.6703635257523635\n",
      "Loss 3.673529604323705\n",
      "Loss 3.6769786767805774\n",
      "Loss 3.6838300254158676\n",
      "Loss 3.689371530937426\n",
      "Loss 3.6884362416517207\n",
      "Loss 3.6967736972744976\n",
      "Loss 3.6998016860555443\n",
      "Loss 3.703173314832755\n",
      "Loss 3.7052784528751905\n",
      "Loss 3.7151594004589015\n",
      "Loss 3.719435359947756\n",
      "Loss 3.7241014625346516\n",
      "Loss 3.7287289530255254\n",
      "Loss 3.7313416444357745\n",
      "Loss 3.729930401024832\n",
      "Loss 3.7341548674719203\n",
      "Loss 3.7383512583974263\n",
      "Loss 3.7338344376749815\n",
      "Loss 3.7387470025770986\n",
      "Loss 3.742696728548529\n",
      "Loss 3.7463133950594067\n",
      "Loss 3.747799958610359\n",
      "Loss 3.752690827055906\n",
      "Loss 3.7562164235837616\n",
      "Loss 3.7571486027133134\n",
      "Loss 3.760386839797551\n",
      "Loss 3.7595502315741034\n",
      "Loss 3.7626444830416066\n",
      "Loss 3.7660240516295205\n",
      "Loss 3.766008091873284\n",
      "Loss 3.765662530725449\n",
      "Loss 3.7667644080698\n",
      "Loss 3.766783938782109\n",
      "Epoch 14/30, Train Loss: 3.7654, Test Loss: 4.6622\n",
      "Loss 3.596436031937599\n",
      "Loss 3.600525997519493\n",
      "Loss 3.5778846945762632\n",
      "Loss 3.561937877967954\n",
      "Loss 3.5693013768434523\n",
      "Loss 3.5350525557398798\n",
      "Loss 3.57090329677718\n",
      "Loss 3.5791657510325314\n",
      "Loss 3.5735930214921634\n",
      "Loss 3.577681345170736\n",
      "Loss 3.5795533520579337\n",
      "Loss 3.576337134733796\n",
      "Loss 3.58518443775177\n",
      "Loss 3.587046839126519\n",
      "Loss 3.577024292210738\n",
      "Loss 3.589063761923462\n",
      "Loss 3.5857901335218374\n",
      "Loss 3.584863768282864\n",
      "Loss 3.5994781886794067\n",
      "Loss 3.6079555798619984\n",
      "Loss 3.6101469251201266\n",
      "Loss 3.621140167610212\n",
      "Loss 3.621914986009183\n",
      "Loss 3.6288721317648887\n",
      "Loss 3.635010340986252\n",
      "Loss 3.639554296433926\n",
      "Loss 3.6430804846397153\n",
      "Loss 3.6394322767704725\n",
      "Loss 3.636531812583578\n",
      "Loss 3.6401225574314595\n",
      "Loss 3.643583091856972\n",
      "Loss 3.650687622366473\n",
      "Loss 3.656543161105026\n",
      "Loss 3.655751319707755\n",
      "Loss 3.664418228004234\n",
      "Loss 3.6678559151072467\n",
      "Loss 3.6708605686921527\n",
      "Loss 3.6730676815788215\n",
      "Loss 3.682799345074174\n",
      "Loss 3.6869610823418943\n",
      "Loss 3.6915937497437725\n",
      "Loss 3.69643699240649\n",
      "Loss 3.6991847052432076\n",
      "Loss 3.6977573872990908\n",
      "Loss 3.702431053391761\n",
      "Loss 3.7068718144942236\n",
      "Loss 3.7021586473783916\n",
      "Loss 3.7066849089435614\n",
      "Loss 3.710362228215653\n",
      "Loss 3.713917615549266\n",
      "Loss 3.715256562609006\n",
      "Loss 3.7202281103200066\n",
      "Loss 3.724551270894003\n",
      "Loss 3.7259314522961224\n",
      "Loss 3.7295071237344635\n",
      "Loss 3.72888531033881\n",
      "Loss 3.732085140890981\n",
      "Loss 3.7355322119981564\n",
      "Loss 3.735324240855999\n",
      "Loss 3.7352429001944762\n",
      "Loss 3.736604929659943\n",
      "Loss 3.7364150913201515\n",
      "Epoch 15/30, Train Loss: 3.7350, Test Loss: 4.6648\n",
      "Loss 3.570273954629898\n",
      "Loss 3.566408338427544\n",
      "Loss 3.5415634484887124\n",
      "Loss 3.524148353561759\n",
      "Loss 3.5310657550573348\n",
      "Loss 3.4953799205621086\n",
      "Loss 3.534084067446845\n",
      "Loss 3.542555863440037\n",
      "Loss 3.538376151363055\n",
      "Loss 3.5420677883982656\n",
      "Loss 3.5455127342397517\n",
      "Loss 3.5411870207339526\n",
      "Loss 3.550465033723758\n",
      "Loss 3.5526318912080357\n",
      "Loss 3.5429682862957317\n",
      "Loss 3.555189576152712\n",
      "Loss 3.5517033075129283\n",
      "Loss 3.5518746046457026\n",
      "Loss 3.5666866232297925\n",
      "Loss 3.5753102619066834\n",
      "Loss 3.5771153189298652\n",
      "Loss 3.5886336793100293\n",
      "Loss 3.5895414578487044\n",
      "Loss 3.5957031098989147\n",
      "Loss 3.6015041994154453\n",
      "Loss 3.6054722149566962\n",
      "Loss 3.609392408694382\n",
      "Loss 3.6059508182055184\n",
      "Loss 3.6026260786745055\n",
      "Loss 3.6062830022960903\n",
      "Loss 3.610168277204998\n",
      "Loss 3.617351013711654\n",
      "Loss 3.622945411287474\n",
      "Loss 3.6223803536707866\n",
      "Loss 3.6311462924250533\n",
      "Loss 3.634814123806854\n",
      "Loss 3.6375577566921713\n",
      "Loss 3.6396862698926737\n",
      "Loss 3.6490345077124924\n",
      "Loss 3.653552025888115\n",
      "Loss 3.658864453150732\n",
      "Loss 3.6634261109552213\n",
      "Loss 3.665750011283991\n",
      "Loss 3.6640788566368547\n",
      "Loss 3.66825210783018\n",
      "Loss 3.6726098283924484\n",
      "Loss 3.668392285249969\n",
      "Loss 3.6730051035390545\n",
      "Loss 3.6769565467378316\n",
      "Loss 3.6809512039095162\n",
      "Loss 3.68229118612058\n",
      "Loss 3.687211909329089\n",
      "Loss 3.691091823702151\n",
      "Loss 3.692330101567838\n",
      "Loss 3.6956019983253694\n",
      "Loss 3.694764106555177\n",
      "Loss 3.6980429123896257\n",
      "Loss 3.701364080694729\n",
      "Loss 3.701423494711266\n",
      "Loss 3.7016911227072278\n",
      "Loss 3.7032175791366178\n",
      "Loss 3.703000503182892\n",
      "Epoch 16/30, Train Loss: 3.7016, Test Loss: 4.6818\n",
      "Loss 3.537415088891983\n",
      "Loss 3.522587587058544\n",
      "Loss 3.5047183557550112\n",
      "Loss 3.4957060164809226\n",
      "Loss 3.506120226752758\n",
      "Loss 3.4654021720389525\n",
      "Loss 3.5020555212071964\n",
      "Loss 3.5112512488365173\n",
      "Loss 3.506494660642412\n",
      "Loss 3.5101848673939706\n",
      "Loss 3.5134108535376463\n",
      "Loss 3.509993032038212\n",
      "Loss 3.5195911878164\n",
      "Loss 3.5218152673670224\n",
      "Loss 3.514281524904569\n",
      "Loss 3.525513651408255\n",
      "Loss 3.5225231607100542\n",
      "Loss 3.522478703743882\n",
      "Loss 3.5374455593008745\n",
      "Loss 3.546046422895789\n",
      "Loss 3.548327163858073\n",
      "Loss 3.559200250487436\n",
      "Loss 3.5599568250671676\n",
      "Loss 3.5666584760074813\n",
      "Loss 3.572973012192249\n",
      "Loss 3.5765591940902746\n",
      "Loss 3.579197769176077\n",
      "Loss 3.5746800265078034\n",
      "Loss 3.5717521029443575\n",
      "Loss 3.575640941216548\n",
      "Loss 3.5792933213499283\n",
      "Loss 3.5861428553592414\n",
      "Loss 3.592006034159299\n",
      "Loss 3.591629373901469\n",
      "Loss 3.6002459658099073\n",
      "Loss 3.6041040814175376\n",
      "Loss 3.6073016846361194\n",
      "Loss 3.6095461686163355\n",
      "Loss 3.618562952419504\n",
      "Loss 3.6229847859133035\n",
      "Loss 3.6279339911519752\n",
      "Loss 3.632255701367699\n",
      "Loss 3.6346148416264805\n",
      "Loss 3.6329241714738307\n",
      "Loss 3.6369186297287546\n",
      "Loss 3.6414263969611214\n",
      "Loss 3.6371772075285937\n",
      "Loss 3.6416687389975415\n",
      "Loss 3.6452245219450217\n",
      "Loss 3.6489671509614587\n",
      "Loss 3.6505154517202403\n",
      "Loss 3.655483874210085\n",
      "Loss 3.6593206001736647\n",
      "Loss 3.6605073480421195\n",
      "Loss 3.663743323834647\n",
      "Loss 3.663020547046459\n",
      "Loss 3.6666073464691116\n",
      "Loss 3.669975435182195\n",
      "Loss 3.670037347726145\n",
      "Loss 3.6702875014277794\n",
      "Loss 3.6714602972554866\n",
      "Loss 3.6711531944719535\n",
      "Epoch 17/30, Train Loss: 3.6698, Test Loss: 4.7081\n",
      "Loss 3.4783475046157837\n",
      "Loss 3.4703128018379212\n",
      "Loss 3.458792573928833\n",
      "Loss 3.4492236665785314\n",
      "Loss 3.456156447696686\n",
      "Loss 3.4190487624406813\n",
      "Loss 3.4552659282343727\n",
      "Loss 3.4666540465801954\n",
      "Loss 3.462731373641226\n",
      "Loss 3.4668922276973726\n",
      "Loss 3.4711378096233716\n",
      "Loss 3.4677166309754055\n",
      "Loss 3.4771362586250674\n",
      "Loss 3.481679072988885\n",
      "Loss 3.4758735690196354\n",
      "Loss 3.4882126348614695\n",
      "Loss 3.485851261882221\n",
      "Loss 3.487139625986417\n",
      "Loss 3.503056721223028\n",
      "Loss 3.512633890800178\n",
      "Loss 3.514482678559564\n",
      "Loss 3.5257171647318386\n",
      "Loss 3.526923319931911\n",
      "Loss 3.5334966047617296\n",
      "Loss 3.539780762654543\n",
      "Loss 3.5435415568409057\n",
      "Loss 3.54643502874838\n",
      "Loss 3.5426648852857094\n",
      "Loss 3.5392143682231163\n",
      "Loss 3.5428317435890437\n",
      "Loss 3.5471097887014187\n",
      "Loss 3.554302339646034\n",
      "Loss 3.5602718294994395\n",
      "Loss 3.5598235765231006\n",
      "Loss 3.5685550386403286\n",
      "Loss 3.571984181656606\n",
      "Loss 3.57494670433692\n",
      "Loss 3.576964200899005\n",
      "Loss 3.586442653372502\n",
      "Loss 3.5911602242954075\n",
      "Loss 3.5964753893475705\n",
      "Loss 3.6009262167761724\n",
      "Loss 3.603319732411656\n",
      "Loss 3.601605842536823\n",
      "Loss 3.605567546823952\n",
      "Loss 3.610034166002403\n",
      "Loss 3.6059924310046307\n",
      "Loss 3.610455838622525\n",
      "Loss 3.614038474568907\n",
      "Loss 3.6182036700099705\n",
      "Loss 3.619601088392384\n",
      "Loss 3.62454551576823\n",
      "Loss 3.628243454514247\n",
      "Loss 3.629606344745667\n",
      "Loss 3.6328953033138407\n",
      "Loss 3.632058845830283\n",
      "Loss 3.6356364005610606\n",
      "Loss 3.63913285114796\n",
      "Loss 3.6394120556969765\n",
      "Loss 3.639692818234861\n",
      "Loss 3.6410663995122325\n",
      "Loss 3.640762416855462\n",
      "Epoch 18/30, Train Loss: 3.6394, Test Loss: 4.7149\n",
      "Loss 3.4669106191396715\n",
      "Loss 3.4384514931440355\n",
      "Loss 3.422266385157903\n",
      "Loss 3.408104352295399\n",
      "Loss 3.4170621699213983\n",
      "Loss 3.3787732735474902\n",
      "Loss 3.417393057193075\n",
      "Loss 3.4310145913884043\n",
      "Loss 3.429690692047278\n",
      "Loss 3.4343664341270923\n",
      "Loss 3.437879829195413\n",
      "Loss 3.435783520867427\n",
      "Loss 3.445916821154264\n",
      "Loss 3.4496916591567652\n",
      "Loss 3.4443920224587123\n",
      "Loss 3.4562629324644805\n",
      "Loss 3.454681048224954\n",
      "Loss 3.456942144761483\n",
      "Loss 3.473467656447699\n",
      "Loss 3.482757044878602\n",
      "Loss 3.484449236832914\n",
      "Loss 3.4956855661029165\n",
      "Loss 3.497345350465049\n",
      "Loss 3.504417316488922\n",
      "Loss 3.510933052892685\n",
      "Loss 3.5146664464427873\n",
      "Loss 3.516844895347401\n",
      "Loss 3.5130680694047896\n",
      "Loss 3.509924358197327\n",
      "Loss 3.5132544198771316\n",
      "Loss 3.517323469740729\n",
      "Loss 3.5242373500410467\n",
      "Loss 3.5301076490391385\n",
      "Loss 3.529720841970514\n",
      "Loss 3.5381584994724817\n",
      "Loss 3.541553494469987\n",
      "Loss 3.5450491438363048\n",
      "Loss 3.5473970248338422\n",
      "Loss 3.556725719456489\n",
      "Loss 3.5611679095909\n",
      "Loss 3.566706362574566\n",
      "Loss 3.571271007025526\n",
      "Loss 3.5739025595784186\n",
      "Loss 3.5722656144012106\n",
      "Loss 3.5758678879525925\n",
      "Loss 3.580526714545229\n",
      "Loss 3.5764242781984046\n",
      "Loss 3.580738543535272\n",
      "Loss 3.584598235981805\n",
      "Loss 3.5886977652835848\n",
      "Loss 3.5901235021703384\n",
      "Loss 3.594762865357674\n",
      "Loss 3.5987918802117402\n",
      "Loss 3.600124812474957\n",
      "Loss 3.603459781078859\n",
      "Loss 3.602592934774501\n",
      "Loss 3.605983614612044\n",
      "Loss 3.6096029656365\n",
      "Loss 3.609902551989434\n",
      "Loss 3.609962759038806\n",
      "Loss 3.6113974873863284\n",
      "Loss 3.6112224678618294\n",
      "Epoch 19/30, Train Loss: 3.6099, Test Loss: 4.7143\n",
      "Loss 3.4323431268930436\n",
      "Loss 3.394992645442486\n",
      "Loss 3.3881702456871667\n",
      "Loss 3.378032265484333\n",
      "Loss 3.3870466333031652\n",
      "Loss 3.3469976636668046\n",
      "Loss 3.3846810332281247\n",
      "Loss 3.3963596593737604\n",
      "Loss 3.39377813106113\n",
      "Loss 3.3994988897919654\n",
      "Loss 3.4045962577299638\n",
      "Loss 3.4026998623857896\n",
      "Loss 3.4129813087124092\n",
      "Loss 3.4176551450874126\n",
      "Loss 3.412096557899316\n",
      "Loss 3.424122504670173\n",
      "Loss 3.4225188352290323\n",
      "Loss 3.4244819335970615\n",
      "Loss 3.4409806327098296\n",
      "Loss 3.450654269036651\n",
      "Loss 3.453197770904927\n",
      "Loss 3.4649339845478533\n",
      "Loss 3.4670421528479327\n",
      "Loss 3.473659768650929\n",
      "Loss 3.480552052330971\n",
      "Loss 3.48438951087915\n",
      "Loss 3.486621449424161\n",
      "Loss 3.4826943492995843\n",
      "Loss 3.4802666836339853\n",
      "Loss 3.48407919092377\n",
      "Loss 3.488502910346754\n",
      "Loss 3.495350781040266\n",
      "Loss 3.501185397218574\n",
      "Loss 3.5007118284250884\n",
      "Loss 3.509504577591164\n",
      "Loss 3.513196998022083\n",
      "Loss 3.516524848511493\n",
      "Loss 3.518760160418325\n",
      "Loss 3.5277836630730293\n",
      "Loss 3.532503952916339\n",
      "Loss 3.537795664620472\n",
      "Loss 3.542472173431445\n",
      "Loss 3.544773180833043\n",
      "Loss 3.5430665427233006\n",
      "Loss 3.5467675136132373\n",
      "Loss 3.551299996872635\n",
      "Loss 3.5473983040239583\n",
      "Loss 3.5515283285022403\n",
      "Loss 3.5552156107440895\n",
      "Loss 3.559623053800166\n",
      "Loss 3.5613586128193373\n",
      "Loss 3.565921470946131\n",
      "Loss 3.5699586547503492\n",
      "Loss 3.5713335581027246\n",
      "Loss 3.5744590706134383\n",
      "Loss 3.5736723372917623\n",
      "Loss 3.577886193901039\n",
      "Loss 3.5813519973531367\n",
      "Loss 3.5818254697911316\n",
      "Loss 3.5818297587774692\n",
      "Loss 3.5832272045302096\n",
      "Loss 3.5830874088168625\n",
      "Epoch 20/30, Train Loss: 3.5818, Test Loss: 4.7270\n",
      "Loss 3.405819957137108\n",
      "Loss 3.3614923512935637\n",
      "Loss 3.3516216159860295\n",
      "Loss 3.3401859880238773\n",
      "Loss 3.349561809742451\n",
      "Loss 3.3122739563981694\n",
      "Loss 3.3482031087534767\n",
      "Loss 3.3590359234809877\n",
      "Loss 3.3573496520651713\n",
      "Loss 3.364705468535423\n",
      "Loss 3.3691419740806925\n",
      "Loss 3.3680040850540003\n",
      "Loss 3.3797609680891036\n",
      "Loss 3.3846980808717864\n",
      "Loss 3.3782458257516224\n",
      "Loss 3.3901842363104224\n",
      "Loss 3.3886709095379883\n",
      "Loss 3.391324874990516\n",
      "Loss 3.4077260136761165\n",
      "Loss 3.417752086830139\n",
      "Loss 3.420405761040392\n",
      "Loss 3.432491578679193\n",
      "Loss 3.434461013318404\n",
      "Loss 3.441225170866897\n",
      "Loss 3.447974168897867\n",
      "Loss 3.452247443548762\n",
      "Loss 3.454496464494202\n",
      "Loss 3.4508814161898833\n",
      "Loss 3.4489138142045204\n",
      "Loss 3.4521502647131683\n",
      "Loss 3.456470031829611\n",
      "Loss 3.463423944070004\n",
      "Loss 3.4697793000710733\n",
      "Loss 3.470388704731184\n",
      "Loss 3.4793208170090404\n",
      "Loss 3.4832849884910715\n",
      "Loss 3.4867007754283983\n",
      "Loss 3.489097421664941\n",
      "Loss 3.4984682565316176\n",
      "Loss 3.5035299782037734\n",
      "Loss 3.508749860321603\n",
      "Loss 3.5131738862622353\n",
      "Loss 3.5161416180078375\n",
      "Loss 3.514220542315732\n",
      "Loss 3.517812995986144\n",
      "Loss 3.522552656483391\n",
      "Loss 3.518126530005577\n",
      "Loss 3.5222680420801042\n",
      "Loss 3.5257432839213587\n",
      "Loss 3.5300492092967035\n",
      "Loss 3.531643476243113\n",
      "Loss 3.536457772607987\n",
      "Loss 3.5404338781428786\n",
      "Loss 3.5418312419145197\n",
      "Loss 3.544958028004386\n",
      "Loss 3.5442862902901004\n",
      "Loss 3.54780398721444\n",
      "Loss 3.551548643165621\n",
      "Loss 3.5522713572797127\n",
      "Loss 3.5523063954750698\n",
      "Loss 3.5539533366805216\n",
      "Loss 3.5535382692131305\n",
      "Epoch 21/30, Train Loss: 3.5523, Test Loss: 4.7447\n",
      "Loss 3.379955528855324\n",
      "Loss 3.3290059858858587\n",
      "Loss 3.3155803822278975\n",
      "Loss 3.3094236519038676\n",
      "Loss 3.319492253935337\n",
      "Loss 3.2798106652696926\n",
      "Loss 3.316359863127981\n",
      "Loss 3.328518993742764\n",
      "Loss 3.328366234269407\n",
      "Loss 3.3374099858224393\n",
      "Loss 3.3421771713224326\n",
      "Loss 3.3404428055038053\n",
      "Loss 3.3520887978352034\n",
      "Loss 3.357576423764229\n",
      "Loss 3.3508855128884316\n",
      "Loss 3.3631912133954467\n",
      "Loss 3.3620517066611963\n",
      "Loss 3.3642168621354633\n",
      "Loss 3.3807733566541422\n",
      "Loss 3.39069630574882\n",
      "Loss 3.3933285062114398\n",
      "Loss 3.4050359663123433\n",
      "Loss 3.4070822203366653\n",
      "Loss 3.4137575644056004\n",
      "Loss 3.4197852814292906\n",
      "Loss 3.423394241663126\n",
      "Loss 3.425341038229289\n",
      "Loss 3.421873576345188\n",
      "Loss 3.4192498578018156\n",
      "Loss 3.4222336622774603\n",
      "Loss 3.4266940851653778\n",
      "Loss 3.4338743946719914\n",
      "Loss 3.439615586972598\n",
      "Loss 3.440160230683053\n",
      "Loss 3.4487257012512003\n",
      "Loss 3.452343665127125\n",
      "Loss 3.455987945489787\n",
      "Loss 3.45824658305943\n",
      "Loss 3.467608866797808\n",
      "Loss 3.472432142701\n",
      "Loss 3.478051593026737\n",
      "Loss 3.4824591617775815\n",
      "Loss 3.4850287875262804\n",
      "Loss 3.4831535100225697\n",
      "Loss 3.4868269759529165\n",
      "Loss 3.4910359741870476\n",
      "Loss 3.4866492521578962\n",
      "Loss 3.491002792186414\n",
      "Loss 3.494999723742811\n",
      "Loss 3.4995075465124845\n",
      "Loss 3.5015573134019093\n",
      "Loss 3.506276033946528\n",
      "Loss 3.510347409139827\n",
      "Loss 3.51196236926262\n",
      "Loss 3.5151066227864134\n",
      "Loss 3.5144644876755775\n",
      "Loss 3.518338515253966\n",
      "Loss 3.522530315867272\n",
      "Loss 3.523066209378384\n",
      "Loss 3.523064419443905\n",
      "Loss 3.524493734095429\n",
      "Loss 3.5240750688098132\n",
      "Epoch 22/30, Train Loss: 3.5228, Test Loss: 4.7635\n",
      "Loss 3.3370650950670244\n",
      "Loss 3.285915785044432\n",
      "Loss 3.277384510457516\n",
      "Loss 3.27066504958272\n",
      "Loss 3.280795078253746\n",
      "Loss 3.241268161445856\n",
      "Loss 3.281068671405315\n",
      "Loss 3.295478320091963\n",
      "Loss 3.296491283006138\n",
      "Loss 3.305110675561428\n",
      "Loss 3.3097715579813176\n",
      "Loss 3.3091600076754886\n",
      "Loss 3.3205505156012682\n",
      "Loss 3.32631170338818\n",
      "Loss 3.3208576388518014\n",
      "Loss 3.333071105118841\n",
      "Loss 3.331609210347428\n",
      "Loss 3.3345547540883222\n",
      "Loss 3.3516249873042105\n",
      "Loss 3.3619935256183147\n",
      "Loss 3.3647777513293993\n",
      "Loss 3.376849903201515\n",
      "Loss 3.3795634663143885\n",
      "Loss 3.3859363615649443\n",
      "Loss 3.3922699242293834\n",
      "Loss 3.3959500736857837\n",
      "Loss 3.3982057552238305\n",
      "Loss 3.39487708530575\n",
      "Loss 3.3928938655596355\n",
      "Loss 3.3963472236980996\n",
      "Loss 3.4010147490684064\n",
      "Loss 3.4076613611271607\n",
      "Loss 3.4135462746864014\n",
      "Loss 3.413854164276053\n",
      "Loss 3.4223861417974746\n",
      "Loss 3.42578370893995\n",
      "Loss 3.4292388772223448\n",
      "Loss 3.4313409548903766\n",
      "Loss 3.440479132507092\n",
      "Loss 3.4453618928685783\n",
      "Loss 3.4505518281619723\n",
      "Loss 3.4554174786252636\n",
      "Loss 3.458063426462717\n",
      "Loss 3.4560232865647835\n",
      "Loss 3.459840355943309\n",
      "Loss 3.4643070958451085\n",
      "Loss 3.460041247934737\n",
      "Loss 3.463919771872461\n",
      "Loss 3.467590806632626\n",
      "Loss 3.4720544609737396\n",
      "Loss 3.47421818568426\n",
      "Loss 3.4790779277338433\n",
      "Loss 3.4831269772963704\n",
      "Loss 3.484509576803004\n",
      "Loss 3.487763279853084\n",
      "Loss 3.4875283145255276\n",
      "Loss 3.491441604351788\n",
      "Loss 3.4955717533508253\n",
      "Loss 3.4963904427835497\n",
      "Loss 3.496505758635203\n",
      "Loss 3.497847698532167\n",
      "Loss 3.4977268275407054\n",
      "Epoch 23/30, Train Loss: 3.4965, Test Loss: 4.7860\n",
      "Loss 3.3101267614364622\n",
      "Loss 3.2621525485813616\n",
      "Loss 3.2508115762074787\n",
      "Loss 3.248135673284531\n",
      "Loss 3.2607421507954597\n",
      "Loss 3.2206098333895206\n",
      "Loss 3.2545822958350183\n",
      "Loss 3.2664727912060916\n",
      "Loss 3.268790775295761\n",
      "Loss 3.2810544539183377\n",
      "Loss 3.284713764057918\n",
      "Loss 3.282745146371424\n",
      "Loss 3.2936568222481473\n",
      "Loss 3.299562571191362\n",
      "Loss 3.2939882799764475\n",
      "Loss 3.306102213187143\n",
      "Loss 3.3059464993354153\n",
      "Loss 3.3084108948955935\n",
      "Loss 3.325334801026081\n",
      "Loss 3.3352482504069805\n",
      "Loss 3.338623328302588\n"
     ]
    },
    {
     "ename": "KeyboardInterrupt",
     "evalue": "",
     "output_type": "error",
     "traceback": [
      "\u001b[0;31m---------------------------------------------------------------------------\u001b[0m",
      "\u001b[0;31mKeyboardInterrupt\u001b[0m                         Traceback (most recent call last)",
      "Cell \u001b[0;32mIn [73], line 2\u001b[0m\n\u001b[1;32m      1\u001b[0m \u001b[38;5;28;01mfor\u001b[39;00m epoch \u001b[38;5;129;01min\u001b[39;00m \u001b[38;5;28mrange\u001b[39m(num_epochs):\n\u001b[0;32m----> 2\u001b[0m     train_loss \u001b[38;5;241m=\u001b[39m train(seq2seq, train_pairs_final, optimizer, criterion, device)\n\u001b[1;32m      3\u001b[0m     test_loss \u001b[38;5;241m=\u001b[39m evaluate(seq2seq, test_pairs_final, criterion, device)    \n\u001b[1;32m      4\u001b[0m     \u001b[38;5;28mprint\u001b[39m(\u001b[38;5;124mf\u001b[39m\u001b[38;5;124m\"\u001b[39m\u001b[38;5;124mEpoch \u001b[39m\u001b[38;5;132;01m{\u001b[39;00mepoch\u001b[38;5;241m+\u001b[39m\u001b[38;5;241m1\u001b[39m\u001b[38;5;132;01m}\u001b[39;00m\u001b[38;5;124m/\u001b[39m\u001b[38;5;132;01m{\u001b[39;00mnum_epochs\u001b[38;5;132;01m}\u001b[39;00m\u001b[38;5;124m, Train Loss: \u001b[39m\u001b[38;5;132;01m{\u001b[39;00mtrain_loss\u001b[38;5;132;01m:\u001b[39;00m\u001b[38;5;124m.4f\u001b[39m\u001b[38;5;132;01m}\u001b[39;00m\u001b[38;5;124m, Test Loss: \u001b[39m\u001b[38;5;132;01m{\u001b[39;00mtest_loss\u001b[38;5;132;01m:\u001b[39;00m\u001b[38;5;124m.4f\u001b[39m\u001b[38;5;132;01m}\u001b[39;00m\u001b[38;5;124m\"\u001b[39m)\n",
      "Cell \u001b[0;32mIn [70], line 31\u001b[0m, in \u001b[0;36mtrain\u001b[0;34m(model, pairs, optimizer, criterion, device, teacher_forcing_ratio, print_every)\u001b[0m\n\u001b[1;32m     28\u001b[0m loss\u001b[38;5;241m.\u001b[39mbackward()\n\u001b[1;32m     29\u001b[0m optimizer\u001b[38;5;241m.\u001b[39mstep()\n\u001b[0;32m---> 31\u001b[0m total_loss \u001b[38;5;241m+\u001b[39m\u001b[38;5;241m=\u001b[39m \u001b[43mloss\u001b[49m\u001b[38;5;241;43m.\u001b[39;49m\u001b[43mitem\u001b[49m\u001b[43m(\u001b[49m\u001b[43m)\u001b[49m\n\u001b[1;32m     33\u001b[0m count \u001b[38;5;241m+\u001b[39m\u001b[38;5;241m=\u001b[39m \u001b[38;5;241m1\u001b[39m \n\u001b[1;32m     35\u001b[0m \u001b[38;5;28;01mif\u001b[39;00m count \u001b[38;5;241m%\u001b[39m print_every \u001b[38;5;241m==\u001b[39m \u001b[38;5;241m0\u001b[39m:\n",
      "\u001b[0;31mKeyboardInterrupt\u001b[0m: "
     ]
    }
   ],
   "source": [
    "for epoch in range(num_epochs):\n",
    "    train_loss = train(seq2seq, train_pairs_final, optimizer, criterion, device)\n",
    "    test_loss = evaluate(seq2seq, test_pairs_final, criterion, device)    \n",
    "    print(f\"Epoch {epoch+1}/{num_epochs}, Train Loss: {train_loss:.4f}, Test Loss: {test_loss:.4f}\")\n",
    "    \n",
    "    total_train_loss.append(train_loss)\n",
    "    total_test_loss.append(test_loss)\n",
    "\n"
   ]
  },
  {
   "cell_type": "markdown",
   "id": "ef025b4f-94a2-44b2-9c6e-b128a7c70929",
   "metadata": {},
   "source": [
    "### stopped after 23 epochs, doesn't seem to converge"
   ]
  },
  {
   "cell_type": "code",
   "execution_count": 74,
   "id": "bdb1cfe2-66b2-4958-a11c-43b052cf2ee4",
   "metadata": {
    "tags": []
   },
   "outputs": [],
   "source": [
    "N_EPOCHS = 23"
   ]
  },
  {
   "cell_type": "code",
   "execution_count": 75,
   "id": "f82f724c-6453-4f0e-bf20-e67471f4c88e",
   "metadata": {},
   "outputs": [
    {
     "data": {
      "text/plain": [
       "Text(0, 0.5, 'loss')"
      ]
     },
     "execution_count": 75,
     "metadata": {},
     "output_type": "execute_result"
    },
    {
     "data": {
      "image/png": "[encoded data removed]",
      "text/plain": [
       "<Figure size 640x480 with 1 Axes>"
      ]
     },
     "metadata": {},
     "output_type": "display_data"
    }
   ],
   "source": [
    "fig, ax = plt.subplots()\n",
    "ax.plot(range(1, N_EPOCHS+1), total_train_loss, color = 'blue', label = 'train loss')\n",
    "ax.plot(range(1, N_EPOCHS+1), total_test_loss, color = 'orange', label = 'test loss')\n",
    "ax.legend()\n",
    "ax.set_title(f'Seq2Seq, {N_EPOCHS} epochs')\n",
    "ax.set_xticks(range(1, N_EPOCHS+1))\n",
    "ax.set_ylim(0,10)\n",
    "ax.set_xlabel('epochs')\n",
    "ax.set_ylabel('loss')"
   ]
  },
  {
   "cell_type": "code",
   "execution_count": null,
   "id": "1fd5b49a-fe9d-4546-bfcf-a53c8ead299e",
   "metadata": {},
   "outputs": [],
   "source": []
  }
 ],
 "metadata": {
  "kernelspec": {
   "display_name": "lstm_chatbot",
   "language": "python",
   "name": "lstm_chatbot"
  },
  "language_info": {
   "codemirror_mode": {
    "name": "ipython",
    "version": 3
   },
   "file_extension": ".py",
   "mimetype": "text/x-python",
   "name": "python",
   "nbconvert_exporter": "python",
   "pygments_lexer": "ipython3",
   "version": "3.8.10"
  }
 },
 "nbformat": 4,
 "nbformat_minor": 5
}
