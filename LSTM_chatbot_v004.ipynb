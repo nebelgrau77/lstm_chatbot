{
 "cells": [
  {
   "cell_type": "markdown",
   "id": "54a3b362-3b2c-4dd5-90db-e438d861c5b7",
   "metadata": {},
   "source": [
    "# MODIFICATIONS"
   ]
  },
  {
   "cell_type": "markdown",
   "id": "162c2679-9204-4273-a4a1-64f41ef9d11b",
   "metadata": {},
   "source": [
    "# RNN LSTM Chatbot project\n",
    "\n",
    "In this project I'm creating a chatbot that is supposed to answer questions from the Stanford Questions & Answers dataset SQuAD1, using a sequence-to-sequence Encoder-Decoder recurrent neural network architecture in PyTorch.\n",
    "\n",
    "To make the notebook more readable and the code more modular, all helper functions (data ingestion and preparation, data analysis, vocabulary creation) were moved to `modules`. \n",
    "\n",
    "The model for easier debugging is kept in the main notebook for now.\n",
    "\n"
   ]
  },
  {
   "cell_type": "code",
   "execution_count": null,
   "id": "4ac1b039-0f2c-4cb1-ba88-f7432a67d1d4",
   "metadata": {},
   "outputs": [],
   "source": []
  },
  {
   "cell_type": "code",
   "execution_count": 1,
   "id": "b79ff163-ef6c-4dbd-b8b8-9a0b6f31122c",
   "metadata": {},
   "outputs": [],
   "source": [
    "import torch"
   ]
  },
  {
   "cell_type": "code",
   "execution_count": 2,
   "id": "05e1d6c1-da35-4ac8-9bf9-65b786d259f2",
   "metadata": {},
   "outputs": [],
   "source": [
    "device = 'cuda' if torch.cuda.is_available() else 'cpu'"
   ]
  },
  {
   "cell_type": "code",
   "execution_count": 3,
   "id": "9442349d-4e46-4ba2-b9f8-79b6ce598c41",
   "metadata": {},
   "outputs": [
    {
     "data": {
      "text/plain": [
       "'cuda'"
      ]
     },
     "execution_count": 3,
     "metadata": {},
     "output_type": "execute_result"
    }
   ],
   "source": [
    "device"
   ]
  },
  {
   "cell_type": "code",
   "execution_count": 4,
   "id": "179a6456-5007-46ed-97d0-7477cd9cc0cc",
   "metadata": {},
   "outputs": [],
   "source": [
    "from torchtext.datasets import SQuAD1"
   ]
  },
  {
   "cell_type": "code",
   "execution_count": 5,
   "id": "30ef63a7-6d02-4c19-9abc-fedccbc1a67a",
   "metadata": {},
   "outputs": [],
   "source": [
    "train, test = SQuAD1(\"root\")"
   ]
  },
  {
   "cell_type": "code",
   "execution_count": 6,
   "id": "5f44af6a-6144-4443-b309-c6514bf0c35e",
   "metadata": {},
   "outputs": [
    {
     "name": "stderr",
     "output_type": "stream",
     "text": [
      "/usr/local/lib/python3.8/dist-packages/scipy/__init__.py:146: UserWarning: A NumPy version >=1.16.5 and <1.23.0 is required for this version of SciPy (detected version 1.24.2\n",
      "  warnings.warn(f\"A NumPy version >={np_minversion} and <{np_maxversion}\"\n",
      "[nltk_data] Downloading package wordnet to\n",
      "[nltk_data]     /shared/home/u076079/nltk_data...\n",
      "[nltk_data]   Package wordnet is already up-to-date!\n",
      "[nltk_data] Downloading package averaged_perceptron_tagger to\n",
      "[nltk_data]     /shared/home/u076079/nltk_data...\n",
      "[nltk_data]   Package averaged_perceptron_tagger is already up-to-\n",
      "[nltk_data]       date!\n",
      "[nltk_data] Downloading package stopwords to\n",
      "[nltk_data]     /shared/home/u076079/nltk_data...\n",
      "[nltk_data]   Package stopwords is already up-to-date!\n"
     ]
    }
   ],
   "source": [
    "from modules.data import *\n",
    "\n",
    "#get_dataframe,  get_pairs_from_df, cols, sample_df_perc, get_thresholds, get_outliers, tokenize_sentence, remove_least_common, to_tensor,  filter_sentences"
   ]
  },
  {
   "cell_type": "markdown",
   "id": "6ca0ef1e-be7c-4e95-ae5c-1e3707b5d22a",
   "metadata": {},
   "source": [
    "## Data ingestion\n",
    "\n",
    "* Data is loaded from the dataset into pandas dataframes: one for training, one for testing, \n",
    "* To keep the dataset size reasonable, only a sample of the questions/answers is taken"
   ]
  },
  {
   "cell_type": "code",
   "execution_count": 7,
   "id": "4c6845c6-5997-457d-8e50-e07d0108e147",
   "metadata": {},
   "outputs": [],
   "source": [
    "# get train and test dataframes of sentences\n",
    "train_df, test_df = get_dataframe(train), get_dataframe(test)"
   ]
  },
  {
   "cell_type": "code",
   "execution_count": 8,
   "id": "b6b4268c-6744-4949-85c8-b865360e008c",
   "metadata": {},
   "outputs": [
    {
     "data": {
      "text/plain": [
       "((87599, 2), (10570, 2))"
      ]
     },
     "execution_count": 8,
     "metadata": {},
     "output_type": "execute_result"
    }
   ],
   "source": [
    "train_df.shape, test_df.shape"
   ]
  },
  {
   "cell_type": "code",
   "execution_count": 10,
   "id": "c449703f-d2ea-49cf-99cd-200a7fe67694",
   "metadata": {},
   "outputs": [],
   "source": [
    "train_len = 30000\n",
    "test_len = 3000"
   ]
  },
  {
   "cell_type": "code",
   "execution_count": 11,
   "id": "6e7fa063-1ad2-4e00-aa0a-1ab5bbfd2da6",
   "metadata": {},
   "outputs": [],
   "source": [
    "train_df = sample_df_num(train_df, train_len)"
   ]
  },
  {
   "cell_type": "code",
   "execution_count": 12,
   "id": "08f40fbc-3fe6-4730-8b82-4db0a4b4ccd1",
   "metadata": {},
   "outputs": [],
   "source": [
    "test_df = sample_df_num(test_df, test_len)"
   ]
  },
  {
   "cell_type": "code",
   "execution_count": 12,
   "id": "584d3d9f-63f8-47f7-82a1-fa99e39dc526",
   "metadata": {},
   "outputs": [],
   "source": [
    "#train_df = sample_df_perc(train_df, 1)"
   ]
  },
  {
   "cell_type": "code",
   "execution_count": 13,
   "id": "a49d6bc9-266c-447c-9be6-1794c5053b50",
   "metadata": {},
   "outputs": [
    {
     "data": {
      "text/plain": [
       "((30000, 2), (3000, 2))"
      ]
     },
     "execution_count": 13,
     "metadata": {},
     "output_type": "execute_result"
    }
   ],
   "source": [
    "train_df.shape, test_df.shape"
   ]
  },
  {
   "cell_type": "code",
   "execution_count": 14,
   "id": "35ccaa7e-fa23-4eb2-bbe7-f9e8e5dfac4c",
   "metadata": {
    "scrolled": true
   },
   "outputs": [
    {
     "data": {
      "text/html": [
       "<div>\n",
       "<style scoped>\n",
       "    .dataframe tbody tr th:only-of-type {\n",
       "        vertical-align: middle;\n",
       "    }\n",
       "\n",
       "    .dataframe tbody tr th {\n",
       "        vertical-align: top;\n",
       "    }\n",
       "\n",
       "    .dataframe thead th {\n",
       "        text-align: right;\n",
       "    }\n",
       "</style>\n",
       "<table border=\"1\" class=\"dataframe\">\n",
       "  <thead>\n",
       "    <tr style=\"text-align: right;\">\n",
       "      <th></th>\n",
       "      <th>Question</th>\n",
       "      <th>Answer</th>\n",
       "    </tr>\n",
       "  </thead>\n",
       "  <tbody>\n",
       "    <tr>\n",
       "      <th>0</th>\n",
       "      <td>What does the message when uploading a video a...</td>\n",
       "      <td>violate copyright laws</td>\n",
       "    </tr>\n",
       "    <tr>\n",
       "      <th>1</th>\n",
       "      <td>What county did Plymouth unsuccessfully attemp...</td>\n",
       "      <td>Tamarside</td>\n",
       "    </tr>\n",
       "    <tr>\n",
       "      <th>2</th>\n",
       "      <td>Where was Imperial planning on launching their...</td>\n",
       "      <td>the Wye campus</td>\n",
       "    </tr>\n",
       "  </tbody>\n",
       "</table>\n",
       "</div>"
      ],
      "text/plain": [
       "                                            Question                  Answer\n",
       "0  What does the message when uploading a video a...  violate copyright laws\n",
       "1  What county did Plymouth unsuccessfully attemp...               Tamarside\n",
       "2  Where was Imperial planning on launching their...          the Wye campus"
      ]
     },
     "execution_count": 14,
     "metadata": {},
     "output_type": "execute_result"
    }
   ],
   "source": [
    "train_df.head(3)"
   ]
  },
  {
   "cell_type": "code",
   "execution_count": null,
   "id": "bcc78290-1a58-45c9-ba2e-ec4b3d1511bf",
   "metadata": {},
   "outputs": [],
   "source": []
  },
  {
   "cell_type": "markdown",
   "id": "6344a0f9-cc0b-4b6e-9238-c54a5da7197b",
   "metadata": {},
   "source": [
    "## Vocabulary creation / Data preparation\n",
    "\n",
    "Sentences (questions and answers) are converted into lists of tokens:\n",
    "* all characters are made into lower case\n",
    "* punctuation is removed\n",
    "* stopwords (most common words that don't carry much additional meaning) are removed, but keeping question words (when, how, who, etc.)\n",
    "* For questions stemming is applied to reduce number of words to just their \"roots\". For answers this step is skipped, to have full unstemmed words in the answers vocabulary\n",
    "* Pairs question:answer are created from both train and test dataset, and words are added to two vocabularies: Q_vocab and A_vocab"
   ]
  },
  {
   "cell_type": "code",
   "execution_count": 15,
   "id": "ea6bbdcf-6263-4531-b5d5-1447576708d8",
   "metadata": {},
   "outputs": [
    {
     "name": "stdout",
     "output_type": "stream",
     "text": [
      "In deism is God represented in human form?\n",
      "['deism', 'god', 'represented', 'human', 'form']\n",
      "['deism', 'god', 'repres', 'human', 'form']\n"
     ]
    }
   ],
   "source": [
    "# Example of the sequence processing\n",
    "\n",
    "import random\n",
    "\n",
    "rand_question = train_df.at[random.randint(0,train_df.shape[0]), 'Question']\n",
    "print(rand_question)\n",
    "\n",
    "print(tokenize_sentence(rand_question))\n",
    "print(tokenize_sentence(rand_question, normalization='stem'))"
   ]
  },
  {
   "cell_type": "code",
   "execution_count": null,
   "id": "f28f5a18-cd38-49eb-8e1a-6f18f64f39a8",
   "metadata": {},
   "outputs": [],
   "source": []
  },
  {
   "cell_type": "code",
   "execution_count": 16,
   "id": "5546a5c6-eec6-4816-85c2-ec3b652b5de5",
   "metadata": {},
   "outputs": [],
   "source": [
    "from modules.vocab import Vocab"
   ]
  },
  {
   "cell_type": "code",
   "execution_count": 17,
   "id": "49c28a91-cbe2-445e-98cf-0b3e67e4a226",
   "metadata": {},
   "outputs": [],
   "source": [
    "for col, norm in zip(cols, ['stem', None]): # only questions get stemmed\n",
    "    train_df[f'{col}_tokens'] = train_df[col].apply(lambda s: tokenize_sentence(s, normalization=norm))"
   ]
  },
  {
   "cell_type": "code",
   "execution_count": 18,
   "id": "bc7a90d6-dd8b-4425-81f8-9c447201783e",
   "metadata": {},
   "outputs": [],
   "source": [
    "for col, norm in zip(cols, ['stem', None]):\n",
    "    test_df[f'{col}_tokens'] = test_df[col].apply(lambda s: tokenize_sentence(s, normalization=norm))"
   ]
  },
  {
   "cell_type": "code",
   "execution_count": 19,
   "id": "dbc6971c-872e-4b3a-a0d9-585ab3d44739",
   "metadata": {},
   "outputs": [
    {
     "data": {
      "text/html": [
       "<div>\n",
       "<style scoped>\n",
       "    .dataframe tbody tr th:only-of-type {\n",
       "        vertical-align: middle;\n",
       "    }\n",
       "\n",
       "    .dataframe tbody tr th {\n",
       "        vertical-align: top;\n",
       "    }\n",
       "\n",
       "    .dataframe thead th {\n",
       "        text-align: right;\n",
       "    }\n",
       "</style>\n",
       "<table border=\"1\" class=\"dataframe\">\n",
       "  <thead>\n",
       "    <tr style=\"text-align: right;\">\n",
       "      <th></th>\n",
       "      <th>Question</th>\n",
       "      <th>Answer</th>\n",
       "      <th>Question_tokens</th>\n",
       "      <th>Answer_tokens</th>\n",
       "    </tr>\n",
       "  </thead>\n",
       "  <tbody>\n",
       "    <tr>\n",
       "      <th>4370</th>\n",
       "      <td>The site was passed to monks from which abbey?</td>\n",
       "      <td>Westminster Abbey</td>\n",
       "      <td>[site, pass, monk, which, abbey]</td>\n",
       "      <td>[westminster, abbey]</td>\n",
       "    </tr>\n",
       "    <tr>\n",
       "      <th>11234</th>\n",
       "      <td>What is the most reliable measure of pain?</td>\n",
       "      <td>person's self-report</td>\n",
       "      <td>[what, reliabl, measur, pain]</td>\n",
       "      <td>[persons, selfreport]</td>\n",
       "    </tr>\n",
       "    <tr>\n",
       "      <th>15340</th>\n",
       "      <td>What year was the potato blight in Ireland?</td>\n",
       "      <td>1845</td>\n",
       "      <td>[what, year, potato, blight, ireland]</td>\n",
       "      <td>[1845]</td>\n",
       "    </tr>\n",
       "  </tbody>\n",
       "</table>\n",
       "</div>"
      ],
      "text/plain": [
       "                                             Question                Answer  \\\n",
       "4370   The site was passed to monks from which abbey?     Westminster Abbey   \n",
       "11234      What is the most reliable measure of pain?  person's self-report   \n",
       "15340     What year was the potato blight in Ireland?                  1845   \n",
       "\n",
       "                             Question_tokens          Answer_tokens  \n",
       "4370        [site, pass, monk, which, abbey]   [westminster, abbey]  \n",
       "11234          [what, reliabl, measur, pain]  [persons, selfreport]  \n",
       "15340  [what, year, potato, blight, ireland]                 [1845]  "
      ]
     },
     "execution_count": 19,
     "metadata": {},
     "output_type": "execute_result"
    }
   ],
   "source": [
    "train_df.sample(3)"
   ]
  },
  {
   "cell_type": "code",
   "execution_count": 20,
   "id": "4c5a711d-2d46-4255-9091-959b91a07b4d",
   "metadata": {},
   "outputs": [],
   "source": [
    "# processed sequences columns names have '_tokens' suffix\n",
    "cols_tokens = [f'{col}_tokens' for col in cols]"
   ]
  },
  {
   "cell_type": "markdown",
   "id": "4520dfcf-9530-4268-b9a7-4d01bc98c6be",
   "metadata": {},
   "source": [
    "### Create pairs and add to the vocabularies"
   ]
  },
  {
   "cell_type": "code",
   "execution_count": 21,
   "id": "c6c241b5-3e32-47ba-9fab-9bad67404d66",
   "metadata": {},
   "outputs": [],
   "source": [
    "train_pairs = get_pairs_from_df(train_df, cols_tokens)"
   ]
  },
  {
   "cell_type": "code",
   "execution_count": 22,
   "id": "e9eebcb5-30c2-4bf0-bbe8-e6a4015205f0",
   "metadata": {},
   "outputs": [],
   "source": [
    "test_pairs = get_pairs_from_df(test_df, cols_tokens)"
   ]
  },
  {
   "cell_type": "code",
   "execution_count": 23,
   "id": "1d3fed41-b6df-495e-966b-73d8275bc397",
   "metadata": {},
   "outputs": [],
   "source": [
    "Q_vocab, A_vocab = Vocab(), Vocab()"
   ]
  },
  {
   "cell_type": "markdown",
   "id": "f4791a92-39ea-4709-bceb-316b1f7cf61d",
   "metadata": {},
   "source": [
    "### Words from both training and test datasets are added to the two vocabularies"
   ]
  },
  {
   "cell_type": "code",
   "execution_count": 24,
   "id": "766b2b7c-8452-4f41-91c1-a1933899af1a",
   "metadata": {},
   "outputs": [],
   "source": [
    "for pair in train_pairs:\n",
    "    Q_vocab.add_sentence(pair.question)\n",
    "    A_vocab.add_sentence(pair.answer)"
   ]
  },
  {
   "cell_type": "code",
   "execution_count": 25,
   "id": "8bf020f0-9fa9-4d35-b5a1-c72e2190e955",
   "metadata": {},
   "outputs": [
    {
     "data": {
      "text/plain": [
       "(17226, 22431)"
      ]
     },
     "execution_count": 25,
     "metadata": {},
     "output_type": "execute_result"
    }
   ],
   "source": [
    "Q_vocab.n_words, A_vocab.n_words, "
   ]
  },
  {
   "cell_type": "code",
   "execution_count": 26,
   "id": "eb3dcfe2-d353-4d2e-915f-03e0923dc785",
   "metadata": {},
   "outputs": [],
   "source": [
    "for pair in test_pairs:\n",
    "    Q_vocab.add_sentence(pair.question)\n",
    "    A_vocab.add_sentence(pair.answer)"
   ]
  },
  {
   "cell_type": "code",
   "execution_count": 27,
   "id": "7b57afc2-4b59-481a-8d15-ee267b0d8e36",
   "metadata": {},
   "outputs": [
    {
     "data": {
      "text/plain": [
       "(18285, 23838)"
      ]
     },
     "execution_count": 27,
     "metadata": {},
     "output_type": "execute_result"
    }
   ],
   "source": [
    "# Answers vocabulary contains more words due to lack of stemming\n",
    "\n",
    "Q_vocab.n_words, A_vocab.n_words "
   ]
  },
  {
   "cell_type": "code",
   "execution_count": null,
   "id": "65b7878b-ad57-4ad4-9cd4-b4509c6f660d",
   "metadata": {},
   "outputs": [],
   "source": []
  },
  {
   "cell_type": "markdown",
   "id": "d6d39d65-1c60-4b17-8913-100b2fe00cde",
   "metadata": {},
   "source": [
    "## Data analysis and further cleanup\n",
    "\n",
    "To improve and reduce the dataset, some analysis is done to find and remove outliers:\n",
    "* least common words (those that occur only once)\n",
    "* answers that have less than one token (empty sequences)\n",
    "* questions that have less than three tokens, as they're not really meaningful\n",
    "* histograms are used to find the \"long tail\" of the dataset: longer sequences are rare, so I establish a threshold above which the dataframe row with either very long question or answer is dropped. This way most of the data is kept, and the sequences can be of reasonable length"
   ]
  },
  {
   "cell_type": "code",
   "execution_count": null,
   "id": "3da86f92-bddd-41f3-b0f6-5b4d2eb5d873",
   "metadata": {},
   "outputs": [],
   "source": []
  },
  {
   "cell_type": "code",
   "execution_count": 28,
   "id": "7450e792-925e-4a07-8236-38f1045e69d6",
   "metadata": {},
   "outputs": [],
   "source": [
    "from modules.stats import sentences_stats, histograms"
   ]
  },
  {
   "cell_type": "code",
   "execution_count": 29,
   "id": "1982157e-f27d-40b3-98fb-f001012d68d7",
   "metadata": {},
   "outputs": [
    {
     "name": "stdout",
     "output_type": "stream",
     "text": [
      "Sentences in column Question_tokens:\n",
      "\t         mean: 6.43\n",
      "\t         median: 6.00\n",
      "\t         minimum: 1\n",
      "\t         maximum: 24)\n",
      "Sentences in column Answer_tokens:\n",
      "\t         mean: 2.42\n",
      "\t         median: 2.00\n",
      "\t         minimum: 0\n",
      "\t         maximum: 21)\n"
     ]
    }
   ],
   "source": [
    "# statistics for tokenized sentences\n",
    "sentences_stats(train_df, cols_tokens)"
   ]
  },
  {
   "cell_type": "code",
   "execution_count": 30,
   "id": "ed546c61-46c6-4198-8b2d-658e6ea83727",
   "metadata": {},
   "outputs": [
    {
     "name": "stdout",
     "output_type": "stream",
     "text": [
      "Sentences in column Question_tokens:\n",
      "\t         mean: 6.48\n",
      "\t         median: 6.00\n",
      "\t         minimum: 2\n",
      "\t         maximum: 17)\n",
      "Sentences in column Answer_tokens:\n",
      "\t         mean: 2.33\n",
      "\t         median: 2.00\n",
      "\t         minimum: 0\n",
      "\t         maximum: 18)\n"
     ]
    }
   ],
   "source": [
    "# statistics for tokenized sentences\n",
    "sentences_stats(test_df, cols_tokens)"
   ]
  },
  {
   "cell_type": "markdown",
   "id": "8034d347-3b5c-4675-9040-c06f9d1be915",
   "metadata": {},
   "source": [
    "### Remove the least common words from the sentences"
   ]
  },
  {
   "cell_type": "code",
   "execution_count": 31,
   "id": "0127a26b-68b8-4456-8c70-c49ba08525ff",
   "metadata": {},
   "outputs": [],
   "source": [
    "# how many times at most a word occurs to be considered an outlier\n",
    "outlier_threshold = 1"
   ]
  },
  {
   "cell_type": "code",
   "execution_count": 32,
   "id": "0335f482-7f3c-4265-81d9-93436d7f1090",
   "metadata": {},
   "outputs": [
    {
     "name": "stdout",
     "output_type": "stream",
     "text": [
      "Questions vocabulary has 9197 words that occur only once, answers vocabulary has 14411 such words\n"
     ]
    }
   ],
   "source": [
    "print(f'Questions vocabulary has {len(get_outliers(Q_vocab, outlier_threshold+1))} words that occur only once, answers vocabulary has {len(get_outliers(A_vocab, outlier_threshold+1))} such words')"
   ]
  },
  {
   "cell_type": "markdown",
   "id": "1c6146cc-8b68-4db8-b387-008c413e71ac",
   "metadata": {},
   "source": [
    "### Create lists of those words and remove them from the sequences"
   ]
  },
  {
   "cell_type": "code",
   "execution_count": 33,
   "id": "2adafd8f-bae0-455c-ab37-363db03f2e23",
   "metadata": {},
   "outputs": [],
   "source": [
    "q_outliers, a_outliers = get_outliers(Q_vocab,outlier_threshold+1), get_outliers(A_vocab,outlier_threshold+1)"
   ]
  },
  {
   "cell_type": "code",
   "execution_count": 34,
   "id": "0464a5cf-fb82-4acc-ab6c-b3029a1e510b",
   "metadata": {},
   "outputs": [],
   "source": [
    "train_df_final = remove_least_common(train_df, cols_tokens, [q_outliers, a_outliers])"
   ]
  },
  {
   "cell_type": "code",
   "execution_count": 35,
   "id": "52510523-62a9-4e42-ba96-bddbee4bf3d5",
   "metadata": {},
   "outputs": [],
   "source": [
    "test_df_final = remove_least_common(test_df, cols_tokens, [q_outliers, a_outliers])"
   ]
  },
  {
   "cell_type": "code",
   "execution_count": 36,
   "id": "0a019f58-39d0-4a4e-9b22-6a69e84a80ec",
   "metadata": {},
   "outputs": [
    {
     "name": "stdout",
     "output_type": "stream",
     "text": [
      "Sentences in column Question_tokens:\n",
      "\t         mean: 6.16\n",
      "\t         median: 6.00\n",
      "\t         minimum: 1\n",
      "\t         maximum: 22)\n",
      "Sentences in column Answer_tokens:\n",
      "\t         mean: 1.98\n",
      "\t         median: 2.00\n",
      "\t         minimum: 0\n",
      "\t         maximum: 20)\n"
     ]
    }
   ],
   "source": [
    "# tokenized & least common removed\n",
    "sentences_stats(train_df_final, cols_tokens)"
   ]
  },
  {
   "cell_type": "code",
   "execution_count": 37,
   "id": "f0b21a9a-243f-4dc6-a0a8-2e2c65caebba",
   "metadata": {},
   "outputs": [
    {
     "name": "stdout",
     "output_type": "stream",
     "text": [
      "Sentences in column Question_tokens:\n",
      "\t         mean: 6.20\n",
      "\t         median: 6.00\n",
      "\t         minimum: 1\n",
      "\t         maximum: 17)\n",
      "Sentences in column Answer_tokens:\n",
      "\t         mean: 1.90\n",
      "\t         median: 2.00\n",
      "\t         minimum: 0\n",
      "\t         maximum: 18)\n"
     ]
    }
   ],
   "source": [
    "# tokenized & least common removed\n",
    "sentences_stats(test_df_final, cols_tokens)"
   ]
  },
  {
   "cell_type": "markdown",
   "id": "25751515-a24f-4e0a-9b6c-e12f9dafd722",
   "metadata": {},
   "source": [
    "### Remove questions that have less than three words and answers that have less than one"
   ]
  },
  {
   "cell_type": "code",
   "execution_count": 38,
   "id": "47ca1d7a-f8b0-4d42-aa9e-a889c0dfbcfc",
   "metadata": {},
   "outputs": [],
   "source": [
    "train_df_final = filter_sentences(train_df_final, cols_tokens, [2,0], condition='longer')"
   ]
  },
  {
   "cell_type": "code",
   "execution_count": 39,
   "id": "3934a09f-4d33-4024-adcc-e4bccc55d837",
   "metadata": {},
   "outputs": [
    {
     "name": "stdout",
     "output_type": "stream",
     "text": [
      "Question_tokens 3\n",
      "Answer_tokens 1\n"
     ]
    },
    {
     "data": {
      "image/png": "[encoded data removed]",
      "text/plain": [
       "<Figure size 640x480 with 1 Axes>"
      ]
     },
     "metadata": {},
     "output_type": "display_data"
    }
   ],
   "source": [
    "# display the histograms to see if that worked\n",
    "\n",
    "train_df_final_thresholds = histograms(train_df_final, cols_tokens, name = 'tokenized')"
   ]
  },
  {
   "cell_type": "code",
   "execution_count": 40,
   "id": "6789669f-3bbf-4a2d-942e-30dc0255930c",
   "metadata": {},
   "outputs": [
    {
     "data": {
      "text/plain": [
       "(25697, 4)"
      ]
     },
     "execution_count": 40,
     "metadata": {},
     "output_type": "execute_result"
    }
   ],
   "source": [
    "train_df_final.shape"
   ]
  },
  {
   "cell_type": "code",
   "execution_count": 41,
   "id": "fde25b3c-a9f0-4659-8198-63baefbe91a6",
   "metadata": {},
   "outputs": [
    {
     "name": "stdout",
     "output_type": "stream",
     "text": [
      "Sentences in column Question_tokens:\n",
      "\t         mean: 6.25\n",
      "\t         median: 6.00\n",
      "\t         minimum: 3\n",
      "\t         maximum: 22)\n",
      "Sentences in column Answer_tokens:\n",
      "\t         mean: 2.26\n",
      "\t         median: 2.00\n",
      "\t         minimum: 1\n",
      "\t         maximum: 20)\n"
     ]
    }
   ],
   "source": [
    "# shortest sentences removed\n",
    "sentences_stats(train_df_final, cols_tokens)"
   ]
  },
  {
   "cell_type": "code",
   "execution_count": null,
   "id": "6a37889e-0499-44c7-a615-b68335952dc7",
   "metadata": {},
   "outputs": [],
   "source": []
  },
  {
   "cell_type": "code",
   "execution_count": 42,
   "id": "38915cef-2608-4ff0-b870-005f29ce64f0",
   "metadata": {},
   "outputs": [],
   "source": [
    "test_df_final = filter_sentences(test_df_final, cols_tokens, [2,0], condition='longer')"
   ]
  },
  {
   "cell_type": "code",
   "execution_count": 43,
   "id": "5ed9ed2f-f665-4cf8-af0d-34ce49f48ac5",
   "metadata": {},
   "outputs": [
    {
     "name": "stdout",
     "output_type": "stream",
     "text": [
      "Question_tokens 3\n",
      "Answer_tokens 1\n"
     ]
    },
    {
     "data": {
      "image/png": "[encoded data removed]",
      "text/plain": [
       "<Figure size 640x480 with 1 Axes>"
      ]
     },
     "metadata": {},
     "output_type": "display_data"
    }
   ],
   "source": [
    "# display the histograms to see if that worked\n",
    "\n",
    "test_df_final_thresholds = histograms(test_df_final, cols_tokens, name = 'tokenized')"
   ]
  },
  {
   "cell_type": "code",
   "execution_count": 44,
   "id": "193fa900-f512-46d9-b2ba-aa5cc64f9000",
   "metadata": {},
   "outputs": [
    {
     "data": {
      "text/plain": [
       "(2579, 4)"
      ]
     },
     "execution_count": 44,
     "metadata": {},
     "output_type": "execute_result"
    }
   ],
   "source": [
    "test_df_final.shape"
   ]
  },
  {
   "cell_type": "code",
   "execution_count": 45,
   "id": "606eac15-6aaa-4e53-85d3-529d935684a0",
   "metadata": {},
   "outputs": [
    {
     "name": "stdout",
     "output_type": "stream",
     "text": [
      "Sentences in column Question_tokens:\n",
      "\t         mean: 6.32\n",
      "\t         median: 6.00\n",
      "\t         minimum: 3\n",
      "\t         maximum: 17)\n",
      "Sentences in column Answer_tokens:\n",
      "\t         mean: 2.14\n",
      "\t         median: 2.00\n",
      "\t         minimum: 1\n",
      "\t         maximum: 18)\n"
     ]
    }
   ],
   "source": [
    "# shortest sentences removed\n",
    "sentences_stats(test_df_final, cols_tokens)"
   ]
  },
  {
   "cell_type": "code",
   "execution_count": null,
   "id": "12ed5af0-e6ac-486f-9d77-3ba2615d25de",
   "metadata": {},
   "outputs": [],
   "source": []
  },
  {
   "cell_type": "markdown",
   "id": "01a76972-303d-44ae-bf59-08c46a237488",
   "metadata": {},
   "source": [
    "### Remove long outliers: long sentences that occure rarely"
   ]
  },
  {
   "cell_type": "code",
   "execution_count": 46,
   "id": "69685485-1713-4017-8436-9a196e879cf0",
   "metadata": {},
   "outputs": [],
   "source": [
    "# keeping only the 95% of the data\n",
    "cutoff = 95"
   ]
  },
  {
   "cell_type": "code",
   "execution_count": 47,
   "id": "25b7ecff-2312-4e1c-9773-6028dad38e4d",
   "metadata": {},
   "outputs": [
    {
     "data": {
      "text/plain": [
       "{'Question_tokens': 10, 'Answer_tokens': 6}"
      ]
     },
     "execution_count": 47,
     "metadata": {},
     "output_type": "execute_result"
    }
   ],
   "source": [
    "get_thresholds(train_df_final_thresholds, cutoff = cutoff)"
   ]
  },
  {
   "cell_type": "code",
   "execution_count": 48,
   "id": "82a5369e-fcde-48c3-a0c4-110bb6c7e12c",
   "metadata": {},
   "outputs": [],
   "source": [
    "Q_MAX, A_MAX = get_thresholds(train_df_final_thresholds, cutoff = cutoff).values()"
   ]
  },
  {
   "cell_type": "code",
   "execution_count": 49,
   "id": "648d0c08-a9e0-4278-8beb-3b5e35f8c81d",
   "metadata": {},
   "outputs": [],
   "source": [
    "train_df_final = filter_sentences(train_df_final, cols_tokens, [Q_MAX+1,A_MAX+1], condition='shorter')"
   ]
  },
  {
   "cell_type": "code",
   "execution_count": 50,
   "id": "12cfc150-100f-460b-a252-d475c139fee4",
   "metadata": {
    "scrolled": true
   },
   "outputs": [
    {
     "name": "stdout",
     "output_type": "stream",
     "text": [
      "Sentences in column Question_tokens:\n",
      "\t         mean: 6.06\n",
      "\t         median: 6.00\n",
      "\t         minimum: 3\n",
      "\t         maximum: 10)\n",
      "Sentences in column Answer_tokens:\n",
      "\t         mean: 1.98\n",
      "\t         median: 2.00\n",
      "\t         minimum: 1\n",
      "\t         maximum: 6)\n"
     ]
    }
   ],
   "source": [
    "# long outliers removed\n",
    "sentences_stats(train_df_final, cols_tokens)"
   ]
  },
  {
   "cell_type": "code",
   "execution_count": null,
   "id": "db36354e-a106-40bb-bccf-73737f654f0d",
   "metadata": {},
   "outputs": [],
   "source": []
  },
  {
   "cell_type": "code",
   "execution_count": 50,
   "id": "b2be1ef8-3321-4c82-a6ff-e8ad9579c6a5",
   "metadata": {},
   "outputs": [],
   "source": [
    "# to simplify I'm using the same thresholds for the test set"
   ]
  },
  {
   "cell_type": "code",
   "execution_count": 51,
   "id": "41eb7230-16a9-407f-8747-2bd5f3db7c2e",
   "metadata": {},
   "outputs": [],
   "source": [
    "test_df_final = filter_sentences(test_df_final, cols_tokens, [Q_MAX+1,A_MAX+1], condition='shorter')"
   ]
  },
  {
   "cell_type": "code",
   "execution_count": 52,
   "id": "acbac5aa-a51b-4a37-9265-4657e7f7239d",
   "metadata": {
    "scrolled": true
   },
   "outputs": [
    {
     "name": "stdout",
     "output_type": "stream",
     "text": [
      "Sentences in column Question_tokens:\n",
      "\t         mean: 6.13\n",
      "\t         median: 6.00\n",
      "\t         minimum: 3\n",
      "\t         maximum: 10)\n",
      "Sentences in column Answer_tokens:\n",
      "\t         mean: 1.93\n",
      "\t         median: 2.00\n",
      "\t         minimum: 1\n",
      "\t         maximum: 6)\n"
     ]
    }
   ],
   "source": [
    "# long outliers removed\n",
    "sentences_stats(test_df_final, cols_tokens)"
   ]
  },
  {
   "cell_type": "code",
   "execution_count": 53,
   "id": "f2750b9b-f01b-4ee9-be2b-69890cb4ca03",
   "metadata": {},
   "outputs": [
    {
     "data": {
      "text/plain": [
       "((23829, 4), (2409, 4))"
      ]
     },
     "execution_count": 53,
     "metadata": {},
     "output_type": "execute_result"
    }
   ],
   "source": [
    "train_df_final.shape, test_df_final.shape"
   ]
  },
  {
   "cell_type": "code",
   "execution_count": null,
   "id": "7fffdcad-8870-4376-b738-1b9282a07bff",
   "metadata": {},
   "outputs": [],
   "source": []
  },
  {
   "cell_type": "markdown",
   "id": "0be952bd-44cc-4f41-bed5-ea17231aa76e",
   "metadata": {},
   "source": [
    "### Pairs have to be redone from the cleaned up datasets, to be used in the model (after being turned into tensors)."
   ]
  },
  {
   "cell_type": "code",
   "execution_count": 54,
   "id": "309585c9-df9d-4f84-995c-544fab45b90c",
   "metadata": {},
   "outputs": [],
   "source": [
    "train_pairs_final = get_pairs_from_df(train_df_final, cols_tokens)"
   ]
  },
  {
   "cell_type": "code",
   "execution_count": 55,
   "id": "088c6509-f966-480c-bc40-48fa5bd2fab2",
   "metadata": {},
   "outputs": [],
   "source": [
    "test_pairs_final = get_pairs_from_df(test_df_final, cols_tokens)"
   ]
  },
  {
   "cell_type": "code",
   "execution_count": 56,
   "id": "4cb90adf-d401-48f0-8911-b31144276227",
   "metadata": {
    "scrolled": true
   },
   "outputs": [
    {
     "data": {
      "text/plain": [
       "(23829, 2409)"
      ]
     },
     "execution_count": 56,
     "metadata": {},
     "output_type": "execute_result"
    }
   ],
   "source": [
    "len(train_pairs_final), len(test_pairs_final)"
   ]
  },
  {
   "cell_type": "code",
   "execution_count": null,
   "id": "a2c3ef56-8fa3-463a-b2d8-6b923aaf72e6",
   "metadata": {},
   "outputs": [],
   "source": []
  },
  {
   "cell_type": "code",
   "execution_count": 57,
   "id": "9dab918c-b42c-4f40-b83f-85f9c7ec3f71",
   "metadata": {},
   "outputs": [],
   "source": [
    "def to_tensor_new(vocab, tokens, seq_len):\n",
    "    '''Converts a tokenized sentence into a tensor of indices of a given length.\n",
    "    If too short, it uses padding at the beginning of the sentence as suggested by the mentor.'''\n",
    "    \n",
    "    tokens = [t for t in tokens if t in vocab.word2count.keys()]\n",
    "    \n",
    "    #padded = [vocab.word2index['PAD']] * (seq_len-len(tokens)) + [vocab.word2index['SOS']] + [vocab.word2index[t] for t in tokens] + [vocab.word2index['EOS']]\n",
    "\n",
    "    padded = [[vocab.word2index['SOS']] + [vocab.word2index[t] for t in tokens] + [vocab.word2index['EOS']] + [vocab.word2index['PAD']] * (seq_len-len(tokens))]\n",
    "    \n",
    "    tensor = torch.Tensor(padded).long().view(-1,1)\n",
    "    \n",
    "    return tensor"
   ]
  },
  {
   "cell_type": "code",
   "execution_count": 58,
   "id": "14770c7b-615d-4b22-8717-d461fea8b093",
   "metadata": {},
   "outputs": [],
   "source": [
    "Pair = namedtuple('Pair', ['question', 'answer'])\n",
    "def get_tensor_pairs_from_df(df, cols, q_vocab, q_max_len, a_vocab, a_max_len):\n",
    "    '''returns a list of named tuples (question, answer)'''\n",
    "    dicts = []\n",
    "    for col in cols:\n",
    "        dicts.append(df[col].to_dict().values())\n",
    "    \n",
    "    return [Pair(to_tensor_new(q_vocab, q, q_max_len), to_tensor_new(a_vocab, a, a_max_len)) for q, a in zip(*dicts)]"
   ]
  },
  {
   "cell_type": "code",
   "execution_count": 59,
   "id": "9633e5b7-d086-44b6-88cb-085434091d80",
   "metadata": {},
   "outputs": [],
   "source": [
    "train_tensor_pairs_final = get_tensor_pairs_from_df(train_df_final, cols_tokens, Q_vocab, Q_MAX, A_vocab, A_MAX)"
   ]
  },
  {
   "cell_type": "code",
   "execution_count": 60,
   "id": "cd5e3e9b-5788-4fc1-af63-0f4a63645fa5",
   "metadata": {},
   "outputs": [
    {
     "data": {
      "text/plain": [
       "Pair(question=tensor([[   1],\n",
       "        [   3],\n",
       "        [ 519],\n",
       "        [1536],\n",
       "        [2589],\n",
       "        [2590],\n",
       "        [ 324],\n",
       "        [   2],\n",
       "        [   0],\n",
       "        [   0],\n",
       "        [   0],\n",
       "        [   0]]), answer=tensor([[   1],\n",
       "        [1947],\n",
       "        [1948],\n",
       "        [1949],\n",
       "        [   2],\n",
       "        [   0],\n",
       "        [   0],\n",
       "        [   0]]))"
      ]
     },
     "execution_count": 60,
     "metadata": {},
     "output_type": "execute_result"
    }
   ],
   "source": [
    "train_tensor_pairs_final[777]"
   ]
  },
  {
   "cell_type": "code",
   "execution_count": 61,
   "id": "4866417d-51a5-4d92-a1cc-fb531cb1a824",
   "metadata": {},
   "outputs": [],
   "source": [
    "test_tensor_pairs_final = get_tensor_pairs_from_df(test_df_final, cols_tokens, Q_vocab, Q_MAX, A_vocab, A_MAX)"
   ]
  },
  {
   "cell_type": "code",
   "execution_count": null,
   "id": "e1a23b39-18d8-477d-aa01-7936d63a47b0",
   "metadata": {},
   "outputs": [],
   "source": []
  },
  {
   "cell_type": "markdown",
   "id": "31e03bca-c654-4f1f-9dde-3ccf6c17376c",
   "metadata": {},
   "source": [
    "### Data preparation for the neural network model\n",
    "\n",
    "Sequences are converted into torch tokens made of their vocabulary indexes. Sequences shorter than the defined length are padded at the beginning. Also Start-Of-Sequence and End-Of-Sequence tokens are added to the tensor.\n",
    "\n",
    "The padding token will be ignored by the model.\n",
    "\n",
    "### Neural network model\n",
    "\n",
    "It uses Seq2Seq Encoder-Decoder architecture with a single LSTM layer. Right now the training is done pair after pair, without batch processing.\n",
    "The optimizer is Stochastic Gradient Descent, and the loss function is \n",
    "negative log likelihood (NLLLoss)\n",
    "\n"
   ]
  },
  {
   "cell_type": "markdown",
   "id": "98fb91d2-416c-4fb4-a77a-8c0c877b1d7a",
   "metadata": {},
   "source": [
    "# TRYING A MULTI-LAYER LSTM WITH DROPOUT"
   ]
  },
  {
   "cell_type": "code",
   "execution_count": 62,
   "id": "37e018e5-b3d3-47b1-a403-b2ec05ddd339",
   "metadata": {},
   "outputs": [],
   "source": [
    "import torch\n",
    "import torch.nn as nn\n",
    "\n",
    "class Encoder(nn.Module):\n",
    "    \n",
    "    # We initialize the Encoder object with appropriate layers\n",
    "\n",
    "    def __init__(self, input_size, embedding_size, hidden_size, n_layers, dropout = 0):\n",
    "        \n",
    "        super(Encoder, self).__init__()\n",
    "\n",
    "        self.hidden_size = hidden_size\n",
    "        self.input_size = input_size\n",
    "        self.embedding_size = embedding_size\n",
    "        self.n_layers = n_layers\n",
    "\n",
    "        self.embedding = nn.Embedding(self.input_size, self.embedding_size)#.to(device)\n",
    "        \n",
    "        # The LSTM is our last cell because it produces the hidden state        \n",
    "        \n",
    "        self.lstm = nn.LSTM(self.embedding_size, self.hidden_size, self.n_layers, dropout=dropout)#.to(device)\n",
    "\n",
    "        self.dropout = nn.Dropout(dropout)\n",
    "    \n",
    "    def forward(self, x, hidden, cell_state):\n",
    "        \n",
    "        embedded = self.dropout(self.embedding(x))\n",
    "\n",
    "        \n",
    "        #x = x.view(1, 1, -1)\n",
    "        \n",
    "        #x = x.view(x.shape[0], 1, -1)\n",
    "        \n",
    "        #x, (hidden, cell_state) = self.lstm(x, (hidden, cell_state))\n",
    "\n",
    "        outputs, (hidden, cell_state) = self.lstm(embedded)\n",
    "\n",
    "        return hidden, cell_state\n",
    "\n",
    "class Decoder(nn.Module):\n",
    "\n",
    "    # The Decoder is initialized in the same manner.\n",
    "\n",
    "    #def __init__(self, hidden_size, output_size, embedding_size, dropout = 0):\n",
    "    def __init__(self, output_size, embedding_size, hidden_size, n_layers, dropout = 0):\n",
    "\n",
    "        super(Decoder, self).__init__()\n",
    "\n",
    "        self.hidden_size = hidden_size\n",
    "        self.output_size = output_size\n",
    "        self.embedding_size = embedding_size\n",
    "        self.n_layers = n_layers\n",
    "        #self.dropout = dropout\n",
    "\n",
    "        self.embedding = nn.Embedding(self.output_size, self.embedding_size)\n",
    "\n",
    "        #self.lstm = nn.LSTM(self.embedding_size, self.hidden_size, dropout = self.dropout)\n",
    "        self.lstm = nn.LSTM(self.embedding_size, self.hidden_size, n_layers, dropout=dropout)\n",
    "        \n",
    "        # The LSTM produces an output by passing the hidden state to the   Linear layer\n",
    "    \n",
    "        self.fc_out = nn.Linear(self.hidden_size, self.output_size)\n",
    "\n",
    "        self.dropout = nn.Dropout(dropout)\n",
    "        \n",
    "        #self.softmax = nn.LogSoftmax(dim= 1)     \n",
    "\n",
    "    def forward(self, x, hidden, cell_state):\n",
    "\n",
    "        input = x.unsqueeze(0)\n",
    "\n",
    "        embedded = self.dropout(self.embedding(input))\n",
    "        \n",
    "        #x = x.view(1, 1, -1)\n",
    "        output, (hidden, cell_state) = self.lstm(embedded, (hidden, cell_state))\n",
    "        \n",
    "        #x = self.softmax(self.fc(x[0]))\n",
    "\n",
    "        prediction = self.fc_out(output.squeeze(0))\n",
    "        \n",
    "        return prediction, hidden, cell_state\n",
    "\n",
    "    \n",
    "class Seq2Seq(nn.Module):\n",
    "\n",
    "    #def __init__(self, encoder: Encoder, decoder: Decoder, device: torch.device):\n",
    "    #def __init__(self, input_size, hidden_size, embedding_size, output_size, dropout, device):    \n",
    "    #def __init__(self, input_size, hidden_size, embedding_size, output_size, device):    \n",
    "\n",
    "    def __init__(self, encoder, decoder, device):\n",
    "        \n",
    "        super(Seq2Seq, self).__init__()\n",
    "\n",
    "        self.encoder = encoder\n",
    "        self.decoder = decoder\n",
    "        self.device = device\n",
    "\n",
    "        #self.input_size = input_size\n",
    "        #self.hidden_size = hidden_size\n",
    "        #self.embedding_size = embedding_size\n",
    "        #self.output_size = output_size\n",
    "        #self.dropout = dropout\n",
    "\n",
    "        assert encoder.hidden_size == decoder.hidden_size, \"Hidden dimensions of encoder and decoder must be equal!\"\n",
    "        assert encoder.n_layers == decoder.n_layers, \"Number of layers of encoder and decoder must be equal!\"\n",
    "        \n",
    "        \n",
    "        #self.encoder = Encoder(self.input_size, self.hidden_size, self.embedding_size, self.dropout).to(device)\n",
    "        #self.decoder = Decoder(self.hidden_size, self.output_size, self.embedding_size, self.dropout).to(device)\n",
    "        #self.encoder = Encoder(self.input_size, self.hidden_size, self.embedding_size).to(device)\n",
    "        #self.decoder = Decoder(self.hidden_size, self.output_size, self.embedding_size).to(device)\n",
    "        #self.device = device\n",
    "        \n",
    "    #def forward(self, src_batch: torch.LongTensor, trg_batch: torch.LongTensor, src_len, trg_len, teacher_forcing_ratio: float = 0.5):\n",
    "    def forward(self, src, trg, teacher_forcing_ratio = 0.5):\n",
    "\n",
    "        batch_size = trg.shape[1]\n",
    "        trg_len = trg.shape[0]\n",
    "        trg_vocab_size = self.decoder.output_size\n",
    "\n",
    "        # empty tensor to store decoder outputs\n",
    "        outputs = torch.zeros(trg_len, batch_size, trg_vocab_size).to(self.device)\n",
    "\n",
    "        enc_hidden = torch.zeros([1, 1, self.encoder.hidden_size]).to(self.device) \n",
    "        enc_cell_state = torch.zeros([1, 1, self.encoder.hidden_size]).to(self.device)\n",
    "\n",
    "        # last hidden state of the encoder is used as the initial hidden state of the decoder\n",
    "        hidden, cell_state = self.encoder(src, enc_hidden, enc_cell_state)\n",
    "\n",
    "        # first input to the decoder is the <SOS> token - check if that is true!\n",
    "        input = trg[0,:]\n",
    "\n",
    "\n",
    "        for t in range(1, trg_len):\n",
    "\n",
    "            # insert inpu token embedding, previous hidden and previous cell state\n",
    "            # outputs: predictions, new hidden and cell states\n",
    "            output, hidden, cell_state = self.decoder(input, hidden, cell_state)\n",
    "\n",
    "            # place predictions in a tensor holding predictions for each token\n",
    "            outputs[t] = output\n",
    "\n",
    "            # decide if use teacher forcing or not\n",
    "            teacher_force = random.random() < teacher_forcing_ratio\n",
    "\n",
    "             # get the highest predicted token from our predictions\n",
    "            top1 = output.argmax(1)\n",
    "\n",
    "            # if teacher forcing, use actual next token as next input\n",
    "            # otherwise use predicted token\n",
    "            input = trg[t] if teacher_force else top1\n",
    "        \n",
    "        return outputs"
   ]
  },
  {
   "cell_type": "markdown",
   "id": "2aad0760-4c66-4744-86b1-2acd0d42bad6",
   "metadata": {},
   "source": [
    "### Model parameters"
   ]
  },
  {
   "cell_type": "code",
   "execution_count": 120,
   "id": "e3303659-e425-4fb1-a091-6b24d7a6f27a",
   "metadata": {},
   "outputs": [],
   "source": [
    "input_dim = Q_vocab.n_words\n",
    "output_dim = A_vocab.n_words\n",
    "\n",
    "enc_emb_dim = 256\n",
    "dec_emb_dim = 256\n",
    "\n",
    "hid_dim = 256\n",
    "\n",
    "n_layers = 4\n",
    "\n",
    "enc_dropout = 0.2\n",
    "dec_dropout = 0.2\n",
    "\n",
    "learning_rate = 0.01\n",
    "\n",
    "num_epochs = 25"
   ]
  },
  {
   "cell_type": "code",
   "execution_count": 121,
   "id": "c9f9640f-cb6f-4a52-afbd-66ac2277e272",
   "metadata": {},
   "outputs": [],
   "source": [
    "enc = Encoder(input_dim, enc_emb_dim, hid_dim, n_layers, enc_dropout)"
   ]
  },
  {
   "cell_type": "code",
   "execution_count": 122,
   "id": "0af7e43d-aed1-4727-929f-bd7aa6363c88",
   "metadata": {},
   "outputs": [],
   "source": [
    "dec = Decoder(output_dim, dec_emb_dim, hid_dim, n_layers, dec_dropout)"
   ]
  },
  {
   "cell_type": "markdown",
   "id": "17b96922-8c42-4bd9-a616-2821b8abdba2",
   "metadata": {},
   "source": [
    "embedding_dim = 256\n",
    "hidden_size = 256\n",
    "dropout = 0.5"
   ]
  },
  {
   "cell_type": "markdown",
   "id": "401d19f8-28e9-4123-a7a5-294dd3a6d1b5",
   "metadata": {},
   "source": [
    "### Hyperparameters"
   ]
  },
  {
   "cell_type": "markdown",
   "id": "63579205-5d1c-40b7-b95d-0dc3f0b21a79",
   "metadata": {},
   "source": [
    "learning_rate = 0.005\n",
    "num_epochs = 10"
   ]
  },
  {
   "cell_type": "markdown",
   "id": "1abf45db-a459-41af-b3bf-d99ee68e11d2",
   "metadata": {},
   "source": [
    "### Model"
   ]
  },
  {
   "cell_type": "code",
   "execution_count": 152,
   "id": "b491414c-3d53-4477-9b2a-421465e2fbf7",
   "metadata": {},
   "outputs": [],
   "source": [
    "#seq2seq = Seq2Seq(input_size=Q_vocab.n_words, hidden_size=hidden_size, embedding_size=embedding_dim, output_size=A_vocab.n_words, dropout=dropout, device=device)\n",
    "#seq2seq = Seq2Seq(input_size=Q_vocab.n_words, hidden_size=hidden_size, embedding_size=embedding_dim, output_size=A_vocab.n_words, device=device)"
   ]
  },
  {
   "cell_type": "code",
   "execution_count": 123,
   "id": "106c76ba-c6ed-4898-b3a1-1f66eefcba83",
   "metadata": {},
   "outputs": [],
   "source": [
    "model = Seq2Seq(enc, dec, device).to(device)"
   ]
  },
  {
   "cell_type": "code",
   "execution_count": 124,
   "id": "e14d354a-1f93-4e26-9ef5-6c9087ca2f88",
   "metadata": {},
   "outputs": [
    {
     "data": {
      "text/plain": [
       "Seq2Seq(\n",
       "  (encoder): Encoder(\n",
       "    (embedding): Embedding(18285, 256)\n",
       "    (lstm): LSTM(256, 256, num_layers=4, dropout=0.2)\n",
       "    (dropout): Dropout(p=0.2, inplace=False)\n",
       "  )\n",
       "  (decoder): Decoder(\n",
       "    (embedding): Embedding(23838, 256)\n",
       "    (lstm): LSTM(256, 256, num_layers=4, dropout=0.2)\n",
       "    (fc_out): Linear(in_features=256, out_features=23838, bias=True)\n",
       "    (dropout): Dropout(p=0.2, inplace=False)\n",
       "  )\n",
       ")"
      ]
     },
     "execution_count": 124,
     "metadata": {},
     "output_type": "execute_result"
    }
   ],
   "source": [
    "model"
   ]
  },
  {
   "cell_type": "code",
   "execution_count": 125,
   "id": "078ba5e8-a6f3-41e6-9b29-8e72f645644f",
   "metadata": {},
   "outputs": [
    {
     "data": {
      "text/plain": [
       "Seq2Seq(\n",
       "  (encoder): Encoder(\n",
       "    (embedding): Embedding(18285, 256)\n",
       "    (lstm): LSTM(256, 256, num_layers=4, dropout=0.2)\n",
       "    (dropout): Dropout(p=0.2, inplace=False)\n",
       "  )\n",
       "  (decoder): Decoder(\n",
       "    (embedding): Embedding(23838, 256)\n",
       "    (lstm): LSTM(256, 256, num_layers=4, dropout=0.2)\n",
       "    (fc_out): Linear(in_features=256, out_features=23838, bias=True)\n",
       "    (dropout): Dropout(p=0.2, inplace=False)\n",
       "  )\n",
       ")"
      ]
     },
     "execution_count": 125,
     "metadata": {},
     "output_type": "execute_result"
    }
   ],
   "source": [
    "def init_weights(m):\n",
    "    for name, param in m.named_parameters():\n",
    "        nn.init.uniform_(param.data, -0.08, 0.08)\n",
    "model.apply(init_weights)"
   ]
  },
  {
   "cell_type": "code",
   "execution_count": 126,
   "id": "874dbb91-4f68-42e0-8fd4-5a54a3da1265",
   "metadata": {},
   "outputs": [
    {
     "name": "stdout",
     "output_type": "stream",
     "text": [
      "The model has 21,120,542 trainable parameters\n"
     ]
    }
   ],
   "source": [
    "def count_parameters(model):\n",
    "    return sum(p.numel() for p in model.parameters() if p.requires_grad)\n",
    "\n",
    "print(f'The model has {count_parameters(model):,} trainable parameters')"
   ]
  },
  {
   "cell_type": "code",
   "execution_count": 157,
   "id": "13f807ce-43f2-4d90-be0c-3119c338f31c",
   "metadata": {},
   "outputs": [],
   "source": [
    "#seq2seq = seq2seq.to(device)"
   ]
  },
  {
   "cell_type": "markdown",
   "id": "b010b866-a6b0-403f-96d0-9ff9c3871290",
   "metadata": {},
   "source": [
    "### Optimizer and loss function"
   ]
  },
  {
   "cell_type": "code",
   "execution_count": 127,
   "id": "688cc1c1-110a-467e-ba1e-fbe30f4dc5da",
   "metadata": {},
   "outputs": [],
   "source": [
    "from torch import optim\n",
    "import torch.nn as nn"
   ]
  },
  {
   "cell_type": "markdown",
   "id": "b8d0e8d6-eb91-409a-9f3a-f1a94bde5378",
   "metadata": {},
   "source": [
    "optimizer = optim.SGD(seq2seq.parameters(), lr=learning_rate)\n",
    "criterion = nn.NLLLoss(ignore_index=0).to(device) # 0 is padding"
   ]
  },
  {
   "cell_type": "code",
   "execution_count": 128,
   "id": "cbe79f80-e4d3-43d0-99ba-6dfcd5e55ee3",
   "metadata": {},
   "outputs": [],
   "source": [
    "optimizer = optim.Adam(model.parameters(), lr=learning_rate)\n",
    "criterion = nn.CrossEntropyLoss(ignore_index=0)"
   ]
  },
  {
   "cell_type": "code",
   "execution_count": 111,
   "id": "744eac2e-b983-4a94-b019-e8f482b7fe6b",
   "metadata": {},
   "outputs": [],
   "source": [
    "optimizer = optim.SGD(model.parameters(), lr=learning_rate)\n",
    "criterion = nn.NLLLoss(ignore_index=0).to(device) # 0 is padding"
   ]
  },
  {
   "cell_type": "code",
   "execution_count": 80,
   "id": "16a78011-6311-4846-8c80-453c55135018",
   "metadata": {},
   "outputs": [
    {
     "data": {
      "text/plain": [
       "0"
      ]
     },
     "execution_count": 80,
     "metadata": {},
     "output_type": "execute_result"
    }
   ],
   "source": [
    "Q_vocab.word2index['PAD']"
   ]
  },
  {
   "cell_type": "markdown",
   "id": "a063f2b9-d2c6-4205-9dbd-112377cb833e",
   "metadata": {},
   "source": [
    "def to_tensor_modified(vocab, tokens, seq_len, device):\n",
    "    '''Converts a tokenized sentence into a tensor of indices of a given length.\n",
    "    If too short, it uses padding at the end of the sentence'''\n",
    "    \n",
    "    tokens = [t for t in tokens if t in vocab.word2count.keys()]\n",
    "    \n",
    "    padded = [[vocab.word2index['SOS']] + [vocab.word2index[t] for t in tokens] + [vocab.word2index['EOS']] + [vocab.word2index['PAD']] * (seq_len-len(tokens))]\n",
    "    \n",
    "    tensor = torch.Tensor(padded).long().to(device).view(-1,1)\n",
    "    \n",
    "    return tensor"
   ]
  },
  {
   "cell_type": "code",
   "execution_count": null,
   "id": "a829b4ed-bfc8-4ec5-bfdf-79ee02a07f92",
   "metadata": {},
   "outputs": [],
   "source": []
  },
  {
   "cell_type": "markdown",
   "id": "4a3a6d83-a310-49bb-86fd-022e7aed34ce",
   "metadata": {},
   "source": [
    "### Model training \n",
    "\n",
    "For debugging purposes the training function is kept in the main notebook for now."
   ]
  },
  {
   "cell_type": "code",
   "execution_count": 129,
   "id": "f67bfced-b818-4771-8bac-ac2f9f8e9432",
   "metadata": {},
   "outputs": [],
   "source": [
    "def train(model, iterator, optimizer, criterion, clip, print_every = 1000):\n",
    "    model.train()\n",
    "\n",
    "    epoch_loss = 0\n",
    "\n",
    "    counter = 0\n",
    "\n",
    "    for i, batch in enumerate(iterator):\n",
    "        src = batch.question.to(device)\n",
    "        trg = batch.answer.to(device)\n",
    "\n",
    "        #src_tensor = to_tensor_modified(vocab=Q_vocab, tokens=src, seq_len=Q_MAX, device=device)#.to(device) #.unsqueeze(0)\n",
    "        #trg_tensor = to_tensor_modified(vocab=A_vocab, tokens=trg, seq_len=A_MAX, device=device)#.to(device) #.unsqueeze(0)\n",
    "        \n",
    "        optimizer.zero_grad()\n",
    "\n",
    "        output = model(src, trg)\n",
    "\n",
    "        output_dim = output.shape[-1]\n",
    "\n",
    "        output = output[1:].view(-1, output_dim)\n",
    "        trg = trg[1:].view(-1)\n",
    "\n",
    "        loss = criterion(output, trg)\n",
    "\n",
    "        loss.backward()\n",
    "\n",
    "        #torch.nn.utils.clip_grad_norm_(model.parameters(), clip)\n",
    "\n",
    "        optimizer.step()\n",
    "\n",
    "        epoch_loss += loss.item()\n",
    "\n",
    "        counter += 1\n",
    "        \n",
    "        if counter % print_every == 0:\n",
    "            print(f'training loss: {epoch_loss/counter}')\n",
    "    \n",
    "    return epoch_loss / len(iterator)\n",
    "    "
   ]
  },
  {
   "cell_type": "code",
   "execution_count": 130,
   "id": "c2da723a-a5f7-447a-9af6-a6bd56142cdb",
   "metadata": {},
   "outputs": [],
   "source": [
    "def evaluate(model, iterator, criterion):\n",
    "    model.eval()\n",
    "\n",
    "    epoch_loss = 0\n",
    "\n",
    "    with torch.no_grad():\n",
    "\n",
    "        for i, batch in enumerate(iterator):\n",
    "            \n",
    "            src = batch.question.to(device)\n",
    "            trg = batch.answer.to(device)\n",
    "    \n",
    "            output = model(src, trg, 0) # turn off teacher forcing\n",
    "    \n",
    "            output_dim = output.shape[-1]\n",
    "    \n",
    "            output = output[1:].view(-1, output_dim)\n",
    "            trg = trg[1:].view(-1)\n",
    "    \n",
    "            loss = criterion(output, trg)\n",
    "    \n",
    "            epoch_loss += loss.item()\n",
    "    \n",
    "            \n",
    "        \n",
    "    return epoch_loss / len(iterator)"
   ]
  },
  {
   "cell_type": "code",
   "execution_count": 131,
   "id": "751e866d-e627-472c-bdc6-f542542536d2",
   "metadata": {},
   "outputs": [],
   "source": [
    "N_EPOCHS = 25\n",
    "CLIP = 1"
   ]
  },
  {
   "cell_type": "code",
   "execution_count": null,
   "id": "d333fa16-f8a1-4cfc-9698-f7740c31cc77",
   "metadata": {},
   "outputs": [],
   "source": []
  },
  {
   "cell_type": "code",
   "execution_count": 132,
   "id": "8b13dcfe-3261-4126-8a07-77346275cd1b",
   "metadata": {},
   "outputs": [],
   "source": [
    "import matplotlib.pyplot as plt"
   ]
  },
  {
   "cell_type": "code",
   "execution_count": 133,
   "id": "65930a99-e635-44dc-90b5-8c8194a116e2",
   "metadata": {},
   "outputs": [],
   "source": [
    "total_train_loss = []\n",
    "total_test_loss = []"
   ]
  },
  {
   "cell_type": "code",
   "execution_count": null,
   "id": "12cd71a1-1598-40e4-87aa-73626fdf4f32",
   "metadata": {},
   "outputs": [
    {
     "name": "stdout",
     "output_type": "stream",
     "text": [
      "training loss: 8.17824058842659\n",
      "training loss: 8.523263194084167\n",
      "training loss: 8.613524945219357\n",
      "training loss: 8.65134888100624\n",
      "training loss: 8.615575782060624\n",
      "training loss: 8.674214493711789\n",
      "training loss: 8.711083892737117\n",
      "training loss: 8.744592888772488\n",
      "training loss: 8.79911899014314\n",
      "training loss: 8.909669956958293\n",
      "training loss: 8.980960205457427\n",
      "training loss: 8.989273568163316\n",
      "training loss: 9.005128586163888\n",
      "training loss: 8.991368658653327\n",
      "training loss: 8.9795694693168\n",
      "training loss: 8.956290279947222\n",
      "training loss: 8.940956131311024\n",
      "training loss: 8.907966500851844\n",
      "training loss: 8.867435367232876\n",
      "training loss: 8.83633751321435\n",
      "training loss: 8.80910579842613\n",
      "training loss: 8.788326866426251\n",
      "training loss: 8.762236299996792\n",
      "Epoch 1, train loss: 8.755, test loss: 8.543\n",
      "training loss: 8.672127496480941\n",
      "training loss: 8.50803759920597\n",
      "training loss: 8.44315274631977\n",
      "training loss: 8.407963800013066\n",
      "training loss: 8.338656292915344\n",
      "training loss: 8.295339603741963\n",
      "training loss: 8.235703747647149\n",
      "training loss: 8.201303432658314\n",
      "training loss: 8.167414700190227\n",
      "training loss: 8.121727118074894\n",
      "training loss: 8.096674940228462\n",
      "training loss: 8.057508370657763\n",
      "training loss: 8.039977389445673\n",
      "training loss: 8.015460348989283\n",
      "training loss: 7.998591618490219\n",
      "training loss: 7.976083429709077\n",
      "training loss: 7.966792154704823\n",
      "training loss: 7.948933200617631\n",
      "training loss: 7.9283170170784\n",
      "training loss: 7.917451013207436\n",
      "training loss: 7.907390925696918\n",
      "training loss: 7.902225923922929\n",
      "training loss: 7.895502829992253\n",
      "Epoch 2, train loss: 7.891, test loss: 8.427\n",
      "training loss: 7.5822131909132\n",
      "training loss: 7.616761701703072\n",
      "training loss: 7.643886653900147\n",
      "training loss: 7.6601765275895595\n",
      "training loss: 7.643783562779427\n",
      "training loss: 7.68935818262895\n",
      "training loss: 7.717979747874396\n",
      "training loss: 7.749977370217443\n",
      "training loss: 7.768860754926999\n",
      "training loss: 7.766346533942222\n",
      "training loss: 7.78045430143313\n",
      "training loss: 7.773479621559382\n",
      "training loss: 7.78420008958303\n",
      "training loss: 7.783059540646417\n",
      "training loss: 7.785778124038378\n",
      "training loss: 7.7804660238400105\n",
      "training loss: 7.7862033685936645\n",
      "training loss: 7.780742236640719\n",
      "training loss: 7.771292261876558\n",
      "training loss: 7.769780459082127\n",
      "training loss: 7.76940049975259\n",
      "training loss: 7.771676771575755\n",
      "training loss: 7.772205243157304\n",
      "Epoch 3, train loss: 7.773, test loss: 8.656\n",
      "training loss: 7.655335724473\n",
      "training loss: 7.685470739483834\n",
      "training loss: 7.711079306364059\n",
      "training loss: 7.725787010610103\n",
      "training loss: 7.706449293541908\n",
      "training loss: 7.704601938386758\n",
      "training loss: 7.68670831659862\n",
      "training loss: 7.685685912072659\n",
      "training loss: 7.685798243814045\n",
      "training loss: 7.672584381449223\n",
      "training loss: 7.67869074938514\n",
      "training loss: 7.667606160581112\n",
      "training loss: 7.675510440716376\n",
      "training loss: 7.673671723340239\n",
      "training loss: 7.6754579602241515\n",
      "training loss: 7.6703519393354656\n",
      "training loss: 7.677123181462288\n",
      "training loss: 7.673623464584351\n",
      "training loss: 7.6666714434498235\n",
      "training loss: 7.667229882407188\n",
      "training loss: 7.668779361792973\n",
      "training loss: 7.673478204553778\n",
      "training loss: 7.676386192570562\n",
      "Epoch 4, train loss: 7.678, test loss: 8.738\n",
      "training loss: 7.623383031010627\n",
      "training loss: 7.658262471079826\n",
      "training loss: 7.685744859774908\n",
      "training loss: 7.700340399056673\n",
      "training loss: 7.682394972133636\n",
      "training loss: 7.686348412354787\n",
      "training loss: 7.672178010293416\n",
      "training loss: 7.674308837354183\n",
      "training loss: 7.677157632125748\n",
      "training loss: 7.666372083449364\n",
      "training loss: 7.67482510723851\n",
      "training loss: 7.664766573886077\n",
      "training loss: 7.67366842676126\n",
      "training loss: 7.67270262570892\n",
      "training loss: 7.674985148008664\n",
      "training loss: 7.670249988287687\n",
      "training loss: 7.677233690009397\n",
      "training loss: 7.673807563967175\n",
      "training loss: 7.667037086511913\n",
      "training loss: 7.667547271841764\n",
      "training loss: 7.668982653634889\n"
     ]
    }
   ],
   "source": [
    "for epoch in range(N_EPOCHS):\n",
    "    train_loss = train(model, train_tensor_pairs_final, optimizer, criterion, CLIP)\n",
    "    test_loss = evaluate(model, test_tensor_pairs_final, criterion)\n",
    "\n",
    "    total_train_loss.append(train_loss)\n",
    "    total_test_loss.append(test_loss)\n",
    "\n",
    "    print(f'Epoch {epoch+1}, train loss: {train_loss:.3f}, test loss: {test_loss:.3f}')"
   ]
  },
  {
   "cell_type": "code",
   "execution_count": 125,
   "id": "f82f724c-6453-4f0e-bf20-e67471f4c88e",
   "metadata": {},
   "outputs": [
    {
     "data": {
      "text/plain": [
       "Text(0, 0.5, 'loss')"
      ]
     },
     "execution_count": 125,
     "metadata": {},
     "output_type": "execute_result"
    },
    {
     "data": {
      "image/png": "[encoded data removed]",
      "text/plain": [
       "<Figure size 640x480 with 1 Axes>"
      ]
     },
     "metadata": {},
     "output_type": "display_data"
    }
   ],
   "source": [
    "fig, ax = plt.subplots()\n",
    "ax.plot(range(1, N_EPOCHS+1), total_train_loss, color = 'blue', label = 'train loss')\n",
    "ax.plot(range(1, N_EPOCHS+1), total_test_loss, color = 'orange', label = 'test loss')\n",
    "ax.legend()\n",
    "ax.set_title(f'Seq2Seq, {N_EPOCHS} epochs')\n",
    "ax.set_xticks(range(1, N_EPOCHS+1))\n",
    "ax.set_xlabel('epochs')\n",
    "ax.set_ylabel('loss')"
   ]
  },
  {
   "cell_type": "code",
   "execution_count": null,
   "id": "040d18b1-a805-44ef-a9d1-37aaa7632557",
   "metadata": {},
   "outputs": [],
   "source": []
  },
  {
   "cell_type": "code",
   "execution_count": null,
   "id": "b6c2d5ac-4a64-4028-a3e9-bd1c7fb58e16",
   "metadata": {},
   "outputs": [],
   "source": []
  },
  {
   "cell_type": "code",
   "execution_count": null,
   "id": "e54c621a-b9a6-489c-b678-1c9cae9ee8d0",
   "metadata": {},
   "outputs": [],
   "source": []
  },
  {
   "cell_type": "code",
   "execution_count": null,
   "id": "b2ec67d8-dc88-4b2b-a67a-9004f4cfa8c6",
   "metadata": {},
   "outputs": [],
   "source": []
  },
  {
   "cell_type": "code",
   "execution_count": null,
   "id": "08799aab-6846-4b2f-80fd-b7cbeae6ec8e",
   "metadata": {},
   "outputs": [],
   "source": []
  },
  {
   "cell_type": "code",
   "execution_count": null,
   "id": "6ee3c0fb-8c52-47e2-8b35-d182e0287960",
   "metadata": {},
   "outputs": [],
   "source": []
  },
  {
   "cell_type": "code",
   "execution_count": null,
   "id": "a0e97e41-86b7-421f-a313-7b5db8c1b7c5",
   "metadata": {},
   "outputs": [],
   "source": []
  },
  {
   "cell_type": "code",
   "execution_count": null,
   "id": "3c4ec83f-d77f-4bb5-a0f3-ffa73eec1d9c",
   "metadata": {},
   "outputs": [],
   "source": []
  },
  {
   "cell_type": "code",
   "execution_count": null,
   "id": "d3f06b26-1930-4cf0-8280-6f6388b89007",
   "metadata": {},
   "outputs": [],
   "source": []
  },
  {
   "cell_type": "code",
   "execution_count": null,
   "id": "f82905b6-e506-40a5-bbbf-b29442b05d8b",
   "metadata": {},
   "outputs": [],
   "source": []
  },
  {
   "cell_type": "code",
   "execution_count": null,
   "id": "19d867e9-2b97-44b6-a0c7-b495195e5dde",
   "metadata": {},
   "outputs": [],
   "source": []
  },
  {
   "cell_type": "code",
   "execution_count": null,
   "id": "e5d66b5b-fca3-4ec0-b71a-a87767aa8e5e",
   "metadata": {},
   "outputs": [],
   "source": []
  },
  {
   "cell_type": "code",
   "execution_count": null,
   "id": "921167b1-f6ee-4c69-aa3b-931fc058c744",
   "metadata": {},
   "outputs": [],
   "source": []
  },
  {
   "cell_type": "code",
   "execution_count": null,
   "id": "9c813a98-0db0-4b82-adfe-09b03fe15d1c",
   "metadata": {},
   "outputs": [],
   "source": []
  },
  {
   "cell_type": "code",
   "execution_count": 229,
   "id": "3432ad53-b07e-43a9-999d-0726b701e488",
   "metadata": {},
   "outputs": [],
   "source": [
    "total_train_loss = []\n",
    "total_test_loss = []"
   ]
  },
  {
   "cell_type": "code",
   "execution_count": 230,
   "id": "57e91c68-0c43-4e71-8cb0-1d3e921872d1",
   "metadata": {},
   "outputs": [],
   "source": [
    "def train(model, pairs, optimizer, criterion, device, print_every = 1000):\n",
    "    model.train()  # Set the model to training mode\n",
    "    \n",
    "    total_loss = 0\n",
    "\n",
    "    count = 0\n",
    "    \n",
    "    for pair in pairs:\n",
    "        \n",
    "        src = pair.question\n",
    "        tgt = pair.answer\n",
    "        \n",
    "        src_tensor = to_tensor(vocab=Q_vocab, tokens=src, seq_len=Q_MAX, device=device)#.to(device) #.unsqueeze(0)\n",
    "        tgt_tensor = to_tensor(vocab=A_vocab, tokens=tgt, seq_len=A_MAX, device=device)#.to(device) #.unsqueeze(0)\n",
    "\n",
    "        # print(src_tensor.shape, tgt_tensor.shape)\n",
    "        \n",
    "        optimizer.zero_grad()  # Zero the gradients\n",
    "        \n",
    "        # Forward pass\n",
    "        output = model(src_tensor, tgt_tensor, src_len=src_tensor.size(0), trg_len=tgt_tensor.size(0), teacher_forcing_ratio=1)\n",
    "\n",
    "        # Compute the loss\n",
    "        loss = criterion(output.view(-1, output.size(-1)), tgt_tensor.view(-1))\n",
    "        \n",
    "        # Backward pass and optimization\n",
    "        loss.backward()\n",
    "        optimizer.step()\n",
    "        \n",
    "        total_loss += loss.item()\n",
    "    \n",
    "        count += 1 \n",
    "    \n",
    "        if count % print_every == 0:\n",
    "            print(f'Loss {total_loss/count}')\n",
    "    \n",
    "    return total_loss / len(pairs)"
   ]
  },
  {
   "cell_type": "code",
   "execution_count": 231,
   "id": "f6518ba3-a7ec-4e0c-9436-5289d4dc4d40",
   "metadata": {},
   "outputs": [],
   "source": [
    "def evaluate(model, pairs, criterion, device):\n",
    "    \n",
    "    model.eval()\n",
    "    \n",
    "    total_loss = 0\n",
    "    \n",
    "    with torch.no_grad():\n",
    "    \n",
    "        for pair in pairs:\n",
    "            \n",
    "            src = pair.question\n",
    "            tgt = pair.answer\n",
    "            \n",
    "            src_tensor = to_tensor(vocab=Q_vocab, tokens=src, seq_len=Q_MAX, device=device)#.to(device) #.unsqueeze(0)\n",
    "            tgt_tensor = to_tensor(vocab=A_vocab, tokens=tgt, seq_len=A_MAX, device=device)#.to(device) #.unsqueeze(0)\n",
    "\n",
    "            output = model(src_tensor, tgt_tensor, src_len=src_tensor.size(0), trg_len=tgt_tensor.size(0), teacher_forcing_ratio=0) # turn off teacher forcing\n",
    "\n",
    "            # Compute the loss\n",
    "            loss = criterion(output.view(-1, output.size(-1)), tgt_tensor.view(-1))\n",
    "\n",
    "            \n",
    "            total_loss += loss.item()\n",
    "        \n",
    "    return total_loss / len(pairs)"
   ]
  },
  {
   "cell_type": "code",
   "execution_count": 232,
   "id": "68befe60-a650-4087-b95d-00f37e74a81f",
   "metadata": {},
   "outputs": [],
   "source": [
    "import matplotlib.pyplot as plt"
   ]
  },
  {
   "cell_type": "code",
   "execution_count": 233,
   "id": "7032ae72-27f4-4a55-b66c-c020663c70e1",
   "metadata": {
    "scrolled": true
   },
   "outputs": [
    {
     "name": "stdout",
     "output_type": "stream",
     "text": [
      "Loss 6.598265001296997\n",
      "Loss 6.00891935133934\n",
      "Loss 5.770370157400767\n",
      "Loss 5.645824918329716\n",
      "Loss 5.536176259994507\n",
      "Loss 5.4576265561183295\n",
      "Loss 5.393392550230026\n",
      "Loss 5.342395387381315\n",
      "Loss 5.296035670571857\n",
      "Loss 5.256664577746391\n",
      "Loss 5.223029337070205\n",
      "Loss 5.190010191490253\n",
      "Loss 5.152424820212217\n",
      "Loss 5.120430512377194\n",
      "Loss 5.088948726598422\n",
      "Loss 5.065876370660961\n",
      "Loss 5.047753107645932\n",
      "Loss 5.022623438000679\n",
      "Loss 5.005083603940512\n",
      "Loss 4.982833900004625\n",
      "Loss 4.963578401701791\n",
      "Loss 4.947249743900516\n",
      "Loss 4.930479061375493\n",
      "Loss 4.913348267580072\n",
      "Loss 4.898897460799217\n",
      "Loss 4.883432724815148\n",
      "Loss 4.867586285939923\n",
      "Loss 4.85496627974936\n",
      "Loss 4.841263163702242\n",
      "Loss 4.829055050702889\n",
      "Loss 4.817785317782433\n",
      "Loss 4.80572670994699\n",
      "Loss 4.797464317426537\n",
      "Loss 4.78335125289945\n",
      "Loss 4.772629938898768\n",
      "Loss 4.761856510794825\n",
      "Loss 4.754160509802199\n",
      "Loss 4.7439844267901625\n",
      "Loss 4.733330202356363\n",
      "Loss 4.726135592579841\n",
      "Loss 4.71768442690954\n",
      "Loss 4.710878596598194\n",
      "Loss 4.7039295907990875\n",
      "Loss 4.69762847658179\n",
      "Loss 4.689589963057306\n",
      "Loss 4.683504228273164\n",
      "Loss 4.677193723686198\n",
      "Loss 4.669820015537242\n",
      "Loss 4.662788635317161\n",
      "Loss 4.656234685232639\n",
      "Loss 4.651313707608803\n",
      "Loss 4.645676156977048\n",
      "Loss 4.639522763443443\n",
      "Loss 4.632857504281732\n",
      "Loss 4.626738503590497\n",
      "Loss 4.622631604017956\n",
      "Loss 4.618338898079437\n",
      "Loss 4.614087295947404\n",
      "Loss 4.610769837878518\n",
      "Loss 4.605807758216063\n",
      "Loss 4.601756423090325\n",
      "Loss 4.59796305484541\n",
      "Loss 4.59477547770644\n",
      "Loss 4.589900842277333\n",
      "Loss 4.585955814152498\n",
      "Loss 4.581367122514681\n",
      "Loss 4.577263873283543\n",
      "Loss 4.5731934346837155\n",
      "Loss 4.568045075582422\n",
      "Loss 4.563601536919389\n",
      "Loss 4.560510903670754\n",
      "Loss 4.556449854772952\n",
      "Loss 4.554051235959954\n",
      "Epoch 1/10, Train Loss: 4.5523, Test Loss: 7.2789\n",
      "Loss 4.279837013363839\n",
      "Loss 4.310084527850151\n",
      "Loss 4.31112571533521\n",
      "Loss 4.312438424229622\n",
      "Loss 4.290954595661163\n",
      "Loss 4.284879545966784\n",
      "Loss 4.285064139195851\n",
      "Loss 4.282492762744427\n",
      "Loss 4.2813272236055795\n",
      "Loss 4.277659921443463\n",
      "Loss 4.27839201799306\n",
      "Loss 4.2775953617095945\n",
      "Loss 4.270261422129778\n",
      "Loss 4.26547059406553\n",
      "Loss 4.259830942042669\n",
      "Loss 4.260088899880648\n",
      "Loss 4.2653578397806955\n",
      "Loss 4.263320298857159\n",
      "Loss 4.266034817212506\n",
      "Loss 4.262827881801129\n",
      "Loss 4.261755340122042\n",
      "Loss 4.26229132728685\n",
      "Loss 4.261228847420734\n",
      "Loss 4.259496433297793\n",
      "Loss 4.259862814674378\n",
      "Loss 4.258579505489423\n",
      "Loss 4.256431229772391\n",
      "Loss 4.2564331446375165\n",
      "Loss 4.254730458465116\n",
      "Loss 4.253900639796257\n",
      "Loss 4.253647426532161\n",
      "Loss 4.2523564831130205\n",
      "Loss 4.254084769447645\n",
      "Loss 4.249884755516754\n",
      "Loss 4.248795240194457\n",
      "Loss 4.247184231152137\n",
      "Loss 4.2480631560763795\n",
      "Loss 4.246230328820253\n",
      "Loss 4.243375037877987\n",
      "Loss 4.2438106010049585\n",
      "Loss 4.243023570031655\n",
      "Loss 4.243348526375635\n",
      "Loss 4.24355114695915\n",
      "Loss 4.243792623771863\n",
      "Loss 4.242199522145589\n",
      "Loss 4.2423348791417865\n",
      "Loss 4.24194157242014\n",
      "Loss 4.240647719211877\n",
      "Loss 4.239318196693246\n",
      "Loss 4.238377365362644\n",
      "Loss 4.238833796047697\n",
      "Loss 4.238353611838359\n",
      "Loss 4.237204259593532\n",
      "Loss 4.235419765708623\n",
      "Loss 4.23399810770425\n",
      "Loss 4.234431373941047\n",
      "Loss 4.234622986258122\n",
      "Loss 4.234660866727089\n",
      "Loss 4.235600303092245\n",
      "Loss 4.234691640426715\n",
      "Loss 4.234607557963153\n",
      "Loss 4.23473960581518\n",
      "Loss 4.235423688345485\n",
      "Loss 4.234119562603533\n",
      "Loss 4.233855051533992\n",
      "Loss 4.232839317769716\n",
      "Loss 4.232168477465858\n",
      "Loss 4.231460758912212\n",
      "Loss 4.229581221438837\n",
      "Loss 4.228306363379955\n",
      "Loss 4.22830672648759\n",
      "Loss 4.227365225185951\n",
      "Loss 4.227954767233705\n",
      "Epoch 2/10, Train Loss: 4.2282, Test Loss: 7.9486\n",
      "Loss 4.1786316503286365\n",
      "Loss 4.209331002533435\n",
      "Loss 4.2090249626636504\n",
      "Loss 4.211118161827326\n",
      "Loss 4.190729012298584\n",
      "Loss 4.185229500472546\n",
      "Loss 4.185654692019735\n",
      "Loss 4.183998245745897\n",
      "Loss 4.184073656214608\n",
      "Loss 4.18081465152502\n",
      "Loss 4.1828864209001715\n",
      "Loss 4.182417284210523\n",
      "Loss 4.175905177088884\n",
      "Loss 4.171702996024064\n",
      "Loss 4.166549593599638\n"
     ]
    },
    {
     "ename": "KeyboardInterrupt",
     "evalue": "",
     "output_type": "error",
     "traceback": [
      "\u001b[0;31m---------------------------------------------------------------------------\u001b[0m",
      "\u001b[0;31mKeyboardInterrupt\u001b[0m                         Traceback (most recent call last)",
      "Cell \u001b[0;32mIn[233], line 2\u001b[0m\n\u001b[1;32m      1\u001b[0m \u001b[38;5;28;01mfor\u001b[39;00m epoch \u001b[38;5;129;01min\u001b[39;00m \u001b[38;5;28mrange\u001b[39m(num_epochs):\n\u001b[0;32m----> 2\u001b[0m     train_loss \u001b[38;5;241m=\u001b[39m \u001b[43mtrain\u001b[49m\u001b[43m(\u001b[49m\u001b[43mseq2seq\u001b[49m\u001b[43m,\u001b[49m\u001b[43m \u001b[49m\u001b[43mtrain_pairs_final\u001b[49m\u001b[43m,\u001b[49m\u001b[43m \u001b[49m\u001b[43moptimizer\u001b[49m\u001b[43m,\u001b[49m\u001b[43m \u001b[49m\u001b[43mcriterion\u001b[49m\u001b[43m,\u001b[49m\u001b[43m \u001b[49m\u001b[43mdevice\u001b[49m\u001b[43m)\u001b[49m\n\u001b[1;32m      3\u001b[0m     test_loss \u001b[38;5;241m=\u001b[39m evaluate(seq2seq, test_pairs_final, criterion, device)    \n\u001b[1;32m      4\u001b[0m     \u001b[38;5;28mprint\u001b[39m(\u001b[38;5;124mf\u001b[39m\u001b[38;5;124m\"\u001b[39m\u001b[38;5;124mEpoch \u001b[39m\u001b[38;5;132;01m{\u001b[39;00mepoch\u001b[38;5;241m+\u001b[39m\u001b[38;5;241m1\u001b[39m\u001b[38;5;132;01m}\u001b[39;00m\u001b[38;5;124m/\u001b[39m\u001b[38;5;132;01m{\u001b[39;00mnum_epochs\u001b[38;5;132;01m}\u001b[39;00m\u001b[38;5;124m, Train Loss: \u001b[39m\u001b[38;5;132;01m{\u001b[39;00mtrain_loss\u001b[38;5;132;01m:\u001b[39;00m\u001b[38;5;124m.4f\u001b[39m\u001b[38;5;132;01m}\u001b[39;00m\u001b[38;5;124m, Test Loss: \u001b[39m\u001b[38;5;132;01m{\u001b[39;00mtest_loss\u001b[38;5;132;01m:\u001b[39;00m\u001b[38;5;124m.4f\u001b[39m\u001b[38;5;132;01m}\u001b[39;00m\u001b[38;5;124m\"\u001b[39m)\n",
      "Cell \u001b[0;32mIn[230], line 21\u001b[0m, in \u001b[0;36mtrain\u001b[0;34m(model, pairs, optimizer, criterion, device, print_every)\u001b[0m\n\u001b[1;32m     18\u001b[0m optimizer\u001b[38;5;241m.\u001b[39mzero_grad()  \u001b[38;5;66;03m# Zero the gradients\u001b[39;00m\n\u001b[1;32m     20\u001b[0m \u001b[38;5;66;03m# Forward pass\u001b[39;00m\n\u001b[0;32m---> 21\u001b[0m output \u001b[38;5;241m=\u001b[39m \u001b[43mmodel\u001b[49m\u001b[43m(\u001b[49m\u001b[43msrc_tensor\u001b[49m\u001b[43m,\u001b[49m\u001b[43m \u001b[49m\u001b[43mtgt_tensor\u001b[49m\u001b[43m,\u001b[49m\u001b[43m \u001b[49m\u001b[43msrc_len\u001b[49m\u001b[38;5;241;43m=\u001b[39;49m\u001b[43msrc_tensor\u001b[49m\u001b[38;5;241;43m.\u001b[39;49m\u001b[43msize\u001b[49m\u001b[43m(\u001b[49m\u001b[38;5;241;43m0\u001b[39;49m\u001b[43m)\u001b[49m\u001b[43m,\u001b[49m\u001b[43m \u001b[49m\u001b[43mtrg_len\u001b[49m\u001b[38;5;241;43m=\u001b[39;49m\u001b[43mtgt_tensor\u001b[49m\u001b[38;5;241;43m.\u001b[39;49m\u001b[43msize\u001b[49m\u001b[43m(\u001b[49m\u001b[38;5;241;43m0\u001b[39;49m\u001b[43m)\u001b[49m\u001b[43m,\u001b[49m\u001b[43m \u001b[49m\u001b[43mteacher_forcing_ratio\u001b[49m\u001b[38;5;241;43m=\u001b[39;49m\u001b[38;5;241;43m1\u001b[39;49m\u001b[43m)\u001b[49m\n\u001b[1;32m     23\u001b[0m \u001b[38;5;66;03m# Compute the loss\u001b[39;00m\n\u001b[1;32m     24\u001b[0m loss \u001b[38;5;241m=\u001b[39m criterion(output\u001b[38;5;241m.\u001b[39mview(\u001b[38;5;241m-\u001b[39m\u001b[38;5;241m1\u001b[39m, output\u001b[38;5;241m.\u001b[39msize(\u001b[38;5;241m-\u001b[39m\u001b[38;5;241m1\u001b[39m)), tgt_tensor\u001b[38;5;241m.\u001b[39mview(\u001b[38;5;241m-\u001b[39m\u001b[38;5;241m1\u001b[39m))\n",
      "File \u001b[0;32m/opt/conda/lib/python3.10/site-packages/torch/nn/modules/module.py:1194\u001b[0m, in \u001b[0;36mModule._call_impl\u001b[0;34m(self, *input, **kwargs)\u001b[0m\n\u001b[1;32m   1190\u001b[0m \u001b[38;5;66;03m# If we don't have any hooks, we want to skip the rest of the logic in\u001b[39;00m\n\u001b[1;32m   1191\u001b[0m \u001b[38;5;66;03m# this function, and just call forward.\u001b[39;00m\n\u001b[1;32m   1192\u001b[0m \u001b[38;5;28;01mif\u001b[39;00m \u001b[38;5;129;01mnot\u001b[39;00m (\u001b[38;5;28mself\u001b[39m\u001b[38;5;241m.\u001b[39m_backward_hooks \u001b[38;5;129;01mor\u001b[39;00m \u001b[38;5;28mself\u001b[39m\u001b[38;5;241m.\u001b[39m_forward_hooks \u001b[38;5;129;01mor\u001b[39;00m \u001b[38;5;28mself\u001b[39m\u001b[38;5;241m.\u001b[39m_forward_pre_hooks \u001b[38;5;129;01mor\u001b[39;00m _global_backward_hooks\n\u001b[1;32m   1193\u001b[0m         \u001b[38;5;129;01mor\u001b[39;00m _global_forward_hooks \u001b[38;5;129;01mor\u001b[39;00m _global_forward_pre_hooks):\n\u001b[0;32m-> 1194\u001b[0m     \u001b[38;5;28;01mreturn\u001b[39;00m \u001b[43mforward_call\u001b[49m\u001b[43m(\u001b[49m\u001b[38;5;241;43m*\u001b[39;49m\u001b[38;5;28;43minput\u001b[39;49m\u001b[43m,\u001b[49m\u001b[43m \u001b[49m\u001b[38;5;241;43m*\u001b[39;49m\u001b[38;5;241;43m*\u001b[39;49m\u001b[43mkwargs\u001b[49m\u001b[43m)\u001b[49m\n\u001b[1;32m   1195\u001b[0m \u001b[38;5;66;03m# Do not call functions when jit is used\u001b[39;00m\n\u001b[1;32m   1196\u001b[0m full_backward_hooks, non_full_backward_hooks \u001b[38;5;241m=\u001b[39m [], []\n",
      "Cell \u001b[0;32mIn[222], line 104\u001b[0m, in \u001b[0;36mSeq2Seq.forward\u001b[0;34m(self, src_batch, trg_batch, src_len, trg_len, teacher_forcing_ratio)\u001b[0m\n\u001b[1;32m     99\u001b[0m cell_state \u001b[38;5;241m=\u001b[39m torch\u001b[38;5;241m.\u001b[39mzeros([\u001b[38;5;241m1\u001b[39m, \u001b[38;5;241m1\u001b[39m, \u001b[38;5;28mself\u001b[39m\u001b[38;5;241m.\u001b[39mhidden_size])\u001b[38;5;241m.\u001b[39mto(device)\n\u001b[1;32m    101\u001b[0m \u001b[38;5;28;01mfor\u001b[39;00m i \u001b[38;5;129;01min\u001b[39;00m \u001b[38;5;28mrange\u001b[39m(src_len):\n\u001b[1;32m    102\u001b[0m \n\u001b[1;32m    103\u001b[0m     \u001b[38;5;66;03m# last hidden & cell state of the encoder is used as the decoder's initial hidden state\u001b[39;00m\n\u001b[0;32m--> 104\u001b[0m     _, hidden, cell \u001b[38;5;241m=\u001b[39m \u001b[38;5;28;43mself\u001b[39;49m\u001b[38;5;241;43m.\u001b[39;49m\u001b[43mencoder\u001b[49m\u001b[43m(\u001b[49m\u001b[43msrc_batch\u001b[49m\u001b[43m[\u001b[49m\u001b[43mi\u001b[49m\u001b[43m]\u001b[49m\u001b[43m,\u001b[49m\u001b[43m \u001b[49m\u001b[43mencoder_hidden\u001b[49m\u001b[43m,\u001b[49m\u001b[43m \u001b[49m\u001b[43mcell_state\u001b[49m\u001b[43m)\u001b[49m\n\u001b[1;32m    108\u001b[0m trg \u001b[38;5;241m=\u001b[39m trg_batch[\u001b[38;5;241m0\u001b[39m]\n\u001b[1;32m    110\u001b[0m \u001b[38;5;28;01mfor\u001b[39;00m i \u001b[38;5;129;01min\u001b[39;00m \u001b[38;5;28mrange\u001b[39m(trg_len):\n",
      "File \u001b[0;32m/opt/conda/lib/python3.10/site-packages/torch/nn/modules/module.py:1194\u001b[0m, in \u001b[0;36mModule._call_impl\u001b[0;34m(self, *input, **kwargs)\u001b[0m\n\u001b[1;32m   1190\u001b[0m \u001b[38;5;66;03m# If we don't have any hooks, we want to skip the rest of the logic in\u001b[39;00m\n\u001b[1;32m   1191\u001b[0m \u001b[38;5;66;03m# this function, and just call forward.\u001b[39;00m\n\u001b[1;32m   1192\u001b[0m \u001b[38;5;28;01mif\u001b[39;00m \u001b[38;5;129;01mnot\u001b[39;00m (\u001b[38;5;28mself\u001b[39m\u001b[38;5;241m.\u001b[39m_backward_hooks \u001b[38;5;129;01mor\u001b[39;00m \u001b[38;5;28mself\u001b[39m\u001b[38;5;241m.\u001b[39m_forward_hooks \u001b[38;5;129;01mor\u001b[39;00m \u001b[38;5;28mself\u001b[39m\u001b[38;5;241m.\u001b[39m_forward_pre_hooks \u001b[38;5;129;01mor\u001b[39;00m _global_backward_hooks\n\u001b[1;32m   1193\u001b[0m         \u001b[38;5;129;01mor\u001b[39;00m _global_forward_hooks \u001b[38;5;129;01mor\u001b[39;00m _global_forward_pre_hooks):\n\u001b[0;32m-> 1194\u001b[0m     \u001b[38;5;28;01mreturn\u001b[39;00m \u001b[43mforward_call\u001b[49m\u001b[43m(\u001b[49m\u001b[38;5;241;43m*\u001b[39;49m\u001b[38;5;28;43minput\u001b[39;49m\u001b[43m,\u001b[49m\u001b[43m \u001b[49m\u001b[38;5;241;43m*\u001b[39;49m\u001b[38;5;241;43m*\u001b[39;49m\u001b[43mkwargs\u001b[49m\u001b[43m)\u001b[49m\n\u001b[1;32m   1195\u001b[0m \u001b[38;5;66;03m# Do not call functions when jit is used\u001b[39;00m\n\u001b[1;32m   1196\u001b[0m full_backward_hooks, non_full_backward_hooks \u001b[38;5;241m=\u001b[39m [], []\n",
      "Cell \u001b[0;32mIn[222], line 33\u001b[0m, in \u001b[0;36mEncoder.forward\u001b[0;34m(self, x, hidden, cell_state)\u001b[0m\n\u001b[1;32m     29\u001b[0m x \u001b[38;5;241m=\u001b[39m x\u001b[38;5;241m.\u001b[39mview(\u001b[38;5;241m1\u001b[39m, \u001b[38;5;241m1\u001b[39m, \u001b[38;5;241m-\u001b[39m\u001b[38;5;241m1\u001b[39m)\n\u001b[1;32m     31\u001b[0m \u001b[38;5;66;03m#x = x.view(x.shape[0], 1, -1)\u001b[39;00m\n\u001b[0;32m---> 33\u001b[0m x, (hidden, cell_state) \u001b[38;5;241m=\u001b[39m \u001b[38;5;28;43mself\u001b[39;49m\u001b[38;5;241;43m.\u001b[39;49m\u001b[43mlstm\u001b[49m\u001b[43m(\u001b[49m\u001b[43mx\u001b[49m\u001b[43m,\u001b[49m\u001b[43m \u001b[49m\u001b[43m(\u001b[49m\u001b[43mhidden\u001b[49m\u001b[43m,\u001b[49m\u001b[43m \u001b[49m\u001b[43mcell_state\u001b[49m\u001b[43m)\u001b[49m\u001b[43m)\u001b[49m\n\u001b[1;32m     34\u001b[0m \u001b[38;5;28;01mreturn\u001b[39;00m x, hidden, cell_state\n",
      "File \u001b[0;32m/opt/conda/lib/python3.10/site-packages/torch/nn/modules/module.py:1194\u001b[0m, in \u001b[0;36mModule._call_impl\u001b[0;34m(self, *input, **kwargs)\u001b[0m\n\u001b[1;32m   1190\u001b[0m \u001b[38;5;66;03m# If we don't have any hooks, we want to skip the rest of the logic in\u001b[39;00m\n\u001b[1;32m   1191\u001b[0m \u001b[38;5;66;03m# this function, and just call forward.\u001b[39;00m\n\u001b[1;32m   1192\u001b[0m \u001b[38;5;28;01mif\u001b[39;00m \u001b[38;5;129;01mnot\u001b[39;00m (\u001b[38;5;28mself\u001b[39m\u001b[38;5;241m.\u001b[39m_backward_hooks \u001b[38;5;129;01mor\u001b[39;00m \u001b[38;5;28mself\u001b[39m\u001b[38;5;241m.\u001b[39m_forward_hooks \u001b[38;5;129;01mor\u001b[39;00m \u001b[38;5;28mself\u001b[39m\u001b[38;5;241m.\u001b[39m_forward_pre_hooks \u001b[38;5;129;01mor\u001b[39;00m _global_backward_hooks\n\u001b[1;32m   1193\u001b[0m         \u001b[38;5;129;01mor\u001b[39;00m _global_forward_hooks \u001b[38;5;129;01mor\u001b[39;00m _global_forward_pre_hooks):\n\u001b[0;32m-> 1194\u001b[0m     \u001b[38;5;28;01mreturn\u001b[39;00m \u001b[43mforward_call\u001b[49m\u001b[43m(\u001b[49m\u001b[38;5;241;43m*\u001b[39;49m\u001b[38;5;28;43minput\u001b[39;49m\u001b[43m,\u001b[49m\u001b[43m \u001b[49m\u001b[38;5;241;43m*\u001b[39;49m\u001b[38;5;241;43m*\u001b[39;49m\u001b[43mkwargs\u001b[49m\u001b[43m)\u001b[49m\n\u001b[1;32m   1195\u001b[0m \u001b[38;5;66;03m# Do not call functions when jit is used\u001b[39;00m\n\u001b[1;32m   1196\u001b[0m full_backward_hooks, non_full_backward_hooks \u001b[38;5;241m=\u001b[39m [], []\n",
      "File \u001b[0;32m/opt/conda/lib/python3.10/site-packages/torch/nn/modules/rnn.py:774\u001b[0m, in \u001b[0;36mLSTM.forward\u001b[0;34m(self, input, hx)\u001b[0m\n\u001b[1;32m    772\u001b[0m \u001b[38;5;28mself\u001b[39m\u001b[38;5;241m.\u001b[39mcheck_forward_args(\u001b[38;5;28minput\u001b[39m, hx, batch_sizes)\n\u001b[1;32m    773\u001b[0m \u001b[38;5;28;01mif\u001b[39;00m batch_sizes \u001b[38;5;129;01mis\u001b[39;00m \u001b[38;5;28;01mNone\u001b[39;00m:\n\u001b[0;32m--> 774\u001b[0m     result \u001b[38;5;241m=\u001b[39m \u001b[43m_VF\u001b[49m\u001b[38;5;241;43m.\u001b[39;49m\u001b[43mlstm\u001b[49m\u001b[43m(\u001b[49m\u001b[38;5;28;43minput\u001b[39;49m\u001b[43m,\u001b[49m\u001b[43m \u001b[49m\u001b[43mhx\u001b[49m\u001b[43m,\u001b[49m\u001b[43m \u001b[49m\u001b[38;5;28;43mself\u001b[39;49m\u001b[38;5;241;43m.\u001b[39;49m\u001b[43m_flat_weights\u001b[49m\u001b[43m,\u001b[49m\u001b[43m \u001b[49m\u001b[38;5;28;43mself\u001b[39;49m\u001b[38;5;241;43m.\u001b[39;49m\u001b[43mbias\u001b[49m\u001b[43m,\u001b[49m\u001b[43m \u001b[49m\u001b[38;5;28;43mself\u001b[39;49m\u001b[38;5;241;43m.\u001b[39;49m\u001b[43mnum_layers\u001b[49m\u001b[43m,\u001b[49m\n\u001b[1;32m    775\u001b[0m \u001b[43m                      \u001b[49m\u001b[38;5;28;43mself\u001b[39;49m\u001b[38;5;241;43m.\u001b[39;49m\u001b[43mdropout\u001b[49m\u001b[43m,\u001b[49m\u001b[43m \u001b[49m\u001b[38;5;28;43mself\u001b[39;49m\u001b[38;5;241;43m.\u001b[39;49m\u001b[43mtraining\u001b[49m\u001b[43m,\u001b[49m\u001b[43m \u001b[49m\u001b[38;5;28;43mself\u001b[39;49m\u001b[38;5;241;43m.\u001b[39;49m\u001b[43mbidirectional\u001b[49m\u001b[43m,\u001b[49m\u001b[43m \u001b[49m\u001b[38;5;28;43mself\u001b[39;49m\u001b[38;5;241;43m.\u001b[39;49m\u001b[43mbatch_first\u001b[49m\u001b[43m)\u001b[49m\n\u001b[1;32m    776\u001b[0m \u001b[38;5;28;01melse\u001b[39;00m:\n\u001b[1;32m    777\u001b[0m     result \u001b[38;5;241m=\u001b[39m _VF\u001b[38;5;241m.\u001b[39mlstm(\u001b[38;5;28minput\u001b[39m, batch_sizes, hx, \u001b[38;5;28mself\u001b[39m\u001b[38;5;241m.\u001b[39m_flat_weights, \u001b[38;5;28mself\u001b[39m\u001b[38;5;241m.\u001b[39mbias,\n\u001b[1;32m    778\u001b[0m                       \u001b[38;5;28mself\u001b[39m\u001b[38;5;241m.\u001b[39mnum_layers, \u001b[38;5;28mself\u001b[39m\u001b[38;5;241m.\u001b[39mdropout, \u001b[38;5;28mself\u001b[39m\u001b[38;5;241m.\u001b[39mtraining, \u001b[38;5;28mself\u001b[39m\u001b[38;5;241m.\u001b[39mbidirectional)\n",
      "\u001b[0;31mKeyboardInterrupt\u001b[0m: "
     ]
    }
   ],
   "source": [
    "for epoch in range(num_epochs):\n",
    "    train_loss = train(seq2seq, train_pairs_final, optimizer, criterion, device)\n",
    "    test_loss = evaluate(seq2seq, test_pairs_final, criterion, device)    \n",
    "    print(f\"Epoch {epoch+1}/{num_epochs}, Train Loss: {train_loss:.4f}, Test Loss: {test_loss:.4f}\")\n",
    "\n",
    "    total_train_loss.append(train_loss)\n",
    "    total_test_loss.append(test_loss)\n",
    "\n"
   ]
  },
  {
   "cell_type": "code",
   "execution_count": 148,
   "id": "148f8737-8d32-48af-a377-9959d238ed03",
   "metadata": {},
   "outputs": [
    {
     "data": {
      "text/plain": [
       "Text(0, 0.5, 'loss')"
      ]
     },
     "execution_count": 148,
     "metadata": {},
     "output_type": "execute_result"
    },
    {
     "data": {
      "image/png": "[encoded data removed]",
      "text/plain": [
       "<Figure size 640x480 with 1 Axes>"
      ]
     },
     "metadata": {},
     "output_type": "display_data"
    }
   ],
   "source": [
    "fig, ax = plt.subplots()\n",
    "ax.plot(range(1, num_epochs+1), total_train_loss, color = 'blue', label = 'train loss')\n",
    "ax.plot(range(1, num_epochs+1), total_test_loss, color = 'orange', label = 'test loss')\n",
    "ax.legend()\n",
    "ax.set_title(f'Seq2Seq, {num_epochs} epochs, learning rate {learning_rate}')\n",
    "ax.set_xticks(range(1, num_epochs+1))\n",
    "ax.set_xlabel('epochs')\n",
    "ax.set_ylabel('loss')"
   ]
  },
  {
   "cell_type": "code",
   "execution_count": null,
   "id": "ed8ad90b-84d6-4bf3-a5e2-4be24ad1bb86",
   "metadata": {},
   "outputs": [],
   "source": []
  },
  {
   "cell_type": "code",
   "execution_count": null,
   "id": "eeb1a171-8c66-4231-b321-1c04e146f8b0",
   "metadata": {},
   "outputs": [],
   "source": [
    "https://jaketae.github.io/study/seq2seq/"
   ]
  }
 ],
 "metadata": {
  "kernelspec": {
   "display_name": "lstm_chatbot",
   "language": "python",
   "name": "lstm_chatbot"
  },
  "language_info": {
   "codemirror_mode": {
    "name": "ipython",
    "version": 3
   },
   "file_extension": ".py",
   "mimetype": "text/x-python",
   "name": "python",
   "nbconvert_exporter": "python",
   "pygments_lexer": "ipython3",
   "version": "3.8.10"
  }
 },
 "nbformat": 4,
 "nbformat_minor": 5
}
