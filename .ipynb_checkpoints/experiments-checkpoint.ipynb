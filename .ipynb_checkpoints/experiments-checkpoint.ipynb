{
 "cells": [
  {
   "cell_type": "markdown",
   "id": "6c91eab6-97e2-45f9-9755-928dd93fe1c0",
   "metadata": {},
   "source": [
    "# EXPERIMENTS"
   ]
  },
  {
   "cell_type": "code",
   "execution_count": 1,
   "id": "4d06b1c1-2ad9-442a-994d-5f0241ac8cd9",
   "metadata": {},
   "outputs": [],
   "source": [
    "import torch"
   ]
  },
  {
   "cell_type": "code",
   "execution_count": 2,
   "id": "b149275f-8120-4330-af11-301e5e2484f2",
   "metadata": {},
   "outputs": [],
   "source": [
    "device = 'cuda' if torch.cuda.is_available() else 'cpu'"
   ]
  },
  {
   "cell_type": "code",
   "execution_count": 3,
   "id": "c06267c5-d952-4d79-a0ef-154ef1d12da7",
   "metadata": {},
   "outputs": [
    {
     "data": {
      "text/plain": [
       "'cuda'"
      ]
     },
     "execution_count": 3,
     "metadata": {},
     "output_type": "execute_result"
    }
   ],
   "source": [
    "device"
   ]
  },
  {
   "cell_type": "code",
   "execution_count": 4,
   "id": "577ccf07-2d8d-4eca-b469-bcbbcdc205e3",
   "metadata": {},
   "outputs": [],
   "source": [
    "from torchtext.datasets import SQuAD1"
   ]
  },
  {
   "cell_type": "code",
   "execution_count": 86,
   "id": "505c7b61-727a-40eb-b30c-c620619b6fae",
   "metadata": {},
   "outputs": [],
   "source": [
    "train, test = SQuAD1(\"root\")"
   ]
  },
  {
   "cell_type": "code",
   "execution_count": 6,
   "id": "7794c561-e8b2-4364-a044-a59229a7a55a",
   "metadata": {},
   "outputs": [
    {
     "name": "stderr",
     "output_type": "stream",
     "text": [
      "[nltk_data] Downloading package wordnet to\n",
      "[nltk_data]     /home/nebelgrau/nltk_data...\n",
      "[nltk_data]   Package wordnet is already up-to-date!\n",
      "[nltk_data] Downloading package averaged_perceptron_tagger to\n",
      "[nltk_data]     /home/nebelgrau/nltk_data...\n",
      "[nltk_data]   Package averaged_perceptron_tagger is already up-to-\n",
      "[nltk_data]       date!\n",
      "[nltk_data] Downloading package stopwords to\n",
      "[nltk_data]     /home/nebelgrau/nltk_data...\n",
      "[nltk_data]   Package stopwords is already up-to-date!\n"
     ]
    }
   ],
   "source": [
    "from modules.data import *\n",
    "\n",
    "#get_dataframe,  get_pairs_from_df, cols, sample_df_perc, get_thresholds, get_outliers, tokenize_sentence, remove_least_common, to_tensor,  filter_sentences"
   ]
  },
  {
   "cell_type": "code",
   "execution_count": null,
   "id": "c044a466-f5fb-44ac-80a9-97eb804415d0",
   "metadata": {},
   "outputs": [],
   "source": []
  },
  {
   "cell_type": "code",
   "execution_count": 8,
   "id": "a2599e3a-179e-4592-9bc6-680a843f1de0",
   "metadata": {},
   "outputs": [],
   "source": [
    "# get train and test dataframes of sentences\n",
    "train_df, test_df = get_dataframe(train), get_dataframe(test)"
   ]
  },
  {
   "cell_type": "code",
   "execution_count": 9,
   "id": "4c9dba68-85eb-4f74-8653-4ccd4b6fcf53",
   "metadata": {},
   "outputs": [
    {
     "data": {
      "text/plain": [
       "((87599, 2), (10570, 2))"
      ]
     },
     "execution_count": 9,
     "metadata": {},
     "output_type": "execute_result"
    }
   ],
   "source": [
    "train_df.shape, test_df.shape"
   ]
  },
  {
   "cell_type": "code",
   "execution_count": 10,
   "id": "21afd232-f9c8-454a-954a-498ac46604a9",
   "metadata": {},
   "outputs": [],
   "source": [
    "train_len = 15000\n",
    "test_len = 3000"
   ]
  },
  {
   "cell_type": "code",
   "execution_count": 11,
   "id": "c284b513-9dea-4e23-9925-d599de74404e",
   "metadata": {},
   "outputs": [],
   "source": [
    "train_df = sample_df_num(train_df, train_len)"
   ]
  },
  {
   "cell_type": "code",
   "execution_count": 12,
   "id": "919b5ac7-7036-4463-ab2e-7e8997f49512",
   "metadata": {},
   "outputs": [],
   "source": [
    "test_df = sample_df_num(test_df, test_len)"
   ]
  },
  {
   "cell_type": "code",
   "execution_count": 13,
   "id": "7d477c65-4956-4a3d-b054-d93b005e3a85",
   "metadata": {},
   "outputs": [
    {
     "data": {
      "text/plain": [
       "((15000, 2), (3000, 2))"
      ]
     },
     "execution_count": 13,
     "metadata": {},
     "output_type": "execute_result"
    }
   ],
   "source": [
    "train_df.shape, test_df.shape"
   ]
  },
  {
   "cell_type": "code",
   "execution_count": 14,
   "id": "14162092-3325-4c3a-a6ae-736e7cfeb1db",
   "metadata": {
    "scrolled": true
   },
   "outputs": [
    {
     "data": {
      "text/html": [
       "<div>\n",
       "<style scoped>\n",
       "    .dataframe tbody tr th:only-of-type {\n",
       "        vertical-align: middle;\n",
       "    }\n",
       "\n",
       "    .dataframe tbody tr th {\n",
       "        vertical-align: top;\n",
       "    }\n",
       "\n",
       "    .dataframe thead th {\n",
       "        text-align: right;\n",
       "    }\n",
       "</style>\n",
       "<table border=\"1\" class=\"dataframe\">\n",
       "  <thead>\n",
       "    <tr style=\"text-align: right;\">\n",
       "      <th></th>\n",
       "      <th>Question</th>\n",
       "      <th>Answer</th>\n",
       "    </tr>\n",
       "  </thead>\n",
       "  <tbody>\n",
       "    <tr>\n",
       "      <th>0</th>\n",
       "      <td>In approximately what year did a movement in f...</td>\n",
       "      <td>1890</td>\n",
       "    </tr>\n",
       "    <tr>\n",
       "      <th>1</th>\n",
       "      <td>When were skills that guaranteed survival in t...</td>\n",
       "      <td>the medieval period</td>\n",
       "    </tr>\n",
       "    <tr>\n",
       "      <th>2</th>\n",
       "      <td>The Statue of Liberty is also in what other US...</td>\n",
       "      <td>New Jersey</td>\n",
       "    </tr>\n",
       "  </tbody>\n",
       "</table>\n",
       "</div>"
      ],
      "text/plain": [
       "                                            Question               Answer\n",
       "0  In approximately what year did a movement in f...                 1890\n",
       "1  When were skills that guaranteed survival in t...  the medieval period\n",
       "2  The Statue of Liberty is also in what other US...           New Jersey"
      ]
     },
     "execution_count": 14,
     "metadata": {},
     "output_type": "execute_result"
    }
   ],
   "source": [
    "train_df.head(3)"
   ]
  },
  {
   "cell_type": "code",
   "execution_count": 15,
   "id": "dff6af68-7e22-41ce-8c6d-bbcfdbd416b7",
   "metadata": {},
   "outputs": [],
   "source": [
    "from torchtext.data.utils import get_tokenizer"
   ]
  },
  {
   "cell_type": "code",
   "execution_count": 16,
   "id": "3c0c8cb2-4f97-4020-90df-30c7856abbcd",
   "metadata": {},
   "outputs": [],
   "source": [
    "tokenizer = get_tokenizer(\"basic_english\")"
   ]
  },
  {
   "cell_type": "code",
   "execution_count": 18,
   "id": "d990426d-aae6-4f7e-949f-ffdfb6163d0e",
   "metadata": {},
   "outputs": [
    {
     "data": {
      "text/plain": [
       "['what',\n",
       " 'was',\n",
       " 'the',\n",
       " 'name',\n",
       " 'of',\n",
       " 'the',\n",
       " 'new',\n",
       " 'musical',\n",
       " 'style',\n",
       " 'that',\n",
       " 'emerged',\n",
       " 'from',\n",
       " 'new',\n",
       " 'york',\n",
       " 'in',\n",
       " 'the',\n",
       " '1970s',\n",
       " '?']"
      ]
     },
     "execution_count": 18,
     "metadata": {},
     "output_type": "execute_result"
    }
   ],
   "source": [
    "tokenizer(train_df['Question'][77])"
   ]
  },
  {
   "cell_type": "code",
   "execution_count": 19,
   "id": "52587624-9f1f-4e48-950c-e8039a1d5e35",
   "metadata": {},
   "outputs": [],
   "source": [
    "from torchtext.vocab import build_vocab_from_iterator"
   ]
  },
  {
   "cell_type": "code",
   "execution_count": 44,
   "id": "4c6256e6-70a1-4136-84a0-a8fbb821eb9f",
   "metadata": {},
   "outputs": [
    {
     "name": "stdout",
     "output_type": "stream",
     "text": [
      "Which NFL team represented the AFC at Super Bowl 50? ['Denver Broncos', 'Denver Broncos', 'Denver Broncos']\n",
      "Which NFL team represented the NFC at Super Bowl 50? ['Carolina Panthers', 'Carolina Panthers', 'Carolina Panthers']\n",
      "Where did Super Bowl 50 take place? ['Santa Clara, California', \"Levi's Stadium\", \"Levi's Stadium in the San Francisco Bay Area at Santa Clara, California.\"]\n",
      "Which NFL team won Super Bowl 50? ['Denver Broncos', 'Denver Broncos', 'Denver Broncos']\n"
     ]
    }
   ],
   "source": [
    "count = 0\n",
    "for _, q, a, _ in test:    \n",
    "    print(q,a)\n",
    "    count += 1\n",
    "    if count > 3:\n",
    "        break"
   ]
  },
  {
   "cell_type": "code",
   "execution_count": 54,
   "id": "123d62bb-5260-4168-9070-d78185f01740",
   "metadata": {},
   "outputs": [],
   "source": [
    "def yield_tokens(data_iter):\n",
    "    for _, question, answer, _ in data_iter:\n",
    "        # yield (tokenizer(question), tokenizer(answer[0]))\n",
    "        yield tokenizer(question)        \n",
    "    "
   ]
  },
  {
   "cell_type": "code",
   "execution_count": 82,
   "id": "2632805a-c651-487b-8952-4e11a795b442",
   "metadata": {},
   "outputs": [],
   "source": [
    "testdata = yield_tokens(test)"
   ]
  },
  {
   "cell_type": "code",
   "execution_count": 56,
   "id": "db16a331-1a1e-4b40-9290-37058bbf8cd1",
   "metadata": {},
   "outputs": [],
   "source": [
    "def get_vocab(train_datapipe):\n",
    "    vocab = build_vocab_from_iterator(yield_tokens(train_datapipe),\n",
    "                                      specials=['<SOS>', '<EOS>', '<PAD>', '<UNK>'])\n",
    "    vocab.set_default_index(vocab['<UNK>'])\n",
    "                                                \n",
    "    return vocab"
   ]
  },
  {
   "cell_type": "code",
   "execution_count": 58,
   "id": "55030115-f70e-4eba-8d4f-244cbb2202b9",
   "metadata": {},
   "outputs": [],
   "source": [
    "Q_vocab = get_vocab(test)"
   ]
  },
  {
   "cell_type": "code",
   "execution_count": 66,
   "id": "09357059-7104-496f-b240-b4098b496c1e",
   "metadata": {},
   "outputs": [
    {
     "data": {
      "text/plain": [
       "844"
      ]
     },
     "execution_count": 66,
     "metadata": {},
     "output_type": "execute_result"
    }
   ],
   "source": [
    "Q_vocab['man']"
   ]
  },
  {
   "cell_type": "code",
   "execution_count": 67,
   "id": "cdcd786e-8b2e-47ee-b5be-f8ff2633345c",
   "metadata": {},
   "outputs": [],
   "source": [
    "from torch.nn.utils.rnn import pad_sequence"
   ]
  },
  {
   "cell_type": "code",
   "execution_count": 87,
   "id": "4cefed64-fa28-4fa4-84fe-4e19e676c0da",
   "metadata": {},
   "outputs": [
    {
     "name": "stdout",
     "output_type": "stream",
     "text": [
      "['which', 'nfl', 'team', 'represented', 'the', 'afc', 'at', 'super', 'bowl', '50', '?']\n"
     ]
    }
   ],
   "source": [
    "count = 0\n",
    "testseq = []\n",
    "for n in yield_tokens(test):\n",
    "    print(n)\n",
    "    count += 1\n",
    "    testseq = n\n",
    "    if count > 0:\n",
    "        \n",
    "        break"
   ]
  },
  {
   "cell_type": "code",
   "execution_count": 88,
   "id": "19070970-897d-48c4-b4b6-e1fda7b19756",
   "metadata": {},
   "outputs": [
    {
     "data": {
      "text/plain": [
       "['which',\n",
       " 'nfl',\n",
       " 'team',\n",
       " 'represented',\n",
       " 'the',\n",
       " 'afc',\n",
       " 'at',\n",
       " 'super',\n",
       " 'bowl',\n",
       " '50',\n",
       " '?']"
      ]
     },
     "execution_count": 88,
     "metadata": {},
     "output_type": "execute_result"
    }
   ],
   "source": [
    "testseq"
   ]
  },
  {
   "cell_type": "code",
   "execution_count": 89,
   "id": "ed07df8d-871a-4f8e-9738-eb74bc0bc414",
   "metadata": {},
   "outputs": [
    {
     "ename": "TypeError",
     "evalue": "expected Tensor as element 0 in argument 0, but got str",
     "output_type": "error",
     "traceback": [
      "\u001b[0;31m---------------------------------------------------------------------------\u001b[0m",
      "\u001b[0;31mTypeError\u001b[0m                                 Traceback (most recent call last)",
      "Cell \u001b[0;32mIn[89], line 1\u001b[0m\n\u001b[0;32m----> 1\u001b[0m \u001b[43mpad_sequence\u001b[49m\u001b[43m(\u001b[49m\u001b[43mtestseq\u001b[49m\u001b[43m)\u001b[49m\n",
      "File \u001b[0;32m/opt/conda/lib/python3.10/site-packages/torch/nn/utils/rnn.py:398\u001b[0m, in \u001b[0;36mpad_sequence\u001b[0;34m(sequences, batch_first, padding_value)\u001b[0m\n\u001b[1;32m    394\u001b[0m         sequences \u001b[38;5;241m=\u001b[39m sequences\u001b[38;5;241m.\u001b[39munbind(\u001b[38;5;241m0\u001b[39m)\n\u001b[1;32m    396\u001b[0m \u001b[38;5;66;03m# assuming trailing dimensions and type of all the Tensors\u001b[39;00m\n\u001b[1;32m    397\u001b[0m \u001b[38;5;66;03m# in sequences are same and fetching those from sequences[0]\u001b[39;00m\n\u001b[0;32m--> 398\u001b[0m \u001b[38;5;28;01mreturn\u001b[39;00m \u001b[43mtorch\u001b[49m\u001b[38;5;241;43m.\u001b[39;49m\u001b[43m_C\u001b[49m\u001b[38;5;241;43m.\u001b[39;49m\u001b[43m_nn\u001b[49m\u001b[38;5;241;43m.\u001b[39;49m\u001b[43mpad_sequence\u001b[49m\u001b[43m(\u001b[49m\u001b[43msequences\u001b[49m\u001b[43m,\u001b[49m\u001b[43m \u001b[49m\u001b[43mbatch_first\u001b[49m\u001b[43m,\u001b[49m\u001b[43m \u001b[49m\u001b[43mpadding_value\u001b[49m\u001b[43m)\u001b[49m\n",
      "\u001b[0;31mTypeError\u001b[0m: expected Tensor as element 0 in argument 0, but got str"
     ]
    }
   ],
   "source": [
    "pad_sequence(testseq)"
   ]
  },
  {
   "cell_type": "code",
   "execution_count": 90,
   "id": "7c1575d5-70f0-4350-88a4-8bfff553571f",
   "metadata": {},
   "outputs": [
    {
     "data": {
      "text/plain": [
       "\u001b[0;31mSignature:\u001b[0m\n",
       "\u001b[0mpad_sequence\u001b[0m\u001b[0;34m(\u001b[0m\u001b[0;34m\u001b[0m\n",
       "\u001b[0;34m\u001b[0m    \u001b[0msequences\u001b[0m\u001b[0;34m:\u001b[0m \u001b[0mUnion\u001b[0m\u001b[0;34m[\u001b[0m\u001b[0mtorch\u001b[0m\u001b[0;34m.\u001b[0m\u001b[0mTensor\u001b[0m\u001b[0;34m,\u001b[0m \u001b[0mList\u001b[0m\u001b[0;34m[\u001b[0m\u001b[0mtorch\u001b[0m\u001b[0;34m.\u001b[0m\u001b[0mTensor\u001b[0m\u001b[0;34m]\u001b[0m\u001b[0;34m]\u001b[0m\u001b[0;34m,\u001b[0m\u001b[0;34m\u001b[0m\n",
       "\u001b[0;34m\u001b[0m    \u001b[0mbatch_first\u001b[0m\u001b[0;34m:\u001b[0m \u001b[0mbool\u001b[0m \u001b[0;34m=\u001b[0m \u001b[0;32mFalse\u001b[0m\u001b[0;34m,\u001b[0m\u001b[0;34m\u001b[0m\n",
       "\u001b[0;34m\u001b[0m    \u001b[0mpadding_value\u001b[0m\u001b[0;34m:\u001b[0m \u001b[0mfloat\u001b[0m \u001b[0;34m=\u001b[0m \u001b[0;36m0.0\u001b[0m\u001b[0;34m,\u001b[0m\u001b[0;34m\u001b[0m\n",
       "\u001b[0;34m\u001b[0m\u001b[0;34m)\u001b[0m \u001b[0;34m->\u001b[0m \u001b[0mtorch\u001b[0m\u001b[0;34m.\u001b[0m\u001b[0mTensor\u001b[0m\u001b[0;34m\u001b[0m\u001b[0;34m\u001b[0m\u001b[0m\n",
       "\u001b[0;31mDocstring:\u001b[0m\n",
       "Pad a list of variable length Tensors with ``padding_value``\n",
       "\n",
       "``pad_sequence`` stacks a list of Tensors along a new dimension,\n",
       "and pads them to equal length. For example, if the input is list of\n",
       "sequences with size ``L x *`` and if batch_first is False, and ``T x B x *``\n",
       "otherwise.\n",
       "\n",
       "`B` is batch size. It is equal to the number of elements in ``sequences``.\n",
       "`T` is length of the longest sequence.\n",
       "`L` is length of the sequence.\n",
       "`*` is any number of trailing dimensions, including none.\n",
       "\n",
       "Example:\n",
       "    >>> from torch.nn.utils.rnn import pad_sequence\n",
       "    >>> a = torch.ones(25, 300)\n",
       "    >>> b = torch.ones(22, 300)\n",
       "    >>> c = torch.ones(15, 300)\n",
       "    >>> pad_sequence([a, b, c]).size()\n",
       "    torch.Size([25, 3, 300])\n",
       "\n",
       "Note:\n",
       "    This function returns a Tensor of size ``T x B x *`` or ``B x T x *``\n",
       "    where `T` is the length of the longest sequence. This function assumes\n",
       "    trailing dimensions and type of all the Tensors in sequences are same.\n",
       "\n",
       "Args:\n",
       "    sequences (list[Tensor]): list of variable length sequences.\n",
       "    batch_first (bool, optional): output will be in ``B x T x *`` if True, or in\n",
       "        ``T x B x *`` otherwise. Default: False.\n",
       "    padding_value (float, optional): value for padded elements. Default: 0.\n",
       "\n",
       "Returns:\n",
       "    Tensor of size ``T x B x *`` if :attr:`batch_first` is ``False``.\n",
       "    Tensor of size ``B x T x *`` otherwise\n",
       "\u001b[0;31mFile:\u001b[0m      /opt/conda/lib/python3.10/site-packages/torch/nn/utils/rnn.py\n",
       "\u001b[0;31mType:\u001b[0m      function\n"
      ]
     },
     "metadata": {},
     "output_type": "display_data"
    }
   ],
   "source": [
    "pad_sequence?"
   ]
  },
  {
   "cell_type": "code",
   "execution_count": null,
   "id": "259d8ada-0af4-4693-8a13-91fe04c46b69",
   "metadata": {},
   "outputs": [],
   "source": []
  }
 ],
 "metadata": {
  "kernelspec": {
   "display_name": "Python 3 (ipykernel)",
   "language": "python",
   "name": "python3"
  },
  "language_info": {
   "codemirror_mode": {
    "name": "ipython",
    "version": 3
   },
   "file_extension": ".py",
   "mimetype": "text/x-python",
   "name": "python",
   "nbconvert_exporter": "python",
   "pygments_lexer": "ipython3",
   "version": "3.10.8"
  }
 },
 "nbformat": 4,
 "nbformat_minor": 5
}
