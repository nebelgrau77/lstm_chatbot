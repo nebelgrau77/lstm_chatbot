{
 "cells": [
  {
   "cell_type": "markdown",
   "id": "162c2679-9204-4273-a4a1-64f41ef9d11b",
   "metadata": {},
   "source": [
    "# RNN LSTM Chatbot project\n",
    "\n",
    "In this project I'm creating a chatbot that is supposed to answer questions from the Stanford Questions & Answers dataset SQuAD1, using a Seq2Seq Encoder-Decoder architecture in PyTorch.\n",
    "\n",
    "To make the notebook more readable and the code more modular, all helper functions (data ingestion and preparation, data analysis, vocabulary creation) were moved to `modules`. \n",
    "\n",
    "The model for easier debugging is kept in the main notebook for now.\n",
    "\n"
   ]
  },
  {
   "cell_type": "code",
   "execution_count": null,
   "id": "4ac1b039-0f2c-4cb1-ba88-f7432a67d1d4",
   "metadata": {},
   "outputs": [],
   "source": []
  },
  {
   "cell_type": "code",
   "execution_count": 4,
   "id": "b79ff163-ef6c-4dbd-b8b8-9a0b6f31122c",
   "metadata": {},
   "outputs": [],
   "source": [
    "import torch"
   ]
  },
  {
   "cell_type": "code",
   "execution_count": 5,
   "id": "05e1d6c1-da35-4ac8-9bf9-65b786d259f2",
   "metadata": {},
   "outputs": [],
   "source": [
    "device = 'cuda' if torch.cuda.is_available() else 'cpu'"
   ]
  },
  {
   "cell_type": "code",
   "execution_count": 6,
   "id": "9442349d-4e46-4ba2-b9f8-79b6ce598c41",
   "metadata": {},
   "outputs": [
    {
     "data": {
      "text/plain": [
       "'cuda'"
      ]
     },
     "execution_count": 6,
     "metadata": {},
     "output_type": "execute_result"
    }
   ],
   "source": [
    "device"
   ]
  },
  {
   "cell_type": "code",
   "execution_count": 7,
   "id": "179a6456-5007-46ed-97d0-7477cd9cc0cc",
   "metadata": {},
   "outputs": [],
   "source": [
    "from torchtext.datasets import SQuAD1"
   ]
  },
  {
   "cell_type": "code",
   "execution_count": 8,
   "id": "30ef63a7-6d02-4c19-9abc-fedccbc1a67a",
   "metadata": {},
   "outputs": [],
   "source": [
    "train, test = SQuAD1(\"root\")"
   ]
  },
  {
   "cell_type": "code",
   "execution_count": 9,
   "id": "5f44af6a-6144-4443-b309-c6514bf0c35e",
   "metadata": {},
   "outputs": [],
   "source": [
    "from modules.data import *\n",
    "\n",
    "#get_dataframe,  get_pairs_from_df, cols, sample_df_perc, get_thresholds, get_outliers, tokenize_sentence, remove_least_common, to_tensor,  filter_sentences"
   ]
  },
  {
   "cell_type": "markdown",
   "id": "6ca0ef1e-be7c-4e95-ae5c-1e3707b5d22a",
   "metadata": {},
   "source": [
    "## Data ingestion\n",
    "\n",
    "* Data is loaded from the dataset into pandas dataframes: one for training, one for testing, \n",
    "* To keep the dataset size reasonable, only a sample of the questions/answers is taken"
   ]
  },
  {
   "cell_type": "code",
   "execution_count": 10,
   "id": "4c6845c6-5997-457d-8e50-e07d0108e147",
   "metadata": {},
   "outputs": [],
   "source": [
    "# get train and test dataframes of sentences\n",
    "train_df, test_df = get_dataframe(train), get_dataframe(test)"
   ]
  },
  {
   "cell_type": "code",
   "execution_count": 11,
   "id": "b6b4268c-6744-4949-85c8-b865360e008c",
   "metadata": {},
   "outputs": [
    {
     "data": {
      "text/plain": [
       "((87599, 2), (10570, 2))"
      ]
     },
     "execution_count": 11,
     "metadata": {},
     "output_type": "execute_result"
    }
   ],
   "source": [
    "train_df.shape, test_df.shape"
   ]
  },
  {
   "cell_type": "code",
   "execution_count": 13,
   "id": "c449703f-d2ea-49cf-99cd-200a7fe67694",
   "metadata": {},
   "outputs": [],
   "source": [
    "train_len = 15000\n",
    "test_len = 3000"
   ]
  },
  {
   "cell_type": "code",
   "execution_count": 14,
   "id": "6e7fa063-1ad2-4e00-aa0a-1ab5bbfd2da6",
   "metadata": {},
   "outputs": [],
   "source": [
    "train_df = sample_df_num(train_df, train_len)"
   ]
  },
  {
   "cell_type": "code",
   "execution_count": 15,
   "id": "08f40fbc-3fe6-4730-8b82-4db0a4b4ccd1",
   "metadata": {},
   "outputs": [],
   "source": [
    "test_df = sample_df_num(test_df, test_len)"
   ]
  },
  {
   "cell_type": "code",
   "execution_count": 16,
   "id": "a49d6bc9-266c-447c-9be6-1794c5053b50",
   "metadata": {},
   "outputs": [
    {
     "data": {
      "text/plain": [
       "((15000, 2), (3000, 2))"
      ]
     },
     "execution_count": 16,
     "metadata": {},
     "output_type": "execute_result"
    }
   ],
   "source": [
    "train_df.shape, test_df.shape"
   ]
  },
  {
   "cell_type": "code",
   "execution_count": 18,
   "id": "35ccaa7e-fa23-4eb2-bbe7-f9e8e5dfac4c",
   "metadata": {
    "scrolled": true
   },
   "outputs": [
    {
     "data": {
      "text/html": [
       "<div>\n",
       "<style scoped>\n",
       "    .dataframe tbody tr th:only-of-type {\n",
       "        vertical-align: middle;\n",
       "    }\n",
       "\n",
       "    .dataframe tbody tr th {\n",
       "        vertical-align: top;\n",
       "    }\n",
       "\n",
       "    .dataframe thead th {\n",
       "        text-align: right;\n",
       "    }\n",
       "</style>\n",
       "<table border=\"1\" class=\"dataframe\">\n",
       "  <thead>\n",
       "    <tr style=\"text-align: right;\">\n",
       "      <th></th>\n",
       "      <th>Question</th>\n",
       "      <th>Answer</th>\n",
       "    </tr>\n",
       "  </thead>\n",
       "  <tbody>\n",
       "    <tr>\n",
       "      <th>0</th>\n",
       "      <td>In Devon, Jan is another way of saying what co...</td>\n",
       "      <td>John</td>\n",
       "    </tr>\n",
       "    <tr>\n",
       "      <th>1</th>\n",
       "      <td>Where were most jazz clubs located?</td>\n",
       "      <td>cellars</td>\n",
       "    </tr>\n",
       "    <tr>\n",
       "      <th>2</th>\n",
       "      <td>Who was known by the nickname \"the Grammarian\"?</td>\n",
       "      <td>Ælfric of Eynsham</td>\n",
       "    </tr>\n",
       "  </tbody>\n",
       "</table>\n",
       "</div>"
      ],
      "text/plain": [
       "                                            Question             Answer\n",
       "0  In Devon, Jan is another way of saying what co...               John\n",
       "1                Where were most jazz clubs located?            cellars\n",
       "2    Who was known by the nickname \"the Grammarian\"?  Ælfric of Eynsham"
      ]
     },
     "execution_count": 18,
     "metadata": {},
     "output_type": "execute_result"
    }
   ],
   "source": [
    "train_df.head(3)"
   ]
  },
  {
   "cell_type": "code",
   "execution_count": null,
   "id": "bcc78290-1a58-45c9-ba2e-ec4b3d1511bf",
   "metadata": {},
   "outputs": [],
   "source": []
  },
  {
   "cell_type": "markdown",
   "id": "6344a0f9-cc0b-4b6e-9238-c54a5da7197b",
   "metadata": {},
   "source": [
    "## Vocabulary creation / Data preparation\n",
    "\n",
    "Sentences (questions and answers) are converted into lists of tokens:\n",
    "* all characters are made into lower case\n",
    "* punctuation is removed\n",
    "* stopwords (most common words that don't carry much additional meaning) are removed, but keeping question words (when, how, who, etc.)\n",
    "* For questions stemming is applied to reduce number of words to just their \"roots\". For answers this step is skipped, to have full unstemmed words in the answers vocabulary\n",
    "* Pairs question:answer are created from both train and test dataset, and words are added to two vocabularies: Q_vocab and A_vocab"
   ]
  },
  {
   "cell_type": "code",
   "execution_count": 19,
   "id": "ea6bbdcf-6263-4531-b5d5-1447576708d8",
   "metadata": {},
   "outputs": [
    {
     "name": "stdout",
     "output_type": "stream",
     "text": [
      "In 2004, how many physicians did Eritrea have per 1000 people?\n",
      "['2004', 'how', 'many', 'physicians', 'eritrea', 'per', '1000', 'people']\n",
      "['2004', 'how', 'mani', 'physician', 'eritrea', 'per', '1000', 'peopl']\n"
     ]
    }
   ],
   "source": [
    "# Example of the sequence processing\n",
    "\n",
    "import random\n",
    "\n",
    "rand_question = train_df.at[random.randint(0,train_df.shape[0]), 'Question']\n",
    "print(rand_question)\n",
    "\n",
    "print(tokenize_sentence(rand_question))\n",
    "print(tokenize_sentence(rand_question, normalization='stem'))"
   ]
  },
  {
   "cell_type": "code",
   "execution_count": null,
   "id": "f28f5a18-cd38-49eb-8e1a-6f18f64f39a8",
   "metadata": {},
   "outputs": [],
   "source": []
  },
  {
   "cell_type": "code",
   "execution_count": 20,
   "id": "5546a5c6-eec6-4816-85c2-ec3b652b5de5",
   "metadata": {},
   "outputs": [],
   "source": [
    "from modules.vocab import Vocab"
   ]
  },
  {
   "cell_type": "code",
   "execution_count": 21,
   "id": "49c28a91-cbe2-445e-98cf-0b3e67e4a226",
   "metadata": {},
   "outputs": [],
   "source": [
    "for col, norm in zip(cols, ['stem', None]): # only questions get stemmed\n",
    "    train_df[f'{col}_tokens'] = train_df[col].apply(lambda s: tokenize_sentence(s, normalization=norm))"
   ]
  },
  {
   "cell_type": "code",
   "execution_count": 22,
   "id": "bc7a90d6-dd8b-4425-81f8-9c447201783e",
   "metadata": {},
   "outputs": [],
   "source": [
    "for col, norm in zip(cols, ['stem', None]):\n",
    "    test_df[f'{col}_tokens'] = test_df[col].apply(lambda s: tokenize_sentence(s, normalization=norm))"
   ]
  },
  {
   "cell_type": "code",
   "execution_count": 23,
   "id": "dbc6971c-872e-4b3a-a0d9-585ab3d44739",
   "metadata": {},
   "outputs": [
    {
     "data": {
      "text/html": [
       "<div>\n",
       "<style scoped>\n",
       "    .dataframe tbody tr th:only-of-type {\n",
       "        vertical-align: middle;\n",
       "    }\n",
       "\n",
       "    .dataframe tbody tr th {\n",
       "        vertical-align: top;\n",
       "    }\n",
       "\n",
       "    .dataframe thead th {\n",
       "        text-align: right;\n",
       "    }\n",
       "</style>\n",
       "<table border=\"1\" class=\"dataframe\">\n",
       "  <thead>\n",
       "    <tr style=\"text-align: right;\">\n",
       "      <th></th>\n",
       "      <th>Question</th>\n",
       "      <th>Answer</th>\n",
       "      <th>Question_tokens</th>\n",
       "      <th>Answer_tokens</th>\n",
       "    </tr>\n",
       "  </thead>\n",
       "  <tbody>\n",
       "    <tr>\n",
       "      <th>11802</th>\n",
       "      <td>WHat are some festivals or events of note in C...</td>\n",
       "      <td>the Cork Jazz Festival, Cork Film Festival, an...</td>\n",
       "      <td>[what, festiv, event, note, cork]</td>\n",
       "      <td>[cork, jazz, festival, cork, film, festival, l...</td>\n",
       "    </tr>\n",
       "    <tr>\n",
       "      <th>9538</th>\n",
       "      <td>What is the entity that controls the infrastru...</td>\n",
       "      <td>The Greater Hyderabad Municipal Corporation (G...</td>\n",
       "      <td>[what, entiti, control, infrastructur, hyderabad]</td>\n",
       "      <td>[greater, hyderabad, municipal, corporation, g...</td>\n",
       "    </tr>\n",
       "    <tr>\n",
       "      <th>14755</th>\n",
       "      <td>What farmers are generally less dependent on c...</td>\n",
       "      <td>polyculture farmers</td>\n",
       "      <td>[what, farmer, general, less, depend, capit, b...</td>\n",
       "      <td>[polyculture, farmers]</td>\n",
       "    </tr>\n",
       "  </tbody>\n",
       "</table>\n",
       "</div>"
      ],
      "text/plain": [
       "                                                Question  \\\n",
       "11802  WHat are some festivals or events of note in C...   \n",
       "9538   What is the entity that controls the infrastru...   \n",
       "14755  What farmers are generally less dependent on c...   \n",
       "\n",
       "                                                  Answer  \\\n",
       "11802  the Cork Jazz Festival, Cork Film Festival, an...   \n",
       "9538   The Greater Hyderabad Municipal Corporation (G...   \n",
       "14755                                polyculture farmers   \n",
       "\n",
       "                                         Question_tokens  \\\n",
       "11802                  [what, festiv, event, note, cork]   \n",
       "9538   [what, entiti, control, infrastructur, hyderabad]   \n",
       "14755  [what, farmer, general, less, depend, capit, b...   \n",
       "\n",
       "                                           Answer_tokens  \n",
       "11802  [cork, jazz, festival, cork, film, festival, l...  \n",
       "9538   [greater, hyderabad, municipal, corporation, g...  \n",
       "14755                             [polyculture, farmers]  "
      ]
     },
     "execution_count": 23,
     "metadata": {},
     "output_type": "execute_result"
    }
   ],
   "source": [
    "train_df.sample(3)"
   ]
  },
  {
   "cell_type": "code",
   "execution_count": 24,
   "id": "4c5a711d-2d46-4255-9091-959b91a07b4d",
   "metadata": {},
   "outputs": [],
   "source": [
    "# processed sequences columns names have '_tokens' suffix\n",
    "cols_tokens = [f'{col}_tokens' for col in cols]"
   ]
  },
  {
   "cell_type": "markdown",
   "id": "4520dfcf-9530-4268-b9a7-4d01bc98c6be",
   "metadata": {},
   "source": [
    "### Create pairs and add to the vocabularies"
   ]
  },
  {
   "cell_type": "code",
   "execution_count": 25,
   "id": "c6c241b5-3e32-47ba-9fab-9bad67404d66",
   "metadata": {},
   "outputs": [],
   "source": [
    "train_pairs = get_pairs_from_df(train_df, cols_tokens)"
   ]
  },
  {
   "cell_type": "code",
   "execution_count": 26,
   "id": "e9eebcb5-30c2-4bf0-bbe8-e6a4015205f0",
   "metadata": {},
   "outputs": [],
   "source": [
    "test_pairs = get_pairs_from_df(test_df, cols_tokens)"
   ]
  },
  {
   "cell_type": "code",
   "execution_count": 27,
   "id": "1d3fed41-b6df-495e-966b-73d8275bc397",
   "metadata": {},
   "outputs": [],
   "source": [
    "Q_vocab, A_vocab = Vocab(), Vocab()"
   ]
  },
  {
   "cell_type": "markdown",
   "id": "f4791a92-39ea-4709-bceb-316b1f7cf61d",
   "metadata": {},
   "source": [
    "### Words from both training and test datasets are added to the two vocabularies"
   ]
  },
  {
   "cell_type": "code",
   "execution_count": 28,
   "id": "766b2b7c-8452-4f41-91c1-a1933899af1a",
   "metadata": {},
   "outputs": [],
   "source": [
    "for pair in train_pairs:\n",
    "    Q_vocab.add_sentence(pair.question)\n",
    "    A_vocab.add_sentence(pair.answer)"
   ]
  },
  {
   "cell_type": "code",
   "execution_count": 29,
   "id": "8bf020f0-9fa9-4d35-b5a1-c72e2190e955",
   "metadata": {},
   "outputs": [
    {
     "data": {
      "text/plain": [
       "(11897, 14642)"
      ]
     },
     "execution_count": 29,
     "metadata": {},
     "output_type": "execute_result"
    }
   ],
   "source": [
    "Q_vocab.n_words, A_vocab.n_words, "
   ]
  },
  {
   "cell_type": "code",
   "execution_count": 30,
   "id": "eb3dcfe2-d353-4d2e-915f-03e0923dc785",
   "metadata": {},
   "outputs": [],
   "source": [
    "for pair in test_pairs:\n",
    "    Q_vocab.add_sentence(pair.question)\n",
    "    A_vocab.add_sentence(pair.answer)"
   ]
  },
  {
   "cell_type": "code",
   "execution_count": 76,
   "id": "7b57afc2-4b59-481a-8d15-ee267b0d8e36",
   "metadata": {},
   "outputs": [
    {
     "data": {
      "text/plain": [
       "(13184, 16442)"
      ]
     },
     "execution_count": 76,
     "metadata": {},
     "output_type": "execute_result"
    }
   ],
   "source": [
    "# Answers vocabulary contains more words due to lack of stemming\n",
    "\n",
    "Q_vocab.n_words, A_vocab.n_words "
   ]
  },
  {
   "cell_type": "code",
   "execution_count": null,
   "id": "65b7878b-ad57-4ad4-9cd4-b4509c6f660d",
   "metadata": {},
   "outputs": [],
   "source": []
  },
  {
   "cell_type": "markdown",
   "id": "d6d39d65-1c60-4b17-8913-100b2fe00cde",
   "metadata": {},
   "source": [
    "## Data analysis and further cleanup\n",
    "\n",
    "To improve and reduce the dataset, some analysis is done to find and remove outliers:\n",
    "* least common words (those that occur only once)\n",
    "* answers that have less than one token (empty sequences)\n",
    "* questions that have less than three tokens, as they're not really meaningful\n",
    "* histograms are used to find the \"long tail\" of the dataset: longer sequences are rare, so I establish a threshold above which the dataframe row with either very long question or answer is dropped. This way most of the data is kept, and the sequences can be of reasonable length"
   ]
  },
  {
   "cell_type": "code",
   "execution_count": null,
   "id": "3da86f92-bddd-41f3-b0f6-5b4d2eb5d873",
   "metadata": {},
   "outputs": [],
   "source": []
  },
  {
   "cell_type": "code",
   "execution_count": 32,
   "id": "7450e792-925e-4a07-8236-38f1045e69d6",
   "metadata": {},
   "outputs": [],
   "source": [
    "from modules.stats import sentences_stats, histograms"
   ]
  },
  {
   "cell_type": "code",
   "execution_count": 33,
   "id": "1982157e-f27d-40b3-98fb-f001012d68d7",
   "metadata": {},
   "outputs": [
    {
     "name": "stdout",
     "output_type": "stream",
     "text": [
      "Sentences in column Question_tokens:\n",
      "\t         mean: 6.42\n",
      "\t         median: 6.00\n",
      "\t         minimum: 1\n",
      "\t         maximum: 20)\n",
      "Sentences in column Answer_tokens:\n",
      "\t         mean: 2.43\n",
      "\t         median: 2.00\n",
      "\t         minimum: 0\n",
      "\t         maximum: 21)\n"
     ]
    }
   ],
   "source": [
    "# statistics for tokenized sentences\n",
    "sentences_stats(train_df, cols_tokens)"
   ]
  },
  {
   "cell_type": "code",
   "execution_count": 34,
   "id": "ed546c61-46c6-4198-8b2d-658e6ea83727",
   "metadata": {},
   "outputs": [
    {
     "name": "stdout",
     "output_type": "stream",
     "text": [
      "Sentences in column Question_tokens:\n",
      "\t         mean: 6.52\n",
      "\t         median: 6.00\n",
      "\t         minimum: 2\n",
      "\t         maximum: 19)\n",
      "Sentences in column Answer_tokens:\n",
      "\t         mean: 2.34\n",
      "\t         median: 2.00\n",
      "\t         minimum: 0\n",
      "\t         maximum: 15)\n"
     ]
    }
   ],
   "source": [
    "# statistics for tokenized sentences\n",
    "sentences_stats(test_df, cols_tokens)"
   ]
  },
  {
   "cell_type": "markdown",
   "id": "8034d347-3b5c-4675-9040-c06f9d1be915",
   "metadata": {},
   "source": [
    "### Remove the least common words from the sentences"
   ]
  },
  {
   "cell_type": "code",
   "execution_count": 35,
   "id": "0127a26b-68b8-4456-8c70-c49ba08525ff",
   "metadata": {},
   "outputs": [],
   "source": [
    "# how many times at most a word occurs to be considered an outlier\n",
    "outlier_threshold = 1"
   ]
  },
  {
   "cell_type": "code",
   "execution_count": 43,
   "id": "0335f482-7f3c-4265-81d9-93436d7f1090",
   "metadata": {},
   "outputs": [
    {
     "name": "stdout",
     "output_type": "stream",
     "text": [
      "Questions vocabulary has 6875 words that occur only once, answers vocabulary has 10427 such words\n"
     ]
    }
   ],
   "source": [
    "print(f'Questions vocabulary has {len(get_outliers(Q_vocab, outlier_threshold+1))} words that occur only once, answers vocabulary has {len(get_outliers(A_vocab, outlier_threshold+1))} such words')"
   ]
  },
  {
   "cell_type": "markdown",
   "id": "1c6146cc-8b68-4db8-b387-008c413e71ac",
   "metadata": {},
   "source": [
    "### Create lists of those words and remove them from the sequences"
   ]
  },
  {
   "cell_type": "code",
   "execution_count": 45,
   "id": "2adafd8f-bae0-455c-ab37-363db03f2e23",
   "metadata": {},
   "outputs": [],
   "source": [
    "q_outliers, a_outliers = get_outliers(Q_vocab,outlier_threshold+1), get_outliers(A_vocab,outlier_threshold+1)"
   ]
  },
  {
   "cell_type": "code",
   "execution_count": 46,
   "id": "0464a5cf-fb82-4acc-ab6c-b3029a1e510b",
   "metadata": {},
   "outputs": [],
   "source": [
    "train_df_final = remove_least_common(train_df, cols_tokens, [q_outliers, a_outliers])"
   ]
  },
  {
   "cell_type": "code",
   "execution_count": 49,
   "id": "52510523-62a9-4e42-ba96-bddbee4bf3d5",
   "metadata": {},
   "outputs": [],
   "source": [
    "test_df_final = remove_least_common(test_df, cols_tokens, [q_outliers, a_outliers])"
   ]
  },
  {
   "cell_type": "code",
   "execution_count": 50,
   "id": "0a019f58-39d0-4a4e-9b22-6a69e84a80ec",
   "metadata": {},
   "outputs": [
    {
     "name": "stdout",
     "output_type": "stream",
     "text": [
      "Sentences in column Question_tokens:\n",
      "\t         mean: 6.03\n",
      "\t         median: 6.00\n",
      "\t         minimum: 0\n",
      "\t         maximum: 19)\n",
      "Sentences in column Answer_tokens:\n",
      "\t         mean: 1.84\n",
      "\t         median: 1.00\n",
      "\t         minimum: 0\n",
      "\t         maximum: 18)\n"
     ]
    }
   ],
   "source": [
    "# tokenized & least common removed\n",
    "sentences_stats(train_df_final, cols_tokens)"
   ]
  },
  {
   "cell_type": "code",
   "execution_count": 51,
   "id": "f0b21a9a-243f-4dc6-a0a8-2e2c65caebba",
   "metadata": {},
   "outputs": [
    {
     "name": "stdout",
     "output_type": "stream",
     "text": [
      "Sentences in column Question_tokens:\n",
      "\t         mean: 6.18\n",
      "\t         median: 6.00\n",
      "\t         minimum: 1\n",
      "\t         maximum: 19)\n",
      "Sentences in column Answer_tokens:\n",
      "\t         mean: 1.81\n",
      "\t         median: 1.00\n",
      "\t         minimum: 0\n",
      "\t         maximum: 13)\n"
     ]
    }
   ],
   "source": [
    "# tokenized & least common removed\n",
    "sentences_stats(test_df_final, cols_tokens)"
   ]
  },
  {
   "cell_type": "markdown",
   "id": "25751515-a24f-4e0a-9b6c-e12f9dafd722",
   "metadata": {},
   "source": [
    "### Remove questions that have less than three words and answers that have less than one"
   ]
  },
  {
   "cell_type": "code",
   "execution_count": 52,
   "id": "47ca1d7a-f8b0-4d42-aa9e-a889c0dfbcfc",
   "metadata": {
    "jupyter": {
     "source_hidden": true
    }
   },
   "outputs": [],
   "source": [
    "train_df_final = filter_sentences(train_df_final, cols_tokens, [2,0], condition='longer')"
   ]
  },
  {
   "cell_type": "code",
   "execution_count": 56,
   "id": "3934a09f-4d33-4024-adcc-e4bccc55d837",
   "metadata": {},
   "outputs": [
    {
     "name": "stdout",
     "output_type": "stream",
     "text": [
      "Question_tokens 3\n",
      "Answer_tokens 1\n"
     ]
    },
    {
     "data": {
      "image/png": "[encoded data removed]",
      "text/plain": [
       "<Figure size 640x480 with 1 Axes>"
      ]
     },
     "metadata": {},
     "output_type": "display_data"
    }
   ],
   "source": [
    "# display the histograms to see if that worked\n",
    "\n",
    "train_df_final_thresholds = histograms(train_df_final, cols_tokens, name = 'tokenized')"
   ]
  },
  {
   "cell_type": "code",
   "execution_count": 57,
   "id": "6789669f-3bbf-4a2d-942e-30dc0255930c",
   "metadata": {},
   "outputs": [
    {
     "data": {
      "text/plain": [
       "(12208, 4)"
      ]
     },
     "execution_count": 57,
     "metadata": {},
     "output_type": "execute_result"
    }
   ],
   "source": [
    "train_df_final.shape"
   ]
  },
  {
   "cell_type": "code",
   "execution_count": 58,
   "id": "fde25b3c-a9f0-4659-8198-63baefbe91a6",
   "metadata": {},
   "outputs": [
    {
     "name": "stdout",
     "output_type": "stream",
     "text": [
      "Sentences in column Question_tokens:\n",
      "\t         mean: 6.15\n",
      "\t         median: 6.00\n",
      "\t         minimum: 3\n",
      "\t         maximum: 19)\n",
      "Sentences in column Answer_tokens:\n",
      "\t         mean: 2.20\n",
      "\t         median: 2.00\n",
      "\t         minimum: 1\n",
      "\t         maximum: 18)\n"
     ]
    }
   ],
   "source": [
    "# shortest sentences removed\n",
    "sentences_stats(train_df_final, cols_tokens)"
   ]
  },
  {
   "cell_type": "code",
   "execution_count": null,
   "id": "6a37889e-0499-44c7-a615-b68335952dc7",
   "metadata": {},
   "outputs": [],
   "source": []
  },
  {
   "cell_type": "code",
   "execution_count": 59,
   "id": "38915cef-2608-4ff0-b870-005f29ce64f0",
   "metadata": {},
   "outputs": [],
   "source": [
    "test_df_final = filter_sentences(test_df_final, cols_tokens, [2,0], condition='longer')"
   ]
  },
  {
   "cell_type": "code",
   "execution_count": 60,
   "id": "5ed9ed2f-f665-4cf8-af0d-34ce49f48ac5",
   "metadata": {},
   "outputs": [
    {
     "name": "stdout",
     "output_type": "stream",
     "text": [
      "Question_tokens 3\n",
      "Answer_tokens 1\n"
     ]
    },
    {
     "data": {
      "image/png": "[encoded data removed]",
      "text/plain": [
       "<Figure size 640x480 with 1 Axes>"
      ]
     },
     "metadata": {},
     "output_type": "display_data"
    }
   ],
   "source": [
    "# display the histograms to see if that worked\n",
    "\n",
    "test_df_final_thresholds = histograms(test_df_final, cols_tokens, name = 'tokenized')"
   ]
  },
  {
   "cell_type": "code",
   "execution_count": 61,
   "id": "193fa900-f512-46d9-b2ba-aa5cc64f9000",
   "metadata": {},
   "outputs": [
    {
     "data": {
      "text/plain": [
       "(2507, 4)"
      ]
     },
     "execution_count": 61,
     "metadata": {},
     "output_type": "execute_result"
    }
   ],
   "source": [
    "test_df_final.shape"
   ]
  },
  {
   "cell_type": "code",
   "execution_count": 62,
   "id": "606eac15-6aaa-4e53-85d3-529d935684a0",
   "metadata": {},
   "outputs": [
    {
     "name": "stdout",
     "output_type": "stream",
     "text": [
      "Sentences in column Question_tokens:\n",
      "\t         mean: 6.30\n",
      "\t         median: 6.00\n",
      "\t         minimum: 3\n",
      "\t         maximum: 19)\n",
      "Sentences in column Answer_tokens:\n",
      "\t         mean: 2.10\n",
      "\t         median: 2.00\n",
      "\t         minimum: 1\n",
      "\t         maximum: 13)\n"
     ]
    }
   ],
   "source": [
    "# shortest sentences removed\n",
    "sentences_stats(test_df_final, cols_tokens)"
   ]
  },
  {
   "cell_type": "code",
   "execution_count": null,
   "id": "12ed5af0-e6ac-486f-9d77-3ba2615d25de",
   "metadata": {},
   "outputs": [],
   "source": []
  },
  {
   "cell_type": "markdown",
   "id": "01a76972-303d-44ae-bf59-08c46a237488",
   "metadata": {},
   "source": [
    "### Remove long outliers: long sentences that occure rarely"
   ]
  },
  {
   "cell_type": "code",
   "execution_count": 63,
   "id": "69685485-1713-4017-8436-9a196e879cf0",
   "metadata": {},
   "outputs": [],
   "source": [
    "# keeping only the 95% of the data\n",
    "cutoff = 95"
   ]
  },
  {
   "cell_type": "code",
   "execution_count": 65,
   "id": "25b7ecff-2312-4e1c-9773-6028dad38e4d",
   "metadata": {},
   "outputs": [
    {
     "data": {
      "text/plain": [
       "{'Question_tokens': 10, 'Answer_tokens': 6}"
      ]
     },
     "execution_count": 65,
     "metadata": {},
     "output_type": "execute_result"
    }
   ],
   "source": [
    "get_thresholds(train_df_final_thresholds, cutoff = cutoff)"
   ]
  },
  {
   "cell_type": "code",
   "execution_count": 66,
   "id": "82a5369e-fcde-48c3-a0c4-110bb6c7e12c",
   "metadata": {},
   "outputs": [],
   "source": [
    "Q_MAX, A_MAX = get_thresholds(train_df_final_thresholds, cutoff = cutoff).values()"
   ]
  },
  {
   "cell_type": "code",
   "execution_count": 67,
   "id": "648d0c08-a9e0-4278-8beb-3b5e35f8c81d",
   "metadata": {},
   "outputs": [],
   "source": [
    "train_df_final = filter_sentences(train_df_final, cols_tokens, [Q_MAX+1,A_MAX+1], condition='shorter')"
   ]
  },
  {
   "cell_type": "code",
   "execution_count": 68,
   "id": "12cfc150-100f-460b-a252-d475c139fee4",
   "metadata": {
    "scrolled": true
   },
   "outputs": [
    {
     "name": "stdout",
     "output_type": "stream",
     "text": [
      "Sentences in column Question_tokens:\n",
      "\t         mean: 5.98\n",
      "\t         median: 6.00\n",
      "\t         minimum: 3\n",
      "\t         maximum: 10)\n",
      "Sentences in column Answer_tokens:\n",
      "\t         mean: 1.95\n",
      "\t         median: 2.00\n",
      "\t         minimum: 1\n",
      "\t         maximum: 6)\n"
     ]
    }
   ],
   "source": [
    "# long outliers removed\n",
    "sentences_stats(train_df_final, cols_tokens)"
   ]
  },
  {
   "cell_type": "code",
   "execution_count": null,
   "id": "db36354e-a106-40bb-bccf-73737f654f0d",
   "metadata": {},
   "outputs": [],
   "source": []
  },
  {
   "cell_type": "code",
   "execution_count": null,
   "id": "b2be1ef8-3321-4c82-a6ff-e8ad9579c6a5",
   "metadata": {},
   "outputs": [],
   "source": [
    "# to simplify I'm using the same thresholds for the test set"
   ]
  },
  {
   "cell_type": "code",
   "execution_count": 70,
   "id": "41eb7230-16a9-407f-8747-2bd5f3db7c2e",
   "metadata": {},
   "outputs": [],
   "source": [
    "test_df_final = filter_sentences(test_df_final, cols_tokens, [Q_MAX+1,A_MAX+1], condition='shorter')"
   ]
  },
  {
   "cell_type": "code",
   "execution_count": 71,
   "id": "acbac5aa-a51b-4a37-9265-4657e7f7239d",
   "metadata": {
    "scrolled": true
   },
   "outputs": [
    {
     "name": "stdout",
     "output_type": "stream",
     "text": [
      "Sentences in column Question_tokens:\n",
      "\t         mean: 6.09\n",
      "\t         median: 6.00\n",
      "\t         minimum: 3\n",
      "\t         maximum: 10)\n",
      "Sentences in column Answer_tokens:\n",
      "\t         mean: 1.95\n",
      "\t         median: 2.00\n",
      "\t         minimum: 1\n",
      "\t         maximum: 6)\n"
     ]
    }
   ],
   "source": [
    "# long outliers removed\n",
    "sentences_stats(test_df_final, cols_tokens)"
   ]
  },
  {
   "cell_type": "code",
   "execution_count": 72,
   "id": "f2750b9b-f01b-4ee9-be2b-69890cb4ca03",
   "metadata": {},
   "outputs": [
    {
     "data": {
      "text/plain": [
       "((11396, 4), (2350, 4))"
      ]
     },
     "execution_count": 72,
     "metadata": {},
     "output_type": "execute_result"
    }
   ],
   "source": [
    "train_df_final.shape, test_df_final.shape"
   ]
  },
  {
   "cell_type": "code",
   "execution_count": null,
   "id": "7fffdcad-8870-4376-b738-1b9282a07bff",
   "metadata": {},
   "outputs": [],
   "source": []
  },
  {
   "cell_type": "markdown",
   "id": "0be952bd-44cc-4f41-bed5-ea17231aa76e",
   "metadata": {},
   "source": [
    "### Pairs have to be redone from the cleaned up datasets, to be used in the model (after being turned into tensors)."
   ]
  },
  {
   "cell_type": "code",
   "execution_count": 73,
   "id": "309585c9-df9d-4f84-995c-544fab45b90c",
   "metadata": {},
   "outputs": [],
   "source": [
    "train_pairs_final = get_pairs_from_df(train_df_final, cols_tokens)"
   ]
  },
  {
   "cell_type": "code",
   "execution_count": 74,
   "id": "088c6509-f966-480c-bc40-48fa5bd2fab2",
   "metadata": {},
   "outputs": [],
   "source": [
    "test_pairs_final = get_pairs_from_df(test_df_final, cols_tokens)"
   ]
  },
  {
   "cell_type": "code",
   "execution_count": 75,
   "id": "4cb90adf-d401-48f0-8911-b31144276227",
   "metadata": {
    "scrolled": true
   },
   "outputs": [
    {
     "data": {
      "text/plain": [
       "(11396, 2350)"
      ]
     },
     "execution_count": 75,
     "metadata": {},
     "output_type": "execute_result"
    }
   ],
   "source": [
    "len(train_pairs_final), len(test_pairs_final)"
   ]
  },
  {
   "cell_type": "code",
   "execution_count": null,
   "id": "cd5e3e9b-5788-4fc1-af63-0f4a63645fa5",
   "metadata": {
    "jupyter": {
     "source_hidden": true
    }
   },
   "outputs": [],
   "source": []
  },
  {
   "cell_type": "code",
   "execution_count": null,
   "id": "100376a4-b38a-4421-a89b-d046da8a63c1",
   "metadata": {},
   "outputs": [],
   "source": []
  },
  {
   "cell_type": "markdown",
   "id": "31e03bca-c654-4f1f-9dde-3ccf6c17376c",
   "metadata": {},
   "source": [
    "### Data preparation for the neural network model\n",
    "\n",
    "Sequences are converted into torch tokens made of their vocabulary indexes. Sequences shorter than the defined length are padded at the beginning. Also Start-Of-Sequence and End-Of-Sequence tokens are added to the tensor.\n",
    "\n",
    "The padding token will be ignored by the model.\n",
    "\n",
    "### Neural network model\n",
    "\n",
    "It uses Seq2Seq Encoder-Decoder architecture with a single LSTM layer. Right now the training is done pair after pair, without batch processing.\n",
    "The optimizer is Stochastic Gradient Descent, and the loss function is \n",
    "negative log likelihood (NLLLoss)\n",
    "\n"
   ]
  },
  {
   "cell_type": "code",
   "execution_count": 80,
   "id": "37e018e5-b3d3-47b1-a403-b2ec05ddd339",
   "metadata": {},
   "outputs": [],
   "source": [
    "import torch\n",
    "import torch.nn as nn\n",
    "\n",
    "class Encoder(nn.Module):\n",
    "    \n",
    "    # We initialize the Encoder object with appropriate layers\n",
    "\n",
    "    def __init__(self, input_size, hidden_size, embedding_size):\n",
    "        \n",
    "        super(Encoder, self).__init__()\n",
    "\n",
    "        self.hidden_size = hidden_size\n",
    "        self.input_size = input_size\n",
    "        self.embedding_size = embedding_size\n",
    "\n",
    "        #self.hidden = torch.zeros(1, 1, hidden_size)\n",
    "\n",
    "        self.embedding = nn.Embedding(self.input_size, self.embedding_size).to(device)\n",
    "        \n",
    "        # The LSTM is our last cell because it produces the hidden state        \n",
    "        self.lstm = nn.LSTM(self.embedding_size, self.hidden_size, 1).to(device)\n",
    "    \n",
    "    def forward(self, x, hidden, cell_state):\n",
    "        x = self.embedding(x)\n",
    "        \n",
    "        x = x.view(1, 1, -1)\n",
    "        \n",
    "        #x = x.view(x.shape[0], 1, -1)\n",
    "        \n",
    "        x, (hidden, cell_state) = self.lstm(x, (hidden, cell_state))\n",
    "        return x, hidden, cell_state\n",
    "\n",
    "class Decoder(nn.Module):\n",
    "\n",
    "    # The Decoder is initialized in the same manner.\n",
    "\n",
    "    def __init__(self, hidden_size, output_size, embedding_size):\n",
    "\n",
    "        super(Decoder, self).__init__()\n",
    "\n",
    "        self.hidden_size = hidden_size\n",
    "        self.output_size = output_size\n",
    "        self.embedding_size = embedding_size\n",
    "\n",
    "        self.embedding = nn.Embedding(self.output_size, self.hidden_size)\n",
    "\n",
    "        self.lstm = nn.LSTM(self.embedding_size, self.hidden_size)\n",
    "        \n",
    "        # The LSTM produces an output by passing the hidden state to the   Linear layer\n",
    "    \n",
    "        self.fc = nn.Linear(self.hidden_size, self.output_size)\n",
    "        self.softmax = nn.LogSoftmax(dim= 1)     \n",
    "\n",
    "    def forward(self, x, hidden, cell_state):\n",
    "        \n",
    "        x = self.embedding(x)\n",
    "        x = x.view(1, 1, -1)\n",
    "        x, (hidden, cell_state) = self.lstm(x, (hidden, cell_state))\n",
    "        x = self.softmax(self.fc(x[0]))\n",
    "        return x, hidden, cell_state\n",
    "\n",
    "    \n",
    "    \n",
    "\n",
    "class Seq2Seq(nn.Module):\n",
    "\n",
    "    #def __init__(self, encoder: Encoder, decoder: Decoder, device: torch.device):\n",
    "    def __init__(self, input_size, hidden_size, embedding_size, output_size, device):    \n",
    "        super(Seq2Seq, self).__init__()\n",
    "\n",
    "        self.input_size = input_size\n",
    "        self.hidden_size = hidden_size\n",
    "        self.embedding_size = embedding_size\n",
    "        self.output_size = output_size\n",
    "        \n",
    "        self.encoder = Encoder(self.input_size, self.hidden_size, self.embedding_size).to(device)\n",
    "        self.decoder = Decoder(self.hidden_size, self.output_size, self.embedding_size).to(device)\n",
    "        #self.device = device\n",
    "        \n",
    "    def forward(self, src_batch: torch.LongTensor, trg_batch: torch.LongTensor, src_len, trg_len, teacher_forcing_ratio: float = 0.5):\n",
    "        \n",
    "        max_len, batch_size = trg_batch.shape\n",
    "                \n",
    "        trg_vocab_size = self.decoder.output_size\n",
    "        \n",
    "        # tensor to store decoder's output\n",
    "        outputs = torch.zeros(max_len, batch_size, trg_vocab_size).to(device) #.to(self.device) \n",
    "\n",
    "         # initialize hidden and cell state\n",
    "        encoder_hidden = torch.zeros([1, 1, self.hidden_size]).to(device) \n",
    "        cell_state = torch.zeros([1, 1, self.hidden_size]).to(device)\n",
    "\n",
    "        for i in range(src_len):\n",
    "        \n",
    "            # last hidden & cell state of the encoder is used as the decoder's initial hidden state\n",
    "            _, hidden, cell = self.encoder(src_batch[i], encoder_hidden, cell_state)\n",
    "        \n",
    "        \n",
    "        \n",
    "        trg = trg_batch[0]\n",
    "        \n",
    "        for i in range(trg_len):\n",
    "            prediction, hidden, cell = self.decoder(trg, hidden, cell)\n",
    "            outputs[i] = prediction\n",
    "            \n",
    "            if random.random() < teacher_forcing_ratio:\n",
    "                trg = trg_batch[i]\n",
    "            else:\n",
    "                trg = prediction.argmax(1)\n",
    "                \n",
    "        return outputs"
   ]
  },
  {
   "cell_type": "markdown",
   "id": "2aad0760-4c66-4744-86b1-2acd0d42bad6",
   "metadata": {},
   "source": [
    "### Model parameters"
   ]
  },
  {
   "cell_type": "code",
   "execution_count": 81,
   "id": "7438b819-4ecb-448e-9d04-2a08735d7111",
   "metadata": {},
   "outputs": [],
   "source": [
    "embedding_dim = 256\n",
    "hidden_size = 256"
   ]
  },
  {
   "cell_type": "markdown",
   "id": "401d19f8-28e9-4123-a7a5-294dd3a6d1b5",
   "metadata": {},
   "source": [
    "### Hyperparameters"
   ]
  },
  {
   "cell_type": "code",
   "execution_count": 82,
   "id": "f7dbc878-05ff-4eb1-8f33-8f2136008463",
   "metadata": {},
   "outputs": [],
   "source": [
    "learning_rate = 0.02\n",
    "num_epochs = 25"
   ]
  },
  {
   "cell_type": "markdown",
   "id": "1abf45db-a459-41af-b3bf-d99ee68e11d2",
   "metadata": {},
   "source": [
    "### Model"
   ]
  },
  {
   "cell_type": "code",
   "execution_count": 83,
   "id": "b491414c-3d53-4477-9b2a-421465e2fbf7",
   "metadata": {},
   "outputs": [],
   "source": [
    "seq2seq = Seq2Seq(input_size=Q_vocab.n_words, hidden_size=hidden_size, embedding_size=embedding_dim, output_size=A_vocab.n_words, device=device)"
   ]
  },
  {
   "cell_type": "code",
   "execution_count": 84,
   "id": "13f807ce-43f2-4d90-be0c-3119c338f31c",
   "metadata": {},
   "outputs": [],
   "source": [
    "seq2seq = seq2seq.to(device)"
   ]
  },
  {
   "cell_type": "markdown",
   "id": "b010b866-a6b0-403f-96d0-9ff9c3871290",
   "metadata": {},
   "source": [
    "### Optimizer and loss function"
   ]
  },
  {
   "cell_type": "code",
   "execution_count": 86,
   "id": "688cc1c1-110a-467e-ba1e-fbe30f4dc5da",
   "metadata": {},
   "outputs": [],
   "source": [
    "from torch import optim\n",
    "import torch.nn as nn"
   ]
  },
  {
   "cell_type": "code",
   "execution_count": 87,
   "id": "87590ff0-0b07-4904-a104-9717f3266132",
   "metadata": {},
   "outputs": [],
   "source": [
    "optimizer = optim.SGD(seq2seq.parameters(), lr=learning_rate)\n",
    "criterion = nn.NLLLoss(ignore_index=0).to(device) # 0 is padding"
   ]
  },
  {
   "cell_type": "markdown",
   "id": "4a3a6d83-a310-49bb-86fd-022e7aed34ce",
   "metadata": {},
   "source": [
    "### Model training \n",
    "\n",
    "For debugging purposes the training function is kept in the main notebook for now."
   ]
  },
  {
   "cell_type": "code",
   "execution_count": null,
   "id": "3432ad53-b07e-43a9-999d-0726b701e488",
   "metadata": {},
   "outputs": [],
   "source": []
  },
  {
   "cell_type": "code",
   "execution_count": 88,
   "id": "57e91c68-0c43-4e71-8cb0-1d3e921872d1",
   "metadata": {},
   "outputs": [],
   "source": [
    "def train(model, pairs, optimizer, criterion, device):\n",
    "    model.train()  # Set the model to training mode\n",
    "    \n",
    "    total_loss = 0\n",
    "\n",
    "    count = 0\n",
    "    \n",
    "    for pair in pairs:\n",
    "        \n",
    "        src = pair.question\n",
    "        tgt = pair.answer\n",
    "        \n",
    "        src_tensor = to_tensor(vocab=Q_vocab, tokens=src, seq_len=Q_MAX, device=device)#.to(device) #.unsqueeze(0)\n",
    "        tgt_tensor = to_tensor(vocab=A_vocab, tokens=tgt, seq_len=A_MAX, device=device)#.to(device) #.unsqueeze(0)\n",
    "\n",
    "        # print(src_tensor.shape, tgt_tensor.shape)\n",
    "        \n",
    "        optimizer.zero_grad()  # Zero the gradients\n",
    "        \n",
    "        # Forward pass\n",
    "        output = model(src_tensor, tgt_tensor, src_len=src_tensor.size(0), trg_len=tgt_tensor.size(0), teacher_forcing_ratio=1)\n",
    "\n",
    "        # Compute the loss\n",
    "        loss = criterion(output.view(-1, output.size(-1)), tgt_tensor.view(-1))\n",
    "        \n",
    "        # Backward pass and optimization\n",
    "        loss.backward()\n",
    "        optimizer.step()\n",
    "        \n",
    "        total_loss += loss.item()\n",
    "    \n",
    "        count += 1 \n",
    "    \n",
    "        if count % 100 == 0:\n",
    "            print(f'Loss {total_loss/count}')\n",
    "    \n",
    "    return total_loss / len(pairs)"
   ]
  },
  {
   "cell_type": "code",
   "execution_count": null,
   "id": "7032ae72-27f4-4a55-b66c-c020663c70e1",
   "metadata": {},
   "outputs": [
    {
     "name": "stdout",
     "output_type": "stream",
     "text": [
      "Loss 6.921260650157929\n",
      "Loss 6.002415041923523\n",
      "Loss 5.661677130858103\n",
      "Loss 5.390877833366394\n",
      "Loss 5.278796734809876\n",
      "Loss 5.201137937704722\n",
      "Loss 5.11392781666347\n",
      "Loss 5.054355602562428\n",
      "Loss 5.005902814335293\n",
      "Loss 4.962947469711303\n",
      "Loss 4.916831265146082\n",
      "Loss 4.884872280955315\n",
      "Loss 4.865700811972985\n",
      "Loss 4.848476557731629\n",
      "Loss 4.823460490226745\n",
      "Loss 4.796445260196924\n",
      "Loss 4.770153924998115\n",
      "Loss 4.768175732427173\n",
      "Loss 4.767432220860531\n",
      "Loss 4.757362395048141\n",
      "Loss 4.748081438654945\n",
      "Loss 4.743670180819251\n",
      "Loss 4.7383822672781735\n",
      "Loss 4.720005403806766\n",
      "Loss 4.696388392972946\n",
      "Loss 4.690654322871795\n",
      "Loss 4.671455519685039\n",
      "Loss 4.666304019902434\n",
      "Loss 4.65730598326387\n",
      "Loss 4.643131897290548\n",
      "Loss 4.626860491921825\n",
      "Loss 4.62160110719502\n",
      "Loss 4.607294803315943\n",
      "Loss 4.5938001191966675\n",
      "Loss 4.589698456219264\n",
      "Loss 4.582846211161878\n",
      "Loss 4.569384957616394\n",
      "Loss 4.554540658593178\n",
      "Loss 4.548654194611769\n",
      "Loss 4.535337687373161\n",
      "Loss 4.524974226486393\n",
      "Loss 4.517011314942724\n",
      "Loss 4.507148499267045\n",
      "Loss 4.499434901204976\n",
      "Loss 4.492817248556349\n",
      "Loss 4.482056589696718\n",
      "Loss 4.473019400885764\n",
      "Loss 4.46595686532557\n",
      "Loss 4.462106332462661\n",
      "Loss 4.4550751928806305\n",
      "Loss 4.449779333156698\n",
      "Loss 4.4420419175579\n",
      "Loss 4.433975174449524\n",
      "Loss 4.425905898787358\n",
      "Loss 4.418572775862434\n",
      "Loss 4.412076007851533\n",
      "Loss 4.404870165251849\n",
      "Loss 4.4001326649353425\n",
      "Loss 4.39595611899586\n",
      "Loss 4.391397608538469\n",
      "Loss 4.386974503837648\n",
      "Loss 4.384713364108916\n",
      "Loss 4.3834887355282195\n",
      "Loss 4.379852895587683\n",
      "Loss 4.374767142515916\n",
      "Loss 4.372474657730622\n",
      "Loss 4.367622200606474\n",
      "Loss 4.361393689723576\n",
      "Loss 4.357407721142838\n",
      "Loss 4.3573594356775285\n",
      "Loss 4.353214496508451\n",
      "Loss 4.349170783874062\n",
      "Loss 4.344435755863581\n",
      "Loss 4.340809150450938\n",
      "Loss 4.33567602610588\n",
      "Loss 4.332825120562001\n",
      "Loss 4.328576926472899\n",
      "Loss 4.32546870370706\n",
      "Loss 4.321600438250771\n",
      "Loss 4.317392706602812\n",
      "Loss 4.3155050227082805\n",
      "Loss 4.3118563853240595\n",
      "Loss 4.311352151732847\n",
      "Loss 4.307738779641333\n",
      "Loss 4.306642642554115\n",
      "Loss 4.301060396904169\n",
      "Loss 4.296744374488962\n",
      "Loss 4.295010647150603\n",
      "Loss 4.290695073792104\n",
      "Loss 4.286427273193995\n",
      "Loss 4.283071464915852\n",
      "Loss 4.281288546323776\n",
      "Loss 4.278079580683862\n",
      "Loss 4.273985877176549\n",
      "Loss 4.270520805961207\n",
      "Loss 4.268429253225525\n",
      "Loss 4.266121589793372\n",
      "Loss 4.262041463304539\n",
      "Loss 4.261420452811501\n",
      "Loss 4.260695344793796\n",
      "Loss 4.25842144744231\n",
      "Loss 4.256453493202434\n",
      "Loss 4.2527135628288235\n",
      "Loss 4.249548603789164\n",
      "Loss 4.246346778063547\n",
      "Loss 4.244567804831379\n",
      "Loss 4.240828623760526\n",
      "Loss 4.237807459301418\n",
      "Loss 4.236415492897733\n",
      "Loss 4.2354705612009225\n",
      "Loss 4.232322000662486\n",
      "Loss 4.2277555850999695\n",
      "Loss 4.227036826367927\n",
      "Epoch 1/25, Loss: 4.2251\n",
      "Loss 3.928974049091339\n",
      "Loss 3.9124334400892256\n",
      "Loss 3.9526278336842853\n",
      "Loss 3.9223754861950875\n",
      "Loss 3.9130942075252535\n",
      "Loss 3.911470719575882\n",
      "Loss 3.8973957662922993\n",
      "Loss 3.8833483581244947\n",
      "Loss 3.869289428260591\n",
      "Loss 3.8727084439992905\n",
      "Loss 3.8665642364458606\n",
      "Loss 3.8676085459192593\n",
      "Loss 3.8667976129055024\n",
      "Loss 3.8722047983748573\n",
      "Loss 3.8641617954572043\n",
      "Loss 3.8608670556545257\n",
      "Loss 3.8583316331049975\n",
      "Loss 3.8704680108361775\n",
      "Loss 3.8836725507284466\n",
      "Loss 3.8886770565509794\n",
      "Loss 3.8881661952109563\n",
      "Loss 3.897209147973494\n",
      "Loss 3.909704302082891\n",
      "Loss 3.902585503111283\n",
      "Loss 3.888865545463562\n",
      "Loss 3.8947981470823287\n",
      "Loss 3.8869384692333364\n",
      "Loss 3.8921481392639024\n",
      "Loss 3.89108522723461\n",
      "Loss 3.8900100595156353\n",
      "Loss 3.8855877744766976\n",
      "Loss 3.8882396365329623\n",
      "Loss 3.8840023761445828\n",
      "Loss 3.8812300573377048\n",
      "Loss 3.8851230199337006\n",
      "Loss 3.8885669712225597\n",
      "Loss 3.885196454976056\n",
      "Loss 3.8791490330194174\n",
      "Loss 3.8815862141205715\n",
      "Loss 3.8763666621148585\n",
      "Loss 3.874214903959414\n",
      "Loss 3.8737811200107846\n",
      "Loss 3.87121972358504\n",
      "Loss 3.870566740008918\n",
      "Loss 3.8718787320984736\n",
      "Loss 3.869353966479716\n",
      "Loss 3.8671991369825727\n",
      "Loss 3.8675521222005287\n",
      "Loss 3.8699292903530353\n",
      "Loss 3.8694215405464174\n",
      "Loss 3.8692882922817677\n",
      "Loss 3.867486672103405\n",
      "Loss 3.864518889863536\n",
      "Loss 3.862615923638697\n",
      "Loss 3.8610246856212616\n",
      "Loss 3.8603962332436015\n",
      "Loss 3.8587168937607816\n",
      "Loss 3.859331681481723\n",
      "Loss 3.860244686684366\n",
      "Loss 3.860379519065221\n",
      "Loss 3.860738667914125\n",
      "Loss 3.863217736155756\n",
      "Loss 3.8664956377801443\n",
      "Loss 3.867002557758242\n",
      "Loss 3.8659520869255064\n",
      "Loss 3.8673524682268954\n",
      "Loss 3.8663423023650894\n",
      "Loss 3.864158461917849\n",
      "Loss 3.863586446599684\n",
      "Loss 3.8672190113578524\n",
      "Loss 3.867811632206742\n",
      "Loss 3.8675409568515087\n",
      "Loss 3.8667779837895746\n",
      "Loss 3.866978362331519\n",
      "Loss 3.8653274366696677\n",
      "Loss 3.8660304579609317\n",
      "Loss 3.8653364697369663\n",
      "Loss 3.8658657950162887\n",
      "Loss 3.865353822859028\n",
      "Loss 3.864354870736599\n",
      "Loss 3.8656357509118537\n",
      "Loss 3.86496313526863\n",
      "Loss 3.8674679684782602\n",
      "Loss 3.8667754558438348\n",
      "Loss 3.868603740678114\n",
      "Loss 3.865750071295472\n",
      "Loss 3.8643603818992087\n",
      "Loss 3.8653234063088893\n",
      "Loss 3.8639317541711784\n",
      "Loss 3.862337931593259\n",
      "Loss 3.8613655356391448\n",
      "Loss 3.8621124252547387\n",
      "Loss 3.861551728184505\n",
      "Loss 3.8597735112778686\n",
      "Loss 3.859036648737757\n",
      "Loss 3.8592911092812816\n",
      "Loss 3.8594225908800497\n",
      "Loss 3.8577442581556283\n",
      "Loss 3.859320666380603\n",
      "Loss 3.860832344150543\n",
      "Loss 3.86060406507832\n",
      "Loss 3.8608125107896094\n",
      "Loss 3.8594012717367376\n",
      "Loss 3.8584091171049155\n",
      "Loss 3.857430960768745\n",
      "Loss 3.8576835210368317\n",
      "Loss 3.8564894861595653\n",
      "Loss 3.8554914755843304\n",
      "Loss 3.8559332650845204\n",
      "Loss 3.8568522403782066\n",
      "Loss 3.8556421540556727\n",
      "Loss 3.853114854320884\n",
      "Loss 3.8531557303719817\n",
      "Epoch 2/25, Loss: 3.8530\n",
      "Loss 3.8654797613620757\n",
      "Loss 3.812932676076889\n",
      "Loss 3.844971454938253\n",
      "Loss 3.8098306587338446\n",
      "Loss 3.7976230268478393\n",
      "Loss 3.792319377462069\n",
      "Loss 3.7770158192089625\n",
      "Loss 3.7618288980424404\n",
      "Loss 3.7478309109475876\n",
      "Loss 3.7514507962465284\n",
      "Loss 3.745293601642955\n",
      "Loss 3.7455737936496734\n",
      "Loss 3.744746602498568\n",
      "Loss 3.7502240088156293\n",
      "Loss 3.7417499691645304\n",
      "Loss 3.738563168272376\n",
      "Loss 3.736183824959923\n",
      "Loss 3.7487822303507063\n",
      "Loss 3.760972242920022\n",
      "Loss 3.765222008526325\n",
      "Loss 3.7649093727838427\n",
      "Loss 3.773392268419266\n",
      "Loss 3.781517188963683\n",
      "Loss 3.7742586361368495\n",
      "Loss 3.7611072793006897\n",
      "Loss 3.7678251594763537\n",
      "Loss 3.760286558954804\n",
      "Loss 3.765642338906016\n",
      "Loss 3.7654009866714477\n",
      "Loss 3.7653329987923305\n",
      "Loss 3.7617336075536665\n",
      "Loss 3.764211114682257\n",
      "Loss 3.760696137384935\n",
      "Loss 3.7583724085022423\n",
      "Loss 3.7617038422652653\n",
      "Loss 3.7654950917429395\n",
      "Loss 3.7625816742471745\n",
      "Loss 3.757269548961991\n",
      "Loss 3.760020695191163\n",
      "Loss 3.7553277181982994\n",
      "Loss 3.7533899520083174\n",
      "Loss 3.753292709361939\n",
      "Loss 3.751210991643196\n",
      "Loss 3.751108522008766\n",
      "Loss 3.7526116784678565\n",
      "Loss 3.7494034703140673\n",
      "Loss 3.746958323032298\n",
      "Loss 3.74784263578554\n",
      "Loss 3.7504192036268664\n",
      "Loss 3.7503903633594513\n",
      "Loss 3.750735653849209\n",
      "Loss 3.749320789896525\n",
      "Loss 3.7465582703644373\n",
      "Loss 3.7448621295337325\n",
      "Loss 3.7434689233736558\n",
      "Loss 3.7430723656926834\n",
      "Loss 3.7416963867973863\n",
      "Loss 3.742173925946499\n",
      "Loss 3.743233883926424\n",
      "Loss 3.7434636193315187\n",
      "Loss 3.74392404786876\n",
      "Loss 3.7467631235238046\n",
      "Loss 3.750274524423811\n",
      "Loss 3.750845111347735\n",
      "Loss 3.749875772164418\n",
      "Loss 3.7513124016740105\n",
      "Loss 3.7504102725591233\n",
      "Loss 3.7485759771220826\n",
      "Loss 3.747930114943048\n",
      "Loss 3.7516076344081335\n",
      "Loss 3.7513675627574115\n",
      "Loss 3.7510634374287393\n",
      "Loss 3.7505708857921705\n",
      "Loss 3.7509357531972833\n",
      "Loss 3.7495675126393637\n",
      "Loss 3.750495921530222\n",
      "Loss 3.74997513258612\n",
      "Loss 3.750871456036201\n",
      "Loss 3.7507136643385586\n",
      "Loss 3.749933923587203\n",
      "Loss 3.7513279226532688\n",
      "Loss 3.7506056072217664\n",
      "Loss 3.753161835871547\n",
      "Loss 3.7525420258016813\n",
      "Loss 3.754497117757797\n",
      "Loss 3.751797974497773\n",
      "Loss 3.7506089465919583\n",
      "Loss 3.75155378181826\n",
      "Loss 3.750326345971461\n",
      "Loss 3.7487698093387816\n",
      "Loss 3.7477404165267942\n",
      "Loss 3.7484789579588433\n",
      "Loss 3.748122059055554\n",
      "Loss 3.7462979959934315\n",
      "Loss 3.7458519158237857\n",
      "Loss 3.7462130614494282\n",
      "Loss 3.746488918668216\n",
      "Loss 3.7450061746397796\n",
      "Loss 3.7466883583020683\n",
      "Loss 3.748238387811184\n",
      "Loss 3.748026570069908\n",
      "Loss 3.7482683488901922\n",
      "Loss 3.747069716314668\n",
      "Loss 3.746135696092477\n",
      "Loss 3.7452918603760854\n",
      "Loss 3.7455961133848947\n",
      "Loss 3.7446978739600314\n",
      "Loss 3.7439080560538502\n",
      "Loss 3.744319430742789\n",
      "Loss 3.745301765301011\n",
      "Loss 3.744194057879147\n",
      "Loss 3.7417922742984127\n",
      "Loss 3.741826614078167\n",
      "Epoch 3/25, Loss: 3.7416\n",
      "Loss 3.717768518924713\n",
      "Loss 3.687999588251114\n",
      "Loss 3.735456886291504\n",
      "Loss 3.7049364659190176\n",
      "Loss 3.695307766199112\n",
      "Loss 3.6907834649085998\n",
      "Loss 3.676686032499586\n",
      "Loss 3.662819000929594\n",
      "Loss 3.649711163043976\n",
      "Loss 3.653512709021568\n",
      "Loss 3.6483185641332105\n",
      "Loss 3.649159772892793\n",
      "Loss 3.650156325010153\n",
      "Loss 3.6559607276746204\n",
      "Loss 3.6479895054499307\n",
      "Loss 3.645342165753245\n",
      "Loss 3.6434495811602647\n",
      "Loss 3.6562953087356354\n",
      "Loss 3.667924598204462\n",
      "Loss 3.6717934747338297\n",
      "Loss 3.6712649652503786\n",
      "Loss 3.67927287670699\n",
      "Loss 3.6866828006765116\n",
      "Loss 3.679731226712465\n",
      "Loss 3.6670842864513395\n",
      "Loss 3.6741378163832885\n",
      "Loss 3.6667684619073513\n",
      "Loss 3.6722914677432605\n",
      "Loss 3.6725619872685136\n",
      "Loss 3.672846632798513\n",
      "Loss 3.6697562482280115\n",
      "Loss 3.6718135419860483\n",
      "Loss 3.6685758677395905\n",
      "Loss 3.6665651866968942\n",
      "Loss 3.669583255835942\n",
      "Loss 3.6733203298515744\n",
      "Loss 3.670507157622157\n",
      "Loss 3.665534963890126\n",
      "Loss 3.6685426882597114\n",
      "Loss 3.664129278689623\n",
      "Loss 3.6621500524078927\n",
      "Loss 3.6624667420557566\n",
      "Loss 3.6605330088803933\n",
      "Loss 3.6607372056625107\n",
      "Loss 3.6624406689537894\n",
      "Loss 3.659291017703388\n",
      "Loss 3.657037614533242\n",
      "Loss 3.6581714724252623\n",
      "Loss 3.6607144199342145\n",
      "Loss 3.661010120296478\n",
      "Loss 3.661554265840381\n",
      "Loss 3.660341752286141\n",
      "Loss 3.657730298132267\n",
      "Loss 3.6561808590315006\n",
      "Loss 3.65490597319603\n",
      "Loss 3.6545178343568527\n",
      "Loss 3.65345974685853\n",
      "Loss 3.653896309363431\n",
      "Loss 3.6549665966276397\n",
      "Loss 3.6551204967300097\n",
      "Loss 3.655586233295378\n",
      "Loss 3.658556030527238\n",
      "Loss 3.662151210516218\n",
      "Loss 3.662793614119291\n",
      "Loss 3.6619675768522115\n",
      "Loss 3.663429382298932\n",
      "Loss 3.6625925948192823\n",
      "Loss 3.6609740908180965\n",
      "Loss 3.6603213581140492\n",
      "Loss 3.664017172353608\n",
      "Loss 3.663782996090365\n",
      "Loss 3.663428386002779\n",
      "Loss 3.6630280965648288\n",
      "Loss 3.6634637259309355\n",
      "Loss 3.662334669113159\n",
      "Loss 3.6633836545128573\n",
      "Loss 3.6628451920639384\n",
      "Loss 3.6638922688135733\n",
      "Loss 3.6638640051552014\n",
      "Loss 3.663105857118964\n",
      "Loss 3.664540461861057\n",
      "Loss 3.6637680786411937\n",
      "Loss 3.666216868593032\n",
      "Loss 3.6656781389599753\n",
      "Loss 3.667644809372285\n",
      "Loss 3.6650618853957155\n",
      "Loss 3.6640070390701296\n",
      "Loss 3.6648230884427373\n",
      "Loss 3.6636271216092484\n",
      "Loss 3.662018516752455\n",
      "Loss 3.6608918606972956\n",
      "Loss 3.6615094360320466\n",
      "Loss 3.6611432865614533\n",
      "Loss 3.659094716475365\n",
      "Loss 3.658713818525013\n",
      "Loss 3.6590532608454427\n",
      "Loss 3.6592626712617187\n",
      "Loss 3.6578531451614538\n",
      "Loss 3.659558650387658\n",
      "Loss 3.6610376621842384\n",
      "Loss 3.660856708984564\n",
      "Loss 3.661087047142141\n",
      "Loss 3.6599575804275215\n",
      "Loss 3.659014479449162\n",
      "Loss 3.6582368461290997\n",
      "Loss 3.6584588774082794\n",
      "Loss 3.6571729159020934\n",
      "Loss 3.6563567478347707\n",
      "Loss 3.656675597768311\n",
      "Loss 3.657600991075689\n",
      "Loss 3.656495925864658\n",
      "Loss 3.654040693055306\n",
      "Loss 3.6539485572080697\n",
      "Epoch 4/25, Loss: 3.6536\n",
      "Loss 3.634810184240341\n",
      "Loss 3.601094926595688\n",
      "Loss 3.6518997796376547\n",
      "Loss 3.6210416108369827\n",
      "Loss 3.6130288858413695\n",
      "Loss 3.607555836836497\n",
      "Loss 3.5942181265354156\n",
      "Loss 3.5802497451007365\n",
      "Loss 3.567552626927694\n",
      "Loss 3.5701139442920686\n",
      "Loss 3.564207554838874\n",
      "Loss 3.564444586833318\n",
      "Loss 3.5666824882764083\n",
      "Loss 3.572562495640346\n",
      "Loss 3.573248126745224\n",
      "Loss 3.5709902273118495\n",
      "Loss 3.5689643509948956\n",
      "Loss 3.5810489169094297\n",
      "Loss 3.592222015481246\n",
      "Loss 3.596096101999283\n",
      "Loss 3.5948911820139204\n",
      "Loss 3.6024313229322433\n",
      "Loss 3.6088314352864805\n",
      "Loss 3.601752477536599\n",
      "Loss 3.588927286911011\n",
      "Loss 3.595721263747949\n",
      "Loss 3.5882986548653357\n",
      "Loss 3.5937827065587045\n",
      "Loss 3.593960583826591\n",
      "Loss 3.5942531315883\n",
      "Loss 3.591273053615324\n",
      "Loss 3.5927963074669242\n",
      "Loss 3.589508705066912\n",
      "Loss 3.5874173332663144\n",
      "Loss 3.589850787809917\n",
      "Loss 3.59321873638365\n",
      "Loss 3.590130018285803\n",
      "Loss 3.5848973114239544\n",
      "Loss 3.587759228608547\n",
      "Loss 3.583419657021761\n",
      "Loss 3.5811970428141153\n",
      "Loss 3.581666022453989\n",
      "Loss 3.580081554845322\n",
      "Loss 3.580492682429877\n",
      "Loss 3.5821951954629685\n",
      "Loss 3.5790391226955083\n",
      "Loss 3.576874794655658\n",
      "Loss 3.5782518688340983\n",
      "Loss 3.580904476034398\n",
      "Loss 3.581772313427925\n",
      "Loss 3.5824137719939735\n",
      "Loss 3.5812782575763187\n",
      "Loss 3.5788206762187884\n",
      "Loss 3.577453386231705\n",
      "Loss 3.576215686451305\n",
      "Loss 3.5758504160174303\n",
      "Loss 3.57480317791303\n",
      "Loss 3.5750631154200128\n",
      "Loss 3.575950854673224\n",
      "Loss 3.5760046815474826\n",
      "Loss 3.5763602756672217\n",
      "Loss 3.579391240669835\n",
      "Loss 3.582927797029889\n",
      "Loss 3.5836232591420414\n",
      "Loss 3.5828739958176246\n",
      "Loss 3.5843244500774327\n",
      "Loss 3.583415714840391\n",
      "Loss 3.5818518804977924\n",
      "Loss 3.5811034781172655\n",
      "Loss 3.584808116725513\n",
      "Loss 3.584395598391412\n",
      "Loss 3.5840117958684763\n",
      "Loss 3.5836775770742597\n",
      "Loss 3.584162985698597\n",
      "Loss 3.5831703276634217\n",
      "Loss 3.584326799245257\n",
      "Loss 3.583871529458405\n",
      "Loss 3.5850105116000544\n",
      "Loss 3.584999478527262\n",
      "Loss 3.5842198233008387\n",
      "Loss 3.585638972285353\n",
      "Loss 3.5848342562448687\n",
      "Loss 3.5871099740913115\n",
      "Loss 3.5865447562365307\n",
      "Loss 3.588514122345868\n",
      "Loss 3.5859419505817947\n",
      "Loss 3.5851415716094532\n",
      "Loss 3.5859353928538886\n",
      "Loss 3.58471903385741\n",
      "Loss 3.583118534233835\n",
      "Loss 3.5819882921072153\n",
      "Loss 3.5825492410167405\n",
      "Loss 3.582231764370395\n",
      "Loss 3.5799928302460526\n",
      "Loss 3.579601057140451\n",
      "Loss 3.579927491483589\n",
      "Loss 3.580024718046188\n",
      "Loss 3.5786309834889005\n",
      "Loss 3.5802672429999918\n",
      "Loss 3.5817034063220023\n",
      "Loss 3.581483947251103\n",
      "Loss 3.581660186858738\n",
      "Loss 3.580565796662303\n",
      "Loss 3.5795793951703954\n",
      "Loss 3.578880059605553\n",
      "Loss 3.579044854663453\n",
      "Loss 3.5777978117220868\n",
      "Loss 3.5769741622275775\n",
      "Loss 3.5771718646626955\n",
      "Loss 3.5779952736767857\n",
      "Loss 3.57686220355936\n",
      "Loss 3.574344436409218\n",
      "Loss 3.574083656979873\n",
      "Epoch 5/25, Loss: 3.5735\n",
      "Loss 3.554923194646835\n",
      "Loss 3.5190173661708832\n",
      "Loss 3.5696503269672393\n",
      "Loss 3.5363627448678017\n",
      "Loss 3.5285507345199587\n",
      "Loss 3.5236001914739608\n",
      "Loss 3.5110418815272193\n",
      "Loss 3.4983234868943693\n",
      "Loss 3.487524133125941\n",
      "Loss 3.490006001472473\n",
      "Loss 3.4833626862005755\n",
      "Loss 3.4836169230937957\n",
      "Loss 3.4868734938364763\n",
      "Loss 3.49272066286632\n",
      "Loss 3.4856126545270283\n",
      "Loss 3.483949007764459\n",
      "Loss 3.4820423636716953\n",
      "Loss 3.493634236123827\n",
      "Loss 3.504613751423986\n",
      "Loss 3.5084174474477767\n",
      "Loss 3.507438434475944\n",
      "Loss 3.5152938842773436\n",
      "Loss 3.5208075078673984\n",
      "Loss 3.513758032520612\n",
      "Loss 3.5012312193870545\n",
      "Loss 3.5080855190753937\n",
      "Loss 3.500820221282818\n",
      "Loss 3.506653900359358\n",
      "Loss 3.5070760070455487\n",
      "Loss 3.5076719816128414\n",
      "Loss 3.505323789081266\n",
      "Loss 3.5068048971518873\n",
      "Loss 3.5038461457960532\n",
      "Loss 3.5020037348480786\n",
      "Loss 3.5043643874100274\n",
      "Loss 3.507783239516947\n",
      "Loss 3.504567135959058\n",
      "Loss 3.4991665505735496\n",
      "Loss 3.5020405498834757\n",
      "Loss 3.4979103159308433\n",
      "Loss 3.495387223551913\n",
      "Loss 3.4958311804987137\n",
      "Loss 3.4944424828263214\n",
      "Loss 3.4951507769389587\n",
      "Loss 3.497114804373847\n",
      "Loss 3.494126276322033\n",
      "Loss 3.4922888695686423\n",
      "Loss 3.49373938622574\n",
      "Loss 3.496417699638678\n",
      "Loss 3.497587625193596\n",
      "Loss 3.4984071828804764\n",
      "Loss 3.4974595183821826\n",
      "Loss 3.495053666357724\n",
      "Loss 3.4937592724076025\n",
      "Loss 3.4926162204742432\n",
      "Loss 3.4924916853010655\n",
      "Loss 3.491574181987528\n",
      "Loss 3.491706691672062\n",
      "Loss 3.492598207279787\n",
      "Loss 3.4926972551147144\n",
      "Loss 3.4929864359683678\n",
      "Loss 3.4960507268674914\n",
      "Loss 3.4994224639165967\n",
      "Loss 3.500110505409539\n",
      "Loss 3.4995048171006715\n",
      "Loss 3.5010722263473455\n",
      "Loss 3.5003109859174755\n",
      "Loss 3.4988897209132417\n",
      "Loss 3.498154857867006\n",
      "Loss 3.501871213010379\n",
      "Loss 3.5013701421274264\n",
      "Loss 3.5009849254786967\n",
      "Loss 3.5007127045768582\n",
      "Loss 3.5012406015718307\n",
      "Loss 3.500339865287145\n",
      "Loss 3.501686532967969\n",
      "Loss 3.5012426162075685\n",
      "Loss 3.5026198359177663\n",
      "Loss 3.502773891536495\n",
      "Loss 3.50212803453207\n",
      "Loss 3.5036014020590134\n",
      "Loss 3.5028350979525866\n",
      "Loss 3.50502380428544\n",
      "Loss 3.5045096006421814\n",
      "Loss 3.5064734909113717\n",
      "Loss 3.503935709457065\n",
      "Loss 3.50314690529615\n",
      "Loss 3.504003102847121\n",
      "Loss 3.502816041868724\n",
      "Loss 3.5012265410820644\n",
      "Loss 3.500120394203689\n",
      "Loss 3.5006508812308312\n",
      "Loss 3.500475885188708\n",
      "Loss 3.4983172731957537\n",
      "Loss 3.4979378796251197\n",
      "Loss 3.4982173098623752\n",
      "Loss 3.498243601002644\n",
      "Loss 3.496880096574219\n",
      "Loss 3.4984381563494904\n",
      "Loss 3.4998354665994644\n",
      "Loss 3.4996454357510745\n",
      "Loss 3.4997980666978687\n",
      "Loss 3.4987784426536375\n",
      "Loss 3.497757020661464\n",
      "Loss 3.4970886748177663\n",
      "Loss 3.4971761340352723\n",
      "Loss 3.495946232548384\n",
      "Loss 3.4950830271619338\n",
      "Loss 3.495263157098665\n",
      "Loss 3.4960237972953103\n",
      "Loss 3.4948619212760583\n",
      "Loss 3.4923132769869905\n",
      "Loss 3.491908971261134\n",
      "Epoch 6/25, Loss: 3.4913\n",
      "Loss 3.4822911870479585\n",
      "Loss 3.447165523171425\n",
      "Loss 3.496765590508779\n",
      "Loss 3.460338924229145\n",
      "Loss 3.4499468019008637\n",
      "Loss 3.4443414322535197\n",
      "Loss 3.4319671406064716\n",
      "Loss 3.4180629451572897\n",
      "Loss 3.4081853897041743\n",
      "Loss 3.411608740210533\n",
      "Loss 3.4047445235469125\n",
      "Loss 3.404870395163695\n",
      "Loss 3.4074569113437945\n",
      "Loss 3.413007945929255\n",
      "Loss 3.4052783065636953\n",
      "Loss 3.4031075102835895\n",
      "Loss 3.4009974704770483\n",
      "Loss 3.4120584822363322\n",
      "Loss 3.422383516524967\n",
      "Loss 3.4257619532346726\n",
      "Loss 3.424465973774592\n",
      "Loss 3.432430361617695\n",
      "Loss 3.4375381656833315\n",
      "Loss 3.4304036140441894\n",
      "Loss 3.4178679265975953\n",
      "Loss 3.4243736998392986\n",
      "Loss 3.4168330589047184\n",
      "Loss 3.422608581483364\n",
      "Loss 3.4232519551803327\n",
      "Loss 3.4241129705905915\n",
      "Loss 3.4222139730761127\n",
      "Loss 3.423274509049952\n",
      "Loss 3.4202985098506464\n",
      "Loss 3.4182826479042276\n",
      "Loss 3.4204237355164118\n"
     ]
    }
   ],
   "source": [
    "for epoch in range(num_epochs):\n",
    "    train_loss = train(seq2seq, train_pairs_final, optimizer, criterion, device)\n",
    "    print(f\"Epoch {epoch+1}/{num_epochs}, Loss: {train_loss:.4f}\")"
   ]
  },
  {
   "cell_type": "code",
   "execution_count": null,
   "id": "da546792-efc3-442c-8ff0-3dd8fb03ed58",
   "metadata": {},
   "outputs": [],
   "source": []
  }
 ],
 "metadata": {
  "kernelspec": {
   "display_name": "Python 3 (ipykernel)",
   "language": "python",
   "name": "python3"
  },
  "language_info": {
   "codemirror_mode": {
    "name": "ipython",
    "version": 3
   },
   "file_extension": ".py",
   "mimetype": "text/x-python",
   "name": "python",
   "nbconvert_exporter": "python",
   "pygments_lexer": "ipython3",
   "version": "3.10.8"
  }
 },
 "nbformat": 4,
 "nbformat_minor": 5
}
