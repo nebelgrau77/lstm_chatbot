{
 "cells": [
  {
   "cell_type": "markdown",
   "id": "54a3b362-3b2c-4dd5-90db-e438d861c5b7",
   "metadata": {
    "tags": []
   },
   "source": [
    "# SIMPLE WORKING VERSION"
   ]
  },
  {
   "cell_type": "markdown",
   "id": "162c2679-9204-4273-a4a1-64f41ef9d11b",
   "metadata": {},
   "source": [
    "# RNN LSTM Chatbot project\n",
    "\n",
    "In this project I'm creating a chatbot that is supposed to answer questions from the Stanford Questions & Answers dataset SQuAD1, using a sequence-to-sequence Encoder-Decoder recurrent neural network architecture in PyTorch.\n",
    "\n",
    "To make the notebook more readable and the code more modular, all helper functions (data ingestion and preparation, data analysis, vocabulary creation) were moved to `modules`. \n",
    "\n",
    "The model for easier debugging is kept in the main notebook for now.\n",
    "\n"
   ]
  },
  {
   "cell_type": "code",
   "execution_count": 1,
   "id": "b79ff163-ef6c-4dbd-b8b8-9a0b6f31122c",
   "metadata": {},
   "outputs": [],
   "source": [
    "import torch"
   ]
  },
  {
   "cell_type": "code",
   "execution_count": 2,
   "id": "05e1d6c1-da35-4ac8-9bf9-65b786d259f2",
   "metadata": {},
   "outputs": [],
   "source": [
    "device = 'cuda' if torch.cuda.is_available() else 'cpu'"
   ]
  },
  {
   "cell_type": "code",
   "execution_count": 3,
   "id": "9442349d-4e46-4ba2-b9f8-79b6ce598c41",
   "metadata": {},
   "outputs": [
    {
     "data": {
      "text/plain": [
       "'cuda'"
      ]
     },
     "execution_count": 3,
     "metadata": {},
     "output_type": "execute_result"
    }
   ],
   "source": [
    "device"
   ]
  },
  {
   "cell_type": "code",
   "execution_count": 4,
   "id": "179a6456-5007-46ed-97d0-7477cd9cc0cc",
   "metadata": {},
   "outputs": [],
   "source": [
    "from torchtext.datasets import SQuAD1"
   ]
  },
  {
   "cell_type": "code",
   "execution_count": 5,
   "id": "30ef63a7-6d02-4c19-9abc-fedccbc1a67a",
   "metadata": {},
   "outputs": [],
   "source": [
    "train, test = SQuAD1(\"root\")"
   ]
  },
  {
   "cell_type": "code",
   "execution_count": 6,
   "id": "5f44af6a-6144-4443-b309-c6514bf0c35e",
   "metadata": {},
   "outputs": [
    {
     "name": "stderr",
     "output_type": "stream",
     "text": [
      "/usr/local/lib/python3.8/dist-packages/scipy/__init__.py:146: UserWarning: A NumPy version >=1.16.5 and <1.23.0 is required for this version of SciPy (detected version 1.24.2\n",
      "  warnings.warn(f\"A NumPy version >={np_minversion} and <{np_maxversion}\"\n",
      "[nltk_data] Downloading package wordnet to\n",
      "[nltk_data]     /shared/home/u076079/nltk_data...\n",
      "[nltk_data]   Package wordnet is already up-to-date!\n",
      "[nltk_data] Downloading package averaged_perceptron_tagger to\n",
      "[nltk_data]     /shared/home/u076079/nltk_data...\n",
      "[nltk_data]   Package averaged_perceptron_tagger is already up-to-\n",
      "[nltk_data]       date!\n",
      "[nltk_data] Downloading package stopwords to\n",
      "[nltk_data]     /shared/home/u076079/nltk_data...\n",
      "[nltk_data]   Package stopwords is already up-to-date!\n"
     ]
    }
   ],
   "source": [
    "from modules.data import *\n",
    "\n",
    "#get_dataframe,  get_pairs_from_df, cols, sample_df_perc, get_thresholds, get_outliers, tokenize_sentence, remove_least_common, to_tensor,  filter_sentences"
   ]
  },
  {
   "cell_type": "markdown",
   "id": "6ca0ef1e-be7c-4e95-ae5c-1e3707b5d22a",
   "metadata": {},
   "source": [
    "## Data ingestion\n",
    "\n",
    "* Data is loaded from the dataset into pandas dataframes: one for training, one for testing, \n",
    "* To keep the dataset size reasonable, only a sample of the questions/answers is taken"
   ]
  },
  {
   "cell_type": "code",
   "execution_count": 7,
   "id": "4c6845c6-5997-457d-8e50-e07d0108e147",
   "metadata": {},
   "outputs": [],
   "source": [
    "# get train and test dataframes of sentences\n",
    "train_df, test_df = get_dataframe(train), get_dataframe(test)"
   ]
  },
  {
   "cell_type": "code",
   "execution_count": 8,
   "id": "b6b4268c-6744-4949-85c8-b865360e008c",
   "metadata": {},
   "outputs": [
    {
     "data": {
      "text/plain": [
       "((87599, 2), (10570, 2))"
      ]
     },
     "execution_count": 8,
     "metadata": {},
     "output_type": "execute_result"
    }
   ],
   "source": [
    "train_df.shape, test_df.shape"
   ]
  },
  {
   "cell_type": "code",
   "execution_count": 9,
   "id": "c449703f-d2ea-49cf-99cd-200a7fe67694",
   "metadata": {},
   "outputs": [],
   "source": [
    "train_len = 30000\n",
    "test_len = 3000"
   ]
  },
  {
   "cell_type": "code",
   "execution_count": 10,
   "id": "6e7fa063-1ad2-4e00-aa0a-1ab5bbfd2da6",
   "metadata": {},
   "outputs": [],
   "source": [
    "train_df = sample_df_num(train_df, train_len)"
   ]
  },
  {
   "cell_type": "code",
   "execution_count": 11,
   "id": "08f40fbc-3fe6-4730-8b82-4db0a4b4ccd1",
   "metadata": {},
   "outputs": [],
   "source": [
    "test_df = sample_df_num(test_df, test_len)"
   ]
  },
  {
   "cell_type": "code",
   "execution_count": 12,
   "id": "584d3d9f-63f8-47f7-82a1-fa99e39dc526",
   "metadata": {},
   "outputs": [],
   "source": [
    "#train_df = sample_df_perc(train_df, 1)"
   ]
  },
  {
   "cell_type": "code",
   "execution_count": 12,
   "id": "a49d6bc9-266c-447c-9be6-1794c5053b50",
   "metadata": {},
   "outputs": [
    {
     "data": {
      "text/plain": [
       "((30000, 2), (3000, 2))"
      ]
     },
     "execution_count": 12,
     "metadata": {},
     "output_type": "execute_result"
    }
   ],
   "source": [
    "train_df.shape, test_df.shape"
   ]
  },
  {
   "cell_type": "code",
   "execution_count": 13,
   "id": "35ccaa7e-fa23-4eb2-bbe7-f9e8e5dfac4c",
   "metadata": {
    "scrolled": true
   },
   "outputs": [
    {
     "data": {
      "text/html": [
       "<div>\n",
       "<style scoped>\n",
       "    .dataframe tbody tr th:only-of-type {\n",
       "        vertical-align: middle;\n",
       "    }\n",
       "\n",
       "    .dataframe tbody tr th {\n",
       "        vertical-align: top;\n",
       "    }\n",
       "\n",
       "    .dataframe thead th {\n",
       "        text-align: right;\n",
       "    }\n",
       "</style>\n",
       "<table border=\"1\" class=\"dataframe\">\n",
       "  <thead>\n",
       "    <tr style=\"text-align: right;\">\n",
       "      <th></th>\n",
       "      <th>Question</th>\n",
       "      <th>Answer</th>\n",
       "    </tr>\n",
       "  </thead>\n",
       "  <tbody>\n",
       "    <tr>\n",
       "      <th>0</th>\n",
       "      <td>After Morsi removal, what country has Egypt im...</td>\n",
       "      <td>Russia</td>\n",
       "    </tr>\n",
       "    <tr>\n",
       "      <th>1</th>\n",
       "      <td>According to Baptists, who should have baptisms?</td>\n",
       "      <td>professing believers</td>\n",
       "    </tr>\n",
       "    <tr>\n",
       "      <th>2</th>\n",
       "      <td>What is a tradition unique to the Creole people?</td>\n",
       "      <td>touloulous</td>\n",
       "    </tr>\n",
       "  </tbody>\n",
       "</table>\n",
       "</div>"
      ],
      "text/plain": [
       "                                            Question                Answer\n",
       "0  After Morsi removal, what country has Egypt im...                Russia\n",
       "1   According to Baptists, who should have baptisms?  professing believers\n",
       "2   What is a tradition unique to the Creole people?            touloulous"
      ]
     },
     "execution_count": 13,
     "metadata": {},
     "output_type": "execute_result"
    }
   ],
   "source": [
    "train_df.head(3)"
   ]
  },
  {
   "cell_type": "code",
   "execution_count": null,
   "id": "bcc78290-1a58-45c9-ba2e-ec4b3d1511bf",
   "metadata": {},
   "outputs": [],
   "source": []
  },
  {
   "cell_type": "markdown",
   "id": "6344a0f9-cc0b-4b6e-9238-c54a5da7197b",
   "metadata": {},
   "source": [
    "## Vocabulary creation / Data preparation\n",
    "\n",
    "Sentences (questions and answers) are converted into lists of tokens:\n",
    "* all characters are made into lower case\n",
    "* punctuation is removed\n",
    "* stopwords (most common words that don't carry much additional meaning) are removed, but keeping question words (when, how, who, etc.)\n",
    "* For questions stemming is applied to reduce number of words to just their \"roots\". For answers this step is skipped, to have full unstemmed words in the answers vocabulary\n",
    "* Pairs question:answer are created from both train and test dataset, and words are added to two vocabularies: Q_vocab and A_vocab"
   ]
  },
  {
   "cell_type": "code",
   "execution_count": 14,
   "id": "ea6bbdcf-6263-4531-b5d5-1447576708d8",
   "metadata": {},
   "outputs": [
    {
     "name": "stdout",
     "output_type": "stream",
     "text": [
      "Besides Melanesia, which country sent many workers for the cocoa and rubber plantations in Samoa?\n",
      "['besides', 'melanesia', 'which', 'country', 'sent', 'many', 'workers', 'cocoa', 'rubber', 'plantations', 'samoa']\n",
      "['besid', 'melanesia', 'which', 'countri', 'sent', 'mani', 'worker', 'cocoa', 'rubber', 'plantat', 'samoa']\n"
     ]
    }
   ],
   "source": [
    "# Example of the sequence processing\n",
    "\n",
    "import random\n",
    "\n",
    "rand_question = train_df.at[random.randint(0,train_df.shape[0]), 'Question']\n",
    "print(rand_question)\n",
    "\n",
    "print(tokenize_sentence(rand_question))\n",
    "print(tokenize_sentence(rand_question, normalization='stem'))"
   ]
  },
  {
   "cell_type": "code",
   "execution_count": null,
   "id": "f28f5a18-cd38-49eb-8e1a-6f18f64f39a8",
   "metadata": {},
   "outputs": [],
   "source": []
  },
  {
   "cell_type": "code",
   "execution_count": 15,
   "id": "5546a5c6-eec6-4816-85c2-ec3b652b5de5",
   "metadata": {},
   "outputs": [],
   "source": [
    "from modules.vocab import Vocab"
   ]
  },
  {
   "cell_type": "code",
   "execution_count": 16,
   "id": "49c28a91-cbe2-445e-98cf-0b3e67e4a226",
   "metadata": {},
   "outputs": [],
   "source": [
    "for col, norm in zip(cols, ['stem', None]): # only questions get stemmed\n",
    "    train_df[f'{col}_tokens'] = train_df[col].apply(lambda s: tokenize_sentence(s, normalization=norm))"
   ]
  },
  {
   "cell_type": "code",
   "execution_count": 17,
   "id": "bc7a90d6-dd8b-4425-81f8-9c447201783e",
   "metadata": {},
   "outputs": [],
   "source": [
    "for col, norm in zip(cols, ['stem', None]):\n",
    "    test_df[f'{col}_tokens'] = test_df[col].apply(lambda s: tokenize_sentence(s, normalization=norm))"
   ]
  },
  {
   "cell_type": "code",
   "execution_count": 18,
   "id": "dbc6971c-872e-4b3a-a0d9-585ab3d44739",
   "metadata": {},
   "outputs": [
    {
     "data": {
      "text/html": [
       "<div>\n",
       "<style scoped>\n",
       "    .dataframe tbody tr th:only-of-type {\n",
       "        vertical-align: middle;\n",
       "    }\n",
       "\n",
       "    .dataframe tbody tr th {\n",
       "        vertical-align: top;\n",
       "    }\n",
       "\n",
       "    .dataframe thead th {\n",
       "        text-align: right;\n",
       "    }\n",
       "</style>\n",
       "<table border=\"1\" class=\"dataframe\">\n",
       "  <thead>\n",
       "    <tr style=\"text-align: right;\">\n",
       "      <th></th>\n",
       "      <th>Question</th>\n",
       "      <th>Answer</th>\n",
       "      <th>Question_tokens</th>\n",
       "      <th>Answer_tokens</th>\n",
       "    </tr>\n",
       "  </thead>\n",
       "  <tbody>\n",
       "    <tr>\n",
       "      <th>23335</th>\n",
       "      <td>Rayon comes from what plant product?</td>\n",
       "      <td>cellulose</td>\n",
       "      <td>[rayon, come, what, plant, product]</td>\n",
       "      <td>[cellulose]</td>\n",
       "    </tr>\n",
       "    <tr>\n",
       "      <th>19361</th>\n",
       "      <td>Who was the ruler of the underworld in ancient...</td>\n",
       "      <td>Osiris</td>\n",
       "      <td>[who, ruler, underworld, ancient, egypt]</td>\n",
       "      <td>[osiris]</td>\n",
       "    </tr>\n",
       "    <tr>\n",
       "      <th>15718</th>\n",
       "      <td>What are people being trained for, mainly, in ...</td>\n",
       "      <td>trades</td>\n",
       "      <td>[what, peopl, train, main, pakistan, polytechn...</td>\n",
       "      <td>[trades]</td>\n",
       "    </tr>\n",
       "  </tbody>\n",
       "</table>\n",
       "</div>"
      ],
      "text/plain": [
       "                                                Question     Answer  \\\n",
       "23335               Rayon comes from what plant product?  cellulose   \n",
       "19361  Who was the ruler of the underworld in ancient...     Osiris   \n",
       "15718  What are people being trained for, mainly, in ...     trades   \n",
       "\n",
       "                                         Question_tokens Answer_tokens  \n",
       "23335                [rayon, come, what, plant, product]   [cellulose]  \n",
       "19361           [who, ruler, underworld, ancient, egypt]      [osiris]  \n",
       "15718  [what, peopl, train, main, pakistan, polytechn...      [trades]  "
      ]
     },
     "execution_count": 18,
     "metadata": {},
     "output_type": "execute_result"
    }
   ],
   "source": [
    "train_df.sample(3)"
   ]
  },
  {
   "cell_type": "code",
   "execution_count": 19,
   "id": "4c5a711d-2d46-4255-9091-959b91a07b4d",
   "metadata": {},
   "outputs": [],
   "source": [
    "# processed sequences columns names have '_tokens' suffix\n",
    "cols_tokens = [f'{col}_tokens' for col in cols]"
   ]
  },
  {
   "cell_type": "markdown",
   "id": "4520dfcf-9530-4268-b9a7-4d01bc98c6be",
   "metadata": {},
   "source": [
    "### Create pairs and add to the vocabularies"
   ]
  },
  {
   "cell_type": "code",
   "execution_count": 20,
   "id": "c6c241b5-3e32-47ba-9fab-9bad67404d66",
   "metadata": {},
   "outputs": [],
   "source": [
    "train_pairs = get_pairs_from_df(train_df, cols_tokens)"
   ]
  },
  {
   "cell_type": "code",
   "execution_count": 21,
   "id": "e9eebcb5-30c2-4bf0-bbe8-e6a4015205f0",
   "metadata": {},
   "outputs": [],
   "source": [
    "test_pairs = get_pairs_from_df(test_df, cols_tokens)"
   ]
  },
  {
   "cell_type": "code",
   "execution_count": 22,
   "id": "1d3fed41-b6df-495e-966b-73d8275bc397",
   "metadata": {},
   "outputs": [],
   "source": [
    "Q_vocab, A_vocab = Vocab(), Vocab()"
   ]
  },
  {
   "cell_type": "markdown",
   "id": "f4791a92-39ea-4709-bceb-316b1f7cf61d",
   "metadata": {},
   "source": [
    "### Words from both training and test datasets are added to the two vocabularies"
   ]
  },
  {
   "cell_type": "code",
   "execution_count": 23,
   "id": "766b2b7c-8452-4f41-91c1-a1933899af1a",
   "metadata": {},
   "outputs": [],
   "source": [
    "for pair in train_pairs:\n",
    "    Q_vocab.add_sentence(pair.question)\n",
    "    A_vocab.add_sentence(pair.answer)"
   ]
  },
  {
   "cell_type": "code",
   "execution_count": 24,
   "id": "8bf020f0-9fa9-4d35-b5a1-c72e2190e955",
   "metadata": {},
   "outputs": [
    {
     "data": {
      "text/plain": [
       "(17174, 22299)"
      ]
     },
     "execution_count": 24,
     "metadata": {},
     "output_type": "execute_result"
    }
   ],
   "source": [
    "Q_vocab.n_words, A_vocab.n_words, "
   ]
  },
  {
   "cell_type": "code",
   "execution_count": 25,
   "id": "eb3dcfe2-d353-4d2e-915f-03e0923dc785",
   "metadata": {},
   "outputs": [],
   "source": [
    "for pair in test_pairs:\n",
    "    Q_vocab.add_sentence(pair.question)\n",
    "    A_vocab.add_sentence(pair.answer)"
   ]
  },
  {
   "cell_type": "code",
   "execution_count": 26,
   "id": "7b57afc2-4b59-481a-8d15-ee267b0d8e36",
   "metadata": {},
   "outputs": [
    {
     "data": {
      "text/plain": [
       "(18184, 23669)"
      ]
     },
     "execution_count": 26,
     "metadata": {},
     "output_type": "execute_result"
    }
   ],
   "source": [
    "# Answers vocabulary contains more words due to lack of stemming\n",
    "\n",
    "Q_vocab.n_words, A_vocab.n_words "
   ]
  },
  {
   "cell_type": "code",
   "execution_count": null,
   "id": "65b7878b-ad57-4ad4-9cd4-b4509c6f660d",
   "metadata": {},
   "outputs": [],
   "source": []
  },
  {
   "cell_type": "markdown",
   "id": "d6d39d65-1c60-4b17-8913-100b2fe00cde",
   "metadata": {},
   "source": [
    "## Data analysis and further cleanup\n",
    "\n",
    "To improve and reduce the dataset, some analysis is done to find and remove outliers:\n",
    "* least common words (those that occur only once)\n",
    "* answers that have less than one token (empty sequences)\n",
    "* questions that have less than three tokens, as they're not really meaningful\n",
    "* histograms are used to find the \"long tail\" of the dataset: longer sequences are rare, so I establish a threshold above which the dataframe row with either very long question or answer is dropped. This way most of the data is kept, and the sequences can be of reasonable length"
   ]
  },
  {
   "cell_type": "code",
   "execution_count": null,
   "id": "3da86f92-bddd-41f3-b0f6-5b4d2eb5d873",
   "metadata": {},
   "outputs": [],
   "source": []
  },
  {
   "cell_type": "code",
   "execution_count": 27,
   "id": "7450e792-925e-4a07-8236-38f1045e69d6",
   "metadata": {},
   "outputs": [],
   "source": [
    "from modules.stats import sentences_stats, histograms"
   ]
  },
  {
   "cell_type": "code",
   "execution_count": 28,
   "id": "1982157e-f27d-40b3-98fb-f001012d68d7",
   "metadata": {},
   "outputs": [
    {
     "name": "stdout",
     "output_type": "stream",
     "text": [
      "Sentences in column Question_tokens:\n",
      "\t         mean: 6.44\n",
      "\t         median: 6.00\n",
      "\t         minimum: 1\n",
      "\t         maximum: 32)\n",
      "Sentences in column Answer_tokens:\n",
      "\t         mean: 2.42\n",
      "\t         median: 2.00\n",
      "\t         minimum: 0\n",
      "\t         maximum: 20)\n"
     ]
    }
   ],
   "source": [
    "# statistics for tokenized sentences\n",
    "sentences_stats(train_df, cols_tokens)"
   ]
  },
  {
   "cell_type": "code",
   "execution_count": 29,
   "id": "ed546c61-46c6-4198-8b2d-658e6ea83727",
   "metadata": {},
   "outputs": [
    {
     "name": "stdout",
     "output_type": "stream",
     "text": [
      "Sentences in column Question_tokens:\n",
      "\t         mean: 6.52\n",
      "\t         median: 6.00\n",
      "\t         minimum: 2\n",
      "\t         maximum: 17)\n",
      "Sentences in column Answer_tokens:\n",
      "\t         mean: 2.33\n",
      "\t         median: 2.00\n",
      "\t         minimum: 0\n",
      "\t         maximum: 15)\n"
     ]
    }
   ],
   "source": [
    "# statistics for tokenized sentences\n",
    "sentences_stats(test_df, cols_tokens)"
   ]
  },
  {
   "cell_type": "markdown",
   "id": "8034d347-3b5c-4675-9040-c06f9d1be915",
   "metadata": {},
   "source": [
    "### Remove the least common words from the sentences"
   ]
  },
  {
   "cell_type": "code",
   "execution_count": 30,
   "id": "0127a26b-68b8-4456-8c70-c49ba08525ff",
   "metadata": {},
   "outputs": [],
   "source": [
    "# how many times at most a word occurs to be considered an outlier\n",
    "outlier_threshold = 1"
   ]
  },
  {
   "cell_type": "code",
   "execution_count": 31,
   "id": "0335f482-7f3c-4265-81d9-93436d7f1090",
   "metadata": {},
   "outputs": [
    {
     "name": "stdout",
     "output_type": "stream",
     "text": [
      "Questions vocabulary has 9111 words that occur only once, answers vocabulary has 14156 such words\n"
     ]
    }
   ],
   "source": [
    "print(f'Questions vocabulary has {len(get_outliers(Q_vocab, outlier_threshold+1))} words that occur only once, answers vocabulary has {len(get_outliers(A_vocab, outlier_threshold+1))} such words')"
   ]
  },
  {
   "cell_type": "markdown",
   "id": "1c6146cc-8b68-4db8-b387-008c413e71ac",
   "metadata": {},
   "source": [
    "### Create lists of those words and remove them from the sequences"
   ]
  },
  {
   "cell_type": "code",
   "execution_count": 32,
   "id": "2adafd8f-bae0-455c-ab37-363db03f2e23",
   "metadata": {},
   "outputs": [],
   "source": [
    "q_outliers, a_outliers = get_outliers(Q_vocab,outlier_threshold+1), get_outliers(A_vocab,outlier_threshold+1)"
   ]
  },
  {
   "cell_type": "code",
   "execution_count": 33,
   "id": "0464a5cf-fb82-4acc-ab6c-b3029a1e510b",
   "metadata": {},
   "outputs": [],
   "source": [
    "train_df_final = remove_least_common(train_df, cols_tokens, [q_outliers, a_outliers])"
   ]
  },
  {
   "cell_type": "code",
   "execution_count": 34,
   "id": "52510523-62a9-4e42-ba96-bddbee4bf3d5",
   "metadata": {},
   "outputs": [],
   "source": [
    "test_df_final = remove_least_common(test_df, cols_tokens, [q_outliers, a_outliers])"
   ]
  },
  {
   "cell_type": "code",
   "execution_count": 35,
   "id": "0a019f58-39d0-4a4e-9b22-6a69e84a80ec",
   "metadata": {},
   "outputs": [
    {
     "name": "stdout",
     "output_type": "stream",
     "text": [
      "Sentences in column Question_tokens:\n",
      "\t         mean: 6.17\n",
      "\t         median: 6.00\n",
      "\t         minimum: 0\n",
      "\t         maximum: 29)\n",
      "Sentences in column Answer_tokens:\n",
      "\t         mean: 1.98\n",
      "\t         median: 2.00\n",
      "\t         minimum: 0\n",
      "\t         maximum: 19)\n"
     ]
    }
   ],
   "source": [
    "# tokenized & least common removed\n",
    "sentences_stats(train_df_final, cols_tokens)"
   ]
  },
  {
   "cell_type": "code",
   "execution_count": 36,
   "id": "f0b21a9a-243f-4dc6-a0a8-2e2c65caebba",
   "metadata": {},
   "outputs": [
    {
     "name": "stdout",
     "output_type": "stream",
     "text": [
      "Sentences in column Question_tokens:\n",
      "\t         mean: 6.25\n",
      "\t         median: 6.00\n",
      "\t         minimum: 1\n",
      "\t         maximum: 17)\n",
      "Sentences in column Answer_tokens:\n",
      "\t         mean: 1.93\n",
      "\t         median: 2.00\n",
      "\t         minimum: 0\n",
      "\t         maximum: 13)\n"
     ]
    }
   ],
   "source": [
    "# tokenized & least common removed\n",
    "sentences_stats(test_df_final, cols_tokens)"
   ]
  },
  {
   "cell_type": "markdown",
   "id": "25751515-a24f-4e0a-9b6c-e12f9dafd722",
   "metadata": {},
   "source": [
    "### Remove questions that have less than three words and answers that have less than one"
   ]
  },
  {
   "cell_type": "code",
   "execution_count": 37,
   "id": "47ca1d7a-f8b0-4d42-aa9e-a889c0dfbcfc",
   "metadata": {},
   "outputs": [],
   "source": [
    "train_df_final = filter_sentences(train_df_final, cols_tokens, [2,0], condition='longer')"
   ]
  },
  {
   "cell_type": "code",
   "execution_count": 38,
   "id": "3934a09f-4d33-4024-adcc-e4bccc55d837",
   "metadata": {},
   "outputs": [
    {
     "name": "stdout",
     "output_type": "stream",
     "text": [
      "Question_tokens 3\n",
      "Answer_tokens 1\n"
     ]
    },
    {
     "data": {
      "image/png": "[encoded data removed]",
      "text/plain": [
       "<Figure size 640x480 with 1 Axes>"
      ]
     },
     "metadata": {},
     "output_type": "display_data"
    }
   ],
   "source": [
    "# display the histograms to see if that worked\n",
    "\n",
    "train_df_final_thresholds = histograms(train_df_final, cols_tokens, name = 'tokenized')"
   ]
  },
  {
   "cell_type": "code",
   "execution_count": 39,
   "id": "6789669f-3bbf-4a2d-942e-30dc0255930c",
   "metadata": {},
   "outputs": [
    {
     "data": {
      "text/plain": [
       "(25774, 4)"
      ]
     },
     "execution_count": 39,
     "metadata": {},
     "output_type": "execute_result"
    }
   ],
   "source": [
    "train_df_final.shape"
   ]
  },
  {
   "cell_type": "code",
   "execution_count": 40,
   "id": "fde25b3c-a9f0-4659-8198-63baefbe91a6",
   "metadata": {},
   "outputs": [
    {
     "name": "stdout",
     "output_type": "stream",
     "text": [
      "Sentences in column Question_tokens:\n",
      "\t         mean: 6.27\n",
      "\t         median: 6.00\n",
      "\t         minimum: 3\n",
      "\t         maximum: 29)\n",
      "Sentences in column Answer_tokens:\n",
      "\t         mean: 2.25\n",
      "\t         median: 2.00\n",
      "\t         minimum: 1\n",
      "\t         maximum: 19)\n"
     ]
    }
   ],
   "source": [
    "# shortest sentences removed\n",
    "sentences_stats(train_df_final, cols_tokens)"
   ]
  },
  {
   "cell_type": "code",
   "execution_count": null,
   "id": "6a37889e-0499-44c7-a615-b68335952dc7",
   "metadata": {},
   "outputs": [],
   "source": []
  },
  {
   "cell_type": "code",
   "execution_count": 41,
   "id": "38915cef-2608-4ff0-b870-005f29ce64f0",
   "metadata": {},
   "outputs": [],
   "source": [
    "test_df_final = filter_sentences(test_df_final, cols_tokens, [2,0], condition='longer')"
   ]
  },
  {
   "cell_type": "code",
   "execution_count": 42,
   "id": "5ed9ed2f-f665-4cf8-af0d-34ce49f48ac5",
   "metadata": {},
   "outputs": [
    {
     "name": "stdout",
     "output_type": "stream",
     "text": [
      "Question_tokens 3\n",
      "Answer_tokens 1\n"
     ]
    },
    {
     "data": {
      "image/png": "[encoded data removed]",
      "text/plain": [
       "<Figure size 640x480 with 1 Axes>"
      ]
     },
     "metadata": {},
     "output_type": "display_data"
    }
   ],
   "source": [
    "# display the histograms to see if that worked\n",
    "\n",
    "test_df_final_thresholds = histograms(test_df_final, cols_tokens, name = 'tokenized')"
   ]
  },
  {
   "cell_type": "code",
   "execution_count": 43,
   "id": "193fa900-f512-46d9-b2ba-aa5cc64f9000",
   "metadata": {},
   "outputs": [
    {
     "data": {
      "text/plain": [
       "(2596, 4)"
      ]
     },
     "execution_count": 43,
     "metadata": {},
     "output_type": "execute_result"
    }
   ],
   "source": [
    "test_df_final.shape"
   ]
  },
  {
   "cell_type": "code",
   "execution_count": 44,
   "id": "606eac15-6aaa-4e53-85d3-529d935684a0",
   "metadata": {},
   "outputs": [
    {
     "name": "stdout",
     "output_type": "stream",
     "text": [
      "Sentences in column Question_tokens:\n",
      "\t         mean: 6.34\n",
      "\t         median: 6.00\n",
      "\t         minimum: 3\n",
      "\t         maximum: 17)\n",
      "Sentences in column Answer_tokens:\n",
      "\t         mean: 2.16\n",
      "\t         median: 2.00\n",
      "\t         minimum: 1\n",
      "\t         maximum: 13)\n"
     ]
    }
   ],
   "source": [
    "# shortest sentences removed\n",
    "sentences_stats(test_df_final, cols_tokens)"
   ]
  },
  {
   "cell_type": "code",
   "execution_count": null,
   "id": "12ed5af0-e6ac-486f-9d77-3ba2615d25de",
   "metadata": {},
   "outputs": [],
   "source": []
  },
  {
   "cell_type": "markdown",
   "id": "01a76972-303d-44ae-bf59-08c46a237488",
   "metadata": {},
   "source": [
    "### Remove long outliers: long sentences that occure rarely"
   ]
  },
  {
   "cell_type": "code",
   "execution_count": 45,
   "id": "69685485-1713-4017-8436-9a196e879cf0",
   "metadata": {},
   "outputs": [],
   "source": [
    "# keeping only the 95% of the data\n",
    "cutoff = 95"
   ]
  },
  {
   "cell_type": "code",
   "execution_count": 46,
   "id": "25b7ecff-2312-4e1c-9773-6028dad38e4d",
   "metadata": {},
   "outputs": [
    {
     "data": {
      "text/plain": [
       "{'Question_tokens': 10, 'Answer_tokens': 6}"
      ]
     },
     "execution_count": 46,
     "metadata": {},
     "output_type": "execute_result"
    }
   ],
   "source": [
    "get_thresholds(train_df_final_thresholds, cutoff = cutoff)"
   ]
  },
  {
   "cell_type": "code",
   "execution_count": 47,
   "id": "82a5369e-fcde-48c3-a0c4-110bb6c7e12c",
   "metadata": {},
   "outputs": [],
   "source": [
    "Q_MAX, A_MAX = get_thresholds(train_df_final_thresholds, cutoff = cutoff).values()"
   ]
  },
  {
   "cell_type": "code",
   "execution_count": 48,
   "id": "648d0c08-a9e0-4278-8beb-3b5e35f8c81d",
   "metadata": {},
   "outputs": [],
   "source": [
    "train_df_final = filter_sentences(train_df_final, cols_tokens, [Q_MAX+1,A_MAX+1], condition='shorter')"
   ]
  },
  {
   "cell_type": "code",
   "execution_count": 49,
   "id": "12cfc150-100f-460b-a252-d475c139fee4",
   "metadata": {
    "scrolled": true
   },
   "outputs": [
    {
     "name": "stdout",
     "output_type": "stream",
     "text": [
      "Sentences in column Question_tokens:\n",
      "\t         mean: 6.08\n",
      "\t         median: 6.00\n",
      "\t         minimum: 3\n",
      "\t         maximum: 10)\n",
      "Sentences in column Answer_tokens:\n",
      "\t         mean: 1.97\n",
      "\t         median: 2.00\n",
      "\t         minimum: 1\n",
      "\t         maximum: 6)\n"
     ]
    }
   ],
   "source": [
    "# long outliers removed\n",
    "sentences_stats(train_df_final, cols_tokens)"
   ]
  },
  {
   "cell_type": "code",
   "execution_count": null,
   "id": "db36354e-a106-40bb-bccf-73737f654f0d",
   "metadata": {},
   "outputs": [],
   "source": []
  },
  {
   "cell_type": "code",
   "execution_count": 50,
   "id": "b2be1ef8-3321-4c82-a6ff-e8ad9579c6a5",
   "metadata": {},
   "outputs": [],
   "source": [
    "# to simplify I'm using the same thresholds for the test set"
   ]
  },
  {
   "cell_type": "code",
   "execution_count": 50,
   "id": "41eb7230-16a9-407f-8747-2bd5f3db7c2e",
   "metadata": {},
   "outputs": [],
   "source": [
    "test_df_final = filter_sentences(test_df_final, cols_tokens, [Q_MAX+1,A_MAX+1], condition='shorter')"
   ]
  },
  {
   "cell_type": "code",
   "execution_count": 51,
   "id": "acbac5aa-a51b-4a37-9265-4657e7f7239d",
   "metadata": {
    "scrolled": true
   },
   "outputs": [
    {
     "name": "stdout",
     "output_type": "stream",
     "text": [
      "Sentences in column Question_tokens:\n",
      "\t         mean: 6.12\n",
      "\t         median: 6.00\n",
      "\t         minimum: 3\n",
      "\t         maximum: 10)\n",
      "Sentences in column Answer_tokens:\n",
      "\t         mean: 1.99\n",
      "\t         median: 2.00\n",
      "\t         minimum: 1\n",
      "\t         maximum: 6)\n"
     ]
    }
   ],
   "source": [
    "# long outliers removed\n",
    "sentences_stats(test_df_final, cols_tokens)"
   ]
  },
  {
   "cell_type": "code",
   "execution_count": 52,
   "id": "f2750b9b-f01b-4ee9-be2b-69890cb4ca03",
   "metadata": {},
   "outputs": [
    {
     "data": {
      "text/plain": [
       "((23880, 4), (2419, 4))"
      ]
     },
     "execution_count": 52,
     "metadata": {},
     "output_type": "execute_result"
    }
   ],
   "source": [
    "train_df_final.shape, test_df_final.shape"
   ]
  },
  {
   "cell_type": "code",
   "execution_count": null,
   "id": "7fffdcad-8870-4376-b738-1b9282a07bff",
   "metadata": {},
   "outputs": [],
   "source": []
  },
  {
   "cell_type": "markdown",
   "id": "0be952bd-44cc-4f41-bed5-ea17231aa76e",
   "metadata": {},
   "source": [
    "### Pairs have to be redone from the cleaned up datasets, to be used in the model (after being turned into tensors)."
   ]
  },
  {
   "cell_type": "code",
   "execution_count": 53,
   "id": "309585c9-df9d-4f84-995c-544fab45b90c",
   "metadata": {},
   "outputs": [],
   "source": [
    "train_pairs_final = get_pairs_from_df(train_df_final, cols_tokens)"
   ]
  },
  {
   "cell_type": "code",
   "execution_count": 54,
   "id": "088c6509-f966-480c-bc40-48fa5bd2fab2",
   "metadata": {},
   "outputs": [],
   "source": [
    "test_pairs_final = get_pairs_from_df(test_df_final, cols_tokens)"
   ]
  },
  {
   "cell_type": "code",
   "execution_count": 55,
   "id": "4cb90adf-d401-48f0-8911-b31144276227",
   "metadata": {
    "scrolled": true
   },
   "outputs": [
    {
     "data": {
      "text/plain": [
       "(23880, 2419)"
      ]
     },
     "execution_count": 55,
     "metadata": {},
     "output_type": "execute_result"
    }
   ],
   "source": [
    "len(train_pairs_final), len(test_pairs_final)"
   ]
  },
  {
   "cell_type": "code",
   "execution_count": null,
   "id": "a2c3ef56-8fa3-463a-b2d8-6b923aaf72e6",
   "metadata": {},
   "outputs": [],
   "source": []
  },
  {
   "cell_type": "markdown",
   "id": "31e03bca-c654-4f1f-9dde-3ccf6c17376c",
   "metadata": {},
   "source": [
    "### Data preparation for the neural network model\n",
    "\n",
    "Sequences are converted into torch tokens made of their vocabulary indexes. Sequences shorter than the defined length are padded at the beginning. Also Start-Of-Sequence and End-Of-Sequence tokens are added to the tensor.\n",
    "\n",
    "The padding token will be ignored by the model.\n",
    "\n",
    "### Neural network model\n",
    "\n",
    "It uses Seq2Seq Encoder-Decoder architecture with a single LSTM layer. Right now the training is done pair after pair, without batch processing.\n",
    "The optimizer is Stochastic Gradient Descent, and the loss function is \n",
    "negative log likelihood (NLLLoss)\n",
    "\n"
   ]
  },
  {
   "cell_type": "markdown",
   "id": "98fb91d2-416c-4fb4-a77a-8c0c877b1d7a",
   "metadata": {},
   "source": [
    "# BACK TO SIMPLE MODEL"
   ]
  },
  {
   "cell_type": "markdown",
   "id": "2fdfb921-eba7-47f2-9efd-2e83e93973d6",
   "metadata": {},
   "source": [
    "### Data preparation for the neural network model\n",
    "\n",
    "Sequences are converted into torch tokens made of their vocabulary indexes. Sequences shorter than the defined length are padded at the beginning. Also Start-Of-Sequence and End-Of-Sequence tokens are added to the tensor.\n",
    "\n",
    "The padding token will be ignored by the model.\n",
    "\n",
    "### Neural network model\n",
    "\n",
    "It uses Seq2Seq Encoder-Decoder architecture with a single LSTM layer. Right now the training is done pair after pair, without batch processing.\n",
    "The optimizer is Stochastic Gradient Descent, and the loss function is \n",
    "negative log likelihood (NLLLoss)\n",
    "\n"
   ]
  },
  {
   "cell_type": "markdown",
   "id": "d85315c1-5db7-4e5d-b75d-fc48895fe660",
   "metadata": {},
   "source": [
    "import torch\n",
    "import torch.nn as nn\n",
    "\n",
    "class Encoder(nn.Module):\n",
    "    \n",
    "    # We initialize the Encoder object with appropriate layers\n",
    "\n",
    "    def __init__(self, input_size, hidden_size, embedding_size):\n",
    "        \n",
    "        super(Encoder, self).__init__()\n",
    "\n",
    "        self.hidden_size = hidden_size\n",
    "        self.input_size = input_size\n",
    "        self.embedding_size = embedding_size\n",
    "\n",
    "        self.embedding = nn.Embedding(self.input_size, self.embedding_size).to(device)\n",
    "\n",
    "        self.lstm = nn.LSTM(self.embedding_size, self.hidden_size, 1).to(device)\n",
    "    \n",
    "    def forward(self, x, hidden, cell_state):\n",
    "        x = self.embedding(x)\n",
    "        \n",
    "        x = x.view(1, 1, -1)\n",
    "        \n",
    "        x, (hidden, cell_state) = self.lstm(x, (hidden, cell_state))\n",
    "        return x, hidden, cell_state\n",
    "\n",
    "class Decoder(nn.Module):\n",
    "\n",
    "    # The Decoder is initialized in the same manner.\n",
    "\n",
    "    def __init__(self, hidden_size, output_size, embedding_size):\n",
    "\n",
    "        super(Decoder, self).__init__()\n",
    "\n",
    "        self.hidden_size = hidden_size\n",
    "        self.output_size = output_size\n",
    "        self.embedding_size = embedding_size\n",
    "\n",
    "        self.embedding = nn.Embedding(self.output_size, self.hidden_size)\n",
    "\n",
    "        self.lstm = nn.LSTM(self.embedding_size, self.hidden_size)\n",
    "        \n",
    "        self.fc = nn.Linear(self.hidden_size, self.output_size)\n",
    "        self.softmax = nn.LogSoftmax(dim= 1)     \n",
    "\n",
    "    def forward(self, x, hidden, cell_state):\n",
    "        \n",
    "        x = self.embedding(x)\n",
    "        x = x.view(1, 1, -1)\n",
    "        x, (hidden, cell_state) = self.lstm(x, (hidden, cell_state))\n",
    "        x = self.softmax(self.fc(x[0]))\n",
    "        return x, hidden, cell_state\n",
    "    \n",
    "class Seq2Seq(nn.Module):\n",
    "\n",
    "    def __init__(self, input_size, hidden_size, embedding_size, output_size, device):    \n",
    "\n",
    "        super(Seq2Seq, self).__init__()\n",
    "\n",
    "        self.input_size = input_size\n",
    "        self.hidden_size = hidden_size\n",
    "        self.embedding_size = embedding_size\n",
    "        self.output_size = output_size\n",
    "        \n",
    "        self.encoder = Encoder(self.input_size, self.hidden_size, self.embedding_size).to(device)\n",
    "        self.decoder = Decoder(self.hidden_size, self.output_size, self.embedding_size).to(device)\n",
    "                \n",
    "    def forward(self, src_batch: torch.LongTensor, trg_batch: torch.LongTensor, src_len, trg_len, teacher_forcing_ratio: float = 0.5):\n",
    "        \n",
    "        max_len, batch_size = trg_batch.shape\n",
    "        #batch_size, max_len = trg_batch.shape\n",
    "        \n",
    "        # print(f'Seq len: {max_len}, batch size {batch_size}, src_batch {src_batch.shape}, trg_batch {trg_batch.shape}')\n",
    "                \n",
    "        trg_vocab_size = self.decoder.output_size\n",
    "        \n",
    "        # tensor to store decoder's output\n",
    "        outputs = torch.zeros(max_len, batch_size, trg_vocab_size).to(device) #.to(self.device) \n",
    "\n",
    "         # initialize hidden and cell state\n",
    "        encoder_hidden = torch.zeros([1, 1, self.hidden_size]).to(device) \n",
    "        cell_state = torch.zeros([1, 1, self.hidden_size]).to(device)\n",
    "\n",
    "        for i in range(src_len):\n",
    "        \n",
    "            # last hidden & cell state of the encoder is used as the decoder's initial hidden state\n",
    "            _, hidden, cell = self.encoder(src_batch[i], encoder_hidden, cell_state)\n",
    "        \n",
    "        \n",
    "        \n",
    "        trg = trg_batch[0]\n",
    "        \n",
    "        for i in range(trg_len):\n",
    "            prediction, hidden, cell = self.decoder(trg, hidden, cell)\n",
    "            outputs[i] = prediction\n",
    "            \n",
    "            if random.random() < teacher_forcing_ratio:\n",
    "                trg = trg_batch[i]\n",
    "            else:\n",
    "                trg = prediction.argmax(1)\n",
    "                \n",
    "        return outputs"
   ]
  },
  {
   "cell_type": "code",
   "execution_count": 107,
   "id": "1d228937-b36c-4aef-a3e8-1031d690b370",
   "metadata": {},
   "outputs": [],
   "source": [
    "import torch\n",
    "import torch.nn as nn"
   ]
  },
  {
   "cell_type": "markdown",
   "id": "784657ae-aece-40b3-bc5f-1ce27d7f8b37",
   "metadata": {},
   "source": [
    "## ENCODER"
   ]
  },
  {
   "cell_type": "code",
   "execution_count": 108,
   "id": "6cfb4aee-4ed6-4021-bfde-806682b61123",
   "metadata": {},
   "outputs": [],
   "source": [
    "class Encoder(nn.Module):\n",
    "    \n",
    "    # We initialize the Encoder object with appropriate layers\n",
    "\n",
    "    def __init__(self, input_size, hidden_size, embedding_size):\n",
    "        \n",
    "        super(Encoder, self).__init__()\n",
    "\n",
    "        self.hidden_size = hidden_size\n",
    "        self.input_size = input_size\n",
    "        self.embedding_size = embedding_size\n",
    "\n",
    "        # embedding step\n",
    "        self.embedding = nn.Embedding(self.input_size, self.embedding_size).to(device)\n",
    "        \n",
    "        # single LSTM layer\n",
    "        self.lstm = nn.LSTM(self.embedding_size, self.hidden_size, 1).to(device)\n",
    "    \n",
    "    def forward(self, x, hidden, cell_state):\n",
    "        x = self.embedding(x)        \n",
    "        x = x.view(1, 1, -1)        \n",
    "        x, (hidden, cell_state) = self.lstm(x, (hidden, cell_state))\n",
    "        return x, hidden, cell_state"
   ]
  },
  {
   "cell_type": "markdown",
   "id": "488893ba-1ea6-43db-88d8-24be60a3103a",
   "metadata": {},
   "source": [
    "## DECODER"
   ]
  },
  {
   "cell_type": "code",
   "execution_count": 109,
   "id": "6fbc0579-85f1-4459-8f07-e596622498ad",
   "metadata": {},
   "outputs": [],
   "source": [
    "class Decoder(nn.Module):\n",
    "\n",
    "    # The Decoder is initialized in the same manner.\n",
    "\n",
    "    def __init__(self, hidden_size, output_size, embedding_size):\n",
    "\n",
    "        super(Decoder, self).__init__()\n",
    "\n",
    "        self.hidden_size = hidden_size\n",
    "        self.output_size = output_size\n",
    "        self.embedding_size = embedding_size\n",
    "\n",
    "        # embedding\n",
    "        self.embedding = nn.Embedding(self.output_size, self.hidden_size)\n",
    "\n",
    "        # single LSTM layer\n",
    "        self.lstm = nn.LSTM(self.embedding_size, self.hidden_size)\n",
    "        \n",
    "        # fully connected linear layer\n",
    "        self.fc = nn.Linear(self.hidden_size, self.output_size)\n",
    "        \n",
    "        # softmax\n",
    "        self.softmax = nn.LogSoftmax(dim=1)     \n",
    "\n",
    "    def forward(self, x, hidden, cell_state):\n",
    "        \n",
    "        x = self.embedding(x)\n",
    "        x = x.view(1, 1, -1)\n",
    "        x, (hidden, cell_state) = self.lstm(x, (hidden, cell_state))\n",
    "        x = self.softmax(self.fc(x[0]))\n",
    "        return x, hidden, cell_state"
   ]
  },
  {
   "cell_type": "markdown",
   "id": "592881ec-41a1-421b-ac62-de79f2a24bca",
   "metadata": {},
   "source": [
    "## SEQ2SEQ"
   ]
  },
  {
   "cell_type": "code",
   "execution_count": 156,
   "id": "e9a72ba5-792a-4557-ab14-9ce52f6607ef",
   "metadata": {},
   "outputs": [],
   "source": [
    "class Seq2Seq(nn.Module):\n",
    "\n",
    "    def __init__(self, input_size, hidden_size, embedding_size, output_size, device):    \n",
    "\n",
    "        super(Seq2Seq, self).__init__()\n",
    "\n",
    "        self.input_size = input_size\n",
    "        self.hidden_size = hidden_size\n",
    "        self.embedding_size = embedding_size\n",
    "        self.output_size = output_size\n",
    "        \n",
    "        # make encoder and decoder \n",
    "        self.encoder = Encoder(self.input_size, self.hidden_size, self.embedding_size).to(device)\n",
    "        self.decoder = Decoder(self.hidden_size, self.output_size, self.embedding_size).to(device)\n",
    "                \n",
    "    def forward(self, src_batch: torch.LongTensor, trg_batch: torch.LongTensor, src_len, trg_len, teacher_forcing_ratio: float = 0.5):\n",
    "        \n",
    "        # target batch (answers) is unpacked to maximum length and batch size\n",
    "        max_len, batch_size = trg_batch.shape               \n",
    "        \n",
    "        #print(f'Seq len: {max_len}, batch size {batch_size}, src_batch {src_batch.shape}, trg_batch {trg_batch.shape}')\n",
    "\n",
    "        # WHAT IS THE DIFFERENCE BETWEEN max_len and trg_len here???\n",
    "        \n",
    "        trg_vocab_size = self.decoder.output_size\n",
    "        \n",
    "        # print(f\"trg_vocab_size: {trg_vocab_size}\")\n",
    "        \n",
    "        # tensor to store decoder's output\n",
    "        outputs = torch.zeros(max_len, batch_size, trg_vocab_size).to(device) #.to(self.device) \n",
    "\n",
    "        # print(f\"outputs size (tensor to store decoder's outputs): {outputs.shape}\")\n",
    "              \n",
    "         # initialize hidden and cell state\n",
    "        encoder_hidden = torch.zeros([1, 1, self.hidden_size]).to(device) \n",
    "        cell_state = torch.zeros([1, 1, self.hidden_size]).to(device)\n",
    "\n",
    "        \n",
    "        # iterate over the length of the source (question sequence) using the encoder\n",
    "        \n",
    "        for i in range(src_len):\n",
    "        \n",
    "            # last hidden & cell state of the encoder is used as the decoder's initial hidden state\n",
    "            \n",
    "            # src_batch[i] is the ith token of the input (question)\n",
    "            _, hidden, cell = self.encoder(src_batch[i], encoder_hidden, cell_state)\n",
    "        \n",
    "        # trg_batch[0] that's just the first element of trg_batch        \n",
    "        trg = trg_batch[0]\n",
    "        \n",
    "        \n",
    "        # now iterating over the target length, using the decoder\n",
    "        \n",
    "        for i in range(trg_len):\n",
    "            prediction, hidden, cell = self.decoder(trg, hidden, cell)\n",
    "            \n",
    "            # here we use the teacher forcing: if the random value is less than the ratio, then the target is just an element of the target (token from the answer)\n",
    "            # otherwise it's the highest probability prediction\n",
    "            outputs[i] = prediction\n",
    "            \n",
    "            if random.random() < teacher_forcing_ratio:\n",
    "                trg = trg_batch[i]\n",
    "            else:\n",
    "                trg = prediction.argmax(1)\n",
    "                \n",
    "        return outputs"
   ]
  },
  {
   "cell_type": "markdown",
   "id": "43b4f65d-cb44-4b6e-bc2b-a6e08d20f333",
   "metadata": {},
   "source": [
    "Seq len: 8, batch size 1, src_batch torch.Size([12, 1]), trg_batch torch.Size([8, 1])\n",
    "trg_vocab_size: 23669\n",
    "outputs size (tensor to store decoder's outputs): torch.Size([8, 1, 23669])"
   ]
  },
  {
   "cell_type": "markdown",
   "id": "b2d94be0-39bd-431d-99d0-8134badaf0a6",
   "metadata": {},
   "source": [
    "### Model parameters"
   ]
  },
  {
   "cell_type": "code",
   "execution_count": 157,
   "id": "f31f26b7-7613-4074-896e-8776197e1047",
   "metadata": {},
   "outputs": [],
   "source": [
    "embedding_dim = 256\n",
    "hidden_size = 256\n",
    "#dropout = 0.5"
   ]
  },
  {
   "cell_type": "markdown",
   "id": "429c3b2f-ceef-4260-b741-1e486c4fe324",
   "metadata": {},
   "source": [
    "### Hyperparameters"
   ]
  },
  {
   "cell_type": "code",
   "execution_count": 158,
   "id": "22ff1200-1c64-4280-869f-ee513745f90f",
   "metadata": {},
   "outputs": [],
   "source": [
    "learning_rate = 0.01\n",
    "num_epochs = 5"
   ]
  },
  {
   "cell_type": "markdown",
   "id": "7c48e3a2-a408-4580-94f4-a4c26e9dd5fa",
   "metadata": {},
   "source": [
    "### Model"
   ]
  },
  {
   "cell_type": "code",
   "execution_count": 159,
   "id": "e9668665-18a6-461e-a79c-ce8c8fb621a2",
   "metadata": {},
   "outputs": [],
   "source": [
    "#seq2seq = Seq2Seq(input_size=Q_vocab.n_words, hidden_size=hidden_size, embedding_size=embedding_dim, output_size=A_vocab.n_words, dropout=dropout, device=device)\n",
    "seq2seq = Seq2Seq(input_size=Q_vocab.n_words, hidden_size=hidden_size, embedding_size=embedding_dim, output_size=A_vocab.n_words, device=device)"
   ]
  },
  {
   "cell_type": "code",
   "execution_count": 160,
   "id": "10c0f439-05ef-4fcf-8cdb-28574170775f",
   "metadata": {},
   "outputs": [],
   "source": [
    "seq2seq = seq2seq.to(device)"
   ]
  },
  {
   "cell_type": "code",
   "execution_count": null,
   "id": "e88ae989-3a38-46a7-97fa-76b0a18ea3e5",
   "metadata": {},
   "outputs": [],
   "source": []
  },
  {
   "cell_type": "markdown",
   "id": "ed741601-908d-42fe-8f6e-566c3bdf8317",
   "metadata": {},
   "source": [
    "### Optimizer and loss function"
   ]
  },
  {
   "cell_type": "code",
   "execution_count": 161,
   "id": "cad46fed-b21b-464f-aede-b3c55f854a96",
   "metadata": {},
   "outputs": [],
   "source": [
    "from torch import optim\n",
    "import torch.nn as nn"
   ]
  },
  {
   "cell_type": "code",
   "execution_count": 162,
   "id": "f861a598-d49f-413b-a49c-ed50ca454a38",
   "metadata": {},
   "outputs": [],
   "source": [
    "optimizer = optim.SGD(seq2seq.parameters(), lr=learning_rate)\n",
    "criterion = nn.NLLLoss(ignore_index=0).to(device) # 0 is padding"
   ]
  },
  {
   "cell_type": "code",
   "execution_count": null,
   "id": "208a04a7-bc10-4050-8834-603e068cfa06",
   "metadata": {},
   "outputs": [],
   "source": []
  },
  {
   "cell_type": "markdown",
   "id": "a81adbd9-5655-4e35-b9af-426a74beb76a",
   "metadata": {},
   "source": [
    "### Model training \n",
    "\n",
    "For debugging purposes the training function is kept in the main notebook for now."
   ]
  },
  {
   "cell_type": "code",
   "execution_count": 163,
   "id": "da4c1b7b-2da0-457f-9f48-7811a5a9479e",
   "metadata": {},
   "outputs": [],
   "source": [
    "total_train_loss = []\n",
    "total_test_loss = []"
   ]
  },
  {
   "cell_type": "code",
   "execution_count": null,
   "id": "f4a88f8c-8d1c-4b83-b8f2-1dcc318b8e3c",
   "metadata": {},
   "outputs": [],
   "source": []
  },
  {
   "cell_type": "markdown",
   "id": "d174e850-c2c2-4ac4-8956-acfc6bc1b12b",
   "metadata": {},
   "source": [
    "# TRYING WITH A DIFFERENT ORDER IN THE SEQUENCE: PADDING AT THE END"
   ]
  },
  {
   "cell_type": "code",
   "execution_count": 164,
   "id": "ebe8c3c1-8758-434c-a00e-7ecef3df2c68",
   "metadata": {},
   "outputs": [],
   "source": [
    "def to_tensor(vocab, tokens, seq_len, device):\n",
    "    '''Converts a tokenized sentence into a tensor of indices of a given length.\n",
    "    If too short, it uses padding at the END of the sentence'''\n",
    "    \n",
    "    tokens = [t for t in tokens if t in vocab.word2count.keys()]\n",
    "    \n",
    "    padded = [vocab.word2index['SOS']] + [vocab.word2index[t] for t in tokens] + [vocab.word2index['EOS']] + [vocab.word2index['PAD']] * (seq_len-len(tokens)) \n",
    "    \n",
    "    tensor = torch.Tensor(padded).long().to(device).view(-1,1)\n",
    "    \n",
    "    return tensor"
   ]
  },
  {
   "cell_type": "code",
   "execution_count": 165,
   "id": "3fa50b06-c01e-4d17-8ce5-d999aedb0738",
   "metadata": {},
   "outputs": [],
   "source": [
    "def train(model, pairs, optimizer, criterion, device, teacher_forcing_ratio = 0.5, print_every = 1000): \n",
    "    \n",
    "    model.train() # Set the model to training mode\n",
    "\n",
    "    total_loss = 0\n",
    "\n",
    "    count = 0\n",
    "\n",
    "    for pair in pairs:\n",
    "\n",
    "        src = pair.question\n",
    "        tgt = pair.answer\n",
    "\n",
    "        src_tensor = to_tensor(vocab=Q_vocab, tokens=src, seq_len=Q_MAX, device=device)#.to(device) #.unsqueeze(0)\n",
    "        tgt_tensor = to_tensor(vocab=A_vocab, tokens=tgt, seq_len=A_MAX, device=device)#.to(device) #.unsqueeze(0)\n",
    "\n",
    "        # print(src_tensor.shape, tgt_tensor.shape)\n",
    "\n",
    "        optimizer.zero_grad()  # Zero the gradients\n",
    "\n",
    "        # Forward pass\n",
    "        output = model(src_tensor, tgt_tensor, src_len=src_tensor.size(0), trg_len=tgt_tensor.size(0), teacher_forcing_ratio=teacher_forcing_ratio)\n",
    "\n",
    "        # Compute the loss\n",
    "        loss = criterion(output.view(-1, output.size(-1)), tgt_tensor.view(-1))\n",
    "\n",
    "        # Backward pass and optimization\n",
    "        loss.backward()\n",
    "        optimizer.step()\n",
    "\n",
    "        total_loss += loss.item()\n",
    "\n",
    "        count += 1 \n",
    "\n",
    "        if count % print_every == 0:\n",
    "            print(f'Loss {total_loss/count}')\n",
    "\n",
    "    return total_loss / len(pairs)"
   ]
  },
  {
   "cell_type": "code",
   "execution_count": 166,
   "id": "06506d55-128c-474b-a37d-53e974dfd9e9",
   "metadata": {},
   "outputs": [],
   "source": [
    "def evaluate(model, pairs, criterion, device):\n",
    "    \n",
    "    model.eval()\n",
    "    \n",
    "    total_loss = 0\n",
    "    \n",
    "    with torch.no_grad():\n",
    "    \n",
    "        for pair in pairs:\n",
    "            \n",
    "            src = pair.question\n",
    "            tgt = pair.answer\n",
    "            \n",
    "            src_tensor = to_tensor(vocab=Q_vocab, tokens=src, seq_len=Q_MAX, device=device)#.to(device) #.unsqueeze(0)\n",
    "            tgt_tensor = to_tensor(vocab=A_vocab, tokens=tgt, seq_len=A_MAX, device=device)#.to(device) #.unsqueeze(0)\n",
    "\n",
    "            output = model(src_tensor, tgt_tensor, src_len=src_tensor.size(0), trg_len=tgt_tensor.size(0), teacher_forcing_ratio=0) # turn off teacher forcing\n",
    "\n",
    "            # Compute the loss\n",
    "            loss = criterion(output.view(-1, output.size(-1)), tgt_tensor.view(-1))\n",
    "\n",
    "            \n",
    "            total_loss += loss.item()\n",
    "        \n",
    "    return total_loss / len(pairs)"
   ]
  },
  {
   "cell_type": "code",
   "execution_count": 167,
   "id": "e5aabcb4-0bc9-4efa-9908-f1c07c5a2736",
   "metadata": {},
   "outputs": [],
   "source": [
    "import matplotlib.pyplot as plt"
   ]
  },
  {
   "cell_type": "code",
   "execution_count": null,
   "id": "393c6254-d89f-41a7-8add-2312e060dbc0",
   "metadata": {},
   "outputs": [],
   "source": []
  },
  {
   "cell_type": "code",
   "execution_count": 154,
   "id": "d05cd4da-3ead-47de-ac76-0d34485a96e0",
   "metadata": {},
   "outputs": [],
   "source": [
    "# trying with teacher forcing ratio 0.5"
   ]
  },
  {
   "cell_type": "code",
   "execution_count": 168,
   "id": "73368444-4fcb-449c-8dbe-ee0ede80ac54",
   "metadata": {
    "scrolled": true
   },
   "outputs": [
    {
     "name": "stdout",
     "output_type": "stream",
     "text": [
      "Loss 5.81101585483551\n",
      "Loss 5.393553529381752\n",
      "Loss 5.205246184269587\n",
      "Loss 5.11162381786108\n",
      "Loss 5.046745337581634\n",
      "Loss 4.99920071486632\n",
      "Loss 4.9536682791199\n",
      "Loss 4.922924980893731\n",
      "Loss 4.890773516456286\n",
      "Loss 4.858674717569351\n",
      "Loss 4.827493909228932\n",
      "Loss 4.806599847108125\n",
      "Loss 4.787198302149773\n",
      "Loss 4.770445032741343\n",
      "Loss 4.752787536342939\n",
      "Loss 4.733679495155811\n",
      "Loss 4.71724648351529\n",
      "Loss 4.701130105124579\n",
      "Loss 4.689200359068419\n",
      "Loss 4.678317657363415\n",
      "Loss 4.665387360481989\n",
      "Loss 4.655418203706091\n",
      "Loss 4.64594363967232\n",
      "Epoch 1/5, Train Loss: 4.6354, Test Loss: 4.5639\n",
      "Loss 4.403522748351097\n",
      "Loss 4.410748579084873\n",
      "Loss 4.388168964425723\n",
      "Loss 4.386690726429224\n",
      "Loss 4.3862416932582855\n",
      "Loss 4.389154132942359\n",
      "Loss 4.384588081053325\n",
      "Loss 4.3906163081228735\n",
      "Loss 4.3886343892415365\n",
      "Loss 4.383702127218246\n",
      "Loss 4.376403437018395\n",
      "Loss 4.376819997111956\n",
      "Loss 4.377143263312487\n",
      "Loss 4.3781759120225905\n",
      "Loss 4.376098055203756\n",
      "Loss 4.3713456773608925\n",
      "Loss 4.368161561587278\n",
      "Loss 4.363628509793017\n",
      "Loss 4.363003402822896\n",
      "Loss 4.362250003522634\n",
      "Loss 4.3584654822803675\n",
      "Loss 4.35715319015763\n",
      "Loss 4.3558733170291655\n",
      "Epoch 2/5, Train Loss: 4.3524, Test Loss: 4.5390\n",
      "Loss 4.317369480013848\n",
      "Loss 4.322458226382732\n",
      "Loss 4.303184077461561\n",
      "Loss 4.303126409292221\n",
      "Loss 4.305294350337983\n",
      "Loss 4.310679541945458\n",
      "Loss 4.308043935486249\n",
      "Loss 4.315083402693272\n",
      "Loss 4.314577484634188\n",
      "Loss 4.310908248865604\n",
      "Loss 4.304882460962642\n",
      "Loss 4.306641245017449\n",
      "Loss 4.307946979816143\n",
      "Loss 4.310011231320245\n",
      "Loss 4.308844661855698\n",
      "Loss 4.304950586080551\n",
      "Loss 4.302623819000581\n",
      "Loss 4.29878014406893\n",
      "Loss 4.2988806076489\n",
      "Loss 4.29846479049325\n",
      "Loss 4.2953343673887705\n",
      "Loss 4.294558553944935\n",
      "Loss 4.29391621029377\n",
      "Epoch 3/5, Train Loss: 4.2910, Test Loss: 4.5256\n",
      "Loss 4.276576623916626\n",
      "Loss 4.280448028087616\n",
      "Loss 4.2618944242795305\n",
      "Loss 4.262352518439293\n",
      "Loss 4.265236772966385\n",
      "Loss 4.271207247197628\n",
      "Loss 4.269068122063365\n",
      "Loss 4.276319186255336\n",
      "Loss 4.276356471101443\n",
      "Loss 4.272734969854355\n",
      "Loss 4.267104119636795\n",
      "Loss 4.269071006973585\n",
      "Loss 4.2703794274146745\n",
      "Loss 4.272955409756729\n",
      "Loss 4.271874771269163\n",
      "Loss 4.268284979589284\n",
      "Loss 4.266200293078142\n",
      "Loss 4.262746567818853\n",
      "Loss 4.263096993540462\n",
      "Loss 4.263013070237637\n",
      "Loss 4.26000346210457\n",
      "Loss 4.259322977895087\n",
      "Loss 4.258906417919242\n",
      "Epoch 4/5, Train Loss: 4.2562, Test Loss: 4.5147\n",
      "Loss 4.246730339050293\n",
      "Loss 4.2510574173927305\n",
      "Loss 4.23310370918115\n",
      "Loss 4.233436206907034\n",
      "Loss 4.236484788703918\n",
      "Loss 4.2429388279517495\n",
      "Loss 4.241474278126444\n",
      "Loss 4.248751470178366\n",
      "Loss 4.248967701660262\n",
      "Loss 4.24553724874258\n",
      "Loss 4.240076784784144\n",
      "Loss 4.242365433613459\n",
      "Loss 4.24373364342176\n",
      "Loss 4.246382256925106\n",
      "Loss 4.2457713214715325\n",
      "Loss 4.242292707033456\n",
      "Loss 4.240375919299967\n",
      "Loss 4.2369105995761025\n",
      "Loss 4.237437566161156\n",
      "Loss 4.237448564934731\n",
      "Loss 4.23462741343748\n",
      "Loss 4.233979897412387\n",
      "Loss 4.233654491398646\n",
      "Epoch 5/5, Train Loss: 4.2311, Test Loss: 4.5185\n"
     ]
    }
   ],
   "source": [
    "for epoch in range(num_epochs):\n",
    "    train_loss = train(seq2seq, train_pairs_final, optimizer, criterion, device)\n",
    "    test_loss = evaluate(seq2seq, test_pairs_final, criterion, device)    \n",
    "    print(f\"Epoch {epoch+1}/{num_epochs}, Train Loss: {train_loss:.4f}, Test Loss: {test_loss:.4f}\")\n",
    "    \n",
    "    total_train_loss.append(train_loss)\n",
    "    total_test_loss.append(test_loss)\n",
    "\n"
   ]
  },
  {
   "cell_type": "code",
   "execution_count": null,
   "id": "f4d54805-215c-4d63-9e8a-95b7fd99c5c3",
   "metadata": {},
   "outputs": [],
   "source": []
  },
  {
   "cell_type": "code",
   "execution_count": 169,
   "id": "bdb1cfe2-66b2-4958-a11c-43b052cf2ee4",
   "metadata": {},
   "outputs": [],
   "source": [
    "N_EPOCHS = 5"
   ]
  },
  {
   "cell_type": "code",
   "execution_count": 99,
   "id": "f82f724c-6453-4f0e-bf20-e67471f4c88e",
   "metadata": {},
   "outputs": [
    {
     "data": {
      "text/plain": [
       "Text(0, 0.5, 'loss')"
      ]
     },
     "execution_count": 99,
     "metadata": {},
     "output_type": "execute_result"
    },
    {
     "data": {
      "image/png": "[encoded data removed]",
      "text/plain": [
       "<Figure size 640x480 with 1 Axes>"
      ]
     },
     "metadata": {},
     "output_type": "display_data"
    }
   ],
   "source": [
    "fig, ax = plt.subplots()\n",
    "ax.plot(range(1, N_EPOCHS+1), total_train_loss, color = 'blue', label = 'train loss')\n",
    "ax.plot(range(1, N_EPOCHS+1), total_test_loss, color = 'orange', label = 'test loss')\n",
    "ax.legend()\n",
    "ax.set_title(f'Seq2Seq, {N_EPOCHS} epochs')\n",
    "ax.set_xticks(range(1, N_EPOCHS+1))\n",
    "ax.set_xlabel('epochs')\n",
    "ax.set_ylabel('loss')"
   ]
  },
  {
   "cell_type": "code",
   "execution_count": null,
   "id": "1fd5b49a-fe9d-4546-bfcf-a53c8ead299e",
   "metadata": {},
   "outputs": [],
   "source": []
  },
  {
   "cell_type": "markdown",
   "id": "8bfa2542-b76d-445a-aed7-086bb33a04ce",
   "metadata": {},
   "source": [
    "## lower teacher forcing"
   ]
  },
  {
   "cell_type": "code",
   "execution_count": null,
   "id": "b82ba98f-041e-4d1a-9bf2-b03f213784ce",
   "metadata": {},
   "outputs": [],
   "source": []
  },
  {
   "cell_type": "code",
   "execution_count": 170,
   "id": "93040a55-d6cd-42e9-b8f0-c983502cd09f",
   "metadata": {},
   "outputs": [
    {
     "data": {
      "text/plain": [
       "Text(0, 0.5, 'loss')"
      ]
     },
     "execution_count": 170,
     "metadata": {},
     "output_type": "execute_result"
    },
    {
     "data": {
      "image/png": "[encoded data removed]",
      "text/plain": [
       "<Figure size 640x480 with 1 Axes>"
      ]
     },
     "metadata": {},
     "output_type": "display_data"
    }
   ],
   "source": [
    "fig, ax = plt.subplots()\n",
    "ax.plot(range(1, N_EPOCHS+1), total_train_loss, color = 'blue', label = 'train loss')\n",
    "ax.plot(range(1, N_EPOCHS+1), total_test_loss, color = 'orange', label = 'test loss')\n",
    "ax.legend()\n",
    "ax.set_title(f'Seq2Seq, {N_EPOCHS} epochs')\n",
    "ax.set_xticks(range(1, N_EPOCHS+1))\n",
    "ax.set_xlabel('epochs')\n",
    "ax.set_ylabel('loss')"
   ]
  },
  {
   "cell_type": "markdown",
   "id": "3dacbcdc-577b-4418-9f60-2b1ecc566440",
   "metadata": {},
   "source": [
    "# CURRENT MODEL DOES NOT CONVERGE\n",
    "# BUT WITH PADDING AT THE END AT LEAST THE TEST LOSS DOES NOT INCREASE... WHY?"
   ]
  },
  {
   "cell_type": "code",
   "execution_count": null,
   "id": "61004f99-8e13-4bcb-aa1c-27cba824d953",
   "metadata": {},
   "outputs": [],
   "source": []
  }
 ],
 "metadata": {
  "kernelspec": {
   "display_name": "lstm_chatbot",
   "language": "python",
   "name": "lstm_chatbot"
  },
  "language_info": {
   "codemirror_mode": {
    "name": "ipython",
    "version": 3
   },
   "file_extension": ".py",
   "mimetype": "text/x-python",
   "name": "python",
   "nbconvert_exporter": "python",
   "pygments_lexer": "ipython3",
   "version": "3.8.10"
  }
 },
 "nbformat": 4,
 "nbformat_minor": 5
}
