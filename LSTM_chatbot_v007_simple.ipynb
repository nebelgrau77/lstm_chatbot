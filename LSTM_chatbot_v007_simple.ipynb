{
 "cells": [
  {
   "cell_type": "markdown",
   "id": "54a3b362-3b2c-4dd5-90db-e438d861c5b7",
   "metadata": {
    "tags": []
   },
   "source": [
    "# SIMPLE WORKING VERSION"
   ]
  },
  {
   "cell_type": "markdown",
   "id": "162c2679-9204-4273-a4a1-64f41ef9d11b",
   "metadata": {},
   "source": [
    "# RNN LSTM Chatbot project\n",
    "\n",
    "In this project I'm creating a chatbot that is supposed to answer questions from the Stanford Questions & Answers dataset SQuAD1, using a sequence-to-sequence Encoder-Decoder recurrent neural network architecture in PyTorch.\n",
    "\n",
    "To make the notebook more readable and the code more modular, all helper functions (data ingestion and preparation, data analysis, vocabulary creation) were moved to `modules`. \n",
    "\n",
    "The model for easier debugging is kept in the main notebook for now.\n",
    "\n"
   ]
  },
  {
   "cell_type": "code",
   "execution_count": 1,
   "id": "b79ff163-ef6c-4dbd-b8b8-9a0b6f31122c",
   "metadata": {},
   "outputs": [],
   "source": [
    "import torch"
   ]
  },
  {
   "cell_type": "code",
   "execution_count": 2,
   "id": "05e1d6c1-da35-4ac8-9bf9-65b786d259f2",
   "metadata": {},
   "outputs": [],
   "source": [
    "device = 'cuda' if torch.cuda.is_available() else 'cpu'"
   ]
  },
  {
   "cell_type": "code",
   "execution_count": 3,
   "id": "9442349d-4e46-4ba2-b9f8-79b6ce598c41",
   "metadata": {},
   "outputs": [
    {
     "data": {
      "text/plain": [
       "'cuda'"
      ]
     },
     "execution_count": 3,
     "metadata": {},
     "output_type": "execute_result"
    }
   ],
   "source": [
    "device"
   ]
  },
  {
   "cell_type": "code",
   "execution_count": 4,
   "id": "179a6456-5007-46ed-97d0-7477cd9cc0cc",
   "metadata": {},
   "outputs": [],
   "source": [
    "from torchtext.datasets import SQuAD1"
   ]
  },
  {
   "cell_type": "code",
   "execution_count": 5,
   "id": "30ef63a7-6d02-4c19-9abc-fedccbc1a67a",
   "metadata": {},
   "outputs": [],
   "source": [
    "train, test = SQuAD1(\"root\")"
   ]
  },
  {
   "cell_type": "code",
   "execution_count": 6,
   "id": "5f44af6a-6144-4443-b309-c6514bf0c35e",
   "metadata": {},
   "outputs": [
    {
     "name": "stderr",
     "output_type": "stream",
     "text": [
      "/usr/local/lib/python3.8/dist-packages/scipy/__init__.py:146: UserWarning: A NumPy version >=1.16.5 and <1.23.0 is required for this version of SciPy (detected version 1.24.2\n",
      "  warnings.warn(f\"A NumPy version >={np_minversion} and <{np_maxversion}\"\n",
      "[nltk_data] Downloading package wordnet to\n",
      "[nltk_data]     /shared/home/u076079/nltk_data...\n",
      "[nltk_data]   Package wordnet is already up-to-date!\n",
      "[nltk_data] Downloading package averaged_perceptron_tagger to\n",
      "[nltk_data]     /shared/home/u076079/nltk_data...\n",
      "[nltk_data]   Package averaged_perceptron_tagger is already up-to-\n",
      "[nltk_data]       date!\n",
      "[nltk_data] Downloading package stopwords to\n",
      "[nltk_data]     /shared/home/u076079/nltk_data...\n",
      "[nltk_data]   Package stopwords is already up-to-date!\n"
     ]
    }
   ],
   "source": [
    "from modules.data import *\n",
    "\n",
    "#get_dataframe,  get_pairs_from_df, cols, sample_df_perc, get_thresholds, get_outliers, tokenize_sentence, remove_least_common, to_tensor,  filter_sentences"
   ]
  },
  {
   "cell_type": "markdown",
   "id": "6ca0ef1e-be7c-4e95-ae5c-1e3707b5d22a",
   "metadata": {},
   "source": [
    "## Data ingestion\n",
    "\n",
    "* Data is loaded from the dataset into pandas dataframes: one for training, one for testing, \n",
    "* To keep the dataset size reasonable, only a sample of the questions/answers is taken"
   ]
  },
  {
   "cell_type": "code",
   "execution_count": 7,
   "id": "4c6845c6-5997-457d-8e50-e07d0108e147",
   "metadata": {},
   "outputs": [],
   "source": [
    "# get train and test dataframes of sentences\n",
    "train_df, test_df = get_dataframe(train), get_dataframe(test)"
   ]
  },
  {
   "cell_type": "code",
   "execution_count": 8,
   "id": "b6b4268c-6744-4949-85c8-b865360e008c",
   "metadata": {},
   "outputs": [
    {
     "data": {
      "text/plain": [
       "((87599, 2), (10570, 2))"
      ]
     },
     "execution_count": 8,
     "metadata": {},
     "output_type": "execute_result"
    }
   ],
   "source": [
    "train_df.shape, test_df.shape"
   ]
  },
  {
   "cell_type": "code",
   "execution_count": 9,
   "id": "c449703f-d2ea-49cf-99cd-200a7fe67694",
   "metadata": {},
   "outputs": [],
   "source": [
    "train_len = 30000\n",
    "test_len = 3000"
   ]
  },
  {
   "cell_type": "code",
   "execution_count": 10,
   "id": "6e7fa063-1ad2-4e00-aa0a-1ab5bbfd2da6",
   "metadata": {},
   "outputs": [],
   "source": [
    "train_df = sample_df_num(train_df, train_len)"
   ]
  },
  {
   "cell_type": "code",
   "execution_count": 11,
   "id": "08f40fbc-3fe6-4730-8b82-4db0a4b4ccd1",
   "metadata": {},
   "outputs": [],
   "source": [
    "test_df = sample_df_num(test_df, test_len)"
   ]
  },
  {
   "cell_type": "code",
   "execution_count": 12,
   "id": "584d3d9f-63f8-47f7-82a1-fa99e39dc526",
   "metadata": {},
   "outputs": [],
   "source": [
    "#train_df = sample_df_perc(train_df, 1)"
   ]
  },
  {
   "cell_type": "code",
   "execution_count": 12,
   "id": "a49d6bc9-266c-447c-9be6-1794c5053b50",
   "metadata": {},
   "outputs": [
    {
     "data": {
      "text/plain": [
       "((30000, 2), (3000, 2))"
      ]
     },
     "execution_count": 12,
     "metadata": {},
     "output_type": "execute_result"
    }
   ],
   "source": [
    "train_df.shape, test_df.shape"
   ]
  },
  {
   "cell_type": "code",
   "execution_count": 13,
   "id": "35ccaa7e-fa23-4eb2-bbe7-f9e8e5dfac4c",
   "metadata": {
    "scrolled": true
   },
   "outputs": [
    {
     "data": {
      "text/html": [
       "<div>\n",
       "<style scoped>\n",
       "    .dataframe tbody tr th:only-of-type {\n",
       "        vertical-align: middle;\n",
       "    }\n",
       "\n",
       "    .dataframe tbody tr th {\n",
       "        vertical-align: top;\n",
       "    }\n",
       "\n",
       "    .dataframe thead th {\n",
       "        text-align: right;\n",
       "    }\n",
       "</style>\n",
       "<table border=\"1\" class=\"dataframe\">\n",
       "  <thead>\n",
       "    <tr style=\"text-align: right;\">\n",
       "      <th></th>\n",
       "      <th>Question</th>\n",
       "      <th>Answer</th>\n",
       "    </tr>\n",
       "  </thead>\n",
       "  <tbody>\n",
       "    <tr>\n",
       "      <th>0</th>\n",
       "      <td>What caused ancient texts to be rediscovered b...</td>\n",
       "      <td>the Fall of Constantinople in 1453</td>\n",
       "    </tr>\n",
       "    <tr>\n",
       "      <th>1</th>\n",
       "      <td>What components of glass for networks?</td>\n",
       "      <td>silicon, boron, germanium</td>\n",
       "    </tr>\n",
       "    <tr>\n",
       "      <th>2</th>\n",
       "      <td>Which District Court is Detroit home to?</td>\n",
       "      <td>Thirty-Sixth</td>\n",
       "    </tr>\n",
       "  </tbody>\n",
       "</table>\n",
       "</div>"
      ],
      "text/plain": [
       "                                            Question  \\\n",
       "0  What caused ancient texts to be rediscovered b...   \n",
       "1             What components of glass for networks?   \n",
       "2           Which District Court is Detroit home to?   \n",
       "\n",
       "                               Answer  \n",
       "0  the Fall of Constantinople in 1453  \n",
       "1           silicon, boron, germanium  \n",
       "2                        Thirty-Sixth  "
      ]
     },
     "execution_count": 13,
     "metadata": {},
     "output_type": "execute_result"
    }
   ],
   "source": [
    "train_df.head(3)"
   ]
  },
  {
   "cell_type": "code",
   "execution_count": null,
   "id": "bcc78290-1a58-45c9-ba2e-ec4b3d1511bf",
   "metadata": {},
   "outputs": [],
   "source": []
  },
  {
   "cell_type": "markdown",
   "id": "6344a0f9-cc0b-4b6e-9238-c54a5da7197b",
   "metadata": {},
   "source": [
    "## Vocabulary creation / Data preparation\n",
    "\n",
    "Sentences (questions and answers) are converted into lists of tokens:\n",
    "* all characters are made into lower case\n",
    "* punctuation is removed\n",
    "* stopwords (most common words that don't carry much additional meaning) are removed, but keeping question words (when, how, who, etc.)\n",
    "* For questions stemming is applied to reduce number of words to just their \"roots\". For answers this step is skipped, to have full unstemmed words in the answers vocabulary\n",
    "* Pairs question:answer are created from both train and test dataset, and words are added to two vocabularies: Q_vocab and A_vocab"
   ]
  },
  {
   "cell_type": "code",
   "execution_count": 14,
   "id": "ea6bbdcf-6263-4531-b5d5-1447576708d8",
   "metadata": {},
   "outputs": [
    {
     "name": "stdout",
     "output_type": "stream",
     "text": [
      "In which century did Armenia become Christian?\n",
      "['which', 'century', 'armenia', 'become', 'christian']\n",
      "['which', 'centuri', 'armenia', 'becom', 'christian']\n"
     ]
    }
   ],
   "source": [
    "# Example of the sequence processing\n",
    "\n",
    "import random\n",
    "\n",
    "rand_question = train_df.at[random.randint(0,train_df.shape[0]), 'Question']\n",
    "print(rand_question)\n",
    "\n",
    "print(tokenize_sentence(rand_question))\n",
    "print(tokenize_sentence(rand_question, normalization='stem'))"
   ]
  },
  {
   "cell_type": "code",
   "execution_count": null,
   "id": "f28f5a18-cd38-49eb-8e1a-6f18f64f39a8",
   "metadata": {},
   "outputs": [],
   "source": []
  },
  {
   "cell_type": "code",
   "execution_count": 15,
   "id": "5546a5c6-eec6-4816-85c2-ec3b652b5de5",
   "metadata": {},
   "outputs": [],
   "source": [
    "from modules.vocab import Vocab"
   ]
  },
  {
   "cell_type": "code",
   "execution_count": 16,
   "id": "49c28a91-cbe2-445e-98cf-0b3e67e4a226",
   "metadata": {},
   "outputs": [],
   "source": [
    "for col, norm in zip(cols, ['stem', None]): # only questions get stemmed\n",
    "    train_df[f'{col}_tokens'] = train_df[col].apply(lambda s: tokenize_sentence(s, normalization=norm))"
   ]
  },
  {
   "cell_type": "code",
   "execution_count": 17,
   "id": "bc7a90d6-dd8b-4425-81f8-9c447201783e",
   "metadata": {},
   "outputs": [],
   "source": [
    "for col, norm in zip(cols, ['stem', None]):\n",
    "    test_df[f'{col}_tokens'] = test_df[col].apply(lambda s: tokenize_sentence(s, normalization=norm))"
   ]
  },
  {
   "cell_type": "code",
   "execution_count": 18,
   "id": "dbc6971c-872e-4b3a-a0d9-585ab3d44739",
   "metadata": {},
   "outputs": [
    {
     "data": {
      "text/html": [
       "<div>\n",
       "<style scoped>\n",
       "    .dataframe tbody tr th:only-of-type {\n",
       "        vertical-align: middle;\n",
       "    }\n",
       "\n",
       "    .dataframe tbody tr th {\n",
       "        vertical-align: top;\n",
       "    }\n",
       "\n",
       "    .dataframe thead th {\n",
       "        text-align: right;\n",
       "    }\n",
       "</style>\n",
       "<table border=\"1\" class=\"dataframe\">\n",
       "  <thead>\n",
       "    <tr style=\"text-align: right;\">\n",
       "      <th></th>\n",
       "      <th>Question</th>\n",
       "      <th>Answer</th>\n",
       "      <th>Question_tokens</th>\n",
       "      <th>Answer_tokens</th>\n",
       "    </tr>\n",
       "  </thead>\n",
       "  <tbody>\n",
       "    <tr>\n",
       "      <th>14247</th>\n",
       "      <td>How many rich, upper class were in Egypt in 19...</td>\n",
       "      <td>less than half a million</td>\n",
       "      <td>[how, mani, rich, upper, class, egypt, 1950s]</td>\n",
       "      <td>[less, half, million]</td>\n",
       "    </tr>\n",
       "    <tr>\n",
       "      <th>21260</th>\n",
       "      <td>Who provides statistics on educational costs?</td>\n",
       "      <td>the College Board</td>\n",
       "      <td>[who, provid, statist, educ, cost]</td>\n",
       "      <td>[college, board]</td>\n",
       "    </tr>\n",
       "    <tr>\n",
       "      <th>14630</th>\n",
       "      <td>How do patrol officers affect crime?</td>\n",
       "      <td>prevent crime by their presence</td>\n",
       "      <td>[how, patrol, offic, affect, crime]</td>\n",
       "      <td>[prevent, crime, presence]</td>\n",
       "    </tr>\n",
       "  </tbody>\n",
       "</table>\n",
       "</div>"
      ],
      "text/plain": [
       "                                                Question  \\\n",
       "14247  How many rich, upper class were in Egypt in 19...   \n",
       "21260      Who provides statistics on educational costs?   \n",
       "14630               How do patrol officers affect crime?   \n",
       "\n",
       "                                Answer  \\\n",
       "14247         less than half a million   \n",
       "21260                the College Board   \n",
       "14630  prevent crime by their presence   \n",
       "\n",
       "                                     Question_tokens  \\\n",
       "14247  [how, mani, rich, upper, class, egypt, 1950s]   \n",
       "21260             [who, provid, statist, educ, cost]   \n",
       "14630            [how, patrol, offic, affect, crime]   \n",
       "\n",
       "                    Answer_tokens  \n",
       "14247       [less, half, million]  \n",
       "21260            [college, board]  \n",
       "14630  [prevent, crime, presence]  "
      ]
     },
     "execution_count": 18,
     "metadata": {},
     "output_type": "execute_result"
    }
   ],
   "source": [
    "train_df.sample(3)"
   ]
  },
  {
   "cell_type": "code",
   "execution_count": 19,
   "id": "4c5a711d-2d46-4255-9091-959b91a07b4d",
   "metadata": {},
   "outputs": [],
   "source": [
    "# processed sequences columns names have '_tokens' suffix\n",
    "cols_tokens = [f'{col}_tokens' for col in cols]"
   ]
  },
  {
   "cell_type": "markdown",
   "id": "4520dfcf-9530-4268-b9a7-4d01bc98c6be",
   "metadata": {},
   "source": [
    "### Create pairs and add to the vocabularies"
   ]
  },
  {
   "cell_type": "code",
   "execution_count": 20,
   "id": "c6c241b5-3e32-47ba-9fab-9bad67404d66",
   "metadata": {},
   "outputs": [],
   "source": [
    "train_pairs = get_pairs_from_df(train_df, cols_tokens)"
   ]
  },
  {
   "cell_type": "code",
   "execution_count": 21,
   "id": "e9eebcb5-30c2-4bf0-bbe8-e6a4015205f0",
   "metadata": {},
   "outputs": [],
   "source": [
    "test_pairs = get_pairs_from_df(test_df, cols_tokens)"
   ]
  },
  {
   "cell_type": "code",
   "execution_count": 22,
   "id": "1d3fed41-b6df-495e-966b-73d8275bc397",
   "metadata": {},
   "outputs": [],
   "source": [
    "Q_vocab, A_vocab = Vocab(), Vocab()"
   ]
  },
  {
   "cell_type": "markdown",
   "id": "f4791a92-39ea-4709-bceb-316b1f7cf61d",
   "metadata": {},
   "source": [
    "### Words from both training and test datasets are added to the two vocabularies"
   ]
  },
  {
   "cell_type": "code",
   "execution_count": 23,
   "id": "766b2b7c-8452-4f41-91c1-a1933899af1a",
   "metadata": {},
   "outputs": [],
   "source": [
    "for pair in train_pairs:\n",
    "    Q_vocab.add_sentence(pair.question)\n",
    "    A_vocab.add_sentence(pair.answer)"
   ]
  },
  {
   "cell_type": "code",
   "execution_count": 24,
   "id": "8bf020f0-9fa9-4d35-b5a1-c72e2190e955",
   "metadata": {},
   "outputs": [
    {
     "data": {
      "text/plain": [
       "(17125, 22596)"
      ]
     },
     "execution_count": 24,
     "metadata": {},
     "output_type": "execute_result"
    }
   ],
   "source": [
    "Q_vocab.n_words, A_vocab.n_words, "
   ]
  },
  {
   "cell_type": "code",
   "execution_count": 25,
   "id": "eb3dcfe2-d353-4d2e-915f-03e0923dc785",
   "metadata": {},
   "outputs": [],
   "source": [
    "for pair in test_pairs:\n",
    "    Q_vocab.add_sentence(pair.question)\n",
    "    A_vocab.add_sentence(pair.answer)"
   ]
  },
  {
   "cell_type": "code",
   "execution_count": 26,
   "id": "7b57afc2-4b59-481a-8d15-ee267b0d8e36",
   "metadata": {},
   "outputs": [
    {
     "data": {
      "text/plain": [
       "(18130, 23958)"
      ]
     },
     "execution_count": 26,
     "metadata": {},
     "output_type": "execute_result"
    }
   ],
   "source": [
    "# Answers vocabulary contains more words due to lack of stemming\n",
    "\n",
    "Q_vocab.n_words, A_vocab.n_words "
   ]
  },
  {
   "cell_type": "code",
   "execution_count": null,
   "id": "65b7878b-ad57-4ad4-9cd4-b4509c6f660d",
   "metadata": {},
   "outputs": [],
   "source": []
  },
  {
   "cell_type": "markdown",
   "id": "d6d39d65-1c60-4b17-8913-100b2fe00cde",
   "metadata": {},
   "source": [
    "## Data analysis and further cleanup\n",
    "\n",
    "To improve and reduce the dataset, some analysis is done to find and remove outliers:\n",
    "* least common words (those that occur only once)\n",
    "* answers that have less than one token (empty sequences)\n",
    "* questions that have less than three tokens, as they're not really meaningful\n",
    "* histograms are used to find the \"long tail\" of the dataset: longer sequences are rare, so I establish a threshold above which the dataframe row with either very long question or answer is dropped. This way most of the data is kept, and the sequences can be of reasonable length"
   ]
  },
  {
   "cell_type": "code",
   "execution_count": null,
   "id": "3da86f92-bddd-41f3-b0f6-5b4d2eb5d873",
   "metadata": {},
   "outputs": [],
   "source": []
  },
  {
   "cell_type": "code",
   "execution_count": 27,
   "id": "7450e792-925e-4a07-8236-38f1045e69d6",
   "metadata": {},
   "outputs": [],
   "source": [
    "from modules.stats import sentences_stats, histograms"
   ]
  },
  {
   "cell_type": "code",
   "execution_count": 28,
   "id": "1982157e-f27d-40b3-98fb-f001012d68d7",
   "metadata": {},
   "outputs": [
    {
     "name": "stdout",
     "output_type": "stream",
     "text": [
      "Sentences in column Question_tokens:\n",
      "\t         mean: 6.44\n",
      "\t         median: 6.00\n",
      "\t         minimum: 1\n",
      "\t         maximum: 32)\n",
      "Sentences in column Answer_tokens:\n",
      "\t         mean: 2.42\n",
      "\t         median: 2.00\n",
      "\t         minimum: 0\n",
      "\t         maximum: 20)\n"
     ]
    }
   ],
   "source": [
    "# statistics for tokenized sentences\n",
    "sentences_stats(train_df, cols_tokens)"
   ]
  },
  {
   "cell_type": "code",
   "execution_count": 29,
   "id": "ed546c61-46c6-4198-8b2d-658e6ea83727",
   "metadata": {},
   "outputs": [
    {
     "name": "stdout",
     "output_type": "stream",
     "text": [
      "Sentences in column Question_tokens:\n",
      "\t         mean: 6.53\n",
      "\t         median: 6.00\n",
      "\t         minimum: 2\n",
      "\t         maximum: 17)\n",
      "Sentences in column Answer_tokens:\n",
      "\t         mean: 2.34\n",
      "\t         median: 2.00\n",
      "\t         minimum: 0\n",
      "\t         maximum: 15)\n"
     ]
    }
   ],
   "source": [
    "# statistics for tokenized sentences\n",
    "sentences_stats(test_df, cols_tokens)"
   ]
  },
  {
   "cell_type": "markdown",
   "id": "8034d347-3b5c-4675-9040-c06f9d1be915",
   "metadata": {},
   "source": [
    "### Remove the least common words from the sentences"
   ]
  },
  {
   "cell_type": "code",
   "execution_count": 30,
   "id": "0127a26b-68b8-4456-8c70-c49ba08525ff",
   "metadata": {},
   "outputs": [],
   "source": [
    "# how many times at most a word occurs to be considered an outlier\n",
    "outlier_threshold = 1"
   ]
  },
  {
   "cell_type": "code",
   "execution_count": 31,
   "id": "0335f482-7f3c-4265-81d9-93436d7f1090",
   "metadata": {},
   "outputs": [
    {
     "name": "stdout",
     "output_type": "stream",
     "text": [
      "Questions vocabulary has 9134 words that occur only once, answers vocabulary has 14445 such words\n"
     ]
    }
   ],
   "source": [
    "print(f'Questions vocabulary has {len(get_outliers(Q_vocab, outlier_threshold+1))} words that occur only once, answers vocabulary has {len(get_outliers(A_vocab, outlier_threshold+1))} such words')"
   ]
  },
  {
   "cell_type": "markdown",
   "id": "1c6146cc-8b68-4db8-b387-008c413e71ac",
   "metadata": {},
   "source": [
    "### Create lists of those words and remove them from the sequences"
   ]
  },
  {
   "cell_type": "code",
   "execution_count": 32,
   "id": "2adafd8f-bae0-455c-ab37-363db03f2e23",
   "metadata": {},
   "outputs": [],
   "source": [
    "q_outliers, a_outliers = get_outliers(Q_vocab,outlier_threshold+1), get_outliers(A_vocab,outlier_threshold+1)"
   ]
  },
  {
   "cell_type": "code",
   "execution_count": 33,
   "id": "0464a5cf-fb82-4acc-ab6c-b3029a1e510b",
   "metadata": {},
   "outputs": [],
   "source": [
    "train_df_final = remove_least_common(train_df, cols_tokens, [q_outliers, a_outliers])"
   ]
  },
  {
   "cell_type": "code",
   "execution_count": 34,
   "id": "52510523-62a9-4e42-ba96-bddbee4bf3d5",
   "metadata": {},
   "outputs": [],
   "source": [
    "test_df_final = remove_least_common(test_df, cols_tokens, [q_outliers, a_outliers])"
   ]
  },
  {
   "cell_type": "code",
   "execution_count": 35,
   "id": "0a019f58-39d0-4a4e-9b22-6a69e84a80ec",
   "metadata": {},
   "outputs": [
    {
     "name": "stdout",
     "output_type": "stream",
     "text": [
      "Sentences in column Question_tokens:\n",
      "\t         mean: 6.16\n",
      "\t         median: 6.00\n",
      "\t         minimum: 0\n",
      "\t         maximum: 32)\n",
      "Sentences in column Answer_tokens:\n",
      "\t         mean: 1.98\n",
      "\t         median: 1.50\n",
      "\t         minimum: 0\n",
      "\t         maximum: 19)\n"
     ]
    }
   ],
   "source": [
    "# tokenized & least common removed\n",
    "sentences_stats(train_df_final, cols_tokens)"
   ]
  },
  {
   "cell_type": "code",
   "execution_count": 36,
   "id": "f0b21a9a-243f-4dc6-a0a8-2e2c65caebba",
   "metadata": {},
   "outputs": [
    {
     "name": "stdout",
     "output_type": "stream",
     "text": [
      "Sentences in column Question_tokens:\n",
      "\t         mean: 6.25\n",
      "\t         median: 6.00\n",
      "\t         minimum: 1\n",
      "\t         maximum: 16)\n",
      "Sentences in column Answer_tokens:\n",
      "\t         mean: 1.93\n",
      "\t         median: 2.00\n",
      "\t         minimum: 0\n",
      "\t         maximum: 14)\n"
     ]
    }
   ],
   "source": [
    "# tokenized & least common removed\n",
    "sentences_stats(test_df_final, cols_tokens)"
   ]
  },
  {
   "cell_type": "markdown",
   "id": "25751515-a24f-4e0a-9b6c-e12f9dafd722",
   "metadata": {},
   "source": [
    "### Remove questions that have less than three words and answers that have less than one"
   ]
  },
  {
   "cell_type": "code",
   "execution_count": 37,
   "id": "47ca1d7a-f8b0-4d42-aa9e-a889c0dfbcfc",
   "metadata": {},
   "outputs": [],
   "source": [
    "train_df_final = filter_sentences(train_df_final, cols_tokens, [2,0], condition='longer')"
   ]
  },
  {
   "cell_type": "code",
   "execution_count": 38,
   "id": "3934a09f-4d33-4024-adcc-e4bccc55d837",
   "metadata": {},
   "outputs": [
    {
     "name": "stdout",
     "output_type": "stream",
     "text": [
      "Question_tokens 3\n",
      "Answer_tokens 1\n"
     ]
    },
    {
     "data": {
      "image/png": "[encoded data removed]",
      "text/plain": [
       "<Figure size 640x480 with 1 Axes>"
      ]
     },
     "metadata": {},
     "output_type": "display_data"
    }
   ],
   "source": [
    "# display the histograms to see if that worked\n",
    "\n",
    "train_df_final_thresholds = histograms(train_df_final, cols_tokens, name = 'tokenized')"
   ]
  },
  {
   "cell_type": "code",
   "execution_count": 39,
   "id": "6789669f-3bbf-4a2d-942e-30dc0255930c",
   "metadata": {},
   "outputs": [
    {
     "data": {
      "text/plain": [
       "(25700, 4)"
      ]
     },
     "execution_count": 39,
     "metadata": {},
     "output_type": "execute_result"
    }
   ],
   "source": [
    "train_df_final.shape"
   ]
  },
  {
   "cell_type": "code",
   "execution_count": 40,
   "id": "fde25b3c-a9f0-4659-8198-63baefbe91a6",
   "metadata": {},
   "outputs": [
    {
     "name": "stdout",
     "output_type": "stream",
     "text": [
      "Sentences in column Question_tokens:\n",
      "\t         mean: 6.26\n",
      "\t         median: 6.00\n",
      "\t         minimum: 3\n",
      "\t         maximum: 32)\n",
      "Sentences in column Answer_tokens:\n",
      "\t         mean: 2.25\n",
      "\t         median: 2.00\n",
      "\t         minimum: 1\n",
      "\t         maximum: 19)\n"
     ]
    }
   ],
   "source": [
    "# shortest sentences removed\n",
    "sentences_stats(train_df_final, cols_tokens)"
   ]
  },
  {
   "cell_type": "code",
   "execution_count": null,
   "id": "6a37889e-0499-44c7-a615-b68335952dc7",
   "metadata": {},
   "outputs": [],
   "source": []
  },
  {
   "cell_type": "code",
   "execution_count": 41,
   "id": "38915cef-2608-4ff0-b870-005f29ce64f0",
   "metadata": {},
   "outputs": [],
   "source": [
    "test_df_final = filter_sentences(test_df_final, cols_tokens, [2,0], condition='longer')"
   ]
  },
  {
   "cell_type": "code",
   "execution_count": 42,
   "id": "5ed9ed2f-f665-4cf8-af0d-34ce49f48ac5",
   "metadata": {},
   "outputs": [
    {
     "name": "stdout",
     "output_type": "stream",
     "text": [
      "Question_tokens 3\n",
      "Answer_tokens 1\n"
     ]
    },
    {
     "data": {
      "image/png": "[encoded data removed]",
      "text/plain": [
       "<Figure size 640x480 with 1 Axes>"
      ]
     },
     "metadata": {},
     "output_type": "display_data"
    }
   ],
   "source": [
    "# display the histograms to see if that worked\n",
    "\n",
    "test_df_final_thresholds = histograms(test_df_final, cols_tokens, name = 'tokenized')"
   ]
  },
  {
   "cell_type": "code",
   "execution_count": 43,
   "id": "193fa900-f512-46d9-b2ba-aa5cc64f9000",
   "metadata": {},
   "outputs": [
    {
     "data": {
      "text/plain": [
       "(2620, 4)"
      ]
     },
     "execution_count": 43,
     "metadata": {},
     "output_type": "execute_result"
    }
   ],
   "source": [
    "test_df_final.shape"
   ]
  },
  {
   "cell_type": "code",
   "execution_count": 44,
   "id": "606eac15-6aaa-4e53-85d3-529d935684a0",
   "metadata": {},
   "outputs": [
    {
     "name": "stdout",
     "output_type": "stream",
     "text": [
      "Sentences in column Question_tokens:\n",
      "\t         mean: 6.36\n",
      "\t         median: 6.00\n",
      "\t         minimum: 3\n",
      "\t         maximum: 16)\n",
      "Sentences in column Answer_tokens:\n",
      "\t         mean: 2.16\n",
      "\t         median: 2.00\n",
      "\t         minimum: 1\n",
      "\t         maximum: 14)\n"
     ]
    }
   ],
   "source": [
    "# shortest sentences removed\n",
    "sentences_stats(test_df_final, cols_tokens)"
   ]
  },
  {
   "cell_type": "code",
   "execution_count": null,
   "id": "12ed5af0-e6ac-486f-9d77-3ba2615d25de",
   "metadata": {},
   "outputs": [],
   "source": []
  },
  {
   "cell_type": "markdown",
   "id": "01a76972-303d-44ae-bf59-08c46a237488",
   "metadata": {},
   "source": [
    "### Remove long outliers: long sentences that occure rarely"
   ]
  },
  {
   "cell_type": "code",
   "execution_count": 45,
   "id": "69685485-1713-4017-8436-9a196e879cf0",
   "metadata": {},
   "outputs": [],
   "source": [
    "# keeping only the 95% of the data\n",
    "cutoff = 95"
   ]
  },
  {
   "cell_type": "code",
   "execution_count": 46,
   "id": "25b7ecff-2312-4e1c-9773-6028dad38e4d",
   "metadata": {},
   "outputs": [
    {
     "data": {
      "text/plain": [
       "{'Question_tokens': 10, 'Answer_tokens': 6}"
      ]
     },
     "execution_count": 46,
     "metadata": {},
     "output_type": "execute_result"
    }
   ],
   "source": [
    "get_thresholds(train_df_final_thresholds, cutoff = cutoff)"
   ]
  },
  {
   "cell_type": "code",
   "execution_count": 47,
   "id": "82a5369e-fcde-48c3-a0c4-110bb6c7e12c",
   "metadata": {},
   "outputs": [],
   "source": [
    "Q_MAX, A_MAX = get_thresholds(train_df_final_thresholds, cutoff = cutoff).values()"
   ]
  },
  {
   "cell_type": "code",
   "execution_count": 48,
   "id": "648d0c08-a9e0-4278-8beb-3b5e35f8c81d",
   "metadata": {},
   "outputs": [],
   "source": [
    "train_df_final = filter_sentences(train_df_final, cols_tokens, [Q_MAX+1,A_MAX+1], condition='shorter')"
   ]
  },
  {
   "cell_type": "code",
   "execution_count": 49,
   "id": "12cfc150-100f-460b-a252-d475c139fee4",
   "metadata": {
    "scrolled": true
   },
   "outputs": [
    {
     "name": "stdout",
     "output_type": "stream",
     "text": [
      "Sentences in column Question_tokens:\n",
      "\t         mean: 6.07\n",
      "\t         median: 6.00\n",
      "\t         minimum: 3\n",
      "\t         maximum: 10)\n",
      "Sentences in column Answer_tokens:\n",
      "\t         mean: 1.98\n",
      "\t         median: 2.00\n",
      "\t         minimum: 1\n",
      "\t         maximum: 6)\n"
     ]
    }
   ],
   "source": [
    "# long outliers removed\n",
    "sentences_stats(train_df_final, cols_tokens)"
   ]
  },
  {
   "cell_type": "code",
   "execution_count": null,
   "id": "db36354e-a106-40bb-bccf-73737f654f0d",
   "metadata": {},
   "outputs": [],
   "source": []
  },
  {
   "cell_type": "code",
   "execution_count": 50,
   "id": "b2be1ef8-3321-4c82-a6ff-e8ad9579c6a5",
   "metadata": {},
   "outputs": [],
   "source": [
    "# to simplify I'm using the same thresholds for the test set"
   ]
  },
  {
   "cell_type": "code",
   "execution_count": 51,
   "id": "41eb7230-16a9-407f-8747-2bd5f3db7c2e",
   "metadata": {},
   "outputs": [],
   "source": [
    "test_df_final = filter_sentences(test_df_final, cols_tokens, [Q_MAX+1,A_MAX+1], condition='shorter')"
   ]
  },
  {
   "cell_type": "code",
   "execution_count": 52,
   "id": "acbac5aa-a51b-4a37-9265-4657e7f7239d",
   "metadata": {
    "scrolled": true
   },
   "outputs": [
    {
     "name": "stdout",
     "output_type": "stream",
     "text": [
      "Sentences in column Question_tokens:\n",
      "\t         mean: 6.17\n",
      "\t         median: 6.00\n",
      "\t         minimum: 3\n",
      "\t         maximum: 10)\n",
      "Sentences in column Answer_tokens:\n",
      "\t         mean: 1.98\n",
      "\t         median: 2.00\n",
      "\t         minimum: 1\n",
      "\t         maximum: 6)\n"
     ]
    }
   ],
   "source": [
    "# long outliers removed\n",
    "sentences_stats(test_df_final, cols_tokens)"
   ]
  },
  {
   "cell_type": "code",
   "execution_count": 54,
   "id": "f2750b9b-f01b-4ee9-be2b-69890cb4ca03",
   "metadata": {},
   "outputs": [
    {
     "data": {
      "text/plain": [
       "((23826, 4), (2445, 4))"
      ]
     },
     "execution_count": 54,
     "metadata": {},
     "output_type": "execute_result"
    }
   ],
   "source": [
    "train_df_final.shape, test_df_final.shape"
   ]
  },
  {
   "cell_type": "code",
   "execution_count": null,
   "id": "7fffdcad-8870-4376-b738-1b9282a07bff",
   "metadata": {},
   "outputs": [],
   "source": []
  },
  {
   "cell_type": "markdown",
   "id": "0be952bd-44cc-4f41-bed5-ea17231aa76e",
   "metadata": {},
   "source": [
    "### Pairs have to be redone from the cleaned up datasets, to be used in the model (after being turned into tensors)."
   ]
  },
  {
   "cell_type": "code",
   "execution_count": 55,
   "id": "309585c9-df9d-4f84-995c-544fab45b90c",
   "metadata": {},
   "outputs": [],
   "source": [
    "train_pairs_final = get_pairs_from_df(train_df_final, cols_tokens)"
   ]
  },
  {
   "cell_type": "code",
   "execution_count": 56,
   "id": "088c6509-f966-480c-bc40-48fa5bd2fab2",
   "metadata": {},
   "outputs": [],
   "source": [
    "test_pairs_final = get_pairs_from_df(test_df_final, cols_tokens)"
   ]
  },
  {
   "cell_type": "code",
   "execution_count": 57,
   "id": "4cb90adf-d401-48f0-8911-b31144276227",
   "metadata": {
    "scrolled": true
   },
   "outputs": [
    {
     "data": {
      "text/plain": [
       "(23826, 2445)"
      ]
     },
     "execution_count": 57,
     "metadata": {},
     "output_type": "execute_result"
    }
   ],
   "source": [
    "len(train_pairs_final), len(test_pairs_final)"
   ]
  },
  {
   "cell_type": "code",
   "execution_count": null,
   "id": "a2c3ef56-8fa3-463a-b2d8-6b923aaf72e6",
   "metadata": {},
   "outputs": [],
   "source": []
  },
  {
   "cell_type": "markdown",
   "id": "31e03bca-c654-4f1f-9dde-3ccf6c17376c",
   "metadata": {},
   "source": [
    "### Data preparation for the neural network model\n",
    "\n",
    "Sequences are converted into torch tokens made of their vocabulary indexes. Sequences shorter than the defined length are padded at the beginning. Also Start-Of-Sequence and End-Of-Sequence tokens are added to the tensor.\n",
    "\n",
    "The padding token will be ignored by the model.\n",
    "\n",
    "### Neural network model\n",
    "\n",
    "It uses Seq2Seq Encoder-Decoder architecture with a single LSTM layer. Right now the training is done pair after pair, without batch processing.\n",
    "The optimizer is Stochastic Gradient Descent, and the loss function is \n",
    "negative log likelihood (NLLLoss)\n",
    "\n"
   ]
  },
  {
   "cell_type": "markdown",
   "id": "98fb91d2-416c-4fb4-a77a-8c0c877b1d7a",
   "metadata": {},
   "source": [
    "# BACK TO SIMPLE MODEL"
   ]
  },
  {
   "cell_type": "markdown",
   "id": "2fdfb921-eba7-47f2-9efd-2e83e93973d6",
   "metadata": {},
   "source": [
    "### Data preparation for the neural network model\n",
    "\n",
    "Sequences are converted into torch tokens made of their vocabulary indexes. Sequences shorter than the defined length are padded at the beginning. Also Start-Of-Sequence and End-Of-Sequence tokens are added to the tensor.\n",
    "\n",
    "The padding token will be ignored by the model.\n",
    "\n",
    "### Neural network model\n",
    "\n",
    "It uses Seq2Seq Encoder-Decoder architecture with a single LSTM layer. Right now the training is done pair after pair, without batch processing.\n",
    "The optimizer is Stochastic Gradient Descent, and the loss function is \n",
    "negative log likelihood (NLLLoss)\n",
    "\n"
   ]
  },
  {
   "cell_type": "markdown",
   "id": "d85315c1-5db7-4e5d-b75d-fc48895fe660",
   "metadata": {},
   "source": [
    "import torch\n",
    "import torch.nn as nn\n",
    "\n",
    "class Encoder(nn.Module):\n",
    "    \n",
    "    # We initialize the Encoder object with appropriate layers\n",
    "\n",
    "    def __init__(self, input_size, hidden_size, embedding_size):\n",
    "        \n",
    "        super(Encoder, self).__init__()\n",
    "\n",
    "        self.hidden_size = hidden_size\n",
    "        self.input_size = input_size\n",
    "        self.embedding_size = embedding_size\n",
    "\n",
    "        self.embedding = nn.Embedding(self.input_size, self.embedding_size).to(device)\n",
    "\n",
    "        self.lstm = nn.LSTM(self.embedding_size, self.hidden_size, 1).to(device)\n",
    "    \n",
    "    def forward(self, x, hidden, cell_state):\n",
    "        x = self.embedding(x)\n",
    "        \n",
    "        x = x.view(1, 1, -1)\n",
    "        \n",
    "        x, (hidden, cell_state) = self.lstm(x, (hidden, cell_state))\n",
    "        return x, hidden, cell_state\n",
    "\n",
    "class Decoder(nn.Module):\n",
    "\n",
    "    # The Decoder is initialized in the same manner.\n",
    "\n",
    "    def __init__(self, hidden_size, output_size, embedding_size):\n",
    "\n",
    "        super(Decoder, self).__init__()\n",
    "\n",
    "        self.hidden_size = hidden_size\n",
    "        self.output_size = output_size\n",
    "        self.embedding_size = embedding_size\n",
    "\n",
    "        self.embedding = nn.Embedding(self.output_size, self.hidden_size)\n",
    "\n",
    "        self.lstm = nn.LSTM(self.embedding_size, self.hidden_size)\n",
    "        \n",
    "        self.fc = nn.Linear(self.hidden_size, self.output_size)\n",
    "        self.softmax = nn.LogSoftmax(dim= 1)     \n",
    "\n",
    "    def forward(self, x, hidden, cell_state):\n",
    "        \n",
    "        x = self.embedding(x)\n",
    "        x = x.view(1, 1, -1)\n",
    "        x, (hidden, cell_state) = self.lstm(x, (hidden, cell_state))\n",
    "        x = self.softmax(self.fc(x[0]))\n",
    "        return x, hidden, cell_state\n",
    "    \n",
    "class Seq2Seq(nn.Module):\n",
    "\n",
    "    def __init__(self, input_size, hidden_size, embedding_size, output_size, device):    \n",
    "\n",
    "        super(Seq2Seq, self).__init__()\n",
    "\n",
    "        self.input_size = input_size\n",
    "        self.hidden_size = hidden_size\n",
    "        self.embedding_size = embedding_size\n",
    "        self.output_size = output_size\n",
    "        \n",
    "        self.encoder = Encoder(self.input_size, self.hidden_size, self.embedding_size).to(device)\n",
    "        self.decoder = Decoder(self.hidden_size, self.output_size, self.embedding_size).to(device)\n",
    "                \n",
    "    def forward(self, src_batch: torch.LongTensor, trg_batch: torch.LongTensor, src_len, trg_len, teacher_forcing_ratio: float = 0.5):\n",
    "        \n",
    "        max_len, batch_size = trg_batch.shape\n",
    "        #batch_size, max_len = trg_batch.shape\n",
    "        \n",
    "        # print(f'Seq len: {max_len}, batch size {batch_size}, src_batch {src_batch.shape}, trg_batch {trg_batch.shape}')\n",
    "                \n",
    "        trg_vocab_size = self.decoder.output_size\n",
    "        \n",
    "        # tensor to store decoder's output\n",
    "        outputs = torch.zeros(max_len, batch_size, trg_vocab_size).to(device) #.to(self.device) \n",
    "\n",
    "         # initialize hidden and cell state\n",
    "        encoder_hidden = torch.zeros([1, 1, self.hidden_size]).to(device) \n",
    "        cell_state = torch.zeros([1, 1, self.hidden_size]).to(device)\n",
    "\n",
    "        for i in range(src_len):\n",
    "        \n",
    "            # last hidden & cell state of the encoder is used as the decoder's initial hidden state\n",
    "            _, hidden, cell = self.encoder(src_batch[i], encoder_hidden, cell_state)\n",
    "        \n",
    "        \n",
    "        \n",
    "        trg = trg_batch[0]\n",
    "        \n",
    "        for i in range(trg_len):\n",
    "            prediction, hidden, cell = self.decoder(trg, hidden, cell)\n",
    "            outputs[i] = prediction\n",
    "            \n",
    "            if random.random() < teacher_forcing_ratio:\n",
    "                trg = trg_batch[i]\n",
    "            else:\n",
    "                trg = prediction.argmax(1)\n",
    "                \n",
    "        return outputs"
   ]
  },
  {
   "cell_type": "code",
   "execution_count": 58,
   "id": "1d228937-b36c-4aef-a3e8-1031d690b370",
   "metadata": {},
   "outputs": [],
   "source": [
    "import torch\n",
    "import torch.nn as nn"
   ]
  },
  {
   "cell_type": "markdown",
   "id": "784657ae-aece-40b3-bc5f-1ce27d7f8b37",
   "metadata": {},
   "source": [
    "## ENCODER"
   ]
  },
  {
   "cell_type": "code",
   "execution_count": 59,
   "id": "6cfb4aee-4ed6-4021-bfde-806682b61123",
   "metadata": {},
   "outputs": [],
   "source": [
    "class Encoder(nn.Module):\n",
    "    \n",
    "    # We initialize the Encoder object with appropriate layers\n",
    "\n",
    "    def __init__(self, input_size, hidden_size, embedding_size):\n",
    "        \n",
    "        super(Encoder, self).__init__()\n",
    "\n",
    "        self.hidden_size = hidden_size\n",
    "        self.input_size = input_size\n",
    "        self.embedding_size = embedding_size\n",
    "\n",
    "        # embedding step\n",
    "        self.embedding = nn.Embedding(self.input_size, self.embedding_size).to(device)\n",
    "        \n",
    "        # single LSTM layer\n",
    "        self.lstm = nn.LSTM(self.embedding_size, self.hidden_size, 1).to(device)\n",
    "    \n",
    "    def forward(self, x, hidden, cell_state):\n",
    "        x = self.embedding(x)        \n",
    "        x = x.view(1, 1, -1)        \n",
    "        x, (hidden, cell_state) = self.lstm(x, (hidden, cell_state))\n",
    "        return x, hidden, cell_state"
   ]
  },
  {
   "cell_type": "markdown",
   "id": "488893ba-1ea6-43db-88d8-24be60a3103a",
   "metadata": {},
   "source": [
    "## DECODER"
   ]
  },
  {
   "cell_type": "code",
   "execution_count": 60,
   "id": "6fbc0579-85f1-4459-8f07-e596622498ad",
   "metadata": {},
   "outputs": [],
   "source": [
    "class Decoder(nn.Module):\n",
    "\n",
    "    # The Decoder is initialized in the same manner.\n",
    "\n",
    "    def __init__(self, hidden_size, output_size, embedding_size):\n",
    "\n",
    "        super(Decoder, self).__init__()\n",
    "\n",
    "        self.hidden_size = hidden_size\n",
    "        self.output_size = output_size\n",
    "        self.embedding_size = embedding_size\n",
    "\n",
    "        # embedding\n",
    "        self.embedding = nn.Embedding(self.output_size, self.hidden_size)\n",
    "\n",
    "        # single LSTM layer\n",
    "        self.lstm = nn.LSTM(self.embedding_size, self.hidden_size)\n",
    "        \n",
    "        # fully connected linear layer\n",
    "        self.fc = nn.Linear(self.hidden_size, self.output_size)\n",
    "        \n",
    "        # softmax\n",
    "        self.softmax = nn.LogSoftmax(dim=1)     \n",
    "\n",
    "    def forward(self, x, hidden, cell_state):\n",
    "        \n",
    "        x = self.embedding(x)\n",
    "        x = x.view(1, 1, -1)\n",
    "        x, (hidden, cell_state) = self.lstm(x, (hidden, cell_state))\n",
    "        x = self.softmax(self.fc(x[0]))\n",
    "        return x, hidden, cell_state"
   ]
  },
  {
   "cell_type": "markdown",
   "id": "592881ec-41a1-421b-ac62-de79f2a24bca",
   "metadata": {},
   "source": [
    "## SEQ2SEQ"
   ]
  },
  {
   "cell_type": "code",
   "execution_count": 61,
   "id": "e9a72ba5-792a-4557-ab14-9ce52f6607ef",
   "metadata": {},
   "outputs": [],
   "source": [
    "class Seq2Seq(nn.Module):\n",
    "\n",
    "    def __init__(self, input_size, hidden_size, embedding_size, output_size, device):    \n",
    "\n",
    "        super(Seq2Seq, self).__init__()\n",
    "\n",
    "        self.input_size = input_size\n",
    "        self.hidden_size = hidden_size\n",
    "        self.embedding_size = embedding_size\n",
    "        self.output_size = output_size\n",
    "        \n",
    "        # make encoder and decoder \n",
    "        self.encoder = Encoder(self.input_size, self.hidden_size, self.embedding_size).to(device)\n",
    "        self.decoder = Decoder(self.hidden_size, self.output_size, self.embedding_size).to(device)\n",
    "                \n",
    "    def forward(self, src_batch: torch.LongTensor, trg_batch: torch.LongTensor, src_len, trg_len, teacher_forcing_ratio: float = 0.5):\n",
    "        \n",
    "        # target batch (answers) is unpacked to maximum length and batch size\n",
    "        max_len, batch_size = trg_batch.shape               \n",
    "        \n",
    "        #print(f'Seq len: {max_len}, batch size {batch_size}, src_batch {src_batch.shape}, trg_batch {trg_batch.shape}')\n",
    "\n",
    "        # WHAT IS THE DIFFERENCE BETWEEN max_len and trg_len here???\n",
    "        \n",
    "        trg_vocab_size = self.decoder.output_size\n",
    "        \n",
    "        # print(f\"trg_vocab_size: {trg_vocab_size}\")\n",
    "        \n",
    "        # tensor to store decoder's output\n",
    "        outputs = torch.zeros(max_len, batch_size, trg_vocab_size).to(device) #.to(self.device) \n",
    "\n",
    "        # print(f\"outputs size (tensor to store decoder's outputs): {outputs.shape}\")\n",
    "              \n",
    "         # initialize hidden and cell state\n",
    "        encoder_hidden = torch.zeros([1, 1, self.hidden_size]).to(device) \n",
    "        cell_state = torch.zeros([1, 1, self.hidden_size]).to(device)\n",
    "\n",
    "        \n",
    "        # iterate over the length of the source (question sequence) using the encoder\n",
    "        \n",
    "        for i in range(src_len):\n",
    "        \n",
    "            # last hidden & cell state of the encoder is used as the decoder's initial hidden state\n",
    "            \n",
    "            # src_batch[i] is the ith token of the input (question)\n",
    "            _, hidden, cell = self.encoder(src_batch[i], encoder_hidden, cell_state)\n",
    "        \n",
    "        # trg_batch[0] that's just the first element of trg_batch        \n",
    "        trg = trg_batch[0]\n",
    "        \n",
    "        \n",
    "        # now iterating over the target length, using the decoder\n",
    "        \n",
    "        for i in range(trg_len):\n",
    "            prediction, hidden, cell = self.decoder(trg, hidden, cell)\n",
    "            \n",
    "            # here we use the teacher forcing: if the random value is less than the ratio, then the target is just an element of the target (token from the answer)\n",
    "            # otherwise it's the highest probability prediction\n",
    "            outputs[i] = prediction\n",
    "            \n",
    "            if random.random() < teacher_forcing_ratio:\n",
    "                trg = trg_batch[i]\n",
    "            else:\n",
    "                trg = prediction.argmax(1)\n",
    "                \n",
    "        return outputs"
   ]
  },
  {
   "cell_type": "markdown",
   "id": "43b4f65d-cb44-4b6e-bc2b-a6e08d20f333",
   "metadata": {},
   "source": [
    "Seq len: 8, batch size 1, src_batch torch.Size([12, 1]), trg_batch torch.Size([8, 1])\n",
    "trg_vocab_size: 23669\n",
    "outputs size (tensor to store decoder's outputs): torch.Size([8, 1, 23669])"
   ]
  },
  {
   "cell_type": "markdown",
   "id": "b2d94be0-39bd-431d-99d0-8134badaf0a6",
   "metadata": {},
   "source": [
    "### Model parameters"
   ]
  },
  {
   "cell_type": "code",
   "execution_count": 74,
   "id": "f31f26b7-7613-4074-896e-8776197e1047",
   "metadata": {},
   "outputs": [],
   "source": [
    "embedding_dim = 512\n",
    "hidden_size = 512\n",
    "#dropout = 0.5"
   ]
  },
  {
   "cell_type": "markdown",
   "id": "429c3b2f-ceef-4260-b741-1e486c4fe324",
   "metadata": {},
   "source": [
    "### Hyperparameters"
   ]
  },
  {
   "cell_type": "code",
   "execution_count": 75,
   "id": "22ff1200-1c64-4280-869f-ee513745f90f",
   "metadata": {},
   "outputs": [],
   "source": [
    "learning_rate = 0.01\n",
    "num_epochs = 10"
   ]
  },
  {
   "cell_type": "markdown",
   "id": "7c48e3a2-a408-4580-94f4-a4c26e9dd5fa",
   "metadata": {},
   "source": [
    "### Model"
   ]
  },
  {
   "cell_type": "code",
   "execution_count": 76,
   "id": "e9668665-18a6-461e-a79c-ce8c8fb621a2",
   "metadata": {},
   "outputs": [],
   "source": [
    "#seq2seq = Seq2Seq(input_size=Q_vocab.n_words, hidden_size=hidden_size, embedding_size=embedding_dim, output_size=A_vocab.n_words, dropout=dropout, device=device)\n",
    "seq2seq = Seq2Seq(input_size=Q_vocab.n_words, hidden_size=hidden_size, embedding_size=embedding_dim, output_size=A_vocab.n_words, device=device)"
   ]
  },
  {
   "cell_type": "code",
   "execution_count": 77,
   "id": "10c0f439-05ef-4fcf-8cdb-28574170775f",
   "metadata": {},
   "outputs": [],
   "source": [
    "seq2seq = seq2seq.to(device)"
   ]
  },
  {
   "cell_type": "code",
   "execution_count": null,
   "id": "e88ae989-3a38-46a7-97fa-76b0a18ea3e5",
   "metadata": {},
   "outputs": [],
   "source": []
  },
  {
   "cell_type": "markdown",
   "id": "ed741601-908d-42fe-8f6e-566c3bdf8317",
   "metadata": {},
   "source": [
    "### Optimizer and loss function"
   ]
  },
  {
   "cell_type": "code",
   "execution_count": 78,
   "id": "cad46fed-b21b-464f-aede-b3c55f854a96",
   "metadata": {},
   "outputs": [],
   "source": [
    "from torch import optim\n",
    "import torch.nn as nn"
   ]
  },
  {
   "cell_type": "code",
   "execution_count": 79,
   "id": "f861a598-d49f-413b-a49c-ed50ca454a38",
   "metadata": {},
   "outputs": [],
   "source": [
    "optimizer = optim.SGD(seq2seq.parameters(), lr=learning_rate)\n",
    "criterion = nn.NLLLoss(ignore_index=0).to(device) # 0 is padding"
   ]
  },
  {
   "cell_type": "code",
   "execution_count": null,
   "id": "208a04a7-bc10-4050-8834-603e068cfa06",
   "metadata": {},
   "outputs": [],
   "source": []
  },
  {
   "cell_type": "markdown",
   "id": "a81adbd9-5655-4e35-b9af-426a74beb76a",
   "metadata": {},
   "source": [
    "### Model training \n",
    "\n",
    "For debugging purposes the training function is kept in the main notebook for now."
   ]
  },
  {
   "cell_type": "code",
   "execution_count": 80,
   "id": "da4c1b7b-2da0-457f-9f48-7811a5a9479e",
   "metadata": {},
   "outputs": [],
   "source": [
    "total_train_loss = []\n",
    "total_test_loss = []"
   ]
  },
  {
   "cell_type": "code",
   "execution_count": null,
   "id": "f4a88f8c-8d1c-4b83-b8f2-1dcc318b8e3c",
   "metadata": {},
   "outputs": [],
   "source": []
  },
  {
   "cell_type": "markdown",
   "id": "d174e850-c2c2-4ac4-8956-acfc6bc1b12b",
   "metadata": {},
   "source": [
    "# TRYING WITH A DIFFERENT ORDER IN THE SEQUENCE: PADDING AT THE END"
   ]
  },
  {
   "cell_type": "code",
   "execution_count": 81,
   "id": "ebe8c3c1-8758-434c-a00e-7ecef3df2c68",
   "metadata": {},
   "outputs": [],
   "source": [
    "def to_tensor(vocab, tokens, seq_len, device):\n",
    "    '''Converts a tokenized sentence into a tensor of indices of a given length.\n",
    "    If too short, it uses padding at the END of the sentence'''\n",
    "    \n",
    "    tokens = [t for t in tokens if t in vocab.word2count.keys()]\n",
    "    \n",
    "    padded = [vocab.word2index['SOS']] + [vocab.word2index[t] for t in tokens] + [vocab.word2index['EOS']] + [vocab.word2index['PAD']] * (seq_len-len(tokens)) \n",
    "    \n",
    "    tensor = torch.Tensor(padded).long().to(device).view(-1,1)\n",
    "    \n",
    "    return tensor"
   ]
  },
  {
   "cell_type": "code",
   "execution_count": 82,
   "id": "3fa50b06-c01e-4d17-8ce5-d999aedb0738",
   "metadata": {},
   "outputs": [],
   "source": [
    "def train(model, pairs, optimizer, criterion, device, teacher_forcing_ratio = 0.5, print_every = 1000): \n",
    "    \n",
    "    model.train() # Set the model to training mode\n",
    "\n",
    "    total_loss = 0\n",
    "\n",
    "    count = 0\n",
    "\n",
    "    for pair in pairs:\n",
    "\n",
    "        src = pair.question\n",
    "        tgt = pair.answer\n",
    "\n",
    "        src_tensor = to_tensor(vocab=Q_vocab, tokens=src, seq_len=Q_MAX, device=device)#.to(device) #.unsqueeze(0)\n",
    "        tgt_tensor = to_tensor(vocab=A_vocab, tokens=tgt, seq_len=A_MAX, device=device)#.to(device) #.unsqueeze(0)\n",
    "\n",
    "        # print(src_tensor.shape, tgt_tensor.shape)\n",
    "\n",
    "        optimizer.zero_grad()  # Zero the gradients\n",
    "\n",
    "        # Forward pass\n",
    "        output = model(src_tensor, tgt_tensor, src_len=src_tensor.size(0), trg_len=tgt_tensor.size(0), teacher_forcing_ratio=teacher_forcing_ratio)\n",
    "\n",
    "        # Compute the loss\n",
    "        loss = criterion(output.view(-1, output.size(-1)), tgt_tensor.view(-1))\n",
    "\n",
    "        # Backward pass and optimization\n",
    "        loss.backward()\n",
    "        optimizer.step()\n",
    "\n",
    "        total_loss += loss.item()\n",
    "\n",
    "        count += 1 \n",
    "\n",
    "        if count % print_every == 0:\n",
    "            print(f'Loss {total_loss/count}')\n",
    "\n",
    "    return total_loss / len(pairs)"
   ]
  },
  {
   "cell_type": "code",
   "execution_count": 83,
   "id": "06506d55-128c-474b-a37d-53e974dfd9e9",
   "metadata": {
    "tags": []
   },
   "outputs": [],
   "source": [
    "def evaluate(model, pairs, criterion, device):\n",
    "    \n",
    "    model.eval()\n",
    "    \n",
    "    total_loss = 0\n",
    "    \n",
    "    with torch.no_grad():\n",
    "    \n",
    "        for pair in pairs:\n",
    "            \n",
    "            src = pair.question\n",
    "            tgt = pair.answer\n",
    "            \n",
    "            src_tensor = to_tensor(vocab=Q_vocab, tokens=src, seq_len=Q_MAX, device=device)#.to(device) #.unsqueeze(0)\n",
    "            tgt_tensor = to_tensor(vocab=A_vocab, tokens=tgt, seq_len=A_MAX, device=device)#.to(device) #.unsqueeze(0)\n",
    "\n",
    "            output = model(src_tensor, tgt_tensor, src_len=src_tensor.size(0), trg_len=tgt_tensor.size(0), teacher_forcing_ratio=0) # turn off teacher forcing\n",
    "\n",
    "            # Compute the loss\n",
    "            loss = criterion(output.view(-1, output.size(-1)), tgt_tensor.view(-1))\n",
    "\n",
    "            \n",
    "            total_loss += loss.item()\n",
    "        \n",
    "    return total_loss / len(pairs)"
   ]
  },
  {
   "cell_type": "code",
   "execution_count": 84,
   "id": "e5aabcb4-0bc9-4efa-9908-f1c07c5a2736",
   "metadata": {},
   "outputs": [],
   "source": [
    "import matplotlib.pyplot as plt"
   ]
  },
  {
   "cell_type": "code",
   "execution_count": null,
   "id": "393c6254-d89f-41a7-8add-2312e060dbc0",
   "metadata": {},
   "outputs": [],
   "source": []
  },
  {
   "cell_type": "code",
   "execution_count": 154,
   "id": "d05cd4da-3ead-47de-ac76-0d34485a96e0",
   "metadata": {},
   "outputs": [],
   "source": [
    "# trying with teacher forcing ratio 0.5"
   ]
  },
  {
   "cell_type": "code",
   "execution_count": 85,
   "id": "73368444-4fcb-449c-8dbe-ee0ede80ac54",
   "metadata": {
    "scrolled": true
   },
   "outputs": [
    {
     "name": "stdout",
     "output_type": "stream",
     "text": [
      "Loss 5.53486829328537\n",
      "Loss 5.246404955625534\n",
      "Loss 5.112809590895971\n",
      "Loss 5.012794477373362\n",
      "Loss 4.951581840109825\n",
      "Loss 4.890027275999387\n",
      "Loss 4.848645162854876\n",
      "Loss 4.809149290829897\n",
      "Loss 4.781039235750834\n",
      "Loss 4.756018573451042\n",
      "Loss 4.740368757085367\n",
      "Loss 4.718491293956836\n",
      "Loss 4.708059441291369\n",
      "Loss 4.688787933732782\n",
      "Loss 4.678590967233975\n",
      "Loss 4.665411061309278\n",
      "Loss 4.649634380810401\n",
      "Loss 4.636351223647594\n",
      "Loss 4.626181094150795\n",
      "Loss 4.616537156957388\n",
      "Loss 4.6086473465760545\n",
      "Loss 4.5978417176441715\n",
      "Loss 4.587834810137749\n",
      "Epoch 1/10, Train Loss: 4.5803, Test Loss: 4.5370\n",
      "Loss 4.38027296602726\n",
      "Loss 4.4009109843373295\n",
      "Loss 4.390596637090047\n",
      "Loss 4.371399537295103\n",
      "Loss 4.370967925834655\n",
      "Loss 4.361037923455238\n",
      "Loss 4.359814726386752\n",
      "Loss 4.35409115961194\n",
      "Loss 4.353037346429295\n",
      "Loss 4.352442684352398\n",
      "Loss 4.357154795473273\n",
      "Loss 4.353583591471116\n",
      "Loss 4.3590180117258654\n",
      "Loss 4.354243029696601\n",
      "Loss 4.356365642126401\n",
      "Loss 4.3546670674085615\n",
      "Loss 4.349958472020486\n",
      "Loss 4.346331476602289\n",
      "Loss 4.345015151312476\n",
      "Loss 4.343809734082222\n",
      "Loss 4.343709084624336\n",
      "Loss 4.340065579641949\n",
      "Loss 4.336832180878391\n",
      "Epoch 2/10, Train Loss: 4.3347, Test Loss: 4.5053\n",
      "Loss 4.302766792178154\n",
      "Loss 4.324420938432216\n",
      "Loss 4.316715256253878\n",
      "Loss 4.29871515673399\n",
      "Loss 4.299596561169625\n",
      "Loss 4.29103693318367\n",
      "Loss 4.290815902761051\n",
      "Loss 4.286039911583066\n",
      "Loss 4.285743265774515\n",
      "Loss 4.285971807050705\n",
      "Loss 4.291051311319524\n",
      "Loss 4.288412483255068\n",
      "Loss 4.294120416549536\n",
      "Loss 4.290007558396884\n",
      "Loss 4.2927424078305565\n",
      "Loss 4.291134042777121\n",
      "Loss 4.286905910562067\n",
      "Loss 4.283715736409029\n",
      "Loss 4.283248977623487\n",
      "Loss 4.2822851362586025\n",
      "Loss 4.282659607569377\n",
      "Loss 4.279502234090458\n",
      "Loss 4.276713909724484\n",
      "Epoch 3/10, Train Loss: 4.2748, Test Loss: 4.5001\n",
      "Loss 4.259813537359237\n",
      "Loss 4.2825738767981525\n",
      "Loss 4.2766144479910535\n",
      "Loss 4.258844810038805\n",
      "Loss 4.25967690603733\n",
      "Loss 4.251547019978364\n",
      "Loss 4.251930813329561\n",
      "Loss 4.247040008321404\n",
      "Loss 4.246419708304935\n",
      "Loss 4.247292198085785\n",
      "Loss 4.252843084823001\n",
      "Loss 4.250360881427924\n",
      "Loss 4.255950331339469\n",
      "Loss 4.2516267262867515\n",
      "Loss 4.254393482263883\n",
      "Loss 4.253036853328347\n",
      "Loss 4.24903900661188\n",
      "Loss 4.246117322617107\n",
      "Loss 4.2456126928705915\n",
      "Loss 4.244626720076799\n",
      "Loss 4.245086163254011\n",
      "Loss 4.241965931697325\n",
      "Loss 4.239083836866461\n",
      "Epoch 4/10, Train Loss: 4.2374, Test Loss: 4.4965\n",
      "Loss 4.225680582046508\n",
      "Loss 4.247656132102013\n",
      "Loss 4.242329364776611\n",
      "Loss 4.226987354546785\n",
      "Loss 4.228705680847168\n",
      "Loss 4.220043004751205\n",
      "Loss 4.2210139268296105\n",
      "Loss 4.216402132168413\n",
      "Loss 4.21603173895677\n",
      "Loss 4.21608891929388\n",
      "Loss 4.221120632702654\n",
      "Loss 4.218853070209423\n",
      "Loss 4.224684043911787\n",
      "Loss 4.220690526349204\n",
      "Loss 4.22382304157416\n",
      "Loss 4.222121111780405\n",
      "Loss 4.218424103449372\n",
      "Loss 4.21553058794472\n",
      "Loss 4.2153547114635765\n",
      "Loss 4.214370023065805\n",
      "Loss 4.214867143676394\n",
      "Loss 4.212123751954599\n",
      "Loss 4.209328901270162\n",
      "Epoch 5/10, Train Loss: 4.2076, Test Loss: 4.4867\n",
      "Loss 4.197462529420853\n",
      "Loss 4.219663453757763\n",
      "Loss 4.215614440401395\n",
      "Loss 4.199400172114372\n",
      "Loss 4.201929015636444\n",
      "Loss 4.194187215983868\n",
      "Loss 4.1952501017366135\n",
      "Loss 4.1908119198679925\n",
      "Loss 4.190752036717203\n",
      "Loss 4.191764196312428\n",
      "Loss 4.196886357838458\n",
      "Loss 4.1943002302646635\n",
      "Loss 4.199583336435832\n",
      "Loss 4.195701004947935\n",
      "Loss 4.1988110428969065\n",
      "Loss 4.197068577922881\n",
      "Loss 4.193392983380486\n",
      "Loss 4.190501328355737\n",
      "Loss 4.190141394884963\n",
      "Loss 4.188849588435889\n",
      "Loss 4.189053580108143\n",
      "Loss 4.186234600229697\n",
      "Loss 4.18355744018762\n",
      "Epoch 6/10, Train Loss: 4.1817, Test Loss: 4.5009\n",
      "Loss 4.168419589996338\n",
      "Loss 4.194361893951893\n",
      "Loss 4.1892702726920445\n",
      "Loss 4.173653871804476\n",
      "Loss 4.176236366176605\n",
      "Loss 4.167147111912568\n",
      "Loss 4.169215640016964\n",
      "Loss 4.164878602728248\n",
      "Loss 4.165072625954946\n",
      "Loss 4.1663737258076665\n",
      "Loss 4.17132281869108\n",
      "Loss 4.168765244116385\n",
      "Loss 4.174481956903751\n",
      "Loss 4.170484113369669\n",
      "Loss 4.173480828849475\n",
      "Loss 4.172091658383608\n",
      "Loss 4.16829648411274\n",
      "Loss 4.164947442160712\n",
      "Loss 4.164686196358581\n",
      "Loss 4.1634231871008875\n",
      "Loss 4.164249187713578\n",
      "Loss 4.161721476457336\n",
      "Loss 4.159393927102504\n",
      "Epoch 7/10, Train Loss: 4.1574, Test Loss: 4.4944\n",
      "Loss 4.147388511300087\n",
      "Loss 4.172069230973721\n",
      "Loss 4.168585359414418\n",
      "Loss 4.1544255433678625\n",
      "Loss 4.15486570789814\n",
      "Loss 4.14500385359923\n",
      "Loss 4.146133103813444\n",
      "Loss 4.142848438635468\n",
      "Loss 4.142313694079717\n",
      "Loss 4.143357488715648\n",
      "Loss 4.148855943116275\n",
      "Loss 4.146402419100205\n",
      "Loss 4.15176839536887\n",
      "Loss 4.14765149472441\n",
      "Loss 4.1506443260669705\n",
      "Loss 4.149005602084101\n",
      "Loss 4.145490791138481\n",
      "Loss 4.142697090639008\n",
      "Loss 4.142525510329949\n",
      "Loss 4.140932046723366\n",
      "Loss 4.141549643607367\n",
      "Loss 4.138867266411131\n",
      "Loss 4.13654100561142\n",
      "Epoch 8/10, Train Loss: 4.1352, Test Loss: 4.5077\n",
      "Loss 4.12038053059578\n",
      "Loss 4.1434888460636135\n",
      "Loss 4.14177974486351\n",
      "Loss 4.125655738055706\n",
      "Loss 4.127561114192009\n",
      "Loss 4.11778322271506\n",
      "Loss 4.120099390847343\n",
      "Loss 4.116227634146809\n",
      "Loss 4.11576563958327\n",
      "Loss 4.116585360467434\n",
      "Loss 4.122256073366512\n",
      "Loss 4.11953356663386\n",
      "Loss 4.124352485803457\n",
      "Loss 4.120371651453631\n",
      "Loss 4.122978147029877\n",
      "Loss 4.121796919897199\n",
      "Loss 4.118432787320193\n",
      "Loss 4.11609474745724\n",
      "Loss 4.116124994340696\n",
      "Loss 4.1151194909513\n",
      "Loss 4.116195887741588\n",
      "Loss 4.113581201249903\n",
      "Loss 4.111223257251408\n",
      "Epoch 9/10, Train Loss: 4.1095, Test Loss: 4.5094\n",
      "Loss 4.111173080801964\n",
      "Loss 4.130024937212467\n",
      "Loss 4.124526402195294\n",
      "Loss 4.1061108585298065\n",
      "Loss 4.1064456246137615\n",
      "Loss 4.095192921439806\n",
      "Loss 4.09722521347659\n",
      "Loss 4.093041506543756\n",
      "Loss 4.091922308630413\n",
      "Loss 4.093275250434876\n",
      "Loss 4.099220333186063\n",
      "Loss 4.096625414560238\n",
      "Loss 4.101579493394265\n",
      "Loss 4.097317705043724\n",
      "Loss 4.099722031100591\n",
      "Loss 4.098557587474585\n",
      "Loss 4.094947406544405\n",
      "Loss 4.092620401938756\n",
      "Loss 4.092749833696767\n",
      "Loss 4.091834675967693\n",
      "Loss 4.09277932717119\n",
      "Loss 4.090060873112895\n",
      "Loss 4.087638494963231\n"
     ]
    },
    {
     "ename": "KeyboardInterrupt",
     "evalue": "",
     "output_type": "error",
     "traceback": [
      "\u001b[0;31m---------------------------------------------------------------------------\u001b[0m",
      "\u001b[0;31mKeyboardInterrupt\u001b[0m                         Traceback (most recent call last)",
      "Cell \u001b[0;32mIn [85], line 2\u001b[0m\n\u001b[1;32m      1\u001b[0m \u001b[38;5;28;01mfor\u001b[39;00m epoch \u001b[38;5;129;01min\u001b[39;00m \u001b[38;5;28mrange\u001b[39m(num_epochs):\n\u001b[0;32m----> 2\u001b[0m     train_loss \u001b[38;5;241m=\u001b[39m train(seq2seq, train_pairs_final, optimizer, criterion, device)\n\u001b[1;32m      3\u001b[0m     test_loss \u001b[38;5;241m=\u001b[39m evaluate(seq2seq, test_pairs_final, criterion, device)    \n\u001b[1;32m      4\u001b[0m     \u001b[38;5;28mprint\u001b[39m(\u001b[38;5;124mf\u001b[39m\u001b[38;5;124m\"\u001b[39m\u001b[38;5;124mEpoch \u001b[39m\u001b[38;5;132;01m{\u001b[39;00mepoch\u001b[38;5;241m+\u001b[39m\u001b[38;5;241m1\u001b[39m\u001b[38;5;132;01m}\u001b[39;00m\u001b[38;5;124m/\u001b[39m\u001b[38;5;132;01m{\u001b[39;00mnum_epochs\u001b[38;5;132;01m}\u001b[39;00m\u001b[38;5;124m, Train Loss: \u001b[39m\u001b[38;5;132;01m{\u001b[39;00mtrain_loss\u001b[38;5;132;01m:\u001b[39;00m\u001b[38;5;124m.4f\u001b[39m\u001b[38;5;132;01m}\u001b[39;00m\u001b[38;5;124m, Test Loss: \u001b[39m\u001b[38;5;132;01m{\u001b[39;00mtest_loss\u001b[38;5;132;01m:\u001b[39;00m\u001b[38;5;124m.4f\u001b[39m\u001b[38;5;132;01m}\u001b[39;00m\u001b[38;5;124m\"\u001b[39m)\n",
      "Cell \u001b[0;32mIn [82], line 22\u001b[0m, in \u001b[0;36mtrain\u001b[0;34m(model, pairs, optimizer, criterion, device, teacher_forcing_ratio, print_every)\u001b[0m\n\u001b[1;32m     19\u001b[0m optimizer\u001b[38;5;241m.\u001b[39mzero_grad()  \u001b[38;5;66;03m# Zero the gradients\u001b[39;00m\n\u001b[1;32m     21\u001b[0m \u001b[38;5;66;03m# Forward pass\u001b[39;00m\n\u001b[0;32m---> 22\u001b[0m output \u001b[38;5;241m=\u001b[39m \u001b[43mmodel\u001b[49m\u001b[43m(\u001b[49m\u001b[43msrc_tensor\u001b[49m\u001b[43m,\u001b[49m\u001b[43m \u001b[49m\u001b[43mtgt_tensor\u001b[49m\u001b[43m,\u001b[49m\u001b[43m \u001b[49m\u001b[43msrc_len\u001b[49m\u001b[38;5;241;43m=\u001b[39;49m\u001b[43msrc_tensor\u001b[49m\u001b[38;5;241;43m.\u001b[39;49m\u001b[43msize\u001b[49m\u001b[43m(\u001b[49m\u001b[38;5;241;43m0\u001b[39;49m\u001b[43m)\u001b[49m\u001b[43m,\u001b[49m\u001b[43m \u001b[49m\u001b[43mtrg_len\u001b[49m\u001b[38;5;241;43m=\u001b[39;49m\u001b[43mtgt_tensor\u001b[49m\u001b[38;5;241;43m.\u001b[39;49m\u001b[43msize\u001b[49m\u001b[43m(\u001b[49m\u001b[38;5;241;43m0\u001b[39;49m\u001b[43m)\u001b[49m\u001b[43m,\u001b[49m\u001b[43m \u001b[49m\u001b[43mteacher_forcing_ratio\u001b[49m\u001b[38;5;241;43m=\u001b[39;49m\u001b[43mteacher_forcing_ratio\u001b[49m\u001b[43m)\u001b[49m\n\u001b[1;32m     24\u001b[0m \u001b[38;5;66;03m# Compute the loss\u001b[39;00m\n\u001b[1;32m     25\u001b[0m loss \u001b[38;5;241m=\u001b[39m criterion(output\u001b[38;5;241m.\u001b[39mview(\u001b[38;5;241m-\u001b[39m\u001b[38;5;241m1\u001b[39m, output\u001b[38;5;241m.\u001b[39msize(\u001b[38;5;241m-\u001b[39m\u001b[38;5;241m1\u001b[39m)), tgt_tensor\u001b[38;5;241m.\u001b[39mview(\u001b[38;5;241m-\u001b[39m\u001b[38;5;241m1\u001b[39m))\n",
      "File \u001b[0;32m~/envs/lstm_chatbot/lib/python3.8/site-packages/torch/nn/modules/module.py:1110\u001b[0m, in \u001b[0;36mModule._call_impl\u001b[0;34m(self, *input, **kwargs)\u001b[0m\n\u001b[1;32m   1106\u001b[0m \u001b[38;5;66;03m# If we don't have any hooks, we want to skip the rest of the logic in\u001b[39;00m\n\u001b[1;32m   1107\u001b[0m \u001b[38;5;66;03m# this function, and just call forward.\u001b[39;00m\n\u001b[1;32m   1108\u001b[0m \u001b[38;5;28;01mif\u001b[39;00m \u001b[38;5;129;01mnot\u001b[39;00m (\u001b[38;5;28mself\u001b[39m\u001b[38;5;241m.\u001b[39m_backward_hooks \u001b[38;5;129;01mor\u001b[39;00m \u001b[38;5;28mself\u001b[39m\u001b[38;5;241m.\u001b[39m_forward_hooks \u001b[38;5;129;01mor\u001b[39;00m \u001b[38;5;28mself\u001b[39m\u001b[38;5;241m.\u001b[39m_forward_pre_hooks \u001b[38;5;129;01mor\u001b[39;00m _global_backward_hooks\n\u001b[1;32m   1109\u001b[0m         \u001b[38;5;129;01mor\u001b[39;00m _global_forward_hooks \u001b[38;5;129;01mor\u001b[39;00m _global_forward_pre_hooks):\n\u001b[0;32m-> 1110\u001b[0m     \u001b[38;5;28;01mreturn\u001b[39;00m \u001b[43mforward_call\u001b[49m\u001b[43m(\u001b[49m\u001b[38;5;241;43m*\u001b[39;49m\u001b[38;5;28;43minput\u001b[39;49m\u001b[43m,\u001b[49m\u001b[43m \u001b[49m\u001b[38;5;241;43m*\u001b[39;49m\u001b[38;5;241;43m*\u001b[39;49m\u001b[43mkwargs\u001b[49m\u001b[43m)\u001b[49m\n\u001b[1;32m   1111\u001b[0m \u001b[38;5;66;03m# Do not call functions when jit is used\u001b[39;00m\n\u001b[1;32m   1112\u001b[0m full_backward_hooks, non_full_backward_hooks \u001b[38;5;241m=\u001b[39m [], []\n",
      "Cell \u001b[0;32mIn [61], line 30\u001b[0m, in \u001b[0;36mSeq2Seq.forward\u001b[0;34m(self, src_batch, trg_batch, src_len, trg_len, teacher_forcing_ratio)\u001b[0m\n\u001b[1;32m     25\u001b[0m trg_vocab_size \u001b[38;5;241m=\u001b[39m \u001b[38;5;28mself\u001b[39m\u001b[38;5;241m.\u001b[39mdecoder\u001b[38;5;241m.\u001b[39moutput_size\n\u001b[1;32m     27\u001b[0m \u001b[38;5;66;03m# print(f\"trg_vocab_size: {trg_vocab_size}\")\u001b[39;00m\n\u001b[1;32m     28\u001b[0m \n\u001b[1;32m     29\u001b[0m \u001b[38;5;66;03m# tensor to store decoder's output\u001b[39;00m\n\u001b[0;32m---> 30\u001b[0m outputs \u001b[38;5;241m=\u001b[39m \u001b[43mtorch\u001b[49m\u001b[38;5;241;43m.\u001b[39;49m\u001b[43mzeros\u001b[49m\u001b[43m(\u001b[49m\u001b[43mmax_len\u001b[49m\u001b[43m,\u001b[49m\u001b[43m \u001b[49m\u001b[43mbatch_size\u001b[49m\u001b[43m,\u001b[49m\u001b[43m \u001b[49m\u001b[43mtrg_vocab_size\u001b[49m\u001b[43m)\u001b[49m\u001b[38;5;241m.\u001b[39mto(device) \u001b[38;5;66;03m#.to(self.device) \u001b[39;00m\n\u001b[1;32m     32\u001b[0m \u001b[38;5;66;03m# print(f\"outputs size (tensor to store decoder's outputs): {outputs.shape}\")\u001b[39;00m\n\u001b[1;32m     33\u001b[0m       \n\u001b[1;32m     34\u001b[0m  \u001b[38;5;66;03m# initialize hidden and cell state\u001b[39;00m\n\u001b[1;32m     35\u001b[0m encoder_hidden \u001b[38;5;241m=\u001b[39m torch\u001b[38;5;241m.\u001b[39mzeros([\u001b[38;5;241m1\u001b[39m, \u001b[38;5;241m1\u001b[39m, \u001b[38;5;28mself\u001b[39m\u001b[38;5;241m.\u001b[39mhidden_size])\u001b[38;5;241m.\u001b[39mto(device) \n",
      "\u001b[0;31mKeyboardInterrupt\u001b[0m: "
     ]
    }
   ],
   "source": [
    "for epoch in range(num_epochs):\n",
    "    train_loss = train(seq2seq, train_pairs_final, optimizer, criterion, device)\n",
    "    test_loss = evaluate(seq2seq, test_pairs_final, criterion, device)    \n",
    "    print(f\"Epoch {epoch+1}/{num_epochs}, Train Loss: {train_loss:.4f}, Test Loss: {test_loss:.4f}\")\n",
    "    \n",
    "    total_train_loss.append(train_loss)\n",
    "    total_test_loss.append(test_loss)\n",
    "\n"
   ]
  },
  {
   "cell_type": "markdown",
   "id": "a379c0e0-39ce-4ba5-9593-2c1ae7bb8494",
   "metadata": {},
   "source": [
    "# BIGGER EMBEDDED_DIM AND HIDDEN_SIZE DON'T IMPROVE"
   ]
  },
  {
   "cell_type": "code",
   "execution_count": 169,
   "id": "bdb1cfe2-66b2-4958-a11c-43b052cf2ee4",
   "metadata": {},
   "outputs": [],
   "source": [
    "N_EPOCHS = 5"
   ]
  },
  {
   "cell_type": "code",
   "execution_count": 99,
   "id": "f82f724c-6453-4f0e-bf20-e67471f4c88e",
   "metadata": {},
   "outputs": [
    {
     "data": {
      "text/plain": [
       "Text(0, 0.5, 'loss')"
      ]
     },
     "execution_count": 99,
     "metadata": {},
     "output_type": "execute_result"
    },
    {
     "data": {
      "image/png": "[encoded data removed]",
      "text/plain": [
       "<Figure size 640x480 with 1 Axes>"
      ]
     },
     "metadata": {},
     "output_type": "display_data"
    }
   ],
   "source": [
    "fig, ax = plt.subplots()\n",
    "ax.plot(range(1, N_EPOCHS+1), total_train_loss, color = 'blue', label = 'train loss')\n",
    "ax.plot(range(1, N_EPOCHS+1), total_test_loss, color = 'orange', label = 'test loss')\n",
    "ax.legend()\n",
    "ax.set_title(f'Seq2Seq, {N_EPOCHS} epochs')\n",
    "ax.set_xticks(range(1, N_EPOCHS+1))\n",
    "ax.set_xlabel('epochs')\n",
    "ax.set_ylabel('loss')"
   ]
  },
  {
   "cell_type": "code",
   "execution_count": null,
   "id": "1fd5b49a-fe9d-4546-bfcf-a53c8ead299e",
   "metadata": {},
   "outputs": [],
   "source": []
  },
  {
   "cell_type": "markdown",
   "id": "8bfa2542-b76d-445a-aed7-086bb33a04ce",
   "metadata": {},
   "source": [
    "## lower teacher forcing"
   ]
  },
  {
   "cell_type": "code",
   "execution_count": null,
   "id": "b82ba98f-041e-4d1a-9bf2-b03f213784ce",
   "metadata": {},
   "outputs": [],
   "source": []
  },
  {
   "cell_type": "code",
   "execution_count": 170,
   "id": "93040a55-d6cd-42e9-b8f0-c983502cd09f",
   "metadata": {},
   "outputs": [
    {
     "data": {
      "text/plain": [
       "Text(0, 0.5, 'loss')"
      ]
     },
     "execution_count": 170,
     "metadata": {},
     "output_type": "execute_result"
    },
    {
     "data": {
      "image/png": "[encoded data removed]",
      "text/plain": [
       "<Figure size 640x480 with 1 Axes>"
      ]
     },
     "metadata": {},
     "output_type": "display_data"
    }
   ],
   "source": [
    "fig, ax = plt.subplots()\n",
    "ax.plot(range(1, N_EPOCHS+1), total_train_loss, color = 'blue', label = 'train loss')\n",
    "ax.plot(range(1, N_EPOCHS+1), total_test_loss, color = 'orange', label = 'test loss')\n",
    "ax.legend()\n",
    "ax.set_title(f'Seq2Seq, {N_EPOCHS} epochs')\n",
    "ax.set_xticks(range(1, N_EPOCHS+1))\n",
    "ax.set_xlabel('epochs')\n",
    "ax.set_ylabel('loss')"
   ]
  },
  {
   "cell_type": "markdown",
   "id": "3dacbcdc-577b-4418-9f60-2b1ecc566440",
   "metadata": {},
   "source": [
    "# CURRENT MODEL DOES NOT CONVERGE\n",
    "# BUT WITH PADDING AT THE END AT LEAST THE TEST LOSS DOES NOT INCREASE... WHY?"
   ]
  },
  {
   "cell_type": "code",
   "execution_count": null,
   "id": "61004f99-8e13-4bcb-aa1c-27cba824d953",
   "metadata": {},
   "outputs": [],
   "source": []
  }
 ],
 "metadata": {
  "kernelspec": {
   "display_name": "lstm_chatbot",
   "language": "python",
   "name": "lstm_chatbot"
  },
  "language_info": {
   "codemirror_mode": {
    "name": "ipython",
    "version": 3
   },
   "file_extension": ".py",
   "mimetype": "text/x-python",
   "name": "python",
   "nbconvert_exporter": "python",
   "pygments_lexer": "ipython3",
   "version": "3.8.10"
  }
 },
 "nbformat": 4,
 "nbformat_minor": 5
}
